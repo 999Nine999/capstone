{
 "cells": [
  {
   "cell_type": "markdown",
   "metadata": {},
   "source": [
    "# Steb04b Transformations Version1: All Features"
   ]
  },
  {
   "cell_type": "markdown",
   "metadata": {},
   "source": [
    "## Import packages"
   ]
  },
  {
   "cell_type": "code",
   "execution_count": 2,
   "metadata": {},
   "outputs": [],
   "source": [
    "import pandas as pd\n",
    "import numpy as np\n",
    "import pickle\n",
    "from sklearn.preprocessing import OneHotEncoder, StandardScaler, MinMaxScaler, OrdinalEncoder\n",
    "from sklearn.impute import SimpleImputer"
   ]
  },
  {
   "cell_type": "code",
   "execution_count": 3,
   "metadata": {},
   "outputs": [],
   "source": [
    "filepath = '../data/train_test_split/scherzer/raw/'\n",
    "\n",
    "infile1 = open(filepath + 'X_test_2019.pickle','rb')\n",
    "X_test = pickle.load(infile1)\n",
    "infile1.close()\n",
    "\n",
    "infile2 = open(filepath + 'y_test_2019_all_types.pickle','rb')\n",
    "y_test = pickle.load(infile2)\n",
    "infile2.close()\n",
    "\n",
    "infile2 = open(filepath + 'y_test_2019_2_cases.pickle','rb')\n",
    "y_test_2c = pickle.load(infile2)\n",
    "infile2.close()\n",
    "\n",
    "infile2 = open(filepath + 'y_test_2019_3_cases.pickle','rb')\n",
    "y_test_3c = pickle.load(infile2)\n",
    "infile2.close()"
   ]
  },
  {
   "cell_type": "code",
   "execution_count": 4,
   "metadata": {},
   "outputs": [
    {
     "data": {
      "text/plain": [
       "Index(['pitch_number', 'stand', 'outs_when_up', 'inning', 'opp_score',\n",
       "       'nats_score', 'if_fielding_alignment', 'of_fielding_alignment',\n",
       "       'nats_home1_away0', 'balls_strikes', 'all_runners', 'pitch_season',\n",
       "       'pitch_game', 'pitch_bat_gm', 'total_pitches', 'abs', 'whiffs',\n",
       "       'swings', 'takes', 'k', 'walk', 'single', 'double', 'triple', 'hr',\n",
       "       'line_drive', 'ground_ball', 'fly_ball', 'popup', 'rbi', 'sac', 'ba',\n",
       "       'slg', 'iso', 'babip'],\n",
       "      dtype='object')"
      ]
     },
     "execution_count": 4,
     "metadata": {},
     "output_type": "execute_result"
    }
   ],
   "source": [
    "X_test.columns"
   ]
  },
  {
   "cell_type": "code",
   "execution_count": 5,
   "metadata": {},
   "outputs": [
    {
     "data": {
      "text/html": [
       "<div>\n",
       "<style scoped>\n",
       "    .dataframe tbody tr th:only-of-type {\n",
       "        vertical-align: middle;\n",
       "    }\n",
       "\n",
       "    .dataframe tbody tr th {\n",
       "        vertical-align: top;\n",
       "    }\n",
       "\n",
       "    .dataframe thead th {\n",
       "        text-align: right;\n",
       "    }\n",
       "</style>\n",
       "<table border=\"1\" class=\"dataframe\">\n",
       "  <thead>\n",
       "    <tr style=\"text-align: right;\">\n",
       "      <th></th>\n",
       "      <th>pitch_number</th>\n",
       "      <th>stand</th>\n",
       "      <th>outs_when_up</th>\n",
       "      <th>inning</th>\n",
       "      <th>opp_score</th>\n",
       "      <th>nats_score</th>\n",
       "      <th>if_fielding_alignment</th>\n",
       "      <th>of_fielding_alignment</th>\n",
       "      <th>nats_home1_away0</th>\n",
       "      <th>balls_strikes</th>\n",
       "      <th>...</th>\n",
       "      <th>line_drive</th>\n",
       "      <th>ground_ball</th>\n",
       "      <th>fly_ball</th>\n",
       "      <th>popup</th>\n",
       "      <th>rbi</th>\n",
       "      <th>sac</th>\n",
       "      <th>ba</th>\n",
       "      <th>slg</th>\n",
       "      <th>iso</th>\n",
       "      <th>babip</th>\n",
       "    </tr>\n",
       "  </thead>\n",
       "  <tbody>\n",
       "    <tr>\n",
       "      <th>1352</th>\n",
       "      <td>2</td>\n",
       "      <td>L</td>\n",
       "      <td>0</td>\n",
       "      <td>6</td>\n",
       "      <td>1</td>\n",
       "      <td>2</td>\n",
       "      <td>Infield shift</td>\n",
       "      <td>Standard</td>\n",
       "      <td>0</td>\n",
       "      <td>1_1</td>\n",
       "      <td>...</td>\n",
       "      <td>34</td>\n",
       "      <td>53</td>\n",
       "      <td>53</td>\n",
       "      <td>5</td>\n",
       "      <td>8</td>\n",
       "      <td>1</td>\n",
       "      <td>0.247423</td>\n",
       "      <td>0.365979</td>\n",
       "      <td>0.118557</td>\n",
       "      <td>0.312057</td>\n",
       "    </tr>\n",
       "    <tr>\n",
       "      <th>1654</th>\n",
       "      <td>1</td>\n",
       "      <td>L</td>\n",
       "      <td>1</td>\n",
       "      <td>4</td>\n",
       "      <td>0</td>\n",
       "      <td>1</td>\n",
       "      <td>Infield shift</td>\n",
       "      <td>Standard</td>\n",
       "      <td>1</td>\n",
       "      <td>0_1</td>\n",
       "      <td>...</td>\n",
       "      <td>31</td>\n",
       "      <td>39</td>\n",
       "      <td>58</td>\n",
       "      <td>22</td>\n",
       "      <td>24</td>\n",
       "      <td>2</td>\n",
       "      <td>0.230392</td>\n",
       "      <td>0.573529</td>\n",
       "      <td>0.343137</td>\n",
       "      <td>0.213740</td>\n",
       "    </tr>\n",
       "    <tr>\n",
       "      <th>846</th>\n",
       "      <td>0</td>\n",
       "      <td>L</td>\n",
       "      <td>0</td>\n",
       "      <td>2</td>\n",
       "      <td>0</td>\n",
       "      <td>0</td>\n",
       "      <td>Standard</td>\n",
       "      <td>Standard</td>\n",
       "      <td>0</td>\n",
       "      <td>0_0</td>\n",
       "      <td>...</td>\n",
       "      <td>27</td>\n",
       "      <td>35</td>\n",
       "      <td>32</td>\n",
       "      <td>7</td>\n",
       "      <td>10</td>\n",
       "      <td>1</td>\n",
       "      <td>0.229630</td>\n",
       "      <td>0.348148</td>\n",
       "      <td>0.118519</td>\n",
       "      <td>0.292929</td>\n",
       "    </tr>\n",
       "    <tr>\n",
       "      <th>1761</th>\n",
       "      <td>1</td>\n",
       "      <td>L</td>\n",
       "      <td>1</td>\n",
       "      <td>4</td>\n",
       "      <td>0</td>\n",
       "      <td>6</td>\n",
       "      <td>Standard</td>\n",
       "      <td>Standard</td>\n",
       "      <td>0</td>\n",
       "      <td>1_0</td>\n",
       "      <td>...</td>\n",
       "      <td>34</td>\n",
       "      <td>45</td>\n",
       "      <td>32</td>\n",
       "      <td>3</td>\n",
       "      <td>10</td>\n",
       "      <td>0</td>\n",
       "      <td>0.295302</td>\n",
       "      <td>0.442953</td>\n",
       "      <td>0.147651</td>\n",
       "      <td>0.363636</td>\n",
       "    </tr>\n",
       "    <tr>\n",
       "      <th>152</th>\n",
       "      <td>1</td>\n",
       "      <td>R</td>\n",
       "      <td>1</td>\n",
       "      <td>3</td>\n",
       "      <td>1</td>\n",
       "      <td>0</td>\n",
       "      <td>Standard</td>\n",
       "      <td>Standard</td>\n",
       "      <td>1</td>\n",
       "      <td>0_1</td>\n",
       "      <td>...</td>\n",
       "      <td>1</td>\n",
       "      <td>7</td>\n",
       "      <td>0</td>\n",
       "      <td>0</td>\n",
       "      <td>0</td>\n",
       "      <td>0</td>\n",
       "      <td>0.250000</td>\n",
       "      <td>0.333333</td>\n",
       "      <td>0.083333</td>\n",
       "      <td>0.375000</td>\n",
       "    </tr>\n",
       "    <tr>\n",
       "      <th>...</th>\n",
       "      <td>...</td>\n",
       "      <td>...</td>\n",
       "      <td>...</td>\n",
       "      <td>...</td>\n",
       "      <td>...</td>\n",
       "      <td>...</td>\n",
       "      <td>...</td>\n",
       "      <td>...</td>\n",
       "      <td>...</td>\n",
       "      <td>...</td>\n",
       "      <td>...</td>\n",
       "      <td>...</td>\n",
       "      <td>...</td>\n",
       "      <td>...</td>\n",
       "      <td>...</td>\n",
       "      <td>...</td>\n",
       "      <td>...</td>\n",
       "      <td>...</td>\n",
       "      <td>...</td>\n",
       "      <td>...</td>\n",
       "      <td>...</td>\n",
       "    </tr>\n",
       "    <tr>\n",
       "      <th>1584</th>\n",
       "      <td>0</td>\n",
       "      <td>R</td>\n",
       "      <td>1</td>\n",
       "      <td>7</td>\n",
       "      <td>2</td>\n",
       "      <td>5</td>\n",
       "      <td>Standard</td>\n",
       "      <td>Standard</td>\n",
       "      <td>1</td>\n",
       "      <td>0_0</td>\n",
       "      <td>...</td>\n",
       "      <td>49</td>\n",
       "      <td>97</td>\n",
       "      <td>41</td>\n",
       "      <td>8</td>\n",
       "      <td>23</td>\n",
       "      <td>7</td>\n",
       "      <td>0.266667</td>\n",
       "      <td>0.404167</td>\n",
       "      <td>0.137500</td>\n",
       "      <td>0.314136</td>\n",
       "    </tr>\n",
       "    <tr>\n",
       "      <th>2273</th>\n",
       "      <td>0</td>\n",
       "      <td>L</td>\n",
       "      <td>0</td>\n",
       "      <td>1</td>\n",
       "      <td>0</td>\n",
       "      <td>0</td>\n",
       "      <td>Standard</td>\n",
       "      <td>Standard</td>\n",
       "      <td>1</td>\n",
       "      <td>0_0</td>\n",
       "      <td>...</td>\n",
       "      <td>98</td>\n",
       "      <td>157</td>\n",
       "      <td>86</td>\n",
       "      <td>22</td>\n",
       "      <td>42</td>\n",
       "      <td>0</td>\n",
       "      <td>0.322430</td>\n",
       "      <td>0.523364</td>\n",
       "      <td>0.200935</td>\n",
       "      <td>0.349711</td>\n",
       "    </tr>\n",
       "    <tr>\n",
       "      <th>1178</th>\n",
       "      <td>2</td>\n",
       "      <td>R</td>\n",
       "      <td>1</td>\n",
       "      <td>1</td>\n",
       "      <td>0</td>\n",
       "      <td>0</td>\n",
       "      <td>Standard</td>\n",
       "      <td>Standard</td>\n",
       "      <td>1</td>\n",
       "      <td>1_1</td>\n",
       "      <td>...</td>\n",
       "      <td>9</td>\n",
       "      <td>23</td>\n",
       "      <td>4</td>\n",
       "      <td>1</td>\n",
       "      <td>5</td>\n",
       "      <td>0</td>\n",
       "      <td>0.196078</td>\n",
       "      <td>0.313725</td>\n",
       "      <td>0.117647</td>\n",
       "      <td>0.228571</td>\n",
       "    </tr>\n",
       "    <tr>\n",
       "      <th>1097</th>\n",
       "      <td>2</td>\n",
       "      <td>R</td>\n",
       "      <td>1</td>\n",
       "      <td>3</td>\n",
       "      <td>0</td>\n",
       "      <td>1</td>\n",
       "      <td>Standard</td>\n",
       "      <td>Standard</td>\n",
       "      <td>0</td>\n",
       "      <td>1_1</td>\n",
       "      <td>...</td>\n",
       "      <td>34</td>\n",
       "      <td>62</td>\n",
       "      <td>24</td>\n",
       "      <td>4</td>\n",
       "      <td>24</td>\n",
       "      <td>0</td>\n",
       "      <td>0.263158</td>\n",
       "      <td>0.403509</td>\n",
       "      <td>0.140351</td>\n",
       "      <td>0.341667</td>\n",
       "    </tr>\n",
       "    <tr>\n",
       "      <th>1306</th>\n",
       "      <td>2</td>\n",
       "      <td>R</td>\n",
       "      <td>1</td>\n",
       "      <td>3</td>\n",
       "      <td>0</td>\n",
       "      <td>1</td>\n",
       "      <td>Standard</td>\n",
       "      <td>Strategic</td>\n",
       "      <td>0</td>\n",
       "      <td>0_2</td>\n",
       "      <td>...</td>\n",
       "      <td>0</td>\n",
       "      <td>10</td>\n",
       "      <td>0</td>\n",
       "      <td>1</td>\n",
       "      <td>0</td>\n",
       "      <td>2</td>\n",
       "      <td>0.133333</td>\n",
       "      <td>0.133333</td>\n",
       "      <td>0.000000</td>\n",
       "      <td>0.181818</td>\n",
       "    </tr>\n",
       "  </tbody>\n",
       "</table>\n",
       "<p>831 rows × 35 columns</p>\n",
       "</div>"
      ],
      "text/plain": [
       "      pitch_number stand  outs_when_up  inning  opp_score  nats_score  \\\n",
       "1352             2     L             0       6          1           2   \n",
       "1654             1     L             1       4          0           1   \n",
       "846              0     L             0       2          0           0   \n",
       "1761             1     L             1       4          0           6   \n",
       "152              1     R             1       3          1           0   \n",
       "...            ...   ...           ...     ...        ...         ...   \n",
       "1584             0     R             1       7          2           5   \n",
       "2273             0     L             0       1          0           0   \n",
       "1178             2     R             1       1          0           0   \n",
       "1097             2     R             1       3          0           1   \n",
       "1306             2     R             1       3          0           1   \n",
       "\n",
       "     if_fielding_alignment of_fielding_alignment  nats_home1_away0  \\\n",
       "1352         Infield shift              Standard                 0   \n",
       "1654         Infield shift              Standard                 1   \n",
       "846               Standard              Standard                 0   \n",
       "1761              Standard              Standard                 0   \n",
       "152               Standard              Standard                 1   \n",
       "...                    ...                   ...               ...   \n",
       "1584              Standard              Standard                 1   \n",
       "2273              Standard              Standard                 1   \n",
       "1178              Standard              Standard                 1   \n",
       "1097              Standard              Standard                 0   \n",
       "1306              Standard             Strategic                 0   \n",
       "\n",
       "     balls_strikes  ... line_drive  ground_ball  fly_ball  popup  rbi  sac  \\\n",
       "1352           1_1  ...         34           53        53      5    8    1   \n",
       "1654           0_1  ...         31           39        58     22   24    2   \n",
       "846            0_0  ...         27           35        32      7   10    1   \n",
       "1761           1_0  ...         34           45        32      3   10    0   \n",
       "152            0_1  ...          1            7         0      0    0    0   \n",
       "...            ...  ...        ...          ...       ...    ...  ...  ...   \n",
       "1584           0_0  ...         49           97        41      8   23    7   \n",
       "2273           0_0  ...         98          157        86     22   42    0   \n",
       "1178           1_1  ...          9           23         4      1    5    0   \n",
       "1097           1_1  ...         34           62        24      4   24    0   \n",
       "1306           0_2  ...          0           10         0      1    0    2   \n",
       "\n",
       "            ba       slg       iso     babip  \n",
       "1352  0.247423  0.365979  0.118557  0.312057  \n",
       "1654  0.230392  0.573529  0.343137  0.213740  \n",
       "846   0.229630  0.348148  0.118519  0.292929  \n",
       "1761  0.295302  0.442953  0.147651  0.363636  \n",
       "152   0.250000  0.333333  0.083333  0.375000  \n",
       "...        ...       ...       ...       ...  \n",
       "1584  0.266667  0.404167  0.137500  0.314136  \n",
       "2273  0.322430  0.523364  0.200935  0.349711  \n",
       "1178  0.196078  0.313725  0.117647  0.228571  \n",
       "1097  0.263158  0.403509  0.140351  0.341667  \n",
       "1306  0.133333  0.133333  0.000000  0.181818  \n",
       "\n",
       "[831 rows x 35 columns]"
      ]
     },
     "execution_count": 5,
     "metadata": {},
     "output_type": "execute_result"
    }
   ],
   "source": [
    "X_test"
   ]
  },
  {
   "cell_type": "markdown",
   "metadata": {},
   "source": [
    "## Define Categorical Variables"
   ]
  },
  {
   "cell_type": "code",
   "execution_count": 6,
   "metadata": {},
   "outputs": [],
   "source": [
    "cats = ['stand', 'if_fielding_alignment', 'of_fielding_alignment', 'balls_strikes', 'all_runners']"
   ]
  },
  {
   "cell_type": "markdown",
   "metadata": {},
   "source": [
    "## Define Features that are already standardized"
   ]
  },
  {
   "cell_type": "code",
   "execution_count": 7,
   "metadata": {},
   "outputs": [],
   "source": [
    "formatted = ['nats_home1_away0', 'ba', 'slg', 'iso', 'babip']"
   ]
  },
  {
   "cell_type": "markdown",
   "metadata": {},
   "source": [
    "## Define MinMax Numeric Variables"
   ]
  },
  {
   "cell_type": "code",
   "execution_count": 8,
   "metadata": {},
   "outputs": [],
   "source": [
    "minmax = ['outs_when_up', 'inning']"
   ]
  },
  {
   "cell_type": "markdown",
   "metadata": {},
   "source": [
    "## Define StandardScaler Numeric Variables"
   ]
  },
  {
   "cell_type": "code",
   "execution_count": 9,
   "metadata": {},
   "outputs": [],
   "source": [
    "standard = []\n",
    "non_nums = cats + standard + minmax\n",
    "\n",
    "for c in X_test.columns:\n",
    "    if c not in non_nums:\n",
    "        standard.append(c)"
   ]
  },
  {
   "cell_type": "markdown",
   "metadata": {},
   "source": [
    "## Fit OHE"
   ]
  },
  {
   "cell_type": "code",
   "execution_count": 10,
   "metadata": {},
   "outputs": [],
   "source": [
    "ohe = OneHotEncoder(drop='first', handle_unknown='error', sparse=False)"
   ]
  },
  {
   "cell_type": "code",
   "execution_count": 11,
   "metadata": {},
   "outputs": [],
   "source": [
    "X_ohe_ar = ohe.fit_transform(X_test[cats])"
   ]
  },
  {
   "cell_type": "code",
   "execution_count": 12,
   "metadata": {},
   "outputs": [],
   "source": [
    "ohe_cols = ['stand_r1', 'if_standard', 'if_strategic', 'of_strategic', \n",
    "        '0_1', '0_2', '1_0', '1_1', '1_2', '2_0', '2_1', '2_2', '3_0', '3_1', '3_2',\n",
    "        'fb:0_sb:0_tb:1', 'fb:0_sb:1_tb:0', 'fb:0_sb:1_tb:1', 'fb:1_sb:0_tb:0', \n",
    "        'fb:1_sb:0_tb:1', 'fb:1_sb:1_tb:0', 'fb:1_sb:1_tb:1']"
   ]
  },
  {
   "cell_type": "code",
   "execution_count": 13,
   "metadata": {},
   "outputs": [],
   "source": [
    "ohe_df = pd.DataFrame(data = X_ohe_ar, columns = ohe_cols).reset_index()"
   ]
  },
  {
   "cell_type": "markdown",
   "metadata": {},
   "source": [
    "## Fit StandardScaler"
   ]
  },
  {
   "cell_type": "code",
   "execution_count": 14,
   "metadata": {},
   "outputs": [],
   "source": [
    "ss = StandardScaler()"
   ]
  },
  {
   "cell_type": "code",
   "execution_count": 15,
   "metadata": {},
   "outputs": [],
   "source": [
    "X_ss = ss.fit_transform(X_test[standard])"
   ]
  },
  {
   "cell_type": "code",
   "execution_count": 16,
   "metadata": {},
   "outputs": [],
   "source": [
    "ss_df = pd.DataFrame(columns = standard, data = X_ss).reset_index()"
   ]
  },
  {
   "cell_type": "markdown",
   "metadata": {},
   "source": [
    "## Fit MinMax Scaler"
   ]
  },
  {
   "cell_type": "code",
   "execution_count": 17,
   "metadata": {},
   "outputs": [],
   "source": [
    "mm = MinMaxScaler()"
   ]
  },
  {
   "cell_type": "code",
   "execution_count": 18,
   "metadata": {},
   "outputs": [],
   "source": [
    "X_mm = mm.fit_transform(X_test[minmax])"
   ]
  },
  {
   "cell_type": "code",
   "execution_count": 19,
   "metadata": {},
   "outputs": [],
   "source": [
    "mm_df = pd.DataFrame(columns = minmax, data = X_mm).reset_index()"
   ]
  },
  {
   "cell_type": "markdown",
   "metadata": {},
   "source": [
    "## Create DF for features that are already standardized"
   ]
  },
  {
   "cell_type": "code",
   "execution_count": 20,
   "metadata": {},
   "outputs": [],
   "source": [
    "formatted_df = X_test[formatted].reset_index()"
   ]
  },
  {
   "cell_type": "markdown",
   "metadata": {},
   "source": [
    "## Combine Processed X_test"
   ]
  },
  {
   "cell_type": "code",
   "execution_count": 21,
   "metadata": {},
   "outputs": [
    {
     "data": {
      "text/plain": [
       "((831, 23), (831, 29), (831, 3), (831, 5))"
      ]
     },
     "execution_count": 21,
     "metadata": {},
     "output_type": "execute_result"
    }
   ],
   "source": [
    "ohe_df.shape, ss_df.shape, mm_df.shape, X_test[formatted].shape"
   ]
  },
  {
   "cell_type": "code",
   "execution_count": 22,
   "metadata": {},
   "outputs": [
    {
     "data": {
      "text/plain": [
       "60"
      ]
     },
     "execution_count": 22,
     "metadata": {},
     "output_type": "execute_result"
    }
   ],
   "source": [
    "ohe_df.shape[1] + ss_df.shape[1] + mm_df.shape[1] + X_test[formatted].shape[1]"
   ]
  },
  {
   "cell_type": "code",
   "execution_count": 23,
   "metadata": {},
   "outputs": [
    {
     "data": {
      "text/html": [
       "<div>\n",
       "<style scoped>\n",
       "    .dataframe tbody tr th:only-of-type {\n",
       "        vertical-align: middle;\n",
       "    }\n",
       "\n",
       "    .dataframe tbody tr th {\n",
       "        vertical-align: top;\n",
       "    }\n",
       "\n",
       "    .dataframe thead th {\n",
       "        text-align: right;\n",
       "    }\n",
       "</style>\n",
       "<table border=\"1\" class=\"dataframe\">\n",
       "  <thead>\n",
       "    <tr style=\"text-align: right;\">\n",
       "      <th></th>\n",
       "      <th>outs_when_up</th>\n",
       "      <th>inning</th>\n",
       "      <th>pitch_number</th>\n",
       "      <th>opp_score</th>\n",
       "      <th>nats_score</th>\n",
       "      <th>nats_home1_away0</th>\n",
       "      <th>pitch_season</th>\n",
       "      <th>pitch_game</th>\n",
       "      <th>pitch_bat_gm</th>\n",
       "      <th>total_pitches</th>\n",
       "      <th>...</th>\n",
       "      <th>3_0</th>\n",
       "      <th>3_1</th>\n",
       "      <th>3_2</th>\n",
       "      <th>fb:0_sb:0_tb:1</th>\n",
       "      <th>fb:0_sb:1_tb:0</th>\n",
       "      <th>fb:0_sb:1_tb:1</th>\n",
       "      <th>fb:1_sb:0_tb:0</th>\n",
       "      <th>fb:1_sb:0_tb:1</th>\n",
       "      <th>fb:1_sb:1_tb:0</th>\n",
       "      <th>fb:1_sb:1_tb:1</th>\n",
       "    </tr>\n",
       "  </thead>\n",
       "  <tbody>\n",
       "    <tr>\n",
       "      <th>0</th>\n",
       "      <td>0.0</td>\n",
       "      <td>0.714286</td>\n",
       "      <td>-0.054563</td>\n",
       "      <td>-0.034680</td>\n",
       "      <td>0.226836</td>\n",
       "      <td>-1.048086</td>\n",
       "      <td>-0.022145</td>\n",
       "      <td>0.891496</td>\n",
       "      <td>1.007700</td>\n",
       "      <td>0.242557</td>\n",
       "      <td>...</td>\n",
       "      <td>0.0</td>\n",
       "      <td>0.0</td>\n",
       "      <td>0.0</td>\n",
       "      <td>0.0</td>\n",
       "      <td>0.0</td>\n",
       "      <td>0.0</td>\n",
       "      <td>0.0</td>\n",
       "      <td>0.0</td>\n",
       "      <td>0.0</td>\n",
       "      <td>0.0</td>\n",
       "    </tr>\n",
       "    <tr>\n",
       "      <th>1</th>\n",
       "      <td>0.5</td>\n",
       "      <td>0.428571</td>\n",
       "      <td>-0.607509</td>\n",
       "      <td>-0.882312</td>\n",
       "      <td>-0.273166</td>\n",
       "      <td>0.954120</td>\n",
       "      <td>0.354913</td>\n",
       "      <td>0.130955</td>\n",
       "      <td>-0.878864</td>\n",
       "      <td>0.203751</td>\n",
       "      <td>...</td>\n",
       "      <td>0.0</td>\n",
       "      <td>0.0</td>\n",
       "      <td>0.0</td>\n",
       "      <td>0.0</td>\n",
       "      <td>0.0</td>\n",
       "      <td>0.0</td>\n",
       "      <td>0.0</td>\n",
       "      <td>0.0</td>\n",
       "      <td>0.0</td>\n",
       "      <td>0.0</td>\n",
       "    </tr>\n",
       "    <tr>\n",
       "      <th>2</th>\n",
       "      <td>0.0</td>\n",
       "      <td>0.142857</td>\n",
       "      <td>-1.160456</td>\n",
       "      <td>-0.882312</td>\n",
       "      <td>-0.773169</td>\n",
       "      <td>-1.048086</td>\n",
       "      <td>-0.653903</td>\n",
       "      <td>-1.323994</td>\n",
       "      <td>-1.350506</td>\n",
       "      <td>-0.187292</td>\n",
       "      <td>...</td>\n",
       "      <td>0.0</td>\n",
       "      <td>0.0</td>\n",
       "      <td>0.0</td>\n",
       "      <td>0.0</td>\n",
       "      <td>0.0</td>\n",
       "      <td>0.0</td>\n",
       "      <td>0.0</td>\n",
       "      <td>0.0</td>\n",
       "      <td>0.0</td>\n",
       "      <td>0.0</td>\n",
       "    </tr>\n",
       "    <tr>\n",
       "      <th>3</th>\n",
       "      <td>0.5</td>\n",
       "      <td>0.428571</td>\n",
       "      <td>-0.607509</td>\n",
       "      <td>-0.882312</td>\n",
       "      <td>2.226846</td>\n",
       "      <td>-1.048086</td>\n",
       "      <td>0.488506</td>\n",
       "      <td>-0.199715</td>\n",
       "      <td>0.064418</td>\n",
       "      <td>-0.103710</td>\n",
       "      <td>...</td>\n",
       "      <td>0.0</td>\n",
       "      <td>0.0</td>\n",
       "      <td>0.0</td>\n",
       "      <td>0.0</td>\n",
       "      <td>1.0</td>\n",
       "      <td>0.0</td>\n",
       "      <td>0.0</td>\n",
       "      <td>0.0</td>\n",
       "      <td>0.0</td>\n",
       "      <td>0.0</td>\n",
       "    </tr>\n",
       "    <tr>\n",
       "      <th>4</th>\n",
       "      <td>0.5</td>\n",
       "      <td>0.285714</td>\n",
       "      <td>-0.607509</td>\n",
       "      <td>-0.034680</td>\n",
       "      <td>-0.773169</td>\n",
       "      <td>0.954120</td>\n",
       "      <td>-1.520386</td>\n",
       "      <td>-0.298916</td>\n",
       "      <td>-0.643044</td>\n",
       "      <td>-1.012661</td>\n",
       "      <td>...</td>\n",
       "      <td>0.0</td>\n",
       "      <td>0.0</td>\n",
       "      <td>0.0</td>\n",
       "      <td>0.0</td>\n",
       "      <td>0.0</td>\n",
       "      <td>0.0</td>\n",
       "      <td>0.0</td>\n",
       "      <td>0.0</td>\n",
       "      <td>0.0</td>\n",
       "      <td>0.0</td>\n",
       "    </tr>\n",
       "    <tr>\n",
       "      <th>...</th>\n",
       "      <td>...</td>\n",
       "      <td>...</td>\n",
       "      <td>...</td>\n",
       "      <td>...</td>\n",
       "      <td>...</td>\n",
       "      <td>...</td>\n",
       "      <td>...</td>\n",
       "      <td>...</td>\n",
       "      <td>...</td>\n",
       "      <td>...</td>\n",
       "      <td>...</td>\n",
       "      <td>...</td>\n",
       "      <td>...</td>\n",
       "      <td>...</td>\n",
       "      <td>...</td>\n",
       "      <td>...</td>\n",
       "      <td>...</td>\n",
       "      <td>...</td>\n",
       "      <td>...</td>\n",
       "      <td>...</td>\n",
       "      <td>...</td>\n",
       "    </tr>\n",
       "    <tr>\n",
       "      <th>826</th>\n",
       "      <td>0.5</td>\n",
       "      <td>0.857143</td>\n",
       "      <td>-1.160456</td>\n",
       "      <td>0.812951</td>\n",
       "      <td>1.726844</td>\n",
       "      <td>0.954120</td>\n",
       "      <td>0.267515</td>\n",
       "      <td>1.255233</td>\n",
       "      <td>-0.171403</td>\n",
       "      <td>0.451511</td>\n",
       "      <td>...</td>\n",
       "      <td>0.0</td>\n",
       "      <td>0.0</td>\n",
       "      <td>0.0</td>\n",
       "      <td>0.0</td>\n",
       "      <td>0.0</td>\n",
       "      <td>0.0</td>\n",
       "      <td>0.0</td>\n",
       "      <td>0.0</td>\n",
       "      <td>0.0</td>\n",
       "      <td>0.0</td>\n",
       "    </tr>\n",
       "    <tr>\n",
       "      <th>827</th>\n",
       "      <td>0.0</td>\n",
       "      <td>0.000000</td>\n",
       "      <td>-1.160456</td>\n",
       "      <td>-0.882312</td>\n",
       "      <td>-0.773169</td>\n",
       "      <td>0.954120</td>\n",
       "      <td>1.127755</td>\n",
       "      <td>-1.720798</td>\n",
       "      <td>-1.350506</td>\n",
       "      <td>1.493297</td>\n",
       "      <td>...</td>\n",
       "      <td>0.0</td>\n",
       "      <td>0.0</td>\n",
       "      <td>0.0</td>\n",
       "      <td>0.0</td>\n",
       "      <td>0.0</td>\n",
       "      <td>0.0</td>\n",
       "      <td>0.0</td>\n",
       "      <td>0.0</td>\n",
       "      <td>0.0</td>\n",
       "      <td>0.0</td>\n",
       "    </tr>\n",
       "    <tr>\n",
       "      <th>828</th>\n",
       "      <td>0.5</td>\n",
       "      <td>0.000000</td>\n",
       "      <td>-0.054563</td>\n",
       "      <td>-0.882312</td>\n",
       "      <td>-0.773169</td>\n",
       "      <td>0.954120</td>\n",
       "      <td>-0.239390</td>\n",
       "      <td>-1.456262</td>\n",
       "      <td>-0.878864</td>\n",
       "      <td>-0.703707</td>\n",
       "      <td>...</td>\n",
       "      <td>0.0</td>\n",
       "      <td>0.0</td>\n",
       "      <td>0.0</td>\n",
       "      <td>0.0</td>\n",
       "      <td>0.0</td>\n",
       "      <td>0.0</td>\n",
       "      <td>1.0</td>\n",
       "      <td>0.0</td>\n",
       "      <td>0.0</td>\n",
       "      <td>0.0</td>\n",
       "    </tr>\n",
       "    <tr>\n",
       "      <th>829</th>\n",
       "      <td>0.5</td>\n",
       "      <td>0.285714</td>\n",
       "      <td>-0.054563</td>\n",
       "      <td>-0.882312</td>\n",
       "      <td>-0.273166</td>\n",
       "      <td>-1.048086</td>\n",
       "      <td>-0.340521</td>\n",
       "      <td>-0.530385</td>\n",
       "      <td>0.300238</td>\n",
       "      <td>-0.042516</td>\n",
       "      <td>...</td>\n",
       "      <td>0.0</td>\n",
       "      <td>0.0</td>\n",
       "      <td>0.0</td>\n",
       "      <td>0.0</td>\n",
       "      <td>0.0</td>\n",
       "      <td>0.0</td>\n",
       "      <td>0.0</td>\n",
       "      <td>0.0</td>\n",
       "      <td>0.0</td>\n",
       "      <td>0.0</td>\n",
       "    </tr>\n",
       "    <tr>\n",
       "      <th>830</th>\n",
       "      <td>0.5</td>\n",
       "      <td>0.285714</td>\n",
       "      <td>-0.054563</td>\n",
       "      <td>-0.882312</td>\n",
       "      <td>-0.273166</td>\n",
       "      <td>-1.048086</td>\n",
       "      <td>-0.079577</td>\n",
       "      <td>-0.629586</td>\n",
       "      <td>-0.878864</td>\n",
       "      <td>-0.982810</td>\n",
       "      <td>...</td>\n",
       "      <td>0.0</td>\n",
       "      <td>0.0</td>\n",
       "      <td>0.0</td>\n",
       "      <td>0.0</td>\n",
       "      <td>0.0</td>\n",
       "      <td>0.0</td>\n",
       "      <td>0.0</td>\n",
       "      <td>0.0</td>\n",
       "      <td>0.0</td>\n",
       "      <td>0.0</td>\n",
       "    </tr>\n",
       "  </tbody>\n",
       "</table>\n",
       "<p>831 rows × 52 columns</p>\n",
       "</div>"
      ],
      "text/plain": [
       "     outs_when_up    inning  pitch_number  opp_score  nats_score  \\\n",
       "0             0.0  0.714286     -0.054563  -0.034680    0.226836   \n",
       "1             0.5  0.428571     -0.607509  -0.882312   -0.273166   \n",
       "2             0.0  0.142857     -1.160456  -0.882312   -0.773169   \n",
       "3             0.5  0.428571     -0.607509  -0.882312    2.226846   \n",
       "4             0.5  0.285714     -0.607509  -0.034680   -0.773169   \n",
       "..            ...       ...           ...        ...         ...   \n",
       "826           0.5  0.857143     -1.160456   0.812951    1.726844   \n",
       "827           0.0  0.000000     -1.160456  -0.882312   -0.773169   \n",
       "828           0.5  0.000000     -0.054563  -0.882312   -0.773169   \n",
       "829           0.5  0.285714     -0.054563  -0.882312   -0.273166   \n",
       "830           0.5  0.285714     -0.054563  -0.882312   -0.273166   \n",
       "\n",
       "     nats_home1_away0  pitch_season  pitch_game  pitch_bat_gm  total_pitches  \\\n",
       "0           -1.048086     -0.022145    0.891496      1.007700       0.242557   \n",
       "1            0.954120      0.354913    0.130955     -0.878864       0.203751   \n",
       "2           -1.048086     -0.653903   -1.323994     -1.350506      -0.187292   \n",
       "3           -1.048086      0.488506   -0.199715      0.064418      -0.103710   \n",
       "4            0.954120     -1.520386   -0.298916     -0.643044      -1.012661   \n",
       "..                ...           ...         ...           ...            ...   \n",
       "826          0.954120      0.267515    1.255233     -0.171403       0.451511   \n",
       "827          0.954120      1.127755   -1.720798     -1.350506       1.493297   \n",
       "828          0.954120     -0.239390   -1.456262     -0.878864      -0.703707   \n",
       "829         -1.048086     -0.340521   -0.530385      0.300238      -0.042516   \n",
       "830         -1.048086     -0.079577   -0.629586     -0.878864      -0.982810   \n",
       "\n",
       "     ...  3_0  3_1  3_2  fb:0_sb:0_tb:1  fb:0_sb:1_tb:0  fb:0_sb:1_tb:1  \\\n",
       "0    ...  0.0  0.0  0.0             0.0             0.0             0.0   \n",
       "1    ...  0.0  0.0  0.0             0.0             0.0             0.0   \n",
       "2    ...  0.0  0.0  0.0             0.0             0.0             0.0   \n",
       "3    ...  0.0  0.0  0.0             0.0             1.0             0.0   \n",
       "4    ...  0.0  0.0  0.0             0.0             0.0             0.0   \n",
       "..   ...  ...  ...  ...             ...             ...             ...   \n",
       "826  ...  0.0  0.0  0.0             0.0             0.0             0.0   \n",
       "827  ...  0.0  0.0  0.0             0.0             0.0             0.0   \n",
       "828  ...  0.0  0.0  0.0             0.0             0.0             0.0   \n",
       "829  ...  0.0  0.0  0.0             0.0             0.0             0.0   \n",
       "830  ...  0.0  0.0  0.0             0.0             0.0             0.0   \n",
       "\n",
       "     fb:1_sb:0_tb:0  fb:1_sb:0_tb:1  fb:1_sb:1_tb:0  fb:1_sb:1_tb:1  \n",
       "0               0.0             0.0             0.0             0.0  \n",
       "1               0.0             0.0             0.0             0.0  \n",
       "2               0.0             0.0             0.0             0.0  \n",
       "3               0.0             0.0             0.0             0.0  \n",
       "4               0.0             0.0             0.0             0.0  \n",
       "..              ...             ...             ...             ...  \n",
       "826             0.0             0.0             0.0             0.0  \n",
       "827             0.0             0.0             0.0             0.0  \n",
       "828             1.0             0.0             0.0             0.0  \n",
       "829             0.0             0.0             0.0             0.0  \n",
       "830             0.0             0.0             0.0             0.0  \n",
       "\n",
       "[831 rows x 52 columns]"
      ]
     },
     "execution_count": 23,
     "metadata": {},
     "output_type": "execute_result"
    }
   ],
   "source": [
    "# X_test_trans = pd.DataFrame()\n",
    "X_test_trans = pd.concat([mm_df, ss_df, ohe_df], axis = 1)\n",
    "X_test_trans = X_test_trans.drop(columns = 'index')\n",
    "X_test_trans"
   ]
  },
  {
   "cell_type": "markdown",
   "metadata": {},
   "source": [
    "## Process y_test data"
   ]
  },
  {
   "cell_type": "code",
   "execution_count": 24,
   "metadata": {},
   "outputs": [],
   "source": [
    "y_test.value_counts()\n",
    "y_test = np.array(y_test).reshape(-1, 1)"
   ]
  },
  {
   "cell_type": "code",
   "execution_count": 25,
   "metadata": {},
   "outputs": [
    {
     "data": {
      "text/plain": [
       "array([0., 1., 2., 3., 4.])"
      ]
     },
     "execution_count": 25,
     "metadata": {},
     "output_type": "execute_result"
    }
   ],
   "source": [
    "o = OrdinalEncoder()\n",
    "y_test_trans = o.fit_transform(y_test)\n",
    "np.unique(y_test_trans)"
   ]
  },
  {
   "cell_type": "markdown",
   "metadata": {},
   "source": [
    "## Process y_test_2c"
   ]
  },
  {
   "cell_type": "code",
   "execution_count": 26,
   "metadata": {},
   "outputs": [],
   "source": [
    "y_test_2c = np.array(y_test_2c).reshape(-1, 1)"
   ]
  },
  {
   "cell_type": "code",
   "execution_count": 27,
   "metadata": {},
   "outputs": [
    {
     "data": {
      "text/plain": [
       "array([0., 1.])"
      ]
     },
     "execution_count": 27,
     "metadata": {},
     "output_type": "execute_result"
    }
   ],
   "source": [
    "o2 = OrdinalEncoder()\n",
    "y_test_2c = o2.fit_transform(y_test_2c)\n",
    "np.unique(y_test_2c)"
   ]
  },
  {
   "cell_type": "markdown",
   "metadata": {},
   "source": [
    "## Proces y_test_3c"
   ]
  },
  {
   "cell_type": "code",
   "execution_count": 28,
   "metadata": {},
   "outputs": [],
   "source": [
    "y_test_3c = np.array(y_test_3c).reshape(-1, 1)"
   ]
  },
  {
   "cell_type": "code",
   "execution_count": 29,
   "metadata": {},
   "outputs": [
    {
     "data": {
      "text/plain": [
       "array([0., 1., 2.])"
      ]
     },
     "execution_count": 29,
     "metadata": {},
     "output_type": "execute_result"
    }
   ],
   "source": [
    "o2 = OrdinalEncoder()\n",
    "y_test_3c = o2.fit_transform(y_test_3c)\n",
    "np.unique(y_test_3c)"
   ]
  },
  {
   "cell_type": "markdown",
   "metadata": {},
   "source": [
    "## Export data"
   ]
  },
  {
   "cell_type": "code",
   "execution_count": 30,
   "metadata": {},
   "outputs": [],
   "source": [
    "filepath = '../data/train_test_split/scherzer/transformed/'\n",
    "\n",
    "pickle_out = open(filepath + 'X_test_2019_trans.pickle', 'wb')\n",
    "pickle.dump(X_test_trans, pickle_out)\n",
    "pickle_out.close()\n",
    "\n",
    "pickle_out = open(filepath + 'y_test_2019_trans.pickle', 'wb')\n",
    "pickle.dump(y_test_trans, pickle_out)\n",
    "pickle_out.close()\n",
    "\n",
    "pickle_out = open(filepath + 'y_test_2c_2019_trans.pickle', 'wb')\n",
    "pickle.dump(y_test_2c, pickle_out)\n",
    "pickle_out.close()\n",
    "\n",
    "pickle_out = open(filepath + 'y_test_3c_2019_trans.pickle', 'wb')\n",
    "pickle.dump(y_test_3c, pickle_out)\n",
    "pickle_out.close()"
   ]
  },
  {
   "cell_type": "code",
   "execution_count": null,
   "metadata": {},
   "outputs": [],
   "source": []
  }
 ],
 "metadata": {
  "kernelspec": {
   "display_name": "Python 3",
   "language": "python",
   "name": "python3"
  },
  "language_info": {
   "codemirror_mode": {
    "name": "ipython",
    "version": 3
   },
   "file_extension": ".py",
   "mimetype": "text/x-python",
   "name": "python",
   "nbconvert_exporter": "python",
   "pygments_lexer": "ipython3",
   "version": "3.7.7"
  }
 },
 "nbformat": 4,
 "nbformat_minor": 4
}
