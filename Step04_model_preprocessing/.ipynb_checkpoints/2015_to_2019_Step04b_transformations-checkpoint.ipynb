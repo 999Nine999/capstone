{
 "cells": [
  {
   "cell_type": "markdown",
   "metadata": {},
   "source": [
    "# Steb04b Transformations Version1: All Features"
   ]
  },
  {
   "cell_type": "markdown",
   "metadata": {},
   "source": [
    "## Import packages"
   ]
  },
  {
   "cell_type": "code",
   "execution_count": 1,
   "metadata": {},
   "outputs": [],
   "source": [
    "import pandas as pd\n",
    "import numpy as np\n",
    "import pickle\n",
    "from sklearn.preprocessing import OneHotEncoder, StandardScaler, MinMaxScaler, OrdinalEncoder\n",
    "from sklearn.impute import SimpleImputer"
   ]
  },
  {
   "cell_type": "code",
   "execution_count": 2,
   "metadata": {},
   "outputs": [],
   "source": [
    "infile1 = open('../data/train_test_split/scherzer/X_train_2015.pickle','rb')\n",
    "X_train = pickle.load(infile1)\n",
    "infile1.close()\n",
    "\n",
    "infile2 = open('../data/train_test_split/scherzer/y_train_2015_all_types.pickle','rb')\n",
    "y_train = pickle.load(infile2)\n",
    "infile2.close()\n",
    "\n",
    "infile2 = open('../data/train_test_split/scherzer/y_train_2015_2_cases.pickle','rb')\n",
    "y_train_2c = pickle.load(infile2)\n",
    "infile2.close()\n",
    "\n",
    "infile2 = open('../data/train_test_split/scherzer/y_train_2015_3_cases.pickle','rb')\n",
    "y_train_3c = pickle.load(infile2)\n",
    "infile2.close()"
   ]
  },
  {
   "cell_type": "code",
   "execution_count": 3,
   "metadata": {},
   "outputs": [
    {
     "data": {
      "text/plain": [
       "Index(['pitch_number', 'stand', 'outs_when_up', 'inning', 'opp_score',\n",
       "       'nats_score', 'if_fielding_alignment', 'of_fielding_alignment',\n",
       "       'nats_home1_away0', 'balls_strikes', 'all_runners', 'pitch_season',\n",
       "       'pitch_game', 'pitch_bat_gm', 'total_pitches', 'abs', 'whiffs',\n",
       "       'swings', 'takes', 'k', 'walk', 'single', 'double', 'triple', 'hr',\n",
       "       'line_drive', 'ground_ball', 'fly_ball', 'popup', 'rbi', 'sac', 'ba',\n",
       "       'slg', 'iso', 'babip'],\n",
       "      dtype='object')"
      ]
     },
     "execution_count": 3,
     "metadata": {},
     "output_type": "execute_result"
    }
   ],
   "source": [
    "X_train.columns"
   ]
  },
  {
   "cell_type": "code",
   "execution_count": 4,
   "metadata": {},
   "outputs": [
    {
     "data": {
      "text/html": [
       "<div>\n",
       "<style scoped>\n",
       "    .dataframe tbody tr th:only-of-type {\n",
       "        vertical-align: middle;\n",
       "    }\n",
       "\n",
       "    .dataframe tbody tr th {\n",
       "        vertical-align: top;\n",
       "    }\n",
       "\n",
       "    .dataframe thead th {\n",
       "        text-align: right;\n",
       "    }\n",
       "</style>\n",
       "<table border=\"1\" class=\"dataframe\">\n",
       "  <thead>\n",
       "    <tr style=\"text-align: right;\">\n",
       "      <th></th>\n",
       "      <th>pitch_number</th>\n",
       "      <th>stand</th>\n",
       "      <th>outs_when_up</th>\n",
       "      <th>inning</th>\n",
       "      <th>opp_score</th>\n",
       "      <th>nats_score</th>\n",
       "      <th>if_fielding_alignment</th>\n",
       "      <th>of_fielding_alignment</th>\n",
       "      <th>nats_home1_away0</th>\n",
       "      <th>balls_strikes</th>\n",
       "      <th>...</th>\n",
       "      <th>line_drive</th>\n",
       "      <th>ground_ball</th>\n",
       "      <th>fly_ball</th>\n",
       "      <th>popup</th>\n",
       "      <th>rbi</th>\n",
       "      <th>sac</th>\n",
       "      <th>ba</th>\n",
       "      <th>slg</th>\n",
       "      <th>iso</th>\n",
       "      <th>babip</th>\n",
       "    </tr>\n",
       "  </thead>\n",
       "  <tbody>\n",
       "    <tr>\n",
       "      <th>11287</th>\n",
       "      <td>1</td>\n",
       "      <td>L</td>\n",
       "      <td>2</td>\n",
       "      <td>1</td>\n",
       "      <td>0</td>\n",
       "      <td>0</td>\n",
       "      <td>Standard</td>\n",
       "      <td>Standard</td>\n",
       "      <td>1</td>\n",
       "      <td>0_1</td>\n",
       "      <td>...</td>\n",
       "      <td>NaN</td>\n",
       "      <td>NaN</td>\n",
       "      <td>NaN</td>\n",
       "      <td>NaN</td>\n",
       "      <td>NaN</td>\n",
       "      <td>NaN</td>\n",
       "      <td>NaN</td>\n",
       "      <td>NaN</td>\n",
       "      <td>NaN</td>\n",
       "      <td>NaN</td>\n",
       "    </tr>\n",
       "    <tr>\n",
       "      <th>839</th>\n",
       "      <td>6</td>\n",
       "      <td>L</td>\n",
       "      <td>0</td>\n",
       "      <td>4</td>\n",
       "      <td>1</td>\n",
       "      <td>1</td>\n",
       "      <td>Infield shift</td>\n",
       "      <td>Strategic</td>\n",
       "      <td>1</td>\n",
       "      <td>2_2</td>\n",
       "      <td>...</td>\n",
       "      <td>31.0</td>\n",
       "      <td>35.0</td>\n",
       "      <td>32.0</td>\n",
       "      <td>1.0</td>\n",
       "      <td>13.0</td>\n",
       "      <td>0.0</td>\n",
       "      <td>0.257143</td>\n",
       "      <td>0.521429</td>\n",
       "      <td>0.264286</td>\n",
       "      <td>0.300000</td>\n",
       "    </tr>\n",
       "    <tr>\n",
       "      <th>1745</th>\n",
       "      <td>4</td>\n",
       "      <td>L</td>\n",
       "      <td>1</td>\n",
       "      <td>1</td>\n",
       "      <td>0</td>\n",
       "      <td>0</td>\n",
       "      <td>Standard</td>\n",
       "      <td>Strategic</td>\n",
       "      <td>0</td>\n",
       "      <td>2_2</td>\n",
       "      <td>...</td>\n",
       "      <td>57.0</td>\n",
       "      <td>96.0</td>\n",
       "      <td>35.0</td>\n",
       "      <td>3.0</td>\n",
       "      <td>29.0</td>\n",
       "      <td>2.0</td>\n",
       "      <td>0.299611</td>\n",
       "      <td>0.478599</td>\n",
       "      <td>0.178988</td>\n",
       "      <td>0.370166</td>\n",
       "    </tr>\n",
       "    <tr>\n",
       "      <th>5724</th>\n",
       "      <td>5</td>\n",
       "      <td>L</td>\n",
       "      <td>1</td>\n",
       "      <td>4</td>\n",
       "      <td>0</td>\n",
       "      <td>1</td>\n",
       "      <td>Infield shift</td>\n",
       "      <td>Standard</td>\n",
       "      <td>0</td>\n",
       "      <td>2_2</td>\n",
       "      <td>...</td>\n",
       "      <td>NaN</td>\n",
       "      <td>NaN</td>\n",
       "      <td>NaN</td>\n",
       "      <td>NaN</td>\n",
       "      <td>NaN</td>\n",
       "      <td>NaN</td>\n",
       "      <td>NaN</td>\n",
       "      <td>NaN</td>\n",
       "      <td>NaN</td>\n",
       "      <td>NaN</td>\n",
       "    </tr>\n",
       "    <tr>\n",
       "      <th>5466</th>\n",
       "      <td>1</td>\n",
       "      <td>L</td>\n",
       "      <td>0</td>\n",
       "      <td>1</td>\n",
       "      <td>0</td>\n",
       "      <td>0</td>\n",
       "      <td>Standard</td>\n",
       "      <td>Standard</td>\n",
       "      <td>1</td>\n",
       "      <td>0_1</td>\n",
       "      <td>...</td>\n",
       "      <td>NaN</td>\n",
       "      <td>NaN</td>\n",
       "      <td>NaN</td>\n",
       "      <td>NaN</td>\n",
       "      <td>NaN</td>\n",
       "      <td>NaN</td>\n",
       "      <td>NaN</td>\n",
       "      <td>NaN</td>\n",
       "      <td>NaN</td>\n",
       "      <td>NaN</td>\n",
       "    </tr>\n",
       "    <tr>\n",
       "      <th>...</th>\n",
       "      <td>...</td>\n",
       "      <td>...</td>\n",
       "      <td>...</td>\n",
       "      <td>...</td>\n",
       "      <td>...</td>\n",
       "      <td>...</td>\n",
       "      <td>...</td>\n",
       "      <td>...</td>\n",
       "      <td>...</td>\n",
       "      <td>...</td>\n",
       "      <td>...</td>\n",
       "      <td>...</td>\n",
       "      <td>...</td>\n",
       "      <td>...</td>\n",
       "      <td>...</td>\n",
       "      <td>...</td>\n",
       "      <td>...</td>\n",
       "      <td>...</td>\n",
       "      <td>...</td>\n",
       "      <td>...</td>\n",
       "      <td>...</td>\n",
       "    </tr>\n",
       "    <tr>\n",
       "      <th>20</th>\n",
       "      <td>0</td>\n",
       "      <td>L</td>\n",
       "      <td>0</td>\n",
       "      <td>2</td>\n",
       "      <td>0</td>\n",
       "      <td>0</td>\n",
       "      <td>Standard</td>\n",
       "      <td>Standard</td>\n",
       "      <td>1</td>\n",
       "      <td>0_0</td>\n",
       "      <td>...</td>\n",
       "      <td>0.0</td>\n",
       "      <td>0.0</td>\n",
       "      <td>0.0</td>\n",
       "      <td>0.0</td>\n",
       "      <td>0.0</td>\n",
       "      <td>0.0</td>\n",
       "      <td>0.000000</td>\n",
       "      <td>0.000000</td>\n",
       "      <td>0.000000</td>\n",
       "      <td>0.000000</td>\n",
       "    </tr>\n",
       "    <tr>\n",
       "      <th>8418</th>\n",
       "      <td>1</td>\n",
       "      <td>L</td>\n",
       "      <td>0</td>\n",
       "      <td>5</td>\n",
       "      <td>0</td>\n",
       "      <td>1</td>\n",
       "      <td>Infield shift</td>\n",
       "      <td>Standard</td>\n",
       "      <td>0</td>\n",
       "      <td>0_1</td>\n",
       "      <td>...</td>\n",
       "      <td>NaN</td>\n",
       "      <td>NaN</td>\n",
       "      <td>NaN</td>\n",
       "      <td>NaN</td>\n",
       "      <td>NaN</td>\n",
       "      <td>NaN</td>\n",
       "      <td>NaN</td>\n",
       "      <td>NaN</td>\n",
       "      <td>NaN</td>\n",
       "      <td>NaN</td>\n",
       "    </tr>\n",
       "    <tr>\n",
       "      <th>6992</th>\n",
       "      <td>3</td>\n",
       "      <td>R</td>\n",
       "      <td>2</td>\n",
       "      <td>6</td>\n",
       "      <td>1</td>\n",
       "      <td>7</td>\n",
       "      <td>Standard</td>\n",
       "      <td>Standard</td>\n",
       "      <td>0</td>\n",
       "      <td>1_2</td>\n",
       "      <td>...</td>\n",
       "      <td>NaN</td>\n",
       "      <td>NaN</td>\n",
       "      <td>NaN</td>\n",
       "      <td>NaN</td>\n",
       "      <td>NaN</td>\n",
       "      <td>NaN</td>\n",
       "      <td>NaN</td>\n",
       "      <td>NaN</td>\n",
       "      <td>NaN</td>\n",
       "      <td>NaN</td>\n",
       "    </tr>\n",
       "    <tr>\n",
       "      <th>12664</th>\n",
       "      <td>0</td>\n",
       "      <td>L</td>\n",
       "      <td>0</td>\n",
       "      <td>1</td>\n",
       "      <td>0</td>\n",
       "      <td>0</td>\n",
       "      <td>Standard</td>\n",
       "      <td>Standard</td>\n",
       "      <td>1</td>\n",
       "      <td>0_0</td>\n",
       "      <td>...</td>\n",
       "      <td>NaN</td>\n",
       "      <td>NaN</td>\n",
       "      <td>NaN</td>\n",
       "      <td>NaN</td>\n",
       "      <td>NaN</td>\n",
       "      <td>NaN</td>\n",
       "      <td>NaN</td>\n",
       "      <td>NaN</td>\n",
       "      <td>NaN</td>\n",
       "      <td>NaN</td>\n",
       "    </tr>\n",
       "    <tr>\n",
       "      <th>4405</th>\n",
       "      <td>1</td>\n",
       "      <td>R</td>\n",
       "      <td>1</td>\n",
       "      <td>1</td>\n",
       "      <td>0</td>\n",
       "      <td>0</td>\n",
       "      <td>Standard</td>\n",
       "      <td>Standard</td>\n",
       "      <td>1</td>\n",
       "      <td>0_1</td>\n",
       "      <td>...</td>\n",
       "      <td>NaN</td>\n",
       "      <td>NaN</td>\n",
       "      <td>NaN</td>\n",
       "      <td>NaN</td>\n",
       "      <td>NaN</td>\n",
       "      <td>NaN</td>\n",
       "      <td>NaN</td>\n",
       "      <td>NaN</td>\n",
       "      <td>NaN</td>\n",
       "      <td>NaN</td>\n",
       "    </tr>\n",
       "  </tbody>\n",
       "</table>\n",
       "<p>11381 rows × 35 columns</p>\n",
       "</div>"
      ],
      "text/plain": [
       "       pitch_number stand  outs_when_up  inning  opp_score  nats_score  \\\n",
       "11287             1     L             2       1          0           0   \n",
       "839               6     L             0       4          1           1   \n",
       "1745              4     L             1       1          0           0   \n",
       "5724              5     L             1       4          0           1   \n",
       "5466              1     L             0       1          0           0   \n",
       "...             ...   ...           ...     ...        ...         ...   \n",
       "20                0     L             0       2          0           0   \n",
       "8418              1     L             0       5          0           1   \n",
       "6992              3     R             2       6          1           7   \n",
       "12664             0     L             0       1          0           0   \n",
       "4405              1     R             1       1          0           0   \n",
       "\n",
       "      if_fielding_alignment of_fielding_alignment  nats_home1_away0  \\\n",
       "11287              Standard              Standard                 1   \n",
       "839           Infield shift             Strategic                 1   \n",
       "1745               Standard             Strategic                 0   \n",
       "5724          Infield shift              Standard                 0   \n",
       "5466               Standard              Standard                 1   \n",
       "...                     ...                   ...               ...   \n",
       "20                 Standard              Standard                 1   \n",
       "8418          Infield shift              Standard                 0   \n",
       "6992               Standard              Standard                 0   \n",
       "12664              Standard              Standard                 1   \n",
       "4405               Standard              Standard                 1   \n",
       "\n",
       "      balls_strikes  ... line_drive  ground_ball  fly_ball  popup   rbi  sac  \\\n",
       "11287           0_1  ...        NaN          NaN       NaN    NaN   NaN  NaN   \n",
       "839             2_2  ...       31.0         35.0      32.0    1.0  13.0  0.0   \n",
       "1745            2_2  ...       57.0         96.0      35.0    3.0  29.0  2.0   \n",
       "5724            2_2  ...        NaN          NaN       NaN    NaN   NaN  NaN   \n",
       "5466            0_1  ...        NaN          NaN       NaN    NaN   NaN  NaN   \n",
       "...             ...  ...        ...          ...       ...    ...   ...  ...   \n",
       "20              0_0  ...        0.0          0.0       0.0    0.0   0.0  0.0   \n",
       "8418            0_1  ...        NaN          NaN       NaN    NaN   NaN  NaN   \n",
       "6992            1_2  ...        NaN          NaN       NaN    NaN   NaN  NaN   \n",
       "12664           0_0  ...        NaN          NaN       NaN    NaN   NaN  NaN   \n",
       "4405            0_1  ...        NaN          NaN       NaN    NaN   NaN  NaN   \n",
       "\n",
       "             ba       slg       iso     babip  \n",
       "11287       NaN       NaN       NaN       NaN  \n",
       "839    0.257143  0.521429  0.264286  0.300000  \n",
       "1745   0.299611  0.478599  0.178988  0.370166  \n",
       "5724        NaN       NaN       NaN       NaN  \n",
       "5466        NaN       NaN       NaN       NaN  \n",
       "...         ...       ...       ...       ...  \n",
       "20     0.000000  0.000000  0.000000  0.000000  \n",
       "8418        NaN       NaN       NaN       NaN  \n",
       "6992        NaN       NaN       NaN       NaN  \n",
       "12664       NaN       NaN       NaN       NaN  \n",
       "4405        NaN       NaN       NaN       NaN  \n",
       "\n",
       "[11381 rows x 35 columns]"
      ]
     },
     "execution_count": 4,
     "metadata": {},
     "output_type": "execute_result"
    }
   ],
   "source": [
    "X_train"
   ]
  },
  {
   "cell_type": "markdown",
   "metadata": {},
   "source": [
    "## Define Categorical Variables"
   ]
  },
  {
   "cell_type": "code",
   "execution_count": 5,
   "metadata": {},
   "outputs": [],
   "source": [
    "cats = ['stand', 'if_fielding_alignment', 'of_fielding_alignment', 'balls_strikes', 'all_runners']"
   ]
  },
  {
   "cell_type": "markdown",
   "metadata": {},
   "source": [
    "## Define Features that are already standardized"
   ]
  },
  {
   "cell_type": "code",
   "execution_count": 6,
   "metadata": {},
   "outputs": [],
   "source": [
    "formatted = ['nats_home1_away0', 'ba', 'slg', 'iso', 'babip']"
   ]
  },
  {
   "cell_type": "markdown",
   "metadata": {},
   "source": [
    "## Define MinMax Numeric Variables"
   ]
  },
  {
   "cell_type": "code",
   "execution_count": 7,
   "metadata": {},
   "outputs": [],
   "source": [
    "minmax = ['outs_when_up', 'inning']"
   ]
  },
  {
   "cell_type": "markdown",
   "metadata": {},
   "source": [
    "## Define StandardScaler Numeric Variables"
   ]
  },
  {
   "cell_type": "code",
   "execution_count": 8,
   "metadata": {},
   "outputs": [],
   "source": [
    "standard = []\n",
    "non_nums = cats + standard + minmax\n",
    "\n",
    "for c in X_train.columns:\n",
    "    if c not in non_nums:\n",
    "        standard.append(c)"
   ]
  },
  {
   "cell_type": "markdown",
   "metadata": {},
   "source": [
    "## Fit OHE"
   ]
  },
  {
   "cell_type": "code",
   "execution_count": 9,
   "metadata": {},
   "outputs": [],
   "source": [
    "ohe = OneHotEncoder(drop='first', handle_unknown='error', sparse=False)"
   ]
  },
  {
   "cell_type": "code",
   "execution_count": 10,
   "metadata": {},
   "outputs": [],
   "source": [
    "X_ohe_ar = ohe.fit_transform(X_train[cats])"
   ]
  },
  {
   "cell_type": "code",
   "execution_count": 11,
   "metadata": {},
   "outputs": [],
   "source": [
    "ohe_cols = ['stand_r1', 'if_standard', 'if_strategic', 'of_strategic', \n",
    "        '0_1', '0_2', '1_0', '1_1', '1_2', '2_0', '2_1', '2_2', '3_0', '3_1', '3_2',\n",
    "        'fb:0_sb:0_tb:1', 'fb:0_sb:1_tb:0', 'fb:0_sb:1_tb:1', 'fb:1_sb:0_tb:0', \n",
    "        'fb:1_sb:0_tb:1', 'fb:1_sb:1_tb:0', 'fb:1_sb:1_tb:1']"
   ]
  },
  {
   "cell_type": "code",
   "execution_count": 12,
   "metadata": {},
   "outputs": [],
   "source": [
    "ohe_df = pd.DataFrame(data = X_ohe_ar, columns = ohe_cols).reset_index()"
   ]
  },
  {
   "cell_type": "markdown",
   "metadata": {},
   "source": [
    "## Fit StandardScaler"
   ]
  },
  {
   "cell_type": "code",
   "execution_count": 13,
   "metadata": {},
   "outputs": [],
   "source": [
    "ss = StandardScaler()"
   ]
  },
  {
   "cell_type": "code",
   "execution_count": 14,
   "metadata": {},
   "outputs": [],
   "source": [
    "X_ss = ss.fit_transform(X_train[standard])"
   ]
  },
  {
   "cell_type": "code",
   "execution_count": 15,
   "metadata": {},
   "outputs": [],
   "source": [
    "ss_df = pd.DataFrame(columns = standard, data = X_ss).reset_index()"
   ]
  },
  {
   "cell_type": "markdown",
   "metadata": {},
   "source": [
    "## Fit MinMax Scaler"
   ]
  },
  {
   "cell_type": "code",
   "execution_count": 16,
   "metadata": {},
   "outputs": [],
   "source": [
    "mm = MinMaxScaler()"
   ]
  },
  {
   "cell_type": "code",
   "execution_count": 17,
   "metadata": {},
   "outputs": [],
   "source": [
    "X_mm = mm.fit_transform(X_train[minmax])"
   ]
  },
  {
   "cell_type": "code",
   "execution_count": 18,
   "metadata": {},
   "outputs": [],
   "source": [
    "mm_df = pd.DataFrame(columns = minmax, data = X_mm).reset_index()"
   ]
  },
  {
   "cell_type": "markdown",
   "metadata": {},
   "source": [
    "## Create DF for features that are already standardized"
   ]
  },
  {
   "cell_type": "code",
   "execution_count": 19,
   "metadata": {},
   "outputs": [],
   "source": [
    "formatted_df = X_train[formatted].reset_index()"
   ]
  },
  {
   "cell_type": "markdown",
   "metadata": {},
   "source": [
    "## Combine Processed X_train"
   ]
  },
  {
   "cell_type": "code",
   "execution_count": 20,
   "metadata": {},
   "outputs": [
    {
     "data": {
      "text/plain": [
       "((11381, 23), (11381, 29), (11381, 3), (11381, 5))"
      ]
     },
     "execution_count": 20,
     "metadata": {},
     "output_type": "execute_result"
    }
   ],
   "source": [
    "ohe_df.shape, ss_df.shape, mm_df.shape, X_train[formatted].shape"
   ]
  },
  {
   "cell_type": "code",
   "execution_count": 21,
   "metadata": {},
   "outputs": [
    {
     "data": {
      "text/plain": [
       "60"
      ]
     },
     "execution_count": 21,
     "metadata": {},
     "output_type": "execute_result"
    }
   ],
   "source": [
    "ohe_df.shape[1] + ss_df.shape[1] + mm_df.shape[1] + X_train[formatted].shape[1]"
   ]
  },
  {
   "cell_type": "code",
   "execution_count": 22,
   "metadata": {},
   "outputs": [
    {
     "data": {
      "text/html": [
       "<div>\n",
       "<style scoped>\n",
       "    .dataframe tbody tr th:only-of-type {\n",
       "        vertical-align: middle;\n",
       "    }\n",
       "\n",
       "    .dataframe tbody tr th {\n",
       "        vertical-align: top;\n",
       "    }\n",
       "\n",
       "    .dataframe thead th {\n",
       "        text-align: right;\n",
       "    }\n",
       "</style>\n",
       "<table border=\"1\" class=\"dataframe\">\n",
       "  <thead>\n",
       "    <tr style=\"text-align: right;\">\n",
       "      <th></th>\n",
       "      <th>outs_when_up</th>\n",
       "      <th>inning</th>\n",
       "      <th>pitch_number</th>\n",
       "      <th>opp_score</th>\n",
       "      <th>nats_score</th>\n",
       "      <th>nats_home1_away0</th>\n",
       "      <th>pitch_season</th>\n",
       "      <th>pitch_game</th>\n",
       "      <th>pitch_bat_gm</th>\n",
       "      <th>total_pitches</th>\n",
       "      <th>...</th>\n",
       "      <th>3_0</th>\n",
       "      <th>3_1</th>\n",
       "      <th>3_2</th>\n",
       "      <th>fb:0_sb:0_tb:1</th>\n",
       "      <th>fb:0_sb:1_tb:0</th>\n",
       "      <th>fb:0_sb:1_tb:1</th>\n",
       "      <th>fb:1_sb:0_tb:0</th>\n",
       "      <th>fb:1_sb:0_tb:1</th>\n",
       "      <th>fb:1_sb:1_tb:0</th>\n",
       "      <th>fb:1_sb:1_tb:1</th>\n",
       "    </tr>\n",
       "  </thead>\n",
       "  <tbody>\n",
       "    <tr>\n",
       "      <th>0</th>\n",
       "      <td>1.0</td>\n",
       "      <td>0.000</td>\n",
       "      <td>-0.517830</td>\n",
       "      <td>-0.761728</td>\n",
       "      <td>-0.794425</td>\n",
       "      <td>0.982492</td>\n",
       "      <td>-0.375075</td>\n",
       "      <td>-1.430629</td>\n",
       "      <td>-1.100708</td>\n",
       "      <td>NaN</td>\n",
       "      <td>...</td>\n",
       "      <td>0.0</td>\n",
       "      <td>0.0</td>\n",
       "      <td>0.0</td>\n",
       "      <td>0.0</td>\n",
       "      <td>0.0</td>\n",
       "      <td>0.0</td>\n",
       "      <td>0.0</td>\n",
       "      <td>0.0</td>\n",
       "      <td>0.0</td>\n",
       "      <td>0.0</td>\n",
       "    </tr>\n",
       "    <tr>\n",
       "      <th>1</th>\n",
       "      <td>0.0</td>\n",
       "      <td>0.375</td>\n",
       "      <td>2.334748</td>\n",
       "      <td>0.075393</td>\n",
       "      <td>-0.349673</td>\n",
       "      <td>0.982492</td>\n",
       "      <td>-0.831739</td>\n",
       "      <td>-0.061680</td>\n",
       "      <td>0.570471</td>\n",
       "      <td>-0.404999</td>\n",
       "      <td>...</td>\n",
       "      <td>0.0</td>\n",
       "      <td>0.0</td>\n",
       "      <td>0.0</td>\n",
       "      <td>0.0</td>\n",
       "      <td>0.0</td>\n",
       "      <td>0.0</td>\n",
       "      <td>0.0</td>\n",
       "      <td>0.0</td>\n",
       "      <td>0.0</td>\n",
       "      <td>0.0</td>\n",
       "    </tr>\n",
       "    <tr>\n",
       "      <th>2</th>\n",
       "      <td>0.5</td>\n",
       "      <td>0.000</td>\n",
       "      <td>1.193717</td>\n",
       "      <td>-0.761728</td>\n",
       "      <td>-0.794425</td>\n",
       "      <td>-1.017820</td>\n",
       "      <td>0.110715</td>\n",
       "      <td>-1.365441</td>\n",
       "      <td>-0.384488</td>\n",
       "      <td>0.278477</td>\n",
       "      <td>...</td>\n",
       "      <td>0.0</td>\n",
       "      <td>0.0</td>\n",
       "      <td>0.0</td>\n",
       "      <td>0.0</td>\n",
       "      <td>0.0</td>\n",
       "      <td>0.0</td>\n",
       "      <td>0.0</td>\n",
       "      <td>0.0</td>\n",
       "      <td>0.0</td>\n",
       "      <td>0.0</td>\n",
       "    </tr>\n",
       "    <tr>\n",
       "      <th>3</th>\n",
       "      <td>0.5</td>\n",
       "      <td>0.375</td>\n",
       "      <td>1.764232</td>\n",
       "      <td>-0.761728</td>\n",
       "      <td>-0.349673</td>\n",
       "      <td>-1.017820</td>\n",
       "      <td>0.761903</td>\n",
       "      <td>-0.257244</td>\n",
       "      <td>0.092991</td>\n",
       "      <td>NaN</td>\n",
       "      <td>...</td>\n",
       "      <td>0.0</td>\n",
       "      <td>0.0</td>\n",
       "      <td>0.0</td>\n",
       "      <td>0.0</td>\n",
       "      <td>0.0</td>\n",
       "      <td>0.0</td>\n",
       "      <td>0.0</td>\n",
       "      <td>0.0</td>\n",
       "      <td>0.0</td>\n",
       "      <td>0.0</td>\n",
       "    </tr>\n",
       "    <tr>\n",
       "      <th>4</th>\n",
       "      <td>0.0</td>\n",
       "      <td>0.000</td>\n",
       "      <td>-0.517830</td>\n",
       "      <td>-0.761728</td>\n",
       "      <td>-0.794425</td>\n",
       "      <td>0.982492</td>\n",
       "      <td>0.493522</td>\n",
       "      <td>-1.658787</td>\n",
       "      <td>-1.100708</td>\n",
       "      <td>NaN</td>\n",
       "      <td>...</td>\n",
       "      <td>0.0</td>\n",
       "      <td>0.0</td>\n",
       "      <td>0.0</td>\n",
       "      <td>0.0</td>\n",
       "      <td>0.0</td>\n",
       "      <td>0.0</td>\n",
       "      <td>0.0</td>\n",
       "      <td>0.0</td>\n",
       "      <td>0.0</td>\n",
       "      <td>0.0</td>\n",
       "    </tr>\n",
       "    <tr>\n",
       "      <th>...</th>\n",
       "      <td>...</td>\n",
       "      <td>...</td>\n",
       "      <td>...</td>\n",
       "      <td>...</td>\n",
       "      <td>...</td>\n",
       "      <td>...</td>\n",
       "      <td>...</td>\n",
       "      <td>...</td>\n",
       "      <td>...</td>\n",
       "      <td>...</td>\n",
       "      <td>...</td>\n",
       "      <td>...</td>\n",
       "      <td>...</td>\n",
       "      <td>...</td>\n",
       "      <td>...</td>\n",
       "      <td>...</td>\n",
       "      <td>...</td>\n",
       "      <td>...</td>\n",
       "      <td>...</td>\n",
       "      <td>...</td>\n",
       "      <td>...</td>\n",
       "    </tr>\n",
       "    <tr>\n",
       "      <th>11376</th>\n",
       "      <td>0.0</td>\n",
       "      <td>0.125</td>\n",
       "      <td>-1.088346</td>\n",
       "      <td>-0.761728</td>\n",
       "      <td>-0.794425</td>\n",
       "      <td>0.982492</td>\n",
       "      <td>-1.683693</td>\n",
       "      <td>-1.039500</td>\n",
       "      <td>-1.339447</td>\n",
       "      <td>-1.227591</td>\n",
       "      <td>...</td>\n",
       "      <td>0.0</td>\n",
       "      <td>0.0</td>\n",
       "      <td>0.0</td>\n",
       "      <td>0.0</td>\n",
       "      <td>0.0</td>\n",
       "      <td>0.0</td>\n",
       "      <td>0.0</td>\n",
       "      <td>0.0</td>\n",
       "      <td>0.0</td>\n",
       "      <td>0.0</td>\n",
       "    </tr>\n",
       "    <tr>\n",
       "      <th>11377</th>\n",
       "      <td>0.0</td>\n",
       "      <td>0.500</td>\n",
       "      <td>-0.517830</td>\n",
       "      <td>-0.761728</td>\n",
       "      <td>-0.349673</td>\n",
       "      <td>-1.017820</td>\n",
       "      <td>-0.133740</td>\n",
       "      <td>-0.941718</td>\n",
       "      <td>-1.339447</td>\n",
       "      <td>NaN</td>\n",
       "      <td>...</td>\n",
       "      <td>0.0</td>\n",
       "      <td>0.0</td>\n",
       "      <td>0.0</td>\n",
       "      <td>0.0</td>\n",
       "      <td>0.0</td>\n",
       "      <td>0.0</td>\n",
       "      <td>0.0</td>\n",
       "      <td>0.0</td>\n",
       "      <td>0.0</td>\n",
       "      <td>0.0</td>\n",
       "    </tr>\n",
       "    <tr>\n",
       "      <th>11378</th>\n",
       "      <td>1.0</td>\n",
       "      <td>0.625</td>\n",
       "      <td>0.623201</td>\n",
       "      <td>0.075393</td>\n",
       "      <td>2.318833</td>\n",
       "      <td>-1.017820</td>\n",
       "      <td>-1.617118</td>\n",
       "      <td>1.046517</td>\n",
       "      <td>2.002909</td>\n",
       "      <td>NaN</td>\n",
       "      <td>...</td>\n",
       "      <td>0.0</td>\n",
       "      <td>0.0</td>\n",
       "      <td>0.0</td>\n",
       "      <td>0.0</td>\n",
       "      <td>0.0</td>\n",
       "      <td>0.0</td>\n",
       "      <td>1.0</td>\n",
       "      <td>0.0</td>\n",
       "      <td>0.0</td>\n",
       "      <td>0.0</td>\n",
       "    </tr>\n",
       "    <tr>\n",
       "      <th>11379</th>\n",
       "      <td>0.0</td>\n",
       "      <td>0.000</td>\n",
       "      <td>-1.088346</td>\n",
       "      <td>-0.761728</td>\n",
       "      <td>-0.794425</td>\n",
       "      <td>0.982492</td>\n",
       "      <td>1.057330</td>\n",
       "      <td>-1.691381</td>\n",
       "      <td>-1.339447</td>\n",
       "      <td>NaN</td>\n",
       "      <td>...</td>\n",
       "      <td>0.0</td>\n",
       "      <td>0.0</td>\n",
       "      <td>0.0</td>\n",
       "      <td>0.0</td>\n",
       "      <td>0.0</td>\n",
       "      <td>0.0</td>\n",
       "      <td>0.0</td>\n",
       "      <td>0.0</td>\n",
       "      <td>0.0</td>\n",
       "      <td>0.0</td>\n",
       "    </tr>\n",
       "    <tr>\n",
       "      <th>11380</th>\n",
       "      <td>0.5</td>\n",
       "      <td>0.000</td>\n",
       "      <td>-0.517830</td>\n",
       "      <td>-0.761728</td>\n",
       "      <td>-0.794425</td>\n",
       "      <td>0.982492</td>\n",
       "      <td>-0.610169</td>\n",
       "      <td>-1.430629</td>\n",
       "      <td>-1.100708</td>\n",
       "      <td>NaN</td>\n",
       "      <td>...</td>\n",
       "      <td>0.0</td>\n",
       "      <td>0.0</td>\n",
       "      <td>0.0</td>\n",
       "      <td>0.0</td>\n",
       "      <td>0.0</td>\n",
       "      <td>0.0</td>\n",
       "      <td>1.0</td>\n",
       "      <td>0.0</td>\n",
       "      <td>0.0</td>\n",
       "      <td>0.0</td>\n",
       "    </tr>\n",
       "  </tbody>\n",
       "</table>\n",
       "<p>11381 rows × 52 columns</p>\n",
       "</div>"
      ],
      "text/plain": [
       "       outs_when_up  inning  pitch_number  opp_score  nats_score  \\\n",
       "0               1.0   0.000     -0.517830  -0.761728   -0.794425   \n",
       "1               0.0   0.375      2.334748   0.075393   -0.349673   \n",
       "2               0.5   0.000      1.193717  -0.761728   -0.794425   \n",
       "3               0.5   0.375      1.764232  -0.761728   -0.349673   \n",
       "4               0.0   0.000     -0.517830  -0.761728   -0.794425   \n",
       "...             ...     ...           ...        ...         ...   \n",
       "11376           0.0   0.125     -1.088346  -0.761728   -0.794425   \n",
       "11377           0.0   0.500     -0.517830  -0.761728   -0.349673   \n",
       "11378           1.0   0.625      0.623201   0.075393    2.318833   \n",
       "11379           0.0   0.000     -1.088346  -0.761728   -0.794425   \n",
       "11380           0.5   0.000     -0.517830  -0.761728   -0.794425   \n",
       "\n",
       "       nats_home1_away0  pitch_season  pitch_game  pitch_bat_gm  \\\n",
       "0              0.982492     -0.375075   -1.430629     -1.100708   \n",
       "1              0.982492     -0.831739   -0.061680      0.570471   \n",
       "2             -1.017820      0.110715   -1.365441     -0.384488   \n",
       "3             -1.017820      0.761903   -0.257244      0.092991   \n",
       "4              0.982492      0.493522   -1.658787     -1.100708   \n",
       "...                 ...           ...         ...           ...   \n",
       "11376          0.982492     -1.683693   -1.039500     -1.339447   \n",
       "11377         -1.017820     -0.133740   -0.941718     -1.339447   \n",
       "11378         -1.017820     -1.617118    1.046517      2.002909   \n",
       "11379          0.982492      1.057330   -1.691381     -1.339447   \n",
       "11380          0.982492     -0.610169   -1.430629     -1.100708   \n",
       "\n",
       "       total_pitches  ...  3_0  3_1  3_2  fb:0_sb:0_tb:1  fb:0_sb:1_tb:0  \\\n",
       "0                NaN  ...  0.0  0.0  0.0             0.0             0.0   \n",
       "1          -0.404999  ...  0.0  0.0  0.0             0.0             0.0   \n",
       "2           0.278477  ...  0.0  0.0  0.0             0.0             0.0   \n",
       "3                NaN  ...  0.0  0.0  0.0             0.0             0.0   \n",
       "4                NaN  ...  0.0  0.0  0.0             0.0             0.0   \n",
       "...              ...  ...  ...  ...  ...             ...             ...   \n",
       "11376      -1.227591  ...  0.0  0.0  0.0             0.0             0.0   \n",
       "11377            NaN  ...  0.0  0.0  0.0             0.0             0.0   \n",
       "11378            NaN  ...  0.0  0.0  0.0             0.0             0.0   \n",
       "11379            NaN  ...  0.0  0.0  0.0             0.0             0.0   \n",
       "11380            NaN  ...  0.0  0.0  0.0             0.0             0.0   \n",
       "\n",
       "       fb:0_sb:1_tb:1  fb:1_sb:0_tb:0  fb:1_sb:0_tb:1  fb:1_sb:1_tb:0  \\\n",
       "0                 0.0             0.0             0.0             0.0   \n",
       "1                 0.0             0.0             0.0             0.0   \n",
       "2                 0.0             0.0             0.0             0.0   \n",
       "3                 0.0             0.0             0.0             0.0   \n",
       "4                 0.0             0.0             0.0             0.0   \n",
       "...               ...             ...             ...             ...   \n",
       "11376             0.0             0.0             0.0             0.0   \n",
       "11377             0.0             0.0             0.0             0.0   \n",
       "11378             0.0             1.0             0.0             0.0   \n",
       "11379             0.0             0.0             0.0             0.0   \n",
       "11380             0.0             1.0             0.0             0.0   \n",
       "\n",
       "       fb:1_sb:1_tb:1  \n",
       "0                 0.0  \n",
       "1                 0.0  \n",
       "2                 0.0  \n",
       "3                 0.0  \n",
       "4                 0.0  \n",
       "...               ...  \n",
       "11376             0.0  \n",
       "11377             0.0  \n",
       "11378             0.0  \n",
       "11379             0.0  \n",
       "11380             0.0  \n",
       "\n",
       "[11381 rows x 52 columns]"
      ]
     },
     "execution_count": 22,
     "metadata": {},
     "output_type": "execute_result"
    }
   ],
   "source": [
    "# X_train_trans = pd.DataFrame()\n",
    "X_train_trans = pd.concat([mm_df, ss_df, ohe_df], axis = 1)\n",
    "X_train_trans = X_train_trans.drop(columns = 'index')\n",
    "X_train_trans"
   ]
  },
  {
   "cell_type": "markdown",
   "metadata": {},
   "source": [
    "## Process y_train data"
   ]
  },
  {
   "cell_type": "code",
   "execution_count": 23,
   "metadata": {},
   "outputs": [],
   "source": [
    "y_train.value_counts()\n",
    "y_train = np.array(y_train).reshape(-1, 1)"
   ]
  },
  {
   "cell_type": "code",
   "execution_count": 24,
   "metadata": {},
   "outputs": [
    {
     "data": {
      "text/plain": [
       "array([0., 1., 2., 3., 4., 5.])"
      ]
     },
     "execution_count": 24,
     "metadata": {},
     "output_type": "execute_result"
    }
   ],
   "source": [
    "o = OrdinalEncoder()\n",
    "y_train_trans = o.fit_transform(y_train)\n",
    "np.unique(y_train_trans)"
   ]
  },
  {
   "cell_type": "markdown",
   "metadata": {},
   "source": [
    "## Process y_train_2c"
   ]
  },
  {
   "cell_type": "code",
   "execution_count": 25,
   "metadata": {},
   "outputs": [],
   "source": [
    "y_train_2c = np.array(y_train_2c).reshape(-1, 1)"
   ]
  },
  {
   "cell_type": "code",
   "execution_count": 26,
   "metadata": {},
   "outputs": [
    {
     "data": {
      "text/plain": [
       "array([0., 1., 2.])"
      ]
     },
     "execution_count": 26,
     "metadata": {},
     "output_type": "execute_result"
    }
   ],
   "source": [
    "o2 = OrdinalEncoder()\n",
    "y_train_2c = o2.fit_transform(y_train_2c)\n",
    "np.unique(y_train_2c)"
   ]
  },
  {
   "cell_type": "markdown",
   "metadata": {},
   "source": [
    "## Proces y_train_3c"
   ]
  },
  {
   "cell_type": "code",
   "execution_count": 27,
   "metadata": {},
   "outputs": [],
   "source": [
    "y_train_3c = np.array(y_train_3c).reshape(-1, 1)"
   ]
  },
  {
   "cell_type": "code",
   "execution_count": 28,
   "metadata": {},
   "outputs": [
    {
     "data": {
      "text/plain": [
       "array([0., 1., 2., 3.])"
      ]
     },
     "execution_count": 28,
     "metadata": {},
     "output_type": "execute_result"
    }
   ],
   "source": [
    "o2 = OrdinalEncoder()\n",
    "y_train_3c = o2.fit_transform(y_train_3c)\n",
    "np.unique(y_train_3c)"
   ]
  },
  {
   "cell_type": "markdown",
   "metadata": {},
   "source": [
    "## Export data"
   ]
  },
  {
   "cell_type": "code",
   "execution_count": 30,
   "metadata": {},
   "outputs": [],
   "source": [
    "pickle_out = open('../data/train_test_split/scherzer/transformed/X_train_2015_trans.pickle', 'wb')\n",
    "pickle.dump(X_train_trans, pickle_out)\n",
    "pickle_out.close()\n",
    "\n",
    "pickle_out = open('../data/train_test_split/scherzer/transformed/y_train_2015_trans.pickle', 'wb')\n",
    "pickle.dump(y_train_trans, pickle_out)\n",
    "pickle_out.close()\n",
    "\n",
    "pickle_out = open('../data/train_test_split/scherzer/transformed/y_train_2c_2015_trans.pickle', 'wb')\n",
    "pickle.dump(y_train_2c, pickle_out)\n",
    "pickle_out.close()\n",
    "\n",
    "pickle_out = open('../data/train_test_split/scherzer/transformed/y_train_3c_2015_trans.pickle', 'wb')\n",
    "pickle.dump(y_train_3c, pickle_out)\n",
    "pickle_out.close()"
   ]
  },
  {
   "cell_type": "code",
   "execution_count": null,
   "metadata": {},
   "outputs": [],
   "source": []
  }
 ],
 "metadata": {
  "kernelspec": {
   "display_name": "Python 3",
   "language": "python",
   "name": "python3"
  },
  "language_info": {
   "codemirror_mode": {
    "name": "ipython",
    "version": 3
   },
   "file_extension": ".py",
   "mimetype": "text/x-python",
   "name": "python",
   "nbconvert_exporter": "python",
   "pygments_lexer": "ipython3",
   "version": "3.7.7"
  }
 },
 "nbformat": 4,
 "nbformat_minor": 4
}
