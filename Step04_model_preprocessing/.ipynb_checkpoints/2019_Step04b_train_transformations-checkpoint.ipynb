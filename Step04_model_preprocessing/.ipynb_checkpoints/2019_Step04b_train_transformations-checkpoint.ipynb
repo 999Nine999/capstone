{
 "cells": [
  {
   "cell_type": "markdown",
   "metadata": {},
   "source": [
    "# Steb04b Transformations Version1: All Features"
   ]
  },
  {
   "cell_type": "markdown",
   "metadata": {},
   "source": [
    "## Import packages"
   ]
  },
  {
   "cell_type": "code",
   "execution_count": 10,
   "metadata": {},
   "outputs": [],
   "source": [
    "import pandas as pd\n",
    "import numpy as np\n",
    "import pickle\n",
    "from sklearn.preprocessing import OneHotEncoder, StandardScaler, MinMaxScaler, OrdinalEncoder\n",
    "from sklearn.impute import SimpleImputer"
   ]
  },
  {
   "cell_type": "code",
   "execution_count": 12,
   "metadata": {},
   "outputs": [],
   "source": [
    "filepath = '../data/train_test_split/scherzer/raw/'\n",
    "\n",
    "infile1 = open(filepath + 'X_train_2019.pickle','rb')\n",
    "X_train = pickle.load(infile1)\n",
    "infile1.close()\n",
    "\n",
    "infile2 = open(filepath + 'y_train_2019_all_types.pickle','rb')\n",
    "y_train = pickle.load(infile2)\n",
    "infile2.close()\n",
    "\n",
    "infile2 = open(filepath + 'y_train_2019_2_cases.pickle','rb')\n",
    "y_train_2c = pickle.load(infile2)\n",
    "infile2.close()\n",
    "\n",
    "infile2 = open(filepath + 'y_train_2019_3_cases.pickle','rb')\n",
    "y_train_3c = pickle.load(infile2)\n",
    "infile2.close()"
   ]
  },
  {
   "cell_type": "code",
   "execution_count": 13,
   "metadata": {},
   "outputs": [
    {
     "data": {
      "text/plain": [
       "Index(['pitch_number', 'stand', 'outs_when_up', 'inning', 'opp_score',\n",
       "       'nats_score', 'if_fielding_alignment', 'of_fielding_alignment',\n",
       "       'nats_home1_away0', 'balls_strikes', 'all_runners', 'pitch_season',\n",
       "       'pitch_game', 'pitch_bat_gm', 'total_pitches', 'abs', 'whiffs',\n",
       "       'swings', 'takes', 'k', 'walk', 'single', 'double', 'triple', 'hr',\n",
       "       'line_drive', 'ground_ball', 'fly_ball', 'popup', 'rbi', 'sac', 'ba',\n",
       "       'slg', 'iso', 'babip'],\n",
       "      dtype='object')"
      ]
     },
     "execution_count": 13,
     "metadata": {},
     "output_type": "execute_result"
    }
   ],
   "source": [
    "X_train.columns"
   ]
  },
  {
   "cell_type": "code",
   "execution_count": 14,
   "metadata": {},
   "outputs": [
    {
     "data": {
      "text/html": [
       "<div>\n",
       "<style scoped>\n",
       "    .dataframe tbody tr th:only-of-type {\n",
       "        vertical-align: middle;\n",
       "    }\n",
       "\n",
       "    .dataframe tbody tr th {\n",
       "        vertical-align: top;\n",
       "    }\n",
       "\n",
       "    .dataframe thead th {\n",
       "        text-align: right;\n",
       "    }\n",
       "</style>\n",
       "<table border=\"1\" class=\"dataframe\">\n",
       "  <thead>\n",
       "    <tr style=\"text-align: right;\">\n",
       "      <th></th>\n",
       "      <th>pitch_number</th>\n",
       "      <th>stand</th>\n",
       "      <th>outs_when_up</th>\n",
       "      <th>inning</th>\n",
       "      <th>opp_score</th>\n",
       "      <th>nats_score</th>\n",
       "      <th>if_fielding_alignment</th>\n",
       "      <th>of_fielding_alignment</th>\n",
       "      <th>nats_home1_away0</th>\n",
       "      <th>balls_strikes</th>\n",
       "      <th>...</th>\n",
       "      <th>line_drive</th>\n",
       "      <th>ground_ball</th>\n",
       "      <th>fly_ball</th>\n",
       "      <th>popup</th>\n",
       "      <th>rbi</th>\n",
       "      <th>sac</th>\n",
       "      <th>ba</th>\n",
       "      <th>slg</th>\n",
       "      <th>iso</th>\n",
       "      <th>babip</th>\n",
       "    </tr>\n",
       "  </thead>\n",
       "  <tbody>\n",
       "    <tr>\n",
       "      <th>576</th>\n",
       "      <td>1</td>\n",
       "      <td>R</td>\n",
       "      <td>0</td>\n",
       "      <td>6</td>\n",
       "      <td>1</td>\n",
       "      <td>2</td>\n",
       "      <td>Standard</td>\n",
       "      <td>Standard</td>\n",
       "      <td>1</td>\n",
       "      <td>0_1</td>\n",
       "      <td>...</td>\n",
       "      <td>15</td>\n",
       "      <td>13</td>\n",
       "      <td>20</td>\n",
       "      <td>6</td>\n",
       "      <td>5</td>\n",
       "      <td>0</td>\n",
       "      <td>0.268657</td>\n",
       "      <td>0.432836</td>\n",
       "      <td>0.164179</td>\n",
       "      <td>0.307692</td>\n",
       "    </tr>\n",
       "    <tr>\n",
       "      <th>579</th>\n",
       "      <td>1</td>\n",
       "      <td>R</td>\n",
       "      <td>1</td>\n",
       "      <td>6</td>\n",
       "      <td>1</td>\n",
       "      <td>2</td>\n",
       "      <td>Standard</td>\n",
       "      <td>Strategic</td>\n",
       "      <td>1</td>\n",
       "      <td>0_1</td>\n",
       "      <td>...</td>\n",
       "      <td>1</td>\n",
       "      <td>1</td>\n",
       "      <td>0</td>\n",
       "      <td>0</td>\n",
       "      <td>0</td>\n",
       "      <td>0</td>\n",
       "      <td>0.333333</td>\n",
       "      <td>0.500000</td>\n",
       "      <td>0.166667</td>\n",
       "      <td>1.000000</td>\n",
       "    </tr>\n",
       "    <tr>\n",
       "      <th>2046</th>\n",
       "      <td>2</td>\n",
       "      <td>L</td>\n",
       "      <td>1</td>\n",
       "      <td>2</td>\n",
       "      <td>0</td>\n",
       "      <td>0</td>\n",
       "      <td>Standard</td>\n",
       "      <td>Standard</td>\n",
       "      <td>1</td>\n",
       "      <td>0_2</td>\n",
       "      <td>...</td>\n",
       "      <td>58</td>\n",
       "      <td>103</td>\n",
       "      <td>45</td>\n",
       "      <td>5</td>\n",
       "      <td>23</td>\n",
       "      <td>0</td>\n",
       "      <td>0.274021</td>\n",
       "      <td>0.451957</td>\n",
       "      <td>0.177936</td>\n",
       "      <td>0.343137</td>\n",
       "    </tr>\n",
       "    <tr>\n",
       "      <th>1110</th>\n",
       "      <td>0</td>\n",
       "      <td>R</td>\n",
       "      <td>0</td>\n",
       "      <td>4</td>\n",
       "      <td>0</td>\n",
       "      <td>1</td>\n",
       "      <td>Standard</td>\n",
       "      <td>Standard</td>\n",
       "      <td>0</td>\n",
       "      <td>0_0</td>\n",
       "      <td>...</td>\n",
       "      <td>25</td>\n",
       "      <td>48</td>\n",
       "      <td>37</td>\n",
       "      <td>8</td>\n",
       "      <td>20</td>\n",
       "      <td>1</td>\n",
       "      <td>0.260355</td>\n",
       "      <td>0.603550</td>\n",
       "      <td>0.343195</td>\n",
       "      <td>0.274510</td>\n",
       "    </tr>\n",
       "    <tr>\n",
       "      <th>500</th>\n",
       "      <td>0</td>\n",
       "      <td>R</td>\n",
       "      <td>1</td>\n",
       "      <td>6</td>\n",
       "      <td>4</td>\n",
       "      <td>3</td>\n",
       "      <td>Standard</td>\n",
       "      <td>Standard</td>\n",
       "      <td>0</td>\n",
       "      <td>0_0</td>\n",
       "      <td>...</td>\n",
       "      <td>14</td>\n",
       "      <td>24</td>\n",
       "      <td>10</td>\n",
       "      <td>3</td>\n",
       "      <td>6</td>\n",
       "      <td>1</td>\n",
       "      <td>0.301887</td>\n",
       "      <td>0.396226</td>\n",
       "      <td>0.094340</td>\n",
       "      <td>0.313725</td>\n",
       "    </tr>\n",
       "    <tr>\n",
       "      <th>...</th>\n",
       "      <td>...</td>\n",
       "      <td>...</td>\n",
       "      <td>...</td>\n",
       "      <td>...</td>\n",
       "      <td>...</td>\n",
       "      <td>...</td>\n",
       "      <td>...</td>\n",
       "      <td>...</td>\n",
       "      <td>...</td>\n",
       "      <td>...</td>\n",
       "      <td>...</td>\n",
       "      <td>...</td>\n",
       "      <td>...</td>\n",
       "      <td>...</td>\n",
       "      <td>...</td>\n",
       "      <td>...</td>\n",
       "      <td>...</td>\n",
       "      <td>...</td>\n",
       "      <td>...</td>\n",
       "      <td>...</td>\n",
       "      <td>...</td>\n",
       "    </tr>\n",
       "    <tr>\n",
       "      <th>1112</th>\n",
       "      <td>2</td>\n",
       "      <td>R</td>\n",
       "      <td>0</td>\n",
       "      <td>4</td>\n",
       "      <td>0</td>\n",
       "      <td>1</td>\n",
       "      <td>Standard</td>\n",
       "      <td>Standard</td>\n",
       "      <td>0</td>\n",
       "      <td>2_0</td>\n",
       "      <td>...</td>\n",
       "      <td>25</td>\n",
       "      <td>48</td>\n",
       "      <td>37</td>\n",
       "      <td>8</td>\n",
       "      <td>20</td>\n",
       "      <td>1</td>\n",
       "      <td>0.260355</td>\n",
       "      <td>0.603550</td>\n",
       "      <td>0.343195</td>\n",
       "      <td>0.274510</td>\n",
       "    </tr>\n",
       "    <tr>\n",
       "      <th>2397</th>\n",
       "      <td>5</td>\n",
       "      <td>R</td>\n",
       "      <td>1</td>\n",
       "      <td>2</td>\n",
       "      <td>1</td>\n",
       "      <td>3</td>\n",
       "      <td>Standard</td>\n",
       "      <td>Standard</td>\n",
       "      <td>0</td>\n",
       "      <td>2_2</td>\n",
       "      <td>...</td>\n",
       "      <td>92</td>\n",
       "      <td>122</td>\n",
       "      <td>92</td>\n",
       "      <td>17</td>\n",
       "      <td>46</td>\n",
       "      <td>6</td>\n",
       "      <td>0.254197</td>\n",
       "      <td>0.443645</td>\n",
       "      <td>0.189448</td>\n",
       "      <td>0.290850</td>\n",
       "    </tr>\n",
       "    <tr>\n",
       "      <th>30</th>\n",
       "      <td>0</td>\n",
       "      <td>L</td>\n",
       "      <td>1</td>\n",
       "      <td>3</td>\n",
       "      <td>1</td>\n",
       "      <td>0</td>\n",
       "      <td>Standard</td>\n",
       "      <td>Standard</td>\n",
       "      <td>1</td>\n",
       "      <td>0_0</td>\n",
       "      <td>...</td>\n",
       "      <td>0</td>\n",
       "      <td>0</td>\n",
       "      <td>0</td>\n",
       "      <td>0</td>\n",
       "      <td>0</td>\n",
       "      <td>0</td>\n",
       "      <td>0.000000</td>\n",
       "      <td>0.000000</td>\n",
       "      <td>0.000000</td>\n",
       "      <td>0.000000</td>\n",
       "    </tr>\n",
       "    <tr>\n",
       "      <th>2602</th>\n",
       "      <td>1</td>\n",
       "      <td>L</td>\n",
       "      <td>2</td>\n",
       "      <td>3</td>\n",
       "      <td>1</td>\n",
       "      <td>0</td>\n",
       "      <td>Infield shift</td>\n",
       "      <td>Standard</td>\n",
       "      <td>0</td>\n",
       "      <td>0_1</td>\n",
       "      <td>...</td>\n",
       "      <td>96</td>\n",
       "      <td>128</td>\n",
       "      <td>85</td>\n",
       "      <td>20</td>\n",
       "      <td>47</td>\n",
       "      <td>4</td>\n",
       "      <td>0.247748</td>\n",
       "      <td>0.421171</td>\n",
       "      <td>0.173423</td>\n",
       "      <td>0.298077</td>\n",
       "    </tr>\n",
       "    <tr>\n",
       "      <th>427</th>\n",
       "      <td>0</td>\n",
       "      <td>R</td>\n",
       "      <td>0</td>\n",
       "      <td>2</td>\n",
       "      <td>2</td>\n",
       "      <td>0</td>\n",
       "      <td>Standard</td>\n",
       "      <td>Standard</td>\n",
       "      <td>0</td>\n",
       "      <td>0_0</td>\n",
       "      <td>...</td>\n",
       "      <td>4</td>\n",
       "      <td>5</td>\n",
       "      <td>1</td>\n",
       "      <td>1</td>\n",
       "      <td>1</td>\n",
       "      <td>0</td>\n",
       "      <td>0.250000</td>\n",
       "      <td>0.250000</td>\n",
       "      <td>0.000000</td>\n",
       "      <td>0.272727</td>\n",
       "    </tr>\n",
       "  </tbody>\n",
       "</table>\n",
       "<p>1939 rows × 35 columns</p>\n",
       "</div>"
      ],
      "text/plain": [
       "      pitch_number stand  outs_when_up  inning  opp_score  nats_score  \\\n",
       "576              1     R             0       6          1           2   \n",
       "579              1     R             1       6          1           2   \n",
       "2046             2     L             1       2          0           0   \n",
       "1110             0     R             0       4          0           1   \n",
       "500              0     R             1       6          4           3   \n",
       "...            ...   ...           ...     ...        ...         ...   \n",
       "1112             2     R             0       4          0           1   \n",
       "2397             5     R             1       2          1           3   \n",
       "30               0     L             1       3          1           0   \n",
       "2602             1     L             2       3          1           0   \n",
       "427              0     R             0       2          2           0   \n",
       "\n",
       "     if_fielding_alignment of_fielding_alignment  nats_home1_away0  \\\n",
       "576               Standard              Standard                 1   \n",
       "579               Standard             Strategic                 1   \n",
       "2046              Standard              Standard                 1   \n",
       "1110              Standard              Standard                 0   \n",
       "500               Standard              Standard                 0   \n",
       "...                    ...                   ...               ...   \n",
       "1112              Standard              Standard                 0   \n",
       "2397              Standard              Standard                 0   \n",
       "30                Standard              Standard                 1   \n",
       "2602         Infield shift              Standard                 0   \n",
       "427               Standard              Standard                 0   \n",
       "\n",
       "     balls_strikes  ... line_drive  ground_ball  fly_ball  popup  rbi  sac  \\\n",
       "576            0_1  ...         15           13        20      6    5    0   \n",
       "579            0_1  ...          1            1         0      0    0    0   \n",
       "2046           0_2  ...         58          103        45      5   23    0   \n",
       "1110           0_0  ...         25           48        37      8   20    1   \n",
       "500            0_0  ...         14           24        10      3    6    1   \n",
       "...            ...  ...        ...          ...       ...    ...  ...  ...   \n",
       "1112           2_0  ...         25           48        37      8   20    1   \n",
       "2397           2_2  ...         92          122        92     17   46    6   \n",
       "30             0_0  ...          0            0         0      0    0    0   \n",
       "2602           0_1  ...         96          128        85     20   47    4   \n",
       "427            0_0  ...          4            5         1      1    1    0   \n",
       "\n",
       "            ba       slg       iso     babip  \n",
       "576   0.268657  0.432836  0.164179  0.307692  \n",
       "579   0.333333  0.500000  0.166667  1.000000  \n",
       "2046  0.274021  0.451957  0.177936  0.343137  \n",
       "1110  0.260355  0.603550  0.343195  0.274510  \n",
       "500   0.301887  0.396226  0.094340  0.313725  \n",
       "...        ...       ...       ...       ...  \n",
       "1112  0.260355  0.603550  0.343195  0.274510  \n",
       "2397  0.254197  0.443645  0.189448  0.290850  \n",
       "30    0.000000  0.000000  0.000000  0.000000  \n",
       "2602  0.247748  0.421171  0.173423  0.298077  \n",
       "427   0.250000  0.250000  0.000000  0.272727  \n",
       "\n",
       "[1939 rows x 35 columns]"
      ]
     },
     "execution_count": 14,
     "metadata": {},
     "output_type": "execute_result"
    }
   ],
   "source": [
    "X_train"
   ]
  },
  {
   "cell_type": "markdown",
   "metadata": {},
   "source": [
    "## Define Categorical Variables"
   ]
  },
  {
   "cell_type": "code",
   "execution_count": 15,
   "metadata": {},
   "outputs": [],
   "source": [
    "cats = ['stand', 'if_fielding_alignment', 'of_fielding_alignment', 'balls_strikes', 'all_runners']"
   ]
  },
  {
   "cell_type": "markdown",
   "metadata": {},
   "source": [
    "## Define Features that are already standardized"
   ]
  },
  {
   "cell_type": "code",
   "execution_count": 16,
   "metadata": {},
   "outputs": [],
   "source": [
    "formatted = ['nats_home1_away0', 'ba', 'slg', 'iso', 'babip']"
   ]
  },
  {
   "cell_type": "markdown",
   "metadata": {},
   "source": [
    "## Define MinMax Numeric Variables"
   ]
  },
  {
   "cell_type": "code",
   "execution_count": 17,
   "metadata": {},
   "outputs": [],
   "source": [
    "minmax = ['outs_when_up', 'inning']"
   ]
  },
  {
   "cell_type": "markdown",
   "metadata": {},
   "source": [
    "## Define StandardScaler Numeric Variables"
   ]
  },
  {
   "cell_type": "code",
   "execution_count": 18,
   "metadata": {},
   "outputs": [],
   "source": [
    "standard = []\n",
    "non_nums = cats + standard + minmax\n",
    "\n",
    "for c in X_train.columns:\n",
    "    if c not in non_nums:\n",
    "        standard.append(c)"
   ]
  },
  {
   "cell_type": "markdown",
   "metadata": {},
   "source": [
    "## Fit OHE"
   ]
  },
  {
   "cell_type": "code",
   "execution_count": 19,
   "metadata": {},
   "outputs": [],
   "source": [
    "ohe = OneHotEncoder(drop='first', handle_unknown='error', sparse=False)"
   ]
  },
  {
   "cell_type": "code",
   "execution_count": 20,
   "metadata": {},
   "outputs": [],
   "source": [
    "X_ohe_ar = ohe.fit_transform(X_train[cats])"
   ]
  },
  {
   "cell_type": "code",
   "execution_count": 21,
   "metadata": {},
   "outputs": [],
   "source": [
    "ohe_cols = ['stand_r1', 'if_standard', 'if_strategic', 'of_strategic', \n",
    "        '0_1', '0_2', '1_0', '1_1', '1_2', '2_0', '2_1', '2_2', '3_0', '3_1', '3_2',\n",
    "        'fb:0_sb:0_tb:1', 'fb:0_sb:1_tb:0', 'fb:0_sb:1_tb:1', 'fb:1_sb:0_tb:0', \n",
    "        'fb:1_sb:0_tb:1', 'fb:1_sb:1_tb:0', 'fb:1_sb:1_tb:1']"
   ]
  },
  {
   "cell_type": "code",
   "execution_count": 22,
   "metadata": {},
   "outputs": [],
   "source": [
    "ohe_df = pd.DataFrame(data = X_ohe_ar, columns = ohe_cols).reset_index()"
   ]
  },
  {
   "cell_type": "markdown",
   "metadata": {},
   "source": [
    "## Fit StandardScaler"
   ]
  },
  {
   "cell_type": "code",
   "execution_count": 23,
   "metadata": {},
   "outputs": [],
   "source": [
    "ss = StandardScaler()"
   ]
  },
  {
   "cell_type": "code",
   "execution_count": 24,
   "metadata": {},
   "outputs": [],
   "source": [
    "X_ss = ss.fit_transform(X_train[standard])"
   ]
  },
  {
   "cell_type": "code",
   "execution_count": 25,
   "metadata": {},
   "outputs": [],
   "source": [
    "ss_df = pd.DataFrame(columns = standard, data = X_ss).reset_index()"
   ]
  },
  {
   "cell_type": "markdown",
   "metadata": {},
   "source": [
    "## Fit MinMax Scaler"
   ]
  },
  {
   "cell_type": "code",
   "execution_count": 26,
   "metadata": {},
   "outputs": [],
   "source": [
    "mm = MinMaxScaler()"
   ]
  },
  {
   "cell_type": "code",
   "execution_count": 27,
   "metadata": {},
   "outputs": [],
   "source": [
    "X_mm = mm.fit_transform(X_train[minmax])"
   ]
  },
  {
   "cell_type": "code",
   "execution_count": 28,
   "metadata": {},
   "outputs": [],
   "source": [
    "mm_df = pd.DataFrame(columns = minmax, data = X_mm).reset_index()"
   ]
  },
  {
   "cell_type": "markdown",
   "metadata": {},
   "source": [
    "## Create DF for features that are already standardized"
   ]
  },
  {
   "cell_type": "code",
   "execution_count": 29,
   "metadata": {},
   "outputs": [],
   "source": [
    "formatted_df = X_train[formatted].reset_index()"
   ]
  },
  {
   "cell_type": "markdown",
   "metadata": {},
   "source": [
    "## Combine Processed X_train"
   ]
  },
  {
   "cell_type": "code",
   "execution_count": 30,
   "metadata": {},
   "outputs": [
    {
     "data": {
      "text/plain": [
       "((1939, 23), (1939, 29), (1939, 3), (1939, 5))"
      ]
     },
     "execution_count": 30,
     "metadata": {},
     "output_type": "execute_result"
    }
   ],
   "source": [
    "ohe_df.shape, ss_df.shape, mm_df.shape, X_train[formatted].shape"
   ]
  },
  {
   "cell_type": "code",
   "execution_count": 31,
   "metadata": {},
   "outputs": [
    {
     "data": {
      "text/plain": [
       "60"
      ]
     },
     "execution_count": 31,
     "metadata": {},
     "output_type": "execute_result"
    }
   ],
   "source": [
    "ohe_df.shape[1] + ss_df.shape[1] + mm_df.shape[1] + X_train[formatted].shape[1]"
   ]
  },
  {
   "cell_type": "code",
   "execution_count": 32,
   "metadata": {},
   "outputs": [
    {
     "data": {
      "text/html": [
       "<div>\n",
       "<style scoped>\n",
       "    .dataframe tbody tr th:only-of-type {\n",
       "        vertical-align: middle;\n",
       "    }\n",
       "\n",
       "    .dataframe tbody tr th {\n",
       "        vertical-align: top;\n",
       "    }\n",
       "\n",
       "    .dataframe thead th {\n",
       "        text-align: right;\n",
       "    }\n",
       "</style>\n",
       "<table border=\"1\" class=\"dataframe\">\n",
       "  <thead>\n",
       "    <tr style=\"text-align: right;\">\n",
       "      <th></th>\n",
       "      <th>outs_when_up</th>\n",
       "      <th>inning</th>\n",
       "      <th>pitch_number</th>\n",
       "      <th>opp_score</th>\n",
       "      <th>nats_score</th>\n",
       "      <th>nats_home1_away0</th>\n",
       "      <th>pitch_season</th>\n",
       "      <th>pitch_game</th>\n",
       "      <th>pitch_bat_gm</th>\n",
       "      <th>total_pitches</th>\n",
       "      <th>...</th>\n",
       "      <th>3_0</th>\n",
       "      <th>3_1</th>\n",
       "      <th>3_2</th>\n",
       "      <th>fb:0_sb:0_tb:1</th>\n",
       "      <th>fb:0_sb:1_tb:0</th>\n",
       "      <th>fb:0_sb:1_tb:1</th>\n",
       "      <th>fb:1_sb:0_tb:0</th>\n",
       "      <th>fb:1_sb:0_tb:1</th>\n",
       "      <th>fb:1_sb:1_tb:0</th>\n",
       "      <th>fb:1_sb:1_tb:1</th>\n",
       "    </tr>\n",
       "  </thead>\n",
       "  <tbody>\n",
       "    <tr>\n",
       "      <th>0</th>\n",
       "      <td>0.0</td>\n",
       "      <td>0.714286</td>\n",
       "      <td>-0.508410</td>\n",
       "      <td>-0.011533</td>\n",
       "      <td>0.274116</td>\n",
       "      <td>0.889043</td>\n",
       "      <td>-1.019828</td>\n",
       "      <td>0.456515</td>\n",
       "      <td>0.125348</td>\n",
       "      <td>-0.735428</td>\n",
       "      <td>...</td>\n",
       "      <td>0.0</td>\n",
       "      <td>0.0</td>\n",
       "      <td>0.0</td>\n",
       "      <td>0.0</td>\n",
       "      <td>0.0</td>\n",
       "      <td>0.0</td>\n",
       "      <td>0.0</td>\n",
       "      <td>0.0</td>\n",
       "      <td>0.0</td>\n",
       "      <td>0.0</td>\n",
       "    </tr>\n",
       "    <tr>\n",
       "      <th>1</th>\n",
       "      <td>0.5</td>\n",
       "      <td>0.714286</td>\n",
       "      <td>-0.508410</td>\n",
       "      <td>-0.011533</td>\n",
       "      <td>0.274116</td>\n",
       "      <td>0.889043</td>\n",
       "      <td>-1.016073</td>\n",
       "      <td>0.554614</td>\n",
       "      <td>-0.115057</td>\n",
       "      <td>-1.056135</td>\n",
       "      <td>...</td>\n",
       "      <td>0.0</td>\n",
       "      <td>0.0</td>\n",
       "      <td>0.0</td>\n",
       "      <td>0.0</td>\n",
       "      <td>0.0</td>\n",
       "      <td>0.0</td>\n",
       "      <td>0.0</td>\n",
       "      <td>0.0</td>\n",
       "      <td>0.0</td>\n",
       "      <td>0.0</td>\n",
       "    </tr>\n",
       "    <tr>\n",
       "      <th>2</th>\n",
       "      <td>0.5</td>\n",
       "      <td>0.142857</td>\n",
       "      <td>0.069437</td>\n",
       "      <td>-0.839770</td>\n",
       "      <td>-0.816163</td>\n",
       "      <td>0.889043</td>\n",
       "      <td>0.820007</td>\n",
       "      <td>-1.047674</td>\n",
       "      <td>-0.836272</td>\n",
       "      <td>0.503862</td>\n",
       "      <td>...</td>\n",
       "      <td>0.0</td>\n",
       "      <td>0.0</td>\n",
       "      <td>0.0</td>\n",
       "      <td>0.0</td>\n",
       "      <td>0.0</td>\n",
       "      <td>0.0</td>\n",
       "      <td>0.0</td>\n",
       "      <td>0.0</td>\n",
       "      <td>0.0</td>\n",
       "      <td>0.0</td>\n",
       "    </tr>\n",
       "    <tr>\n",
       "      <th>3</th>\n",
       "      <td>0.0</td>\n",
       "      <td>0.428571</td>\n",
       "      <td>-1.086257</td>\n",
       "      <td>-0.839770</td>\n",
       "      <td>-0.271023</td>\n",
       "      <td>-1.124805</td>\n",
       "      <td>-0.351480</td>\n",
       "      <td>-0.066681</td>\n",
       "      <td>-0.115057</td>\n",
       "      <td>0.069966</td>\n",
       "      <td>...</td>\n",
       "      <td>0.0</td>\n",
       "      <td>0.0</td>\n",
       "      <td>0.0</td>\n",
       "      <td>0.0</td>\n",
       "      <td>0.0</td>\n",
       "      <td>0.0</td>\n",
       "      <td>0.0</td>\n",
       "      <td>0.0</td>\n",
       "      <td>0.0</td>\n",
       "      <td>0.0</td>\n",
       "    </tr>\n",
       "    <tr>\n",
       "      <th>4</th>\n",
       "      <td>0.5</td>\n",
       "      <td>0.714286</td>\n",
       "      <td>-1.086257</td>\n",
       "      <td>2.473179</td>\n",
       "      <td>0.819255</td>\n",
       "      <td>-1.124805</td>\n",
       "      <td>-1.114949</td>\n",
       "      <td>1.502907</td>\n",
       "      <td>0.365753</td>\n",
       "      <td>-0.816693</td>\n",
       "      <td>...</td>\n",
       "      <td>0.0</td>\n",
       "      <td>0.0</td>\n",
       "      <td>0.0</td>\n",
       "      <td>0.0</td>\n",
       "      <td>0.0</td>\n",
       "      <td>0.0</td>\n",
       "      <td>0.0</td>\n",
       "      <td>0.0</td>\n",
       "      <td>0.0</td>\n",
       "      <td>0.0</td>\n",
       "    </tr>\n",
       "    <tr>\n",
       "      <th>...</th>\n",
       "      <td>...</td>\n",
       "      <td>...</td>\n",
       "      <td>...</td>\n",
       "      <td>...</td>\n",
       "      <td>...</td>\n",
       "      <td>...</td>\n",
       "      <td>...</td>\n",
       "      <td>...</td>\n",
       "      <td>...</td>\n",
       "      <td>...</td>\n",
       "      <td>...</td>\n",
       "      <td>...</td>\n",
       "      <td>...</td>\n",
       "      <td>...</td>\n",
       "      <td>...</td>\n",
       "      <td>...</td>\n",
       "      <td>...</td>\n",
       "      <td>...</td>\n",
       "      <td>...</td>\n",
       "      <td>...</td>\n",
       "      <td>...</td>\n",
       "    </tr>\n",
       "    <tr>\n",
       "      <th>1934</th>\n",
       "      <td>0.0</td>\n",
       "      <td>0.428571</td>\n",
       "      <td>0.069437</td>\n",
       "      <td>-0.839770</td>\n",
       "      <td>-0.271023</td>\n",
       "      <td>-1.124805</td>\n",
       "      <td>-0.348977</td>\n",
       "      <td>-0.001282</td>\n",
       "      <td>0.365753</td>\n",
       "      <td>0.069966</td>\n",
       "      <td>...</td>\n",
       "      <td>0.0</td>\n",
       "      <td>0.0</td>\n",
       "      <td>0.0</td>\n",
       "      <td>0.0</td>\n",
       "      <td>0.0</td>\n",
       "      <td>0.0</td>\n",
       "      <td>0.0</td>\n",
       "      <td>0.0</td>\n",
       "      <td>0.0</td>\n",
       "      <td>0.0</td>\n",
       "    </tr>\n",
       "    <tr>\n",
       "      <th>1935</th>\n",
       "      <td>0.5</td>\n",
       "      <td>0.142857</td>\n",
       "      <td>1.802978</td>\n",
       "      <td>-0.011533</td>\n",
       "      <td>0.819255</td>\n",
       "      <td>-1.124805</td>\n",
       "      <td>1.259314</td>\n",
       "      <td>-0.557178</td>\n",
       "      <td>-0.115057</td>\n",
       "      <td>1.656083</td>\n",
       "      <td>...</td>\n",
       "      <td>0.0</td>\n",
       "      <td>0.0</td>\n",
       "      <td>0.0</td>\n",
       "      <td>0.0</td>\n",
       "      <td>0.0</td>\n",
       "      <td>0.0</td>\n",
       "      <td>0.0</td>\n",
       "      <td>0.0</td>\n",
       "      <td>0.0</td>\n",
       "      <td>0.0</td>\n",
       "    </tr>\n",
       "    <tr>\n",
       "      <th>1936</th>\n",
       "      <td>0.5</td>\n",
       "      <td>0.285714</td>\n",
       "      <td>-1.086257</td>\n",
       "      <td>-0.011533</td>\n",
       "      <td>-0.816163</td>\n",
       "      <td>0.889043</td>\n",
       "      <td>-1.703195</td>\n",
       "      <td>-0.687977</td>\n",
       "      <td>-1.317082</td>\n",
       "      <td>-1.092414</td>\n",
       "      <td>...</td>\n",
       "      <td>0.0</td>\n",
       "      <td>0.0</td>\n",
       "      <td>0.0</td>\n",
       "      <td>0.0</td>\n",
       "      <td>0.0</td>\n",
       "      <td>0.0</td>\n",
       "      <td>0.0</td>\n",
       "      <td>0.0</td>\n",
       "      <td>0.0</td>\n",
       "      <td>0.0</td>\n",
       "    </tr>\n",
       "    <tr>\n",
       "      <th>1937</th>\n",
       "      <td>1.0</td>\n",
       "      <td>0.285714</td>\n",
       "      <td>-0.508410</td>\n",
       "      <td>-0.011533</td>\n",
       "      <td>-0.816163</td>\n",
       "      <td>-1.124805</td>\n",
       "      <td>1.515890</td>\n",
       "      <td>-0.295580</td>\n",
       "      <td>0.125348</td>\n",
       "      <td>2.069664</td>\n",
       "      <td>...</td>\n",
       "      <td>0.0</td>\n",
       "      <td>0.0</td>\n",
       "      <td>0.0</td>\n",
       "      <td>0.0</td>\n",
       "      <td>0.0</td>\n",
       "      <td>0.0</td>\n",
       "      <td>0.0</td>\n",
       "      <td>0.0</td>\n",
       "      <td>0.0</td>\n",
       "      <td>0.0</td>\n",
       "    </tr>\n",
       "    <tr>\n",
       "      <th>1938</th>\n",
       "      <td>0.0</td>\n",
       "      <td>0.142857</td>\n",
       "      <td>-1.086257</td>\n",
       "      <td>0.816705</td>\n",
       "      <td>-0.816163</td>\n",
       "      <td>-1.124805</td>\n",
       "      <td>-1.206315</td>\n",
       "      <td>-0.884175</td>\n",
       "      <td>-1.317082</td>\n",
       "      <td>-1.035818</td>\n",
       "      <td>...</td>\n",
       "      <td>0.0</td>\n",
       "      <td>0.0</td>\n",
       "      <td>0.0</td>\n",
       "      <td>0.0</td>\n",
       "      <td>0.0</td>\n",
       "      <td>0.0</td>\n",
       "      <td>1.0</td>\n",
       "      <td>0.0</td>\n",
       "      <td>0.0</td>\n",
       "      <td>0.0</td>\n",
       "    </tr>\n",
       "  </tbody>\n",
       "</table>\n",
       "<p>1939 rows × 52 columns</p>\n",
       "</div>"
      ],
      "text/plain": [
       "      outs_when_up    inning  pitch_number  opp_score  nats_score  \\\n",
       "0              0.0  0.714286     -0.508410  -0.011533    0.274116   \n",
       "1              0.5  0.714286     -0.508410  -0.011533    0.274116   \n",
       "2              0.5  0.142857      0.069437  -0.839770   -0.816163   \n",
       "3              0.0  0.428571     -1.086257  -0.839770   -0.271023   \n",
       "4              0.5  0.714286     -1.086257   2.473179    0.819255   \n",
       "...            ...       ...           ...        ...         ...   \n",
       "1934           0.0  0.428571      0.069437  -0.839770   -0.271023   \n",
       "1935           0.5  0.142857      1.802978  -0.011533    0.819255   \n",
       "1936           0.5  0.285714     -1.086257  -0.011533   -0.816163   \n",
       "1937           1.0  0.285714     -0.508410  -0.011533   -0.816163   \n",
       "1938           0.0  0.142857     -1.086257   0.816705   -0.816163   \n",
       "\n",
       "      nats_home1_away0  pitch_season  pitch_game  pitch_bat_gm  total_pitches  \\\n",
       "0             0.889043     -1.019828    0.456515      0.125348      -0.735428   \n",
       "1             0.889043     -1.016073    0.554614     -0.115057      -1.056135   \n",
       "2             0.889043      0.820007   -1.047674     -0.836272       0.503862   \n",
       "3            -1.124805     -0.351480   -0.066681     -0.115057       0.069966   \n",
       "4            -1.124805     -1.114949    1.502907      0.365753      -0.816693   \n",
       "...                ...           ...         ...           ...            ...   \n",
       "1934         -1.124805     -0.348977   -0.001282      0.365753       0.069966   \n",
       "1935         -1.124805      1.259314   -0.557178     -0.115057       1.656083   \n",
       "1936          0.889043     -1.703195   -0.687977     -1.317082      -1.092414   \n",
       "1937         -1.124805      1.515890   -0.295580      0.125348       2.069664   \n",
       "1938         -1.124805     -1.206315   -0.884175     -1.317082      -1.035818   \n",
       "\n",
       "      ...  3_0  3_1  3_2  fb:0_sb:0_tb:1  fb:0_sb:1_tb:0  fb:0_sb:1_tb:1  \\\n",
       "0     ...  0.0  0.0  0.0             0.0             0.0             0.0   \n",
       "1     ...  0.0  0.0  0.0             0.0             0.0             0.0   \n",
       "2     ...  0.0  0.0  0.0             0.0             0.0             0.0   \n",
       "3     ...  0.0  0.0  0.0             0.0             0.0             0.0   \n",
       "4     ...  0.0  0.0  0.0             0.0             0.0             0.0   \n",
       "...   ...  ...  ...  ...             ...             ...             ...   \n",
       "1934  ...  0.0  0.0  0.0             0.0             0.0             0.0   \n",
       "1935  ...  0.0  0.0  0.0             0.0             0.0             0.0   \n",
       "1936  ...  0.0  0.0  0.0             0.0             0.0             0.0   \n",
       "1937  ...  0.0  0.0  0.0             0.0             0.0             0.0   \n",
       "1938  ...  0.0  0.0  0.0             0.0             0.0             0.0   \n",
       "\n",
       "      fb:1_sb:0_tb:0  fb:1_sb:0_tb:1  fb:1_sb:1_tb:0  fb:1_sb:1_tb:1  \n",
       "0                0.0             0.0             0.0             0.0  \n",
       "1                0.0             0.0             0.0             0.0  \n",
       "2                0.0             0.0             0.0             0.0  \n",
       "3                0.0             0.0             0.0             0.0  \n",
       "4                0.0             0.0             0.0             0.0  \n",
       "...              ...             ...             ...             ...  \n",
       "1934             0.0             0.0             0.0             0.0  \n",
       "1935             0.0             0.0             0.0             0.0  \n",
       "1936             0.0             0.0             0.0             0.0  \n",
       "1937             0.0             0.0             0.0             0.0  \n",
       "1938             1.0             0.0             0.0             0.0  \n",
       "\n",
       "[1939 rows x 52 columns]"
      ]
     },
     "execution_count": 32,
     "metadata": {},
     "output_type": "execute_result"
    }
   ],
   "source": [
    "# X_train_trans = pd.DataFrame()\n",
    "X_train_trans = pd.concat([mm_df, ss_df, ohe_df], axis = 1)\n",
    "X_train_trans = X_train_trans.drop(columns = 'index')\n",
    "X_train_trans"
   ]
  },
  {
   "cell_type": "markdown",
   "metadata": {},
   "source": [
    "## Process y_train data"
   ]
  },
  {
   "cell_type": "code",
   "execution_count": 33,
   "metadata": {},
   "outputs": [],
   "source": [
    "y_train.value_counts()\n",
    "y_train = np.array(y_train).reshape(-1, 1)"
   ]
  },
  {
   "cell_type": "code",
   "execution_count": 34,
   "metadata": {},
   "outputs": [
    {
     "data": {
      "text/plain": [
       "array([0., 1., 2., 3., 4.])"
      ]
     },
     "execution_count": 34,
     "metadata": {},
     "output_type": "execute_result"
    }
   ],
   "source": [
    "o = OrdinalEncoder()\n",
    "y_train_trans = o.fit_transform(y_train)\n",
    "np.unique(y_train_trans)"
   ]
  },
  {
   "cell_type": "markdown",
   "metadata": {},
   "source": [
    "## Process y_train_2c"
   ]
  },
  {
   "cell_type": "code",
   "execution_count": 35,
   "metadata": {},
   "outputs": [],
   "source": [
    "y_train_2c = np.array(y_train_2c).reshape(-1, 1)"
   ]
  },
  {
   "cell_type": "code",
   "execution_count": 36,
   "metadata": {},
   "outputs": [
    {
     "data": {
      "text/plain": [
       "array([0., 1.])"
      ]
     },
     "execution_count": 36,
     "metadata": {},
     "output_type": "execute_result"
    }
   ],
   "source": [
    "o2 = OrdinalEncoder()\n",
    "y_train_2c = o2.fit_transform(y_train_2c)\n",
    "np.unique(y_train_2c)"
   ]
  },
  {
   "cell_type": "markdown",
   "metadata": {},
   "source": [
    "## Proces y_train_3c"
   ]
  },
  {
   "cell_type": "code",
   "execution_count": 37,
   "metadata": {},
   "outputs": [],
   "source": [
    "y_train_3c = np.array(y_train_3c).reshape(-1, 1)"
   ]
  },
  {
   "cell_type": "code",
   "execution_count": 38,
   "metadata": {},
   "outputs": [
    {
     "data": {
      "text/plain": [
       "array([0., 1., 2.])"
      ]
     },
     "execution_count": 38,
     "metadata": {},
     "output_type": "execute_result"
    }
   ],
   "source": [
    "o2 = OrdinalEncoder()\n",
    "y_train_3c = o2.fit_transform(y_train_3c)\n",
    "np.unique(y_train_3c)"
   ]
  },
  {
   "cell_type": "markdown",
   "metadata": {},
   "source": [
    "## Export data"
   ]
  },
  {
   "cell_type": "code",
   "execution_count": 39,
   "metadata": {},
   "outputs": [],
   "source": [
    "filepath = '../data/train_test_split/scherzer/transformed/'\n",
    "\n",
    "pickle_out = open(filepath + 'X_train_2019_trans.pickle', 'wb')\n",
    "pickle.dump(X_train_trans, pickle_out)\n",
    "pickle_out.close()\n",
    "\n",
    "pickle_out = open(filepath + 'y_train_2019_trans.pickle', 'wb')\n",
    "pickle.dump(y_train_trans, pickle_out)\n",
    "pickle_out.close()\n",
    "\n",
    "pickle_out = open(filepath + 'y_train_2c_2019_trans.pickle', 'wb')\n",
    "pickle.dump(y_train_2c, pickle_out)\n",
    "pickle_out.close()\n",
    "\n",
    "pickle_out = open(filepath + 'y_train_3c_2019_trans.pickle', 'wb')\n",
    "pickle.dump(y_train_3c, pickle_out)\n",
    "pickle_out.close()"
   ]
  },
  {
   "cell_type": "code",
   "execution_count": null,
   "metadata": {},
   "outputs": [],
   "source": []
  }
 ],
 "metadata": {
  "kernelspec": {
   "display_name": "Python 3",
   "language": "python",
   "name": "python3"
  },
  "language_info": {
   "codemirror_mode": {
    "name": "ipython",
    "version": 3
   },
   "file_extension": ".py",
   "mimetype": "text/x-python",
   "name": "python",
   "nbconvert_exporter": "python",
   "pygments_lexer": "ipython3",
   "version": "3.7.7"
  }
 },
 "nbformat": 4,
 "nbformat_minor": 4
}
