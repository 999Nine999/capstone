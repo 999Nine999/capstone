{
 "cells": [
  {
   "cell_type": "markdown",
   "metadata": {},
   "source": [
    "# Step04a_v2: Final feature selection and train, test, split for LSTM"
   ]
  },
  {
   "cell_type": "markdown",
   "metadata": {},
   "source": [
    "## Import packages"
   ]
  },
  {
   "cell_type": "code",
   "execution_count": 1,
   "metadata": {},
   "outputs": [],
   "source": [
    "import pandas as pd\n",
    "import numpy as np\n",
    "import seaborn as sns\n",
    "import matplotlib as plt\n",
    "import pickle\n",
    "from sklearn.model_selection import train_test_split\n",
    "from sklearn.ensemble import RandomForestClassifier\n",
    "%matplotlib inline"
   ]
  },
  {
   "cell_type": "code",
   "execution_count": 2,
   "metadata": {},
   "outputs": [],
   "source": [
    "infile = open('../data/processed/scherzer_with_batters.pickle','rb')\n",
    "pb = pickle.load(infile)\n",
    "infile.close()"
   ]
  },
  {
   "cell_type": "markdown",
   "metadata": {},
   "source": [
    "## Let's review all columns for final decisions of inclusion"
   ]
  },
  {
   "cell_type": "code",
   "execution_count": 3,
   "metadata": {},
   "outputs": [
    {
     "data": {
      "text/plain": [
       "Index(['pitch_type', 'game_date_x', 'sv_id', 'batter_id', 'pitch_number',\n",
       "       'release_speed', 'zone', 'stand', 'home_team', 'on_3b', 'on_2b',\n",
       "       'on_1b', 'outs_when_up', 'inning', 'release_spin_rate', 'opp_score',\n",
       "       'nats_score', 'if_fielding_alignment', 'of_fielding_alignment',\n",
       "       'nats_home1_away0', 'balls_strikes', 'all_runners', 'pitch_season',\n",
       "       'pitch_game', 'pitch_bat_gm', 'game_date_y', 'shift_date',\n",
       "       'player_name', 'total_pitches', 'hits', 'abs', 'whiffs', 'swings',\n",
       "       'takes', 'k', 'walk', 'single', 'double', 'triple', 'hr', 'line_drive',\n",
       "       'ground_ball', 'fly_ball', 'popup', 'rbi', 'sac', 'ba', 'slg', 'iso',\n",
       "       'babip'],\n",
       "      dtype='object')"
      ]
     },
     "execution_count": 3,
     "metadata": {},
     "output_type": "execute_result"
    }
   ],
   "source": [
    "pb.columns"
   ]
  },
  {
   "cell_type": "markdown",
   "metadata": {},
   "source": [
    "## Two null values in if and of alignment\n",
    "Will replace with standard"
   ]
  },
  {
   "cell_type": "code",
   "execution_count": 4,
   "metadata": {},
   "outputs": [],
   "source": [
    "pb.if_fielding_alignment = pb.if_fielding_alignment.fillna('Standard')\n",
    "pb.of_fielding_alignment = pb.of_fielding_alignment.fillna('Standard')"
   ]
  },
  {
   "cell_type": "markdown",
   "metadata": {},
   "source": [
    "## For LSTM, need to retain some sort of temporal values\n",
    "- Plan to look at sequences per batter\n",
    "- Need to discover max batters faced in a game\n",
    "- Plan to append set second or minute values to dates"
   ]
  },
  {
   "cell_type": "code",
   "execution_count": null,
   "metadata": {},
   "outputs": [],
   "source": [
    "pb.groupby(by=columns['game_date_x', ])"
   ]
  },
  {
   "cell_type": "code",
   "execution_count": 6,
   "metadata": {},
   "outputs": [
    {
     "data": {
      "text/html": [
       "<div>\n",
       "<style scoped>\n",
       "    .dataframe tbody tr th:only-of-type {\n",
       "        vertical-align: middle;\n",
       "    }\n",
       "\n",
       "    .dataframe tbody tr th {\n",
       "        vertical-align: top;\n",
       "    }\n",
       "\n",
       "    .dataframe thead th {\n",
       "        text-align: right;\n",
       "    }\n",
       "</style>\n",
       "<table border=\"1\" class=\"dataframe\">\n",
       "  <thead>\n",
       "    <tr style=\"text-align: right;\">\n",
       "      <th></th>\n",
       "      <th>pitch_type</th>\n",
       "      <th>game_date_x</th>\n",
       "      <th>sv_id</th>\n",
       "      <th>batter_id</th>\n",
       "      <th>pitch_number</th>\n",
       "      <th>release_speed</th>\n",
       "      <th>zone</th>\n",
       "      <th>stand</th>\n",
       "      <th>home_team</th>\n",
       "      <th>on_3b</th>\n",
       "      <th>...</th>\n",
       "      <th>line_drive</th>\n",
       "      <th>ground_ball</th>\n",
       "      <th>fly_ball</th>\n",
       "      <th>popup</th>\n",
       "      <th>rbi</th>\n",
       "      <th>sac</th>\n",
       "      <th>ba</th>\n",
       "      <th>slg</th>\n",
       "      <th>iso</th>\n",
       "      <th>babip</th>\n",
       "    </tr>\n",
       "  </thead>\n",
       "  <tbody>\n",
       "    <tr>\n",
       "      <th>0</th>\n",
       "      <td>FF</td>\n",
       "      <td>2019-03-28</td>\n",
       "      <td>190328_170717</td>\n",
       "      <td>607043</td>\n",
       "      <td>0</td>\n",
       "      <td>93.7</td>\n",
       "      <td>6.0</td>\n",
       "      <td>L</td>\n",
       "      <td>WSH</td>\n",
       "      <td>0</td>\n",
       "      <td>...</td>\n",
       "      <td>0</td>\n",
       "      <td>0</td>\n",
       "      <td>0</td>\n",
       "      <td>0</td>\n",
       "      <td>0</td>\n",
       "      <td>0</td>\n",
       "      <td>0.0</td>\n",
       "      <td>0.0</td>\n",
       "      <td>0.0</td>\n",
       "      <td>0.0</td>\n",
       "    </tr>\n",
       "    <tr>\n",
       "      <th>1</th>\n",
       "      <td>FF</td>\n",
       "      <td>2019-03-28</td>\n",
       "      <td>190328_170732</td>\n",
       "      <td>607043</td>\n",
       "      <td>1</td>\n",
       "      <td>94.2</td>\n",
       "      <td>5.0</td>\n",
       "      <td>L</td>\n",
       "      <td>WSH</td>\n",
       "      <td>0</td>\n",
       "      <td>...</td>\n",
       "      <td>0</td>\n",
       "      <td>0</td>\n",
       "      <td>0</td>\n",
       "      <td>0</td>\n",
       "      <td>0</td>\n",
       "      <td>0</td>\n",
       "      <td>0.0</td>\n",
       "      <td>0.0</td>\n",
       "      <td>0.0</td>\n",
       "      <td>0.0</td>\n",
       "    </tr>\n",
       "    <tr>\n",
       "      <th>2</th>\n",
       "      <td>FF</td>\n",
       "      <td>2019-03-28</td>\n",
       "      <td>190328_170752</td>\n",
       "      <td>607043</td>\n",
       "      <td>2</td>\n",
       "      <td>96.3</td>\n",
       "      <td>5.0</td>\n",
       "      <td>L</td>\n",
       "      <td>WSH</td>\n",
       "      <td>0</td>\n",
       "      <td>...</td>\n",
       "      <td>0</td>\n",
       "      <td>0</td>\n",
       "      <td>0</td>\n",
       "      <td>0</td>\n",
       "      <td>0</td>\n",
       "      <td>0</td>\n",
       "      <td>0.0</td>\n",
       "      <td>0.0</td>\n",
       "      <td>0.0</td>\n",
       "      <td>0.0</td>\n",
       "    </tr>\n",
       "  </tbody>\n",
       "</table>\n",
       "<p>3 rows × 50 columns</p>\n",
       "</div>"
      ],
      "text/plain": [
       "  pitch_type game_date_x          sv_id  batter_id  pitch_number  \\\n",
       "0         FF  2019-03-28  190328_170717     607043             0   \n",
       "1         FF  2019-03-28  190328_170732     607043             1   \n",
       "2         FF  2019-03-28  190328_170752     607043             2   \n",
       "\n",
       "   release_speed  zone stand home_team  on_3b  ...  line_drive  ground_ball  \\\n",
       "0           93.7   6.0     L       WSH      0  ...           0            0   \n",
       "1           94.2   5.0     L       WSH      0  ...           0            0   \n",
       "2           96.3   5.0     L       WSH      0  ...           0            0   \n",
       "\n",
       "   fly_ball  popup  rbi  sac   ba  slg  iso  babip  \n",
       "0         0      0    0    0  0.0  0.0  0.0    0.0  \n",
       "1         0      0    0    0  0.0  0.0  0.0    0.0  \n",
       "2         0      0    0    0  0.0  0.0  0.0    0.0  \n",
       "\n",
       "[3 rows x 50 columns]"
      ]
     },
     "execution_count": 6,
     "metadata": {},
     "output_type": "execute_result"
    }
   ],
   "source": [
    "pb.head(3)"
   ]
  },
  {
   "cell_type": "markdown",
   "metadata": {},
   "source": [
    "### Drop columns that are either duplicative or are not known before the pitch is thrown"
   ]
  },
  {
   "cell_type": "code",
   "execution_count": 5,
   "metadata": {},
   "outputs": [],
   "source": [
    "pb = pb.drop(columns = ['game_date_x', 'sv_id', 'batter_id', 'home_team', 'release_speed', 'zone', \n",
    "                        'on_3b', 'on_2b', 'on_1b', 'release_spin_rate', 'game_date_y', 'shift_date', \n",
    "                        'player_name', 'hits'])"
   ]
  },
  {
   "cell_type": "code",
   "execution_count": 6,
   "metadata": {},
   "outputs": [],
   "source": [
    "X = pb.drop(columns = 'pitch_type')"
   ]
  },
  {
   "cell_type": "code",
   "execution_count": 7,
   "metadata": {},
   "outputs": [],
   "source": [
    "y = pb.pitch_type"
   ]
  },
  {
   "cell_type": "code",
   "execution_count": 8,
   "metadata": {},
   "outputs": [],
   "source": [
    "X_train, X_test, y_train, y_test = train_test_split(X, \n",
    "                                                    y, \n",
    "                                                    test_size = .3, \n",
    "                                                    random_state = 31, \n",
    "                                                    shuffle = True,\n",
    "                                                    stratify = y)"
   ]
  },
  {
   "cell_type": "markdown",
   "metadata": {},
   "source": [
    "## Export Data"
   ]
  },
  {
   "cell_type": "code",
   "execution_count": 9,
   "metadata": {},
   "outputs": [],
   "source": [
    "pickle_out = open('../data/processed/X_train.pickle', 'wb')\n",
    "pickle.dump(X_train, pickle_out)\n",
    "\n",
    "pickle_out = open('../data/processed/X_test.pickle', 'wb')\n",
    "pickle.dump(X_test, pickle_out)\n",
    "\n",
    "### Export y_train (original), y_train_sm (smote), and y_test\n",
    "pickle_out = open('../data/processed/y_train.pickle', 'wb')\n",
    "pickle.dump(y_train, pickle_out)\n",
    "\n",
    "pickle_out = open('../data/processed/y_test.pickle', 'wb')\n",
    "pickle.dump(y_test, pickle_out)"
   ]
  },
  {
   "cell_type": "code",
   "execution_count": null,
   "metadata": {},
   "outputs": [],
   "source": []
  },
  {
   "cell_type": "code",
   "execution_count": null,
   "metadata": {},
   "outputs": [],
   "source": []
  }
 ],
 "metadata": {
  "kernelspec": {
   "display_name": "Python 3",
   "language": "python",
   "name": "python3"
  },
  "language_info": {
   "codemirror_mode": {
    "name": "ipython",
    "version": 3
   },
   "file_extension": ".py",
   "mimetype": "text/x-python",
   "name": "python",
   "nbconvert_exporter": "python",
   "pygments_lexer": "ipython3",
   "version": "3.7.7"
  }
 },
 "nbformat": 4,
 "nbformat_minor": 4
}
