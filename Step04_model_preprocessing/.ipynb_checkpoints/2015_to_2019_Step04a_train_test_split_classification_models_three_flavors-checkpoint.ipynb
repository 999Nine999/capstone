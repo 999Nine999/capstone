{
 "cells": [
  {
   "cell_type": "markdown",
   "metadata": {},
   "source": [
    "# Step04a_v1: Final feature selection and train, test, split for Classification\n",
    "## All pitch types in 2019"
   ]
  },
  {
   "cell_type": "markdown",
   "metadata": {},
   "source": [
    "## Import packages"
   ]
  },
  {
   "cell_type": "code",
   "execution_count": 10,
   "metadata": {},
   "outputs": [],
   "source": [
    "import pandas as pd\n",
    "import numpy as np\n",
    "import seaborn as sns\n",
    "import matplotlib as plt\n",
    "import pickle\n",
    "from sklearn.model_selection import train_test_split\n",
    "from sklearn.ensemble import RandomForestClassifier\n",
    "%matplotlib inline"
   ]
  },
  {
   "cell_type": "code",
   "execution_count": 11,
   "metadata": {},
   "outputs": [],
   "source": [
    "infile = open('../data/processed/scherzer/scherzer_with_batters_2015_to_2019.pickle','rb')\n",
    "pb = pickle.load(infile)\n",
    "infile.close()"
   ]
  },
  {
   "cell_type": "markdown",
   "metadata": {},
   "source": [
    "## Let's review all columns for final decisions of inclusion"
   ]
  },
  {
   "cell_type": "code",
   "execution_count": 12,
   "metadata": {},
   "outputs": [
    {
     "data": {
      "text/plain": [
       "Index(['pitch_type', 'game_date_x', 'sv_id', 'batter_id', 'pitch_number',\n",
       "       'release_speed', 'zone', 'stand', 'home_team', 'on_3b', 'on_2b',\n",
       "       'on_1b', 'outs_when_up', 'inning', 'release_spin_rate', 'opp_score',\n",
       "       'nats_score', 'if_fielding_alignment', 'of_fielding_alignment',\n",
       "       'nats_home1_away0', 'balls_strikes', 'all_runners', 'pitch_season',\n",
       "       'pitch_game', 'pitch_bat_gm', 'game_date_y', 'shift_date',\n",
       "       'player_name', 'total_pitches', 'hits', 'abs', 'whiffs', 'swings',\n",
       "       'takes', 'k', 'walk', 'single', 'double', 'triple', 'hr', 'line_drive',\n",
       "       'ground_ball', 'fly_ball', 'popup', 'rbi', 'sac', 'ba', 'slg', 'iso',\n",
       "       'babip'],\n",
       "      dtype='object')"
      ]
     },
     "execution_count": 12,
     "metadata": {},
     "output_type": "execute_result"
    }
   ],
   "source": [
    "pb.columns"
   ]
  },
  {
   "cell_type": "markdown",
   "metadata": {},
   "source": [
    "## Two null values in if and of alignment\n",
    "Will replace with standard"
   ]
  },
  {
   "cell_type": "code",
   "execution_count": 13,
   "metadata": {},
   "outputs": [],
   "source": [
    "pb.if_fielding_alignment = pb.if_fielding_alignment.fillna('Standard')\n",
    "pb.of_fielding_alignment = pb.of_fielding_alignment.fillna('Standard')"
   ]
  },
  {
   "cell_type": "markdown",
   "metadata": {},
   "source": [
    "### Drop columns that are either duplicative or are not known before the pitch is thrown"
   ]
  },
  {
   "cell_type": "code",
   "execution_count": 14,
   "metadata": {},
   "outputs": [],
   "source": [
    "pb = pb.drop(columns = ['game_date_x', 'sv_id', 'batter_id', 'home_team', 'release_speed', 'zone', \n",
    "                        'on_3b', 'on_2b', 'on_1b', 'release_spin_rate', 'game_date_y', 'shift_date', \n",
    "                        'player_name', 'hits'])"
   ]
  },
  {
   "cell_type": "code",
   "execution_count": 15,
   "metadata": {},
   "outputs": [],
   "source": [
    "X = pb.drop(columns = 'pitch_type')"
   ]
  },
  {
   "cell_type": "code",
   "execution_count": 16,
   "metadata": {},
   "outputs": [],
   "source": [
    "y = pb.pitch_type"
   ]
  },
  {
   "cell_type": "code",
   "execution_count": 18,
   "metadata": {},
   "outputs": [],
   "source": [
    "X_train, X_test, y_train, y_test = train_test_split(X, \n",
    "                                                    y, \n",
    "                                                    test_size = .3, \n",
    "                                                    random_state = 31, \n",
    "                                                    shuffle = True,\n",
    "                                                    stratify = y)"
   ]
  },
  {
   "cell_type": "markdown",
   "metadata": {},
   "source": [
    "## Export all types of pitches"
   ]
  },
  {
   "cell_type": "code",
   "execution_count": 19,
   "metadata": {},
   "outputs": [],
   "source": [
    "pickle_out = open('../data/train_test_split/scherzer/X_train_2015.pickle', 'wb')\n",
    "pickle.dump(X_train, pickle_out)\n",
    "pickle_out.close()\n",
    "\n",
    "pickle_out = open('../data/train_test_split/scherzer/X_test_2015.pickle', 'wb')\n",
    "pickle.dump(X_test, pickle_out)\n",
    "pickle_out.close()\n",
    "\n",
    "pickle_out = open('../data/train_test_split/scherzer/y_train_2015_all_types.pickle', 'wb')\n",
    "pickle.dump(y_train, pickle_out)\n",
    "pickle_out.close()\n",
    "\n",
    "pickle_out = open('../data/train_test_split/scherzer/y_test_2015_all_types.pickle', 'wb')\n",
    "pickle.dump(y_test, pickle_out)\n",
    "pickle_out.close()"
   ]
  },
  {
   "cell_type": "markdown",
   "metadata": {},
   "source": [
    "## Add a second version of y_train that groups pitch types:\n",
    "- Fourseam fastball becomes 'fastball'\n",
    "- Changeup becomes 'changeup'\n",
    "- All other pitches are grouped as 'movement' pitches"
   ]
  },
  {
   "cell_type": "code",
   "execution_count": 20,
   "metadata": {},
   "outputs": [
    {
     "data": {
      "text/plain": [
       "FF    5924\n",
       "SL    2251\n",
       "CH    1581\n",
       "CU     930\n",
       "FC     633\n",
       "FT      62\n",
       "Name: pitch_type, dtype: int64"
      ]
     },
     "execution_count": 20,
     "metadata": {},
     "output_type": "execute_result"
    }
   ],
   "source": [
    "y_train_v2 = y_train\n",
    "y_train_v2.value_counts()"
   ]
  },
  {
   "cell_type": "code",
   "execution_count": 21,
   "metadata": {},
   "outputs": [
    {
     "data": {
      "text/plain": [
       "pandas.core.series.Series"
      ]
     },
     "execution_count": 21,
     "metadata": {},
     "output_type": "execute_result"
    }
   ],
   "source": [
    "type(y_train_v2)"
   ]
  },
  {
   "cell_type": "code",
   "execution_count": 22,
   "metadata": {},
   "outputs": [
    {
     "data": {
      "text/plain": [
       "fastball    5924\n",
       "movement    3814\n",
       "changeup    1581\n",
       "FT            62\n",
       "Name: pitch_type, dtype: int64"
      ]
     },
     "execution_count": 22,
     "metadata": {},
     "output_type": "execute_result"
    }
   ],
   "source": [
    "y_train_v2 = y_train_v2.replace({'FF': 'fastball', \n",
    "                                 'CH': 'changeup', \n",
    "                                 'SL': 'movement', \n",
    "                                 'CU': 'movement', \n",
    "                                 'FC': 'movement'})\n",
    "y_train_v2.value_counts()"
   ]
  },
  {
   "cell_type": "code",
   "execution_count": 23,
   "metadata": {},
   "outputs": [
    {
     "data": {
      "text/plain": [
       "fastball    5924\n",
       "movement    3814\n",
       "changeup    1581\n",
       "FT            62\n",
       "Name: pitch_type, dtype: int64"
      ]
     },
     "execution_count": 23,
     "metadata": {},
     "output_type": "execute_result"
    }
   ],
   "source": [
    "y_test_v2 = y_test\n",
    "y_test_v2 = y_train_v2.replace({'FF': 'fastball', \n",
    "                                 'CH': 'changeup', \n",
    "                                 'SL': 'movement', \n",
    "                                 'CU': 'movement', \n",
    "                                 'FC': 'movement'})\n",
    "y_test_v2.value_counts()"
   ]
  },
  {
   "cell_type": "markdown",
   "metadata": {},
   "source": [
    "## Export y data with three cases"
   ]
  },
  {
   "cell_type": "code",
   "execution_count": 24,
   "metadata": {},
   "outputs": [],
   "source": [
    "pickle_out = open('../data/train_test_split/scherzer/y_train_2015_3_cases.pickle', 'wb')\n",
    "pickle.dump(y_train_v2, pickle_out)\n",
    "pickle_out.close()\n",
    "\n",
    "pickle_out = open('../data/train_test_split/scherzer/y_test_2015_3_cases.pickle', 'wb')\n",
    "pickle.dump(y_test_v2, pickle_out)\n",
    "pickle_out.close()"
   ]
  },
  {
   "cell_type": "markdown",
   "metadata": {},
   "source": [
    "## Add third version that has two cases (fastball or not fastball)"
   ]
  },
  {
   "cell_type": "code",
   "execution_count": 25,
   "metadata": {},
   "outputs": [
    {
     "data": {
      "text/plain": [
       "fastball    5924\n",
       "other       5395\n",
       "FT            62\n",
       "Name: pitch_type, dtype: int64"
      ]
     },
     "execution_count": 25,
     "metadata": {},
     "output_type": "execute_result"
    }
   ],
   "source": [
    "y_train_v3 = y_train\n",
    "y_train_v3 = y_train_v3.replace({'FF': 'fastball', \n",
    "                                 'CH': 'other', \n",
    "                                 'SL': 'other', \n",
    "                                 'CU': 'other', \n",
    "                                 'FC': 'other'})\n",
    "y_train_v3.value_counts()"
   ]
  },
  {
   "cell_type": "code",
   "execution_count": 26,
   "metadata": {},
   "outputs": [
    {
     "data": {
      "text/plain": [
       "fastball    2539\n",
       "other       2312\n",
       "FT            27\n",
       "Name: pitch_type, dtype: int64"
      ]
     },
     "execution_count": 26,
     "metadata": {},
     "output_type": "execute_result"
    }
   ],
   "source": [
    "y_test_v3 = y_test\n",
    "y_test_v3 = y_test_v3.replace({'FF': 'fastball', \n",
    "                                 'CH': 'other', \n",
    "                                 'SL': 'other', \n",
    "                                 'CU': 'other', \n",
    "                                 'FC': 'other'})\n",
    "y_test_v3.value_counts()"
   ]
  },
  {
   "cell_type": "markdown",
   "metadata": {},
   "source": [
    "## Export y data with two cases"
   ]
  },
  {
   "cell_type": "code",
   "execution_count": 27,
   "metadata": {},
   "outputs": [],
   "source": [
    "pickle_out = open('../data/train_test_split/scherzer/y_train_2015_2_cases.pickle', 'wb')\n",
    "pickle.dump(y_train_v3, pickle_out)\n",
    "pickle_out.close()\n",
    "\n",
    "pickle_out = open('../data/train_test_split/scherzer/y_test_2015_2_cases.pickle', 'wb')\n",
    "pickle.dump(y_test_v3, pickle_out)\n",
    "pickle_out.close()"
   ]
  }
 ],
 "metadata": {
  "kernelspec": {
   "display_name": "Python 3",
   "language": "python",
   "name": "python3"
  },
  "language_info": {
   "codemirror_mode": {
    "name": "ipython",
    "version": 3
   },
   "file_extension": ".py",
   "mimetype": "text/x-python",
   "name": "python",
   "nbconvert_exporter": "python",
   "pygments_lexer": "ipython3",
   "version": "3.7.7"
  }
 },
 "nbformat": 4,
 "nbformat_minor": 4
}
