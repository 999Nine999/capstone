{
 "cells": [
  {
   "cell_type": "markdown",
   "metadata": {},
   "source": [
    "# DecisionTree Modeling"
   ]
  },
  {
   "cell_type": "code",
   "execution_count": 1,
   "metadata": {},
   "outputs": [
    {
     "name": "stderr",
     "output_type": "stream",
     "text": [
      "/Users/algrhythm/opt/anaconda3/lib/python3.7/site-packages/sklearn/utils/deprecation.py:144: FutureWarning: The sklearn.tree.export module is  deprecated in version 0.22 and will be removed in version 0.24. The corresponding classes / functions should instead be imported from sklearn.tree. Anything that cannot be imported from sklearn.tree is now part of the private API.\n",
      "  warnings.warn(message, FutureWarning)\n"
     ]
    }
   ],
   "source": [
    "import pandas as pd\n",
    "import numpy as np\n",
    "import pickle\n",
    "from sklearn.tree import DecisionTreeClassifier\n",
    "from sklearn.tree.export import export_text\n",
    "from sklearn.model_selection import cross_val_score\n",
    "from sklearn.model_selection import GridSearchCV\n",
    "import push_results as pr"
   ]
  },
  {
   "cell_type": "code",
   "execution_count": 2,
   "metadata": {},
   "outputs": [],
   "source": [
    "infile1 = open('../data/processed/X_train2_trans.pickle','rb')\n",
    "X_train = pickle.load(infile1)\n",
    "infile1.close()\n",
    "\n",
    "infile2 = open('../data/processed/y_train_trans.pickle','rb')\n",
    "y_train = pickle.load(infile2)\n",
    "infile2.close()\n",
    "\n",
    "# infile3 = open('../data/model_results/model_results.pickle','rb')\n",
    "# results_dict = pickle.load(infile3)\n",
    "# infile3.close()"
   ]
  },
  {
   "cell_type": "code",
   "execution_count": 3,
   "metadata": {},
   "outputs": [],
   "source": [
    "clf = DecisionTreeClassifier(random_state = 31)"
   ]
  },
  {
   "cell_type": "code",
   "execution_count": 4,
   "metadata": {},
   "outputs": [
    {
     "data": {
      "text/plain": [
       "DecisionTreeClassifier(ccp_alpha=0.0, class_weight=None, criterion='gini',\n",
       "                       max_depth=None, max_features=None, max_leaf_nodes=None,\n",
       "                       min_impurity_decrease=0.0, min_impurity_split=None,\n",
       "                       min_samples_leaf=1, min_samples_split=2,\n",
       "                       min_weight_fraction_leaf=0.0, presort='deprecated',\n",
       "                       random_state=31, splitter='best')"
      ]
     },
     "execution_count": 4,
     "metadata": {},
     "output_type": "execute_result"
    }
   ],
   "source": [
    "clf.fit(X_train,y_train)"
   ]
  },
  {
   "cell_type": "code",
   "execution_count": 5,
   "metadata": {},
   "outputs": [],
   "source": [
    "features = X_train.columns.tolist()\n",
    "features;"
   ]
  },
  {
   "cell_type": "code",
   "execution_count": 6,
   "metadata": {
    "scrolled": false
   },
   "outputs": [],
   "source": [
    "r = export_text(clf, feature_names= features)\n",
    "# print(r)"
   ]
  },
  {
   "cell_type": "code",
   "execution_count": 7,
   "metadata": {},
   "outputs": [
    {
     "data": {
      "text/plain": [
       "1677"
      ]
     },
     "execution_count": 7,
     "metadata": {},
     "output_type": "execute_result"
    }
   ],
   "source": [
    "clf.tree_.node_count"
   ]
  },
  {
   "cell_type": "code",
   "execution_count": 8,
   "metadata": {},
   "outputs": [],
   "source": [
    "y_pred = clf.predict(X_train)"
   ]
  },
  {
   "cell_type": "code",
   "execution_count": 9,
   "metadata": {},
   "outputs": [
    {
     "data": {
      "text/plain": [
       "0.999484270242393"
      ]
     },
     "execution_count": 9,
     "metadata": {},
     "output_type": "execute_result"
    }
   ],
   "source": [
    "clf.score(X_train, y_train)"
   ]
  },
  {
   "cell_type": "code",
   "execution_count": 10,
   "metadata": {},
   "outputs": [],
   "source": [
    "score = clf.score(X_train, y_train)\n",
    "\n",
    "# results_dict.update({'dtree': ['DecisionTreeClassifier',\n",
    "#                           'Default',\n",
    "#                           score]})"
   ]
  },
  {
   "cell_type": "code",
   "execution_count": 11,
   "metadata": {},
   "outputs": [],
   "source": [
    "pr.push_results('dectree_cv_v2', 'DecisionTreeClassifier', 'Default', clf.score(X_train, y_train))"
   ]
  },
  {
   "cell_type": "markdown",
   "metadata": {},
   "source": [
    "## Cross validation"
   ]
  },
  {
   "cell_type": "code",
   "execution_count": 12,
   "metadata": {},
   "outputs": [],
   "source": [
    "scores = cross_val_score(clf, X_train, y_train, cv=10, scoring= 'accuracy')"
   ]
  },
  {
   "cell_type": "code",
   "execution_count": 13,
   "metadata": {},
   "outputs": [
    {
     "data": {
      "text/plain": [
       "0.36722397307836124"
      ]
     },
     "execution_count": 13,
     "metadata": {},
     "output_type": "execute_result"
    }
   ],
   "source": [
    "np.average(scores)"
   ]
  },
  {
   "cell_type": "code",
   "execution_count": 14,
   "metadata": {},
   "outputs": [],
   "source": [
    "pr.push_results('dectree_cv_v2', 'DecisionTreeClassifier', 'Cross Validation', np.average(scores))\n",
    "\n",
    "# results_dict.update({'dtree_cv': ['DecisionTreeClassifier',\n",
    "#                           'Cross Validation',\n",
    "#                           np.average(scores)]})"
   ]
  },
  {
   "cell_type": "markdown",
   "metadata": {},
   "source": [
    "## Grid search"
   ]
  },
  {
   "cell_type": "code",
   "execution_count": 15,
   "metadata": {},
   "outputs": [
    {
     "name": "stdout",
     "output_type": "stream",
     "text": [
      "Fitting 5 folds for each of 57760 candidates, totalling 288800 fits\n"
     ]
    },
    {
     "name": "stderr",
     "output_type": "stream",
     "text": [
      "[Parallel(n_jobs=-1)]: Using backend LokyBackend with 16 concurrent workers.\n",
      "[Parallel(n_jobs=-1)]: Done  18 tasks      | elapsed:    1.2s\n",
      "[Parallel(n_jobs=-1)]: Done 352 tasks      | elapsed:    1.8s\n",
      "[Parallel(n_jobs=-1)]: Done 4160 tasks      | elapsed:    4.4s\n",
      "[Parallel(n_jobs=-1)]: Done 9760 tasks      | elapsed:    7.6s\n",
      "[Parallel(n_jobs=-1)]: Done 16960 tasks      | elapsed:   12.1s\n",
      "[Parallel(n_jobs=-1)]: Done 25760 tasks      | elapsed:   17.2s\n",
      "[Parallel(n_jobs=-1)]: Done 36160 tasks      | elapsed:   24.7s\n",
      "[Parallel(n_jobs=-1)]: Done 48160 tasks      | elapsed:   33.2s\n",
      "[Parallel(n_jobs=-1)]: Done 61760 tasks      | elapsed:   42.9s\n",
      "[Parallel(n_jobs=-1)]: Done 76960 tasks      | elapsed:   53.9s\n",
      "[Parallel(n_jobs=-1)]: Done 93760 tasks      | elapsed:  1.2min\n",
      "[Parallel(n_jobs=-1)]: Done 112160 tasks      | elapsed:  1.4min\n",
      "[Parallel(n_jobs=-1)]: Done 120488 tasks      | elapsed:  1.9min\n",
      "[Parallel(n_jobs=-1)]: Done 125888 tasks      | elapsed:  2.2min\n",
      "[Parallel(n_jobs=-1)]: Done 131688 tasks      | elapsed:  2.6min\n",
      "[Parallel(n_jobs=-1)]: Done 143776 tasks      | elapsed:  2.9min\n",
      "[Parallel(n_jobs=-1)]: Done 170176 tasks      | elapsed:  3.3min\n",
      "[Parallel(n_jobs=-1)]: Done 198176 tasks      | elapsed:  3.7min\n",
      "[Parallel(n_jobs=-1)]: Done 227776 tasks      | elapsed:  4.1min\n",
      "[Parallel(n_jobs=-1)]: Done 258976 tasks      | elapsed:  4.5min\n",
      "[Parallel(n_jobs=-1)]: Done 288800 out of 288800 | elapsed:  5.0min finished\n"
     ]
    }
   ],
   "source": [
    "tree_clf = DecisionTreeClassifier()\n",
    "\n",
    "params = {'criterion': ['gini', 'entropy'],\n",
    "          'splitter': ['best', 'random'],\n",
    "          'max_depth': range(2, 12),\n",
    "          'min_samples_split': range(5, 100, 5),\n",
    "          'max_features': [None, 'auto', 'sqrt', 'log2'], \n",
    "          'max_leaf_nodes': range(5, 100, 5)}\n",
    "\n",
    "gridsearch = GridSearchCV(estimator = tree_clf, \n",
    "                          param_grid = params,\n",
    "                          n_jobs = -1,\n",
    "                          verbose = 1,\n",
    "                          cv = 5,\n",
    "                          scoring = 'accuracy',\n",
    "                          return_train_score= True)\n",
    "\n",
    "gridsearch = gridsearch.fit(X_train, y_train)"
   ]
  },
  {
   "cell_type": "code",
   "execution_count": 16,
   "metadata": {},
   "outputs": [
    {
     "data": {
      "text/plain": [
       "DecisionTreeClassifier(ccp_alpha=0.0, class_weight=None, criterion='gini',\n",
       "                       max_depth=5, max_features='auto', max_leaf_nodes=30,\n",
       "                       min_impurity_decrease=0.0, min_impurity_split=None,\n",
       "                       min_samples_leaf=1, min_samples_split=90,\n",
       "                       min_weight_fraction_leaf=0.0, presort='deprecated',\n",
       "                       random_state=None, splitter='random')"
      ]
     },
     "execution_count": 16,
     "metadata": {},
     "output_type": "execute_result"
    }
   ],
   "source": [
    "gridsearch.best_estimator_"
   ]
  },
  {
   "cell_type": "code",
   "execution_count": 17,
   "metadata": {},
   "outputs": [
    {
     "data": {
      "text/plain": [
       "0.5018221050107888"
      ]
     },
     "execution_count": 17,
     "metadata": {},
     "output_type": "execute_result"
    }
   ],
   "source": [
    "gridsearch.best_score_"
   ]
  },
  {
   "cell_type": "code",
   "execution_count": 18,
   "metadata": {},
   "outputs": [
    {
     "data": {
      "text/html": [
       "<div>\n",
       "<style scoped>\n",
       "    .dataframe tbody tr th:only-of-type {\n",
       "        vertical-align: middle;\n",
       "    }\n",
       "\n",
       "    .dataframe tbody tr th {\n",
       "        vertical-align: top;\n",
       "    }\n",
       "\n",
       "    .dataframe thead th {\n",
       "        text-align: right;\n",
       "    }\n",
       "</style>\n",
       "<table border=\"1\" class=\"dataframe\">\n",
       "  <thead>\n",
       "    <tr style=\"text-align: right;\">\n",
       "      <th></th>\n",
       "      <th>mean_train_score</th>\n",
       "      <th>std_train_score</th>\n",
       "      <th>params</th>\n",
       "    </tr>\n",
       "  </thead>\n",
       "  <tbody>\n",
       "    <tr>\n",
       "      <th>23788</th>\n",
       "      <td>0.631125</td>\n",
       "      <td>0.011324</td>\n",
       "      <td>{'criterion': 'gini', 'max_depth': 10, 'max_fe...</td>\n",
       "    </tr>\n",
       "    <tr>\n",
       "      <th>26676</th>\n",
       "      <td>0.630996</td>\n",
       "      <td>0.011656</td>\n",
       "      <td>{'criterion': 'gini', 'max_depth': 11, 'max_fe...</td>\n",
       "    </tr>\n",
       "    <tr>\n",
       "      <th>26678</th>\n",
       "      <td>0.630093</td>\n",
       "      <td>0.012425</td>\n",
       "      <td>{'criterion': 'gini', 'max_depth': 11, 'max_fe...</td>\n",
       "    </tr>\n",
       "    <tr>\n",
       "      <th>23790</th>\n",
       "      <td>0.627644</td>\n",
       "      <td>0.011809</td>\n",
       "      <td>{'criterion': 'gini', 'max_depth': 10, 'max_fe...</td>\n",
       "    </tr>\n",
       "    <tr>\n",
       "      <th>26680</th>\n",
       "      <td>0.627128</td>\n",
       "      <td>0.013278</td>\n",
       "      <td>{'criterion': 'gini', 'max_depth': 11, 'max_fe...</td>\n",
       "    </tr>\n",
       "    <tr>\n",
       "      <th>26638</th>\n",
       "      <td>0.626355</td>\n",
       "      <td>0.011488</td>\n",
       "      <td>{'criterion': 'gini', 'max_depth': 11, 'max_fe...</td>\n",
       "    </tr>\n",
       "    <tr>\n",
       "      <th>23750</th>\n",
       "      <td>0.625581</td>\n",
       "      <td>0.009621</td>\n",
       "      <td>{'criterion': 'gini', 'max_depth': 10, 'max_fe...</td>\n",
       "    </tr>\n",
       "    <tr>\n",
       "      <th>26640</th>\n",
       "      <td>0.625065</td>\n",
       "      <td>0.011711</td>\n",
       "      <td>{'criterion': 'gini', 'max_depth': 11, 'max_fe...</td>\n",
       "    </tr>\n",
       "    <tr>\n",
       "      <th>26682</th>\n",
       "      <td>0.624291</td>\n",
       "      <td>0.009716</td>\n",
       "      <td>{'criterion': 'gini', 'max_depth': 11, 'max_fe...</td>\n",
       "    </tr>\n",
       "    <tr>\n",
       "      <th>23792</th>\n",
       "      <td>0.624162</td>\n",
       "      <td>0.009760</td>\n",
       "      <td>{'criterion': 'gini', 'max_depth': 10, 'max_fe...</td>\n",
       "    </tr>\n",
       "  </tbody>\n",
       "</table>\n",
       "</div>"
      ],
      "text/plain": [
       "       mean_train_score  std_train_score  \\\n",
       "23788          0.631125         0.011324   \n",
       "26676          0.630996         0.011656   \n",
       "26678          0.630093         0.012425   \n",
       "23790          0.627644         0.011809   \n",
       "26680          0.627128         0.013278   \n",
       "26638          0.626355         0.011488   \n",
       "23750          0.625581         0.009621   \n",
       "26640          0.625065         0.011711   \n",
       "26682          0.624291         0.009716   \n",
       "23792          0.624162         0.009760   \n",
       "\n",
       "                                                  params  \n",
       "23788  {'criterion': 'gini', 'max_depth': 10, 'max_fe...  \n",
       "26676  {'criterion': 'gini', 'max_depth': 11, 'max_fe...  \n",
       "26678  {'criterion': 'gini', 'max_depth': 11, 'max_fe...  \n",
       "23790  {'criterion': 'gini', 'max_depth': 10, 'max_fe...  \n",
       "26680  {'criterion': 'gini', 'max_depth': 11, 'max_fe...  \n",
       "26638  {'criterion': 'gini', 'max_depth': 11, 'max_fe...  \n",
       "23750  {'criterion': 'gini', 'max_depth': 10, 'max_fe...  \n",
       "26640  {'criterion': 'gini', 'max_depth': 11, 'max_fe...  \n",
       "26682  {'criterion': 'gini', 'max_depth': 11, 'max_fe...  \n",
       "23792  {'criterion': 'gini', 'max_depth': 10, 'max_fe...  "
      ]
     },
     "execution_count": 18,
     "metadata": {},
     "output_type": "execute_result"
    }
   ],
   "source": [
    "results = pd.DataFrame(gridsearch.cv_results_)\n",
    "results[['mean_train_score', 'std_train_score', 'params']].sort_values(by='mean_train_score', \n",
    "                                                                       ascending = False).head(10)"
   ]
  },
  {
   "cell_type": "code",
   "execution_count": 19,
   "metadata": {},
   "outputs": [],
   "source": [
    "pr.push_results('dectree_gs_v2', 'DecisionTreeClassifier', 'Grid Search', gridsearch.best_score_)\n",
    "\n",
    "# results_dict.update({'dtree_gs': ['DecisionTreeClassifier',\n",
    "#                           'Grid Search',\n",
    "#                           gridsearch.best_score_]})"
   ]
  },
  {
   "cell_type": "code",
   "execution_count": 106,
   "metadata": {},
   "outputs": [],
   "source": [
    "# pickle_out = open('../data/model_results/model_results.pickle', 'wb')\n",
    "# pickle.dump(results_dict, pickle_out)\n",
    "# pickle_out.close()"
   ]
  },
  {
   "cell_type": "code",
   "execution_count": null,
   "metadata": {},
   "outputs": [],
   "source": []
  }
 ],
 "metadata": {
  "kernelspec": {
   "display_name": "Python 3",
   "language": "python",
   "name": "python3"
  },
  "language_info": {
   "codemirror_mode": {
    "name": "ipython",
    "version": 3
   },
   "file_extension": ".py",
   "mimetype": "text/x-python",
   "name": "python",
   "nbconvert_exporter": "python",
   "pygments_lexer": "ipython3",
   "version": "3.7.7"
  }
 },
 "nbformat": 4,
 "nbformat_minor": 4
}
