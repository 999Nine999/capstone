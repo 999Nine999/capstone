{
 "cells": [
  {
   "cell_type": "markdown",
   "metadata": {},
   "source": [
    "# DecisionTree Modeling"
   ]
  },
  {
   "cell_type": "code",
   "execution_count": 129,
   "metadata": {},
   "outputs": [],
   "source": [
    "import pandas as pd\n",
    "import numpy as np\n",
    "import pickle\n",
    "from sklearn.tree import DecisionTreeClassifier\n",
    "from sklearn.tree.export import export_text\n",
    "from sklearn.model_selection import cross_val_score\n",
    "from sklearn.model_selection import GridSearchCV\n",
    "import push_results as pr"
   ]
  },
  {
   "cell_type": "code",
   "execution_count": 130,
   "metadata": {},
   "outputs": [],
   "source": [
    "infile1 = open('../data/processed/X_train_trans.pickle','rb')\n",
    "X_train = pickle.load(infile1)\n",
    "infile1.close()\n",
    "\n",
    "infile2 = open('../data/processed/y_train_trans.pickle','rb')\n",
    "y_train = pickle.load(infile2)\n",
    "infile2.close()\n",
    "\n",
    "infile3 = open('../data/model_results/model_results.pickle','rb')\n",
    "results_dict = pickle.load(infile3)\n",
    "infile3.close()"
   ]
  },
  {
   "cell_type": "code",
   "execution_count": 131,
   "metadata": {},
   "outputs": [],
   "source": [
    "clf = DecisionTreeClassifier(random_state = 31)"
   ]
  },
  {
   "cell_type": "code",
   "execution_count": 132,
   "metadata": {},
   "outputs": [
    {
     "data": {
      "text/plain": [
       "DecisionTreeClassifier(ccp_alpha=0.0, class_weight=None, criterion='gini',\n",
       "                       max_depth=None, max_features=None, max_leaf_nodes=None,\n",
       "                       min_impurity_decrease=0.0, min_impurity_split=None,\n",
       "                       min_samples_leaf=1, min_samples_split=2,\n",
       "                       min_weight_fraction_leaf=0.0, presort='deprecated',\n",
       "                       random_state=31, splitter='best')"
      ]
     },
     "execution_count": 132,
     "metadata": {},
     "output_type": "execute_result"
    }
   ],
   "source": [
    "clf.fit(X_train,y_train)"
   ]
  },
  {
   "cell_type": "code",
   "execution_count": 133,
   "metadata": {},
   "outputs": [],
   "source": [
    "features = X_train.columns.tolist()\n",
    "features;"
   ]
  },
  {
   "cell_type": "code",
   "execution_count": 134,
   "metadata": {
    "scrolled": false
   },
   "outputs": [],
   "source": [
    "r = export_text(clf, feature_names= features)\n",
    "# print(r)"
   ]
  },
  {
   "cell_type": "code",
   "execution_count": 135,
   "metadata": {},
   "outputs": [
    {
     "data": {
      "text/plain": [
       "1575"
      ]
     },
     "execution_count": 135,
     "metadata": {},
     "output_type": "execute_result"
    }
   ],
   "source": [
    "clf.tree_.node_count"
   ]
  },
  {
   "cell_type": "code",
   "execution_count": 136,
   "metadata": {},
   "outputs": [],
   "source": [
    "y_pred = clf.predict(X_train)"
   ]
  },
  {
   "cell_type": "code",
   "execution_count": 137,
   "metadata": {},
   "outputs": [
    {
     "data": {
      "text/plain": [
       "1.0"
      ]
     },
     "execution_count": 137,
     "metadata": {},
     "output_type": "execute_result"
    }
   ],
   "source": [
    "clf.score(X_train, y_train)"
   ]
  },
  {
   "cell_type": "code",
   "execution_count": 138,
   "metadata": {},
   "outputs": [],
   "source": [
    "score = clf.score(X_train, y_train)\n",
    "\n",
    "# results_dict.update({'dtree': ['DecisionTreeClassifier',\n",
    "#                           'Default',\n",
    "#                           score]})"
   ]
  },
  {
   "cell_type": "code",
   "execution_count": 139,
   "metadata": {},
   "outputs": [],
   "source": [
    "pr.push_results('dectree_cv', 'DecisionTreeClassifier', 'Default', clf.score(X_train, y_train))"
   ]
  },
  {
   "cell_type": "markdown",
   "metadata": {},
   "source": [
    "## Cross validation"
   ]
  },
  {
   "cell_type": "code",
   "execution_count": 140,
   "metadata": {},
   "outputs": [],
   "source": [
    "scores = cross_val_score(clf, X_train, y_train, cv=10, scoring= 'accuracy')"
   ]
  },
  {
   "cell_type": "code",
   "execution_count": 141,
   "metadata": {},
   "outputs": [
    {
     "data": {
      "text/plain": [
       "0.35794829336039746"
      ]
     },
     "execution_count": 141,
     "metadata": {},
     "output_type": "execute_result"
    }
   ],
   "source": [
    "np.average(scores)"
   ]
  },
  {
   "cell_type": "code",
   "execution_count": 142,
   "metadata": {},
   "outputs": [],
   "source": [
    "pr.push_results('dectree_def', 'DecisionTreeClassifier', 'Cross Validation', np.average(scores))\n",
    "\n",
    "# results_dict.update({'dtree_cv': ['DecisionTreeClassifier',\n",
    "#                           'Cross Validation',\n",
    "#                           np.average(scores)]})"
   ]
  },
  {
   "cell_type": "markdown",
   "metadata": {},
   "source": [
    "## Grid search"
   ]
  },
  {
   "cell_type": "code",
   "execution_count": 123,
   "metadata": {},
   "outputs": [
    {
     "name": "stdout",
     "output_type": "stream",
     "text": [
      "Fitting 5 folds for each of 57760 candidates, totalling 288800 fits\n"
     ]
    },
    {
     "name": "stderr",
     "output_type": "stream",
     "text": [
      "[Parallel(n_jobs=-1)]: Using backend LokyBackend with 16 concurrent workers.\n",
      "[Parallel(n_jobs=-1)]: Done  18 tasks      | elapsed:    1.3s\n",
      "[Parallel(n_jobs=-1)]: Done 464 tasks      | elapsed:    1.9s\n",
      "[Parallel(n_jobs=-1)]: Done 4400 tasks      | elapsed:    4.6s\n",
      "[Parallel(n_jobs=-1)]: Done 10000 tasks      | elapsed:    7.9s\n",
      "[Parallel(n_jobs=-1)]: Done 17200 tasks      | elapsed:   12.8s\n",
      "[Parallel(n_jobs=-1)]: Done 26000 tasks      | elapsed:   18.2s\n",
      "[Parallel(n_jobs=-1)]: Done 36400 tasks      | elapsed:   25.4s\n",
      "[Parallel(n_jobs=-1)]: Done 48400 tasks      | elapsed:   34.3s\n",
      "[Parallel(n_jobs=-1)]: Done 62000 tasks      | elapsed:   44.8s\n",
      "[Parallel(n_jobs=-1)]: Done 77200 tasks      | elapsed:   56.2s\n",
      "[Parallel(n_jobs=-1)]: Done 94000 tasks      | elapsed:  1.2min\n",
      "[Parallel(n_jobs=-1)]: Done 112400 tasks      | elapsed:  1.4min\n",
      "[Parallel(n_jobs=-1)]: Done 132400 tasks      | elapsed:  1.7min\n",
      "[Parallel(n_jobs=-1)]: Done 154000 tasks      | elapsed:  1.9min\n",
      "[Parallel(n_jobs=-1)]: Done 177200 tasks      | elapsed:  2.2min\n",
      "[Parallel(n_jobs=-1)]: Done 202000 tasks      | elapsed:  2.5min\n",
      "[Parallel(n_jobs=-1)]: Done 228400 tasks      | elapsed:  2.9min\n",
      "[Parallel(n_jobs=-1)]: Done 256400 tasks      | elapsed:  3.3min\n",
      "[Parallel(n_jobs=-1)]: Done 286000 tasks      | elapsed:  3.8min\n",
      "[Parallel(n_jobs=-1)]: Done 288800 out of 288800 | elapsed:  3.8min finished\n"
     ]
    }
   ],
   "source": [
    "tree_clf = DecisionTreeClassifier()\n",
    "\n",
    "params = {'criterion': ['gini', 'entropy'],\n",
    "          'splitter': ['best', 'random'],\n",
    "          'max_depth': range(2, 12),\n",
    "          'min_samples_split': range(5, 100, 5),\n",
    "          'max_features': [None, 'auto', 'sqrt', 'log2'], \n",
    "          'max_leaf_nodes': range(5, 100, 5)}\n",
    "\n",
    "gridsearch = GridSearchCV(estimator = tree_clf, \n",
    "                          param_grid = params,\n",
    "                          n_jobs = -1,\n",
    "                          verbose = 1,\n",
    "                          cv = 5,\n",
    "                          scoring = 'accuracy',\n",
    "                          return_train_score= True)\n",
    "\n",
    "gridsearch = gridsearch.fit(X_train, y_train)"
   ]
  },
  {
   "cell_type": "code",
   "execution_count": 124,
   "metadata": {},
   "outputs": [
    {
     "data": {
      "text/plain": [
       "DecisionTreeClassifier(ccp_alpha=0.0, class_weight=None, criterion='entropy',\n",
       "                       max_depth=5, max_features=None, max_leaf_nodes=75,\n",
       "                       min_impurity_decrease=0.0, min_impurity_split=None,\n",
       "                       min_samples_leaf=1, min_samples_split=80,\n",
       "                       min_weight_fraction_leaf=0.0, presort='deprecated',\n",
       "                       random_state=None, splitter='random')"
      ]
     },
     "execution_count": 124,
     "metadata": {},
     "output_type": "execute_result"
    }
   ],
   "source": [
    "gridsearch.best_estimator_"
   ]
  },
  {
   "cell_type": "code",
   "execution_count": 125,
   "metadata": {},
   "outputs": [
    {
     "data": {
      "text/plain": [
       "0.4976784144489731"
      ]
     },
     "execution_count": 125,
     "metadata": {},
     "output_type": "execute_result"
    }
   ],
   "source": [
    "gridsearch.best_score_"
   ]
  },
  {
   "cell_type": "code",
   "execution_count": 126,
   "metadata": {},
   "outputs": [
    {
     "data": {
      "text/html": [
       "<div>\n",
       "<style scoped>\n",
       "    .dataframe tbody tr th:only-of-type {\n",
       "        vertical-align: middle;\n",
       "    }\n",
       "\n",
       "    .dataframe tbody tr th {\n",
       "        vertical-align: top;\n",
       "    }\n",
       "\n",
       "    .dataframe thead th {\n",
       "        text-align: right;\n",
       "    }\n",
       "</style>\n",
       "<table border=\"1\" class=\"dataframe\">\n",
       "  <thead>\n",
       "    <tr style=\"text-align: right;\">\n",
       "      <th></th>\n",
       "      <th>mean_train_score</th>\n",
       "      <th>std_train_score</th>\n",
       "      <th>params</th>\n",
       "    </tr>\n",
       "  </thead>\n",
       "  <tbody>\n",
       "    <tr>\n",
       "      <th>26678</th>\n",
       "      <td>0.638604</td>\n",
       "      <td>0.010596</td>\n",
       "      <td>{'criterion': 'gini', 'max_depth': 11, 'max_fe...</td>\n",
       "    </tr>\n",
       "    <tr>\n",
       "      <th>26676</th>\n",
       "      <td>0.637830</td>\n",
       "      <td>0.009147</td>\n",
       "      <td>{'criterion': 'gini', 'max_depth': 11, 'max_fe...</td>\n",
       "    </tr>\n",
       "    <tr>\n",
       "      <th>26680</th>\n",
       "      <td>0.634607</td>\n",
       "      <td>0.011973</td>\n",
       "      <td>{'criterion': 'gini', 'max_depth': 11, 'max_fe...</td>\n",
       "    </tr>\n",
       "    <tr>\n",
       "      <th>23788</th>\n",
       "      <td>0.632544</td>\n",
       "      <td>0.009375</td>\n",
       "      <td>{'criterion': 'gini', 'max_depth': 10, 'max_fe...</td>\n",
       "    </tr>\n",
       "    <tr>\n",
       "      <th>26682</th>\n",
       "      <td>0.631641</td>\n",
       "      <td>0.010234</td>\n",
       "      <td>{'criterion': 'gini', 'max_depth': 11, 'max_fe...</td>\n",
       "    </tr>\n",
       "    <tr>\n",
       "      <th>26638</th>\n",
       "      <td>0.631383</td>\n",
       "      <td>0.009954</td>\n",
       "      <td>{'criterion': 'gini', 'max_depth': 11, 'max_fe...</td>\n",
       "    </tr>\n",
       "    <tr>\n",
       "      <th>26640</th>\n",
       "      <td>0.631254</td>\n",
       "      <td>0.009579</td>\n",
       "      <td>{'criterion': 'gini', 'max_depth': 11, 'max_fe...</td>\n",
       "    </tr>\n",
       "    <tr>\n",
       "      <th>26642</th>\n",
       "      <td>0.630868</td>\n",
       "      <td>0.011431</td>\n",
       "      <td>{'criterion': 'gini', 'max_depth': 11, 'max_fe...</td>\n",
       "    </tr>\n",
       "    <tr>\n",
       "      <th>23790</th>\n",
       "      <td>0.629965</td>\n",
       "      <td>0.011000</td>\n",
       "      <td>{'criterion': 'gini', 'max_depth': 10, 'max_fe...</td>\n",
       "    </tr>\n",
       "    <tr>\n",
       "      <th>23750</th>\n",
       "      <td>0.628804</td>\n",
       "      <td>0.008842</td>\n",
       "      <td>{'criterion': 'gini', 'max_depth': 10, 'max_fe...</td>\n",
       "    </tr>\n",
       "  </tbody>\n",
       "</table>\n",
       "</div>"
      ],
      "text/plain": [
       "       mean_train_score  std_train_score  \\\n",
       "26678          0.638604         0.010596   \n",
       "26676          0.637830         0.009147   \n",
       "26680          0.634607         0.011973   \n",
       "23788          0.632544         0.009375   \n",
       "26682          0.631641         0.010234   \n",
       "26638          0.631383         0.009954   \n",
       "26640          0.631254         0.009579   \n",
       "26642          0.630868         0.011431   \n",
       "23790          0.629965         0.011000   \n",
       "23750          0.628804         0.008842   \n",
       "\n",
       "                                                  params  \n",
       "26678  {'criterion': 'gini', 'max_depth': 11, 'max_fe...  \n",
       "26676  {'criterion': 'gini', 'max_depth': 11, 'max_fe...  \n",
       "26680  {'criterion': 'gini', 'max_depth': 11, 'max_fe...  \n",
       "23788  {'criterion': 'gini', 'max_depth': 10, 'max_fe...  \n",
       "26682  {'criterion': 'gini', 'max_depth': 11, 'max_fe...  \n",
       "26638  {'criterion': 'gini', 'max_depth': 11, 'max_fe...  \n",
       "26640  {'criterion': 'gini', 'max_depth': 11, 'max_fe...  \n",
       "26642  {'criterion': 'gini', 'max_depth': 11, 'max_fe...  \n",
       "23790  {'criterion': 'gini', 'max_depth': 10, 'max_fe...  \n",
       "23750  {'criterion': 'gini', 'max_depth': 10, 'max_fe...  "
      ]
     },
     "execution_count": 126,
     "metadata": {},
     "output_type": "execute_result"
    }
   ],
   "source": [
    "results = pd.DataFrame(gridsearch.cv_results_)\n",
    "results[['mean_train_score', 'std_train_score', 'params']].sort_values(by='mean_train_score', \n",
    "                                                                       ascending = False).head(10)"
   ]
  },
  {
   "cell_type": "code",
   "execution_count": 128,
   "metadata": {},
   "outputs": [],
   "source": [
    "pr.push_results('dectree_gs', 'DecisionTreeClassifier', 'Grid Search', gridsearch.best_score_)\n",
    "\n",
    "# results_dict.update({'dtree_gs': ['DecisionTreeClassifier',\n",
    "#                           'Grid Search',\n",
    "#                           gridsearch.best_score_]})"
   ]
  },
  {
   "cell_type": "code",
   "execution_count": 106,
   "metadata": {},
   "outputs": [],
   "source": [
    "# pickle_out = open('../data/model_results/model_results.pickle', 'wb')\n",
    "# pickle.dump(results_dict, pickle_out)\n",
    "# pickle_out.close()"
   ]
  },
  {
   "cell_type": "code",
   "execution_count": null,
   "metadata": {},
   "outputs": [],
   "source": []
  }
 ],
 "metadata": {
  "kernelspec": {
   "display_name": "Python 3",
   "language": "python",
   "name": "python3"
  },
  "language_info": {
   "codemirror_mode": {
    "name": "ipython",
    "version": 3
   },
   "file_extension": ".py",
   "mimetype": "text/x-python",
   "name": "python",
   "nbconvert_exporter": "python",
   "pygments_lexer": "ipython3",
   "version": "3.7.7"
  }
 },
 "nbformat": 4,
 "nbformat_minor": 4
}
