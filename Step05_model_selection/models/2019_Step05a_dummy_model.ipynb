{
 "cells": [
  {
   "cell_type": "markdown",
   "metadata": {},
   "source": [
    "# DummyClassifier Modeling\n",
    "Creates a baseline model for comparison against other models"
   ]
  },
  {
   "cell_type": "code",
   "execution_count": 99,
   "metadata": {},
   "outputs": [],
   "source": [
    "import pandas as pd\n",
    "import numpy as np\n",
    "from sklearn.dummy import DummyClassifier\n",
    "import pickle\n",
    "# import push_results as pr"
   ]
  },
  {
   "cell_type": "code",
   "execution_count": 100,
   "metadata": {},
   "outputs": [],
   "source": [
    "filepath = '../../data/train_test_split/scherzer/2019_all_classes/'\n",
    "\n",
    "infile = open(filepath + 'X_train_ac.pickle','rb')\n",
    "X_train = pickle.load(infile)\n",
    "infile.close()\n",
    "\n",
    "infile = open(filepath + 'X_test_ac.pickle','rb')\n",
    "X_test = pickle.load(infile)\n",
    "infile.close()\n",
    "\n",
    "infile = open(filepath + 'y_train_ac.pickle','rb')\n",
    "y_train = pickle.load(infile)\n",
    "infile.close()\n",
    "\n",
    "infile = open(filepath + 'y_test_ac.pickle','rb')\n",
    "y_test = pickle.load(infile)\n",
    "infile.close()"
   ]
  },
  {
   "cell_type": "code",
   "execution_count": 101,
   "metadata": {},
   "outputs": [],
   "source": [
    "filepath = '../../data/train_test_split/scherzer/2019_three_classes/'\n",
    "\n",
    "infile = open(filepath + 'X_train_3c.pickle','rb')\n",
    "X_train_3c = pickle.load(infile)\n",
    "infile.close()\n",
    "\n",
    "infile = open(filepath + 'X_test_3c.pickle','rb')\n",
    "X_test_3c = pickle.load(infile)\n",
    "infile.close()\n",
    "\n",
    "infile = open(filepath + 'y_train_3c.pickle','rb')\n",
    "y_train_3c = pickle.load(infile)\n",
    "infile.close()\n",
    "\n",
    "infile = open(filepath + 'y_test_3c.pickle','rb')\n",
    "y_test_3c = pickle.load(infile)\n",
    "infile.close()"
   ]
  },
  {
   "cell_type": "code",
   "execution_count": 102,
   "metadata": {},
   "outputs": [],
   "source": [
    "filepath = '../../data/train_test_split/scherzer/2019_two_classes/'\n",
    "\n",
    "infile = open(filepath + 'X_train_2c.pickle','rb')\n",
    "X_train_2c = pickle.load(infile)\n",
    "infile.close()\n",
    "\n",
    "infile = open(filepath + 'X_test_2c.pickle','rb')\n",
    "X_test_2c = pickle.load(infile)\n",
    "infile.close()\n",
    "\n",
    "infile = open(filepath + 'y_train_2c.pickle','rb')\n",
    "y_train_2c = pickle.load(infile)\n",
    "infile.close()\n",
    "\n",
    "infile = open(filepath + 'y_test_2c.pickle','rb')\n",
    "y_test_2c = pickle.load(infile)\n",
    "infile.close()"
   ]
  },
  {
   "cell_type": "code",
   "execution_count": 103,
   "metadata": {},
   "outputs": [],
   "source": [
    "y_train = np.array(y_train).reshape(-1, ).astype('int')\n",
    "y_train_3c = np.array(y_train_3c).reshape(-1, ).astype('int')\n",
    "y_train_2c = np.array(y_train_2c).reshape(-1, ).astype('int')\n",
    "\n",
    "y_test = np.array(y_train).reshape(-1, ).astype('int')\n",
    "y_test_3c = np.array(y_train_3c).reshape(-1, ).astype('int')\n",
    "y_test_2c = np.array(y_train_2c).reshape(-1, ).astype('int')"
   ]
  },
  {
   "cell_type": "markdown",
   "metadata": {},
   "source": [
    "## All pitch types"
   ]
  },
  {
   "cell_type": "code",
   "execution_count": 104,
   "metadata": {},
   "outputs": [
    {
     "data": {
      "text/plain": [
       "0.48427024239298605"
      ]
     },
     "execution_count": 104,
     "metadata": {},
     "output_type": "execute_result"
    }
   ],
   "source": [
    "dummy_clf = DummyClassifier(strategy = 'most_frequent')\n",
    "dummy_clf.fit(X_train, y_train)\n",
    "dummy_clf.score(X_train, y_train)"
   ]
  },
  {
   "cell_type": "markdown",
   "metadata": {},
   "source": [
    "## Three Cases"
   ]
  },
  {
   "cell_type": "code",
   "execution_count": 105,
   "metadata": {},
   "outputs": [
    {
     "data": {
      "text/plain": [
       "0.48427024239298605"
      ]
     },
     "execution_count": 105,
     "metadata": {},
     "output_type": "execute_result"
    }
   ],
   "source": [
    "dummy_3c = DummyClassifier(strategy=\"most_frequent\")\n",
    "dummy_3c.fit(X_train_3c, y_train_3c)\n",
    "dummy_3c.score(X_train_3c, y_train_3c)"
   ]
  },
  {
   "cell_type": "markdown",
   "metadata": {},
   "source": [
    "## Two Cases"
   ]
  },
  {
   "cell_type": "code",
   "execution_count": 106,
   "metadata": {},
   "outputs": [
    {
     "data": {
      "text/plain": [
       "0.5157297576070139"
      ]
     },
     "execution_count": 106,
     "metadata": {},
     "output_type": "execute_result"
    }
   ],
   "source": [
    "dummy_2c = DummyClassifier(strategy=\"most_frequent\")\n",
    "dummy_2c.fit(X_train_2c, y_train_2c)\n",
    "dummy_2c.score(X_train_2c, y_train_2c)"
   ]
  },
  {
   "cell_type": "markdown",
   "metadata": {},
   "source": [
    "## Push model results to results dictionary"
   ]
  },
  {
   "cell_type": "code",
   "execution_count": 93,
   "metadata": {},
   "outputs": [],
   "source": [
    "# pr.push_results('Dummy_def_all_types_2019', 'Dummy', 'Default', score)\n",
    "# pr.push_results('Dummy_def_3c_2019', 'Dummy', 'Default', score_3c)\n",
    "# pr.push_results('Dummy_def_2c_2019', 'Dummy', 'Default', score_2c)"
   ]
  },
  {
   "cell_type": "code",
   "execution_count": null,
   "metadata": {},
   "outputs": [],
   "source": []
  }
 ],
 "metadata": {
  "kernelspec": {
   "display_name": "Python 3",
   "language": "python",
   "name": "python3"
  },
  "language_info": {
   "codemirror_mode": {
    "name": "ipython",
    "version": 3
   },
   "file_extension": ".py",
   "mimetype": "text/x-python",
   "name": "python",
   "nbconvert_exporter": "python",
   "pygments_lexer": "ipython3",
   "version": "3.7.7"
  }
 },
 "nbformat": 4,
 "nbformat_minor": 4
}
