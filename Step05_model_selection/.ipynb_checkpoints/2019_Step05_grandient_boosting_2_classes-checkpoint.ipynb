{
 "cells": [
  {
   "cell_type": "markdown",
   "metadata": {},
   "source": [
    "# Gradient Boosting"
   ]
  },
  {
   "cell_type": "code",
   "execution_count": 1,
   "metadata": {},
   "outputs": [],
   "source": [
    "import pandas as pd\n",
    "import numpy as np\n",
    "import pickle\n",
    "import seaborn as sns\n",
    "from sklearn.ensemble import GradientBoostingClassifier\n",
    "from sklearn.model_selection import cross_val_score\n",
    "from sklearn.model_selection import GridSearchCV\n",
    "from sklearn.model_selection import RandomizedSearchCV\n",
    "import push_results as pr"
   ]
  },
  {
   "cell_type": "code",
   "execution_count": 2,
   "metadata": {},
   "outputs": [],
   "source": [
    "filepath = '../data/train_test_split/scherzer/transformed/'\n",
    "\n",
    "infile1 = open(filepath + 'X_train_2019_trans.pickle','rb')\n",
    "X_train = pickle.load(infile1)\n",
    "infile1.close()\n",
    "\n",
    "infile2 = open(filepath + 'y_train_2c_2019_trans.pickle','rb')\n",
    "y_train = pickle.load(infile2)\n",
    "infile2.close()"
   ]
  },
  {
   "cell_type": "code",
   "execution_count": 3,
   "metadata": {},
   "outputs": [],
   "source": [
    "y_train = np.array(y_train).reshape(-1, )"
   ]
  },
  {
   "cell_type": "markdown",
   "metadata": {},
   "source": [
    "## GBC for all types of pitches"
   ]
  },
  {
   "cell_type": "code",
   "execution_count": 4,
   "metadata": {},
   "outputs": [],
   "source": [
    "gbc = GradientBoostingClassifier(random_state=31)"
   ]
  },
  {
   "cell_type": "code",
   "execution_count": 5,
   "metadata": {},
   "outputs": [
    {
     "data": {
      "text/plain": [
       "GradientBoostingClassifier(ccp_alpha=0.0, criterion='friedman_mse', init=None,\n",
       "                           learning_rate=0.1, loss='deviance', max_depth=3,\n",
       "                           max_features=None, max_leaf_nodes=None,\n",
       "                           min_impurity_decrease=0.0, min_impurity_split=None,\n",
       "                           min_samples_leaf=1, min_samples_split=2,\n",
       "                           min_weight_fraction_leaf=0.0, n_estimators=100,\n",
       "                           n_iter_no_change=None, presort='deprecated',\n",
       "                           random_state=31, subsample=1.0, tol=0.0001,\n",
       "                           validation_fraction=0.1, verbose=0,\n",
       "                           warm_start=False)"
      ]
     },
     "execution_count": 5,
     "metadata": {},
     "output_type": "execute_result"
    }
   ],
   "source": [
    "gbc.fit(X_train, y_train)"
   ]
  },
  {
   "cell_type": "code",
   "execution_count": 6,
   "metadata": {},
   "outputs": [
    {
     "data": {
      "text/plain": [
       "0.7153171738009283"
      ]
     },
     "execution_count": 6,
     "metadata": {},
     "output_type": "execute_result"
    }
   ],
   "source": [
    "gbc.score(X_train, y_train)"
   ]
  },
  {
   "cell_type": "code",
   "execution_count": 7,
   "metadata": {},
   "outputs": [],
   "source": [
    "y_pred = gbc.predict(X_train)"
   ]
  },
  {
   "cell_type": "code",
   "execution_count": 8,
   "metadata": {},
   "outputs": [],
   "source": [
    "# pr.push_results('gbc_def_v2', 'GradientBoostingClassifier', 'Default', gbc.score(X_train, y_train))\n",
    "\n",
    "# # results_dict.update({'Gradient Boosting': gbc.score(X_train, y_train)})"
   ]
  },
  {
   "cell_type": "markdown",
   "metadata": {},
   "source": [
    "## Cross validation"
   ]
  },
  {
   "cell_type": "code",
   "execution_count": 9,
   "metadata": {},
   "outputs": [],
   "source": [
    "scores = cross_val_score(gbc, X_train, y_train, cv=5, scoring= 'accuracy')"
   ]
  },
  {
   "cell_type": "code",
   "execution_count": 10,
   "metadata": {},
   "outputs": [
    {
     "data": {
      "text/plain": [
       "0.5332667359279682"
      ]
     },
     "execution_count": 10,
     "metadata": {},
     "output_type": "execute_result"
    }
   ],
   "source": [
    "np.average(scores)"
   ]
  },
  {
   "cell_type": "code",
   "execution_count": 11,
   "metadata": {},
   "outputs": [],
   "source": [
    "# pr.push_results('gbc_cv_v2', 'GradientBoostingClassifier', 'Cross Validation', gbc.score(X_train, y_train))\n",
    "\n",
    "\n",
    "# # results_dict.update({'GradientBoosting CV5': np.average(scores)})"
   ]
  },
  {
   "cell_type": "markdown",
   "metadata": {},
   "source": [
    "## GridSearch"
   ]
  },
  {
   "cell_type": "code",
   "execution_count": 12,
   "metadata": {},
   "outputs": [],
   "source": [
    "gb = GradientBoostingClassifier(verbose=-1, random_state=31)\n",
    "\n",
    "params = {'n_estimators': range(2, 200, 10), \n",
    "          'max_depth': range(2,10), \n",
    "          'max_features': ['auto', 'sqrt', 'log2'], \n",
    "          'loss': ['deviance', 'exponential'], \n",
    "          'subsample': [.9, 1, 1.5], \n",
    "          'criterion': ['friedman_mse', 'mse', 'mae']\n",
    "         }\n",
    "\n",
    "gridsearch = (GridSearchCV(estimator = gb, \n",
    "                          param_grid = params,\n",
    "                          n_jobs = -1,\n",
    "                          verbose = 1,\n",
    "                          cv = 5,\n",
    "                          scoring = 'accuracy',\n",
    "                          return_train_score= True))\n",
    "\n",
    "# gridsearch = gridsearch.fit(X_train, y_train)"
   ]
  },
  {
   "cell_type": "code",
   "execution_count": 13,
   "metadata": {},
   "outputs": [],
   "source": [
    "# gridsearch.best_score_"
   ]
  },
  {
   "cell_type": "code",
   "execution_count": 14,
   "metadata": {},
   "outputs": [],
   "source": [
    "# results_dict.update({'GrandientBoosting GS': gridsearch.best_score_})"
   ]
  },
  {
   "cell_type": "code",
   "execution_count": 15,
   "metadata": {
    "scrolled": true
   },
   "outputs": [],
   "source": [
    "# gridsearch.cv_results_;"
   ]
  },
  {
   "cell_type": "code",
   "execution_count": 16,
   "metadata": {},
   "outputs": [],
   "source": [
    "# gridsearch.cv_results_['params'][gridsearch.best_index_]"
   ]
  },
  {
   "cell_type": "code",
   "execution_count": 17,
   "metadata": {},
   "outputs": [],
   "source": [
    "# colums = ['params', 'mean_test_score', \n",
    "#           'std_test_score', 'rank_test_score',\n",
    "#           'mean_train_score', 'std_train_score']\n",
    "\n",
    "# results = pd.DataFrame(gridsearch.cv_results_)[colums]\n",
    "# df = results.sort_values(by = 'rank_test_score').head(10)"
   ]
  },
  {
   "cell_type": "code",
   "execution_count": 18,
   "metadata": {},
   "outputs": [],
   "source": [
    "# df"
   ]
  },
  {
   "cell_type": "code",
   "execution_count": 19,
   "metadata": {},
   "outputs": [],
   "source": [
    "# pickle_out = open('../data/model_results/model_results.pickle', 'wb')\n",
    "# pickle.dump(results_dict, pickle_out)\n",
    "# pickle_out.close()"
   ]
  },
  {
   "cell_type": "markdown",
   "metadata": {},
   "source": [
    "## This gridsearch took several hours, saving results below"
   ]
  },
  {
   "cell_type": "code",
   "execution_count": 20,
   "metadata": {},
   "outputs": [],
   "source": [
    "# pickle_out = open('./gbc_results/best_from_gs.pickle', 'wb')\n",
    "# pickle.dump(gridsearch.cv_results_['params'][gridsearch.best_index_], pickle_out)\n",
    "# pickle_out.close()\n",
    "\n",
    "# pickle_out = open('./gbc_results/all_gbc_results_df.pickle', 'wb')\n",
    "# pickle.dump(df, pickle_out)\n",
    "# pickle_out.close()"
   ]
  },
  {
   "cell_type": "markdown",
   "metadata": {},
   "source": [
    "## Randomized Search"
   ]
  },
  {
   "cell_type": "code",
   "execution_count": 21,
   "metadata": {},
   "outputs": [
    {
     "name": "stdout",
     "output_type": "stream",
     "text": [
      "      Iter       Train Loss   Remaining Time \n"
     ]
    },
    {
     "data": {
      "text/plain": [
       "RandomizedSearchCV(cv=15, error_score=nan,\n",
       "                   estimator=GradientBoostingClassifier(ccp_alpha=0.0,\n",
       "                                                        criterion='friedman_mse',\n",
       "                                                        init=None,\n",
       "                                                        learning_rate=0.1,\n",
       "                                                        loss='deviance',\n",
       "                                                        max_depth=3,\n",
       "                                                        max_features=None,\n",
       "                                                        max_leaf_nodes=None,\n",
       "                                                        min_impurity_decrease=0.0,\n",
       "                                                        min_impurity_split=None,\n",
       "                                                        min_samples_leaf=1,\n",
       "                                                        min_samples_split=2,\n",
       "                                                        min_weight_fraction_leaf=0.0,\n",
       "                                                        n_estimators=100,\n",
       "                                                        n_it...\n",
       "                   iid='deprecated', n_iter=10, n_jobs=-1,\n",
       "                   param_distributions={'criterion': ['friedman_mse', 'mse',\n",
       "                                                      'mae'],\n",
       "                                        'loss': ['deviance', 'exponential'],\n",
       "                                        'max_depth': range(2, 10),\n",
       "                                        'max_features': ['auto', 'sqrt',\n",
       "                                                         'log2'],\n",
       "                                        'n_estimators': range(2, 200, 10),\n",
       "                                        'subsample': [0.9, 1, 1.5]},\n",
       "                   pre_dispatch='2*n_jobs', random_state=31, refit=True,\n",
       "                   return_train_score=False, scoring=None, verbose=0)"
      ]
     },
     "execution_count": 21,
     "metadata": {},
     "output_type": "execute_result"
    }
   ],
   "source": [
    "params = {'n_estimators': range(2, 200, 10), \n",
    "          'max_depth': range(2,10), \n",
    "          'max_features': ['auto', 'sqrt', 'log2'], \n",
    "          'loss': ['deviance', 'exponential'], \n",
    "          'subsample': [.9, 1, 1.5], \n",
    "          'criterion': ['friedman_mse', 'mse', 'mae']\n",
    "         }\n",
    "\n",
    "rs = RandomizedSearchCV(gb, params, n_jobs=-1, random_state=31, cv=15)\n",
    "rs.fit(X_train, y_train)"
   ]
  },
  {
   "cell_type": "code",
   "execution_count": 22,
   "metadata": {},
   "outputs": [
    {
     "data": {
      "text/plain": [
       "{'subsample': 1,\n",
       " 'n_estimators': 92,\n",
       " 'max_features': 'auto',\n",
       " 'max_depth': 2,\n",
       " 'loss': 'deviance',\n",
       " 'criterion': 'friedman_mse'}"
      ]
     },
     "execution_count": 22,
     "metadata": {},
     "output_type": "execute_result"
    }
   ],
   "source": [
    "rs.best_params_"
   ]
  },
  {
   "cell_type": "code",
   "execution_count": 23,
   "metadata": {},
   "outputs": [
    {
     "data": {
      "text/plain": [
       "0.6482723053120165"
      ]
     },
     "execution_count": 23,
     "metadata": {},
     "output_type": "execute_result"
    }
   ],
   "source": [
    "rs.score(X_train, y_train)"
   ]
  },
  {
   "cell_type": "code",
   "execution_count": 24,
   "metadata": {},
   "outputs": [],
   "source": [
    "pr.push_results('gbc_rs_v2', 'GradientBoostingClassifier', 'Randomized Search', rs.score(X_train, y_train))\n",
    "\n",
    "# results_dict.update({'GradientBoost Randomized Search': rs.score(X_train, y_train)})"
   ]
  },
  {
   "cell_type": "code",
   "execution_count": 25,
   "metadata": {},
   "outputs": [],
   "source": [
    "# pickle_out = open('../data/model_results/model_results.pickle', 'wb')\n",
    "# pickle.dump(results_dict, pickle_out)\n",
    "# pickle_out.close()"
   ]
  },
  {
   "cell_type": "code",
   "execution_count": null,
   "metadata": {},
   "outputs": [],
   "source": []
  },
  {
   "cell_type": "code",
   "execution_count": null,
   "metadata": {},
   "outputs": [],
   "source": []
  }
 ],
 "metadata": {
  "kernelspec": {
   "display_name": "Python 3",
   "language": "python",
   "name": "python3"
  },
  "language_info": {
   "codemirror_mode": {
    "name": "ipython",
    "version": 3
   },
   "file_extension": ".py",
   "mimetype": "text/x-python",
   "name": "python",
   "nbconvert_exporter": "python",
   "pygments_lexer": "ipython3",
   "version": "3.7.7"
  }
 },
 "nbformat": 4,
 "nbformat_minor": 4
}
