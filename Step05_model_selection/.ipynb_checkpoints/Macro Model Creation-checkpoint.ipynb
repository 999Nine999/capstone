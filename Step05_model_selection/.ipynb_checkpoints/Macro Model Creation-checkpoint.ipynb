{
 "cells": [
  {
   "cell_type": "code",
   "execution_count": 1,
   "metadata": {},
   "outputs": [
    {
     "name": "stderr",
     "output_type": "stream",
     "text": [
      "/Users/algrhythm/opt/anaconda3/lib/python3.7/site-packages/sklearn/utils/deprecation.py:144: FutureWarning: The sklearn.tree.export module is  deprecated in version 0.22 and will be removed in version 0.24. The corresponding classes / functions should instead be imported from sklearn.tree. Anything that cannot be imported from sklearn.tree is now part of the private API.\n",
      "  warnings.warn(message, FutureWarning)\n"
     ]
    }
   ],
   "source": [
    "import pandas as pd\n",
    "import numpy as np\n",
    "import seaborn as sns\n",
    "import pickle\n",
    "\n",
    "import push_results as pr\n",
    "\n",
    "from sklearn.tree import DecisionTreeClassifier\n",
    "from sklearn.tree.export import export_text\n",
    "from sklearn.ensemble import RandomForestClassifier, GradientBoostingClassifier\n",
    "from sklearn.linear_model import LogisticRegression\n",
    "from sklearn.metrics import precision_recall_fscore_support\n",
    "\n",
    "from sklearn.model_selection import cross_validate,\\\n",
    "                                    cross_val_score,\\\n",
    "                                    GridSearchCV,\\\n",
    "                                    validation_curve,\\\n",
    "                                    RandomizedSearchCV\n",
    "\n",
    "import itertools"
   ]
  },
  {
   "cell_type": "code",
   "execution_count": 2,
   "metadata": {},
   "outputs": [],
   "source": [
    "# Get train data\n",
    "infile1 = open('../data/processed/X_train_trans.pickle','rb')\n",
    "X_train = pickle.load(infile1)\n",
    "infile1.close()\n",
    "\n",
    "infile2 = open('../data/processed/y_train_trans.pickle','rb')\n",
    "y_train = pickle.load(infile2)\n",
    "infile2.close()\n",
    "\n",
    "infile2 = open('../data/processed/y_train_v2.pickle','rb')\n",
    "y_train_v2 = pickle.load(infile2)\n",
    "infile2.close()"
   ]
  },
  {
   "cell_type": "code",
   "execution_count": 3,
   "metadata": {},
   "outputs": [
    {
     "data": {
      "text/plain": [
       "52"
      ]
     },
     "execution_count": 3,
     "metadata": {},
     "output_type": "execute_result"
    }
   ],
   "source": [
    "X_train.shape[1]"
   ]
  },
  {
   "cell_type": "code",
   "execution_count": 4,
   "metadata": {},
   "outputs": [
    {
     "data": {
      "text/plain": [
       "Index(['outs_when_up', 'inning', 'pitch_number', 'opp_score', 'nats_score',\n",
       "       'nats_home1_away0', 'pitch_season', 'pitch_game', 'pitch_bat_gm',\n",
       "       'total_pitches', 'abs', 'whiffs', 'swings', 'takes', 'k', 'walk',\n",
       "       'single', 'double', 'triple', 'hr', 'line_drive', 'ground_ball',\n",
       "       'fly_ball', 'popup', 'rbi', 'sac', 'ba', 'slg', 'iso', 'babip',\n",
       "       'stand_r1', 'if_standard', 'if_strategic', 'of_strategic', '0_1', '0_2',\n",
       "       '1_0', '1_1', '1_2', '2_0', '2_1', '2_2', '3_0', '3_1', '3_2',\n",
       "       'fb:0_sb:0_tb:1', 'fb:0_sb:1_tb:0', 'fb:0_sb:1_tb:1', 'fb:1_sb:0_tb:0',\n",
       "       'fb:1_sb:0_tb:1', 'fb:1_sb:1_tb:0', 'fb:1_sb:1_tb:1'],\n",
       "      dtype='object')"
      ]
     },
     "execution_count": 4,
     "metadata": {},
     "output_type": "execute_result"
    }
   ],
   "source": [
    "X_train.columns"
   ]
  },
  {
   "cell_type": "code",
   "execution_count": 5,
   "metadata": {},
   "outputs": [],
   "source": [
    "col_groups = [['outs_when_up'], ['inning'], ['pitch_number'], ['opp_score'], ['nats_score'], ['nats_home1_away0'], \n",
    "              ['pitch_season'], ['pitch_game'], ['pitch_bat_gm'], ['total_pitches'], ['abs'], ['whiffs'], \n",
    "              ['swings'], ['takes'], ['k'], ['walk'], ['single'], ['double'], ['triple'], ['hr'], \n",
    "              ['line_drive'], ['ground_ball'], ['fly_ball'], ['popup'], ['rbi'], ['sac'], ['ba'], \n",
    "              ['slg'], ['iso'], ['babip'], ['stand_r1'], ['if_standard', 'if_strategic'], ['of_strategic'], \n",
    "              ['0_1', '0_2','1_0', '1_1', '1_2', '2_0', '2_1', '2_2', '3_0', '3_1', '3_2'],\n",
    "              ['fb:0_sb:0_tb:1', 'fb:0_sb:1_tb:0', 'fb:0_sb:1_tb:1', 'fb:1_sb:0_tb:0',\n",
    "               'fb:1_sb:0_tb:1', 'fb:1_sb:1_tb:0', 'fb:1_sb:1_tb:1']]"
   ]
  },
  {
   "cell_type": "code",
   "execution_count": null,
   "metadata": {},
   "outputs": [
    {
     "name": "stdout",
     "output_type": "stream",
     "text": [
      "Combo object created for r equal to 2\n",
      "Combo list created for r equal to 2\n",
      "Combos created for r equal to 2\n",
      "Combo object created for r equal to 7\n",
      "Combo list created for r equal to 7\n"
     ]
    }
   ],
   "source": [
    "# all_combinations = []\n",
    "# counter = 1\n",
    "\n",
    "# for r in range(2, X_train.shape[1], 5):\n",
    "#     combinations_object = itertools.combinations(col_groups, r)\n",
    "#     print('Combo object created for r equal to {}'.format(r))\n",
    "#     combinations_list = list(combinations_object)\n",
    "#     print('Combo list created for r equal to {}'.format(r))\n",
    "    \n",
    "#     for c in combinations_list:\n",
    "#         loop_list = [val for sublist in c for val in sublist]\n",
    "#         all_combinations.append(loop_list)\n",
    "    \n",
    "#     print('Combos created for r equal to {}'.format(r))\n",
    "#     counter += 1"
   ]
  },
  {
   "cell_type": "code",
   "execution_count": null,
   "metadata": {},
   "outputs": [],
   "source": [
    "for r in range(2, X_train.shape[1], 5):\n",
    "    print(r)"
   ]
  },
  {
   "cell_type": "code",
   "execution_count": null,
   "metadata": {},
   "outputs": [],
   "source": [
    "all_combinations"
   ]
  },
  {
   "cell_type": "markdown",
   "metadata": {},
   "source": [
    "## Let's loop a GBC"
   ]
  },
  {
   "cell_type": "code",
   "execution_count": null,
   "metadata": {},
   "outputs": [],
   "source": []
  },
  {
   "cell_type": "code",
   "execution_count": null,
   "metadata": {},
   "outputs": [],
   "source": [
    "gbc = GradientBoostingClassifier()\n",
    "gbc.fit(X_train, y_train_v2)\n",
    "score = gbc.score(X_train, y_train)\n",
    "cv_score = cross_val_score(gbc, X_train, y_train, cv=5, scoring= 'accuracy')"
   ]
  },
  {
   "cell_type": "code",
   "execution_count": null,
   "metadata": {},
   "outputs": [],
   "source": []
  },
  {
   "cell_type": "code",
   "execution_count": null,
   "metadata": {},
   "outputs": [],
   "source": []
  },
  {
   "cell_type": "code",
   "execution_count": null,
   "metadata": {},
   "outputs": [],
   "source": []
  },
  {
   "cell_type": "code",
   "execution_count": null,
   "metadata": {},
   "outputs": [],
   "source": []
  },
  {
   "cell_type": "code",
   "execution_count": null,
   "metadata": {},
   "outputs": [],
   "source": []
  },
  {
   "cell_type": "code",
   "execution_count": null,
   "metadata": {},
   "outputs": [],
   "source": []
  },
  {
   "cell_type": "code",
   "execution_count": null,
   "metadata": {},
   "outputs": [],
   "source": []
  },
  {
   "cell_type": "code",
   "execution_count": null,
   "metadata": {},
   "outputs": [],
   "source": []
  }
 ],
 "metadata": {
  "kernelspec": {
   "display_name": "Python 3",
   "language": "python",
   "name": "python3"
  },
  "language_info": {
   "codemirror_mode": {
    "name": "ipython",
    "version": 3
   },
   "file_extension": ".py",
   "mimetype": "text/x-python",
   "name": "python",
   "nbconvert_exporter": "python",
   "pygments_lexer": "ipython3",
   "version": "3.7.7"
  }
 },
 "nbformat": 4,
 "nbformat_minor": 4
}
