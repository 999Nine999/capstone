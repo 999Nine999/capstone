{
 "cells": [
  {
   "cell_type": "code",
   "execution_count": 30,
   "metadata": {},
   "outputs": [],
   "source": [
    "from numpy import loadtxt\n",
    "from xgboost import XGBClassifier\n",
    "from sklearn.metrics import accuracy_score\n",
    "from sklearn.model_selection import RandomizedSearchCV\n",
    "import pandas as pd\n",
    "import numpy as np\n",
    "import pickle"
   ]
  },
  {
   "cell_type": "code",
   "execution_count": 31,
   "metadata": {},
   "outputs": [],
   "source": [
    "filepath = '../data/train_test_split/scherzer/2019_all_classes/'\n",
    "\n",
    "infile = open(filepath + 'X_train_ac.pickle','rb')\n",
    "X_train = pickle.load(infile)\n",
    "infile.close()\n",
    "\n",
    "infile = open(filepath + 'X_test_ac.pickle','rb')\n",
    "X_test = pickle.load(infile)\n",
    "infile.close()\n",
    "\n",
    "infile = open(filepath + 'y_train_ac.pickle','rb')\n",
    "y_train = pickle.load(infile)\n",
    "infile.close()\n",
    "\n",
    "infile = open(filepath + 'y_test_ac.pickle','rb')\n",
    "y_test = pickle.load(infile)\n",
    "infile.close()"
   ]
  },
  {
   "cell_type": "code",
   "execution_count": 32,
   "metadata": {},
   "outputs": [],
   "source": [
    "y_train = np.array(y_train).reshape(-1, ).astype('int')\n",
    "y_test = np.array(y_test).reshape(-1, ).astype('int')"
   ]
  },
  {
   "cell_type": "code",
   "execution_count": 33,
   "metadata": {},
   "outputs": [],
   "source": [
    "model = XGBClassifier(random_state = 31, max_depth = 1, )\n",
    "model.fit(X_train, y_train);"
   ]
  },
  {
   "cell_type": "code",
   "execution_count": 34,
   "metadata": {},
   "outputs": [
    {
     "name": "stdout",
     "output_type": "stream",
     "text": [
      "Accuracy: 45.13%\n"
     ]
    }
   ],
   "source": [
    "# make predictions for test data\n",
    "y_pred = model.predict(X_test)\n",
    "predictions = [round(value) for value in y_pred]\n",
    "# evaluate predictions\n",
    "accuracy = accuracy_score(y_test, predictions)\n",
    "print(\"Accuracy: %.2f%%\" % (accuracy * 100.0))"
   ]
  },
  {
   "cell_type": "code",
   "execution_count": 46,
   "metadata": {},
   "outputs": [
    {
     "name": "stdout",
     "output_type": "stream",
     "text": [
      "Fitting 5 folds for each of 50 candidates, totalling 250 fits\n"
     ]
    },
    {
     "name": "stderr",
     "output_type": "stream",
     "text": [
      "[Parallel(n_jobs=-1)]: Using backend LokyBackend with 16 concurrent workers.\n",
      "[Parallel(n_jobs=-1)]: Done  18 tasks      | elapsed:    0.1s\n",
      "[Parallel(n_jobs=-1)]: Done 250 out of 250 | elapsed:    0.7s finished\n"
     ]
    }
   ],
   "source": [
    "params = {'min_samples_split': [1, range(5, 50, 5)],\n",
    "         'max_depth': range(1, 25), \n",
    "         'max_features': ['sqrt', 'log', 'log2'],\n",
    "         'learning_rate': [.00001, .0001, .001, .01, .1], \n",
    "          'n_estimators': [1, range(5, 50, 5)]}\n",
    "\n",
    "rs = RandomizedSearchCV(model, params, n_jobs=-1, random_state=31, cv=5, verbose = 1, n_iter = 50)\n",
    "rs.fit(X_train, y_train);"
   ]
  },
  {
   "cell_type": "code",
   "execution_count": 48,
   "metadata": {},
   "outputs": [
    {
     "data": {
      "text/plain": [
       "(0.48375451263537905,\n",
       " {'n_estimators': 1,\n",
       "  'min_samples_split': 1,\n",
       "  'max_features': 'log',\n",
       "  'max_depth': 1,\n",
       "  'learning_rate': 0.0001})"
      ]
     },
     "execution_count": 48,
     "metadata": {},
     "output_type": "execute_result"
    }
   ],
   "source": [
    "rs.score(X_test, y_test), rs.best_params_"
   ]
  },
  {
   "cell_type": "code",
   "execution_count": null,
   "metadata": {},
   "outputs": [],
   "source": []
  }
 ],
 "metadata": {
  "kernelspec": {
   "display_name": "Python 3",
   "language": "python",
   "name": "python3"
  },
  "language_info": {
   "codemirror_mode": {
    "name": "ipython",
    "version": 3
   },
   "file_extension": ".py",
   "mimetype": "text/x-python",
   "name": "python",
   "nbconvert_exporter": "python",
   "pygments_lexer": "ipython3",
   "version": "3.7.7"
  }
 },
 "nbformat": 4,
 "nbformat_minor": 4
}
