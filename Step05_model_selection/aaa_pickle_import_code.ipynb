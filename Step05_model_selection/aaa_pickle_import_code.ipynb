{
 "cells": [
  {
   "cell_type": "markdown",
   "metadata": {},
   "source": [
    "## Pickle in"
   ]
  },
  {
   "cell_type": "code",
   "execution_count": 1,
   "metadata": {},
   "outputs": [],
   "source": [
    "import pickle\n",
    "\n",
    "infile1 = open('../data/processed/X_train_trans.pickle','rb')\n",
    "X_train = pickle.load(infile1)\n",
    "infile1.close()\n",
    "\n",
    "infile2 = open('../data/processed/y_train_trans.pickle','rb')\n",
    "y_train = pickle.load(infile2)\n",
    "infile2.close()\n",
    "\n",
    "infile3 = open('../data/model_results/model_results.pickle','rb')\n",
    "results_dict = pickle.load(infile3)\n",
    "infile3.close()"
   ]
  },
  {
   "cell_type": "markdown",
   "metadata": {},
   "source": [
    "## Pickle out"
   ]
  },
  {
   "cell_type": "code",
   "execution_count": 2,
   "metadata": {},
   "outputs": [],
   "source": [
    "# pickle_out = open('../data/processed/X_train_trans.pickle', 'wb')\n",
    "# pickle.dump(X_train_trans, pickle_out)\n",
    "# pickle_out.close()\n",
    "    \n",
    "# pickle_out = open('../data/processed/y_train_trans.pickle', 'wb')\n",
    "# pickle.dump(y_train_trans, pickle_out)\n",
    "# pickle_out.close()\n",
    "\n",
    "# pickle_out = open('../data/model_results/model_results.pickle', 'wb')\n",
    "# pickle.dump(results_dict, pickle_out)\n",
    "# pickle_out.close()"
   ]
  },
  {
   "cell_type": "code",
   "execution_count": null,
   "metadata": {},
   "outputs": [],
   "source": []
  }
 ],
 "metadata": {
  "kernelspec": {
   "display_name": "Python 3",
   "language": "python",
   "name": "python3"
  },
  "language_info": {
   "codemirror_mode": {
    "name": "ipython",
    "version": 3
   },
   "file_extension": ".py",
   "mimetype": "text/x-python",
   "name": "python",
   "nbconvert_exporter": "python",
   "pygments_lexer": "ipython3",
   "version": "3.7.7"
  }
 },
 "nbformat": 4,
 "nbformat_minor": 4
}
