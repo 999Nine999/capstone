{
 "cells": [
  {
   "cell_type": "markdown",
   "metadata": {},
   "source": [
    "# Step01a: Data Cleaning\n",
    "In this notebook we'll clean the data."
   ]
  },
  {
   "cell_type": "markdown",
   "metadata": {},
   "source": [
    "## Import packages"
   ]
  },
  {
   "cell_type": "code",
   "execution_count": 1,
   "metadata": {},
   "outputs": [],
   "source": [
    "import pandas as pd\n",
    "import numpy as np\n",
    "import seaborn as sns\n",
    "import matplotlib as plt\n",
    "%matplotlib inline"
   ]
  },
  {
   "cell_type": "code",
   "execution_count": 2,
   "metadata": {},
   "outputs": [],
   "source": [
    "pitches = pd.read_csv('../../data/savant/madmax_all_cols_2019.csv')\n",
    "madmax = pitches.copy()"
   ]
  },
  {
   "cell_type": "code",
   "execution_count": 3,
   "metadata": {},
   "outputs": [],
   "source": [
    "madmax.head();"
   ]
  },
  {
   "cell_type": "code",
   "execution_count": 4,
   "metadata": {},
   "outputs": [
    {
     "data": {
      "text/plain": [
       "Index(['pitch_type', 'game_date', 'release_speed', 'release_pos_x',\n",
       "       'release_pos_z', 'player_name', 'batter', 'pitcher', 'events',\n",
       "       'description', 'spin_dir', 'spin_rate_deprecated',\n",
       "       'break_angle_deprecated', 'break_length_deprecated', 'zone', 'des',\n",
       "       'game_type', 'stand', 'p_throws', 'home_team', 'away_team', 'type',\n",
       "       'hit_location', 'bb_type', 'balls', 'strikes', 'game_year', 'pfx_x',\n",
       "       'pfx_z', 'plate_x', 'plate_z', 'on_3b', 'on_2b', 'on_1b',\n",
       "       'outs_when_up', 'inning', 'inning_topbot', 'hc_x', 'hc_y',\n",
       "       'tfs_deprecated', 'tfs_zulu_deprecated', 'fielder_2', 'umpire', 'sv_id',\n",
       "       'vx0', 'vy0', 'vz0', 'ax', 'ay', 'az', 'sz_top', 'sz_bot',\n",
       "       'hit_distance_sc', 'launch_speed', 'launch_angle', 'effective_speed',\n",
       "       'release_spin_rate', 'release_extension', 'game_pk', 'pitcher.1',\n",
       "       'fielder_2.1', 'fielder_3', 'fielder_4', 'fielder_5', 'fielder_6',\n",
       "       'fielder_7', 'fielder_8', 'fielder_9', 'release_pos_y',\n",
       "       'estimated_ba_using_speedangle', 'estimated_woba_using_speedangle',\n",
       "       'woba_value', 'woba_denom', 'babip_value', 'iso_value',\n",
       "       'launch_speed_angle', 'at_bat_number', 'pitch_number', 'pitch_name',\n",
       "       'home_score', 'away_score', 'bat_score', 'fld_score', 'post_away_score',\n",
       "       'post_home_score', 'post_bat_score', 'post_fld_score',\n",
       "       'if_fielding_alignment', 'of_fielding_alignment'],\n",
       "      dtype='object')"
      ]
     },
     "execution_count": 4,
     "metadata": {},
     "output_type": "execute_result"
    }
   ],
   "source": [
    "madmax.columns"
   ]
  },
  {
   "cell_type": "markdown",
   "metadata": {},
   "source": [
    "## Columns to lowercase and replace spaces with '_'"
   ]
  },
  {
   "cell_type": "code",
   "execution_count": 5,
   "metadata": {},
   "outputs": [],
   "source": [
    "new_cols = []\n",
    "\n",
    "for c in madmax.columns:\n",
    "    c = c.lower()\n",
    "    c = c.replace(' ', '_')\n",
    "    c = c.replace('(', '')\n",
    "    c = c.replace(')', '')\n",
    "    c = c.replace('_°', '')\n",
    "    new_cols.append(c)\n",
    "    \n",
    "madmax.columns = new_cols"
   ]
  },
  {
   "cell_type": "code",
   "execution_count": 6,
   "metadata": {},
   "outputs": [
    {
     "data": {
      "text/plain": [
       "(2770, 89)"
      ]
     },
     "execution_count": 6,
     "metadata": {},
     "output_type": "execute_result"
    }
   ],
   "source": [
    "madmax.shape"
   ]
  },
  {
   "cell_type": "code",
   "execution_count": 7,
   "metadata": {},
   "outputs": [
    {
     "data": {
      "text/plain": [
       "Index(['pitch_type', 'game_date', 'release_speed', 'release_pos_x',\n",
       "       'release_pos_z', 'player_name', 'batter', 'pitcher', 'events',\n",
       "       'description', 'spin_dir', 'spin_rate_deprecated',\n",
       "       'break_angle_deprecated', 'break_length_deprecated', 'zone', 'des',\n",
       "       'game_type', 'stand', 'p_throws', 'home_team', 'away_team', 'type',\n",
       "       'hit_location', 'bb_type', 'balls', 'strikes', 'game_year', 'pfx_x',\n",
       "       'pfx_z', 'plate_x', 'plate_z', 'on_3b', 'on_2b', 'on_1b',\n",
       "       'outs_when_up', 'inning', 'inning_topbot', 'hc_x', 'hc_y',\n",
       "       'tfs_deprecated', 'tfs_zulu_deprecated', 'fielder_2', 'umpire', 'sv_id',\n",
       "       'vx0', 'vy0', 'vz0', 'ax', 'ay', 'az', 'sz_top', 'sz_bot',\n",
       "       'hit_distance_sc', 'launch_speed', 'launch_angle', 'effective_speed',\n",
       "       'release_spin_rate', 'release_extension', 'game_pk', 'pitcher.1',\n",
       "       'fielder_2.1', 'fielder_3', 'fielder_4', 'fielder_5', 'fielder_6',\n",
       "       'fielder_7', 'fielder_8', 'fielder_9', 'release_pos_y',\n",
       "       'estimated_ba_using_speedangle', 'estimated_woba_using_speedangle',\n",
       "       'woba_value', 'woba_denom', 'babip_value', 'iso_value',\n",
       "       'launch_speed_angle', 'at_bat_number', 'pitch_number', 'pitch_name',\n",
       "       'home_score', 'away_score', 'bat_score', 'fld_score', 'post_away_score',\n",
       "       'post_home_score', 'post_bat_score', 'post_fld_score',\n",
       "       'if_fielding_alignment', 'of_fielding_alignment'],\n",
       "      dtype='object')"
      ]
     },
     "execution_count": 7,
     "metadata": {},
     "output_type": "execute_result"
    }
   ],
   "source": [
    "madmax.columns"
   ]
  },
  {
   "cell_type": "markdown",
   "metadata": {},
   "source": [
    "## Ok, there are 89 columns and not all are important for this experiement.  Let's make a few prelininary column removals."
   ]
  },
  {
   "cell_type": "markdown",
   "metadata": {},
   "source": [
    "### Of the 89 columns, the following pertain to the experiment:\n",
    "- pitch_type\n",
    "- game_date (for purposes of discovering the sequential order of pitches for creatin of new features)\n",
    "- release_speed\n",
    "- events \n",
    "- description\n",
    "- zone\n",
    "- des\n",
    "- stand\n",
    "- home_team\n",
    "- away_team\n",
    "- type\n",
    "- balls\n",
    "- strikes\n",
    "- on_3b\n",
    "- on_2b\n",
    "- on_1b\n",
    "- outs_when_up\n",
    "- inning\n",
    "- inning_topbot\n",
    "- sv_id\n",
    "- release_spin_rate\n",
    "- pitch_number\n",
    "- pitch_name\n",
    "- home_score\n",
    "- away_score\n",
    "- bat_score\n",
    "- fld_score\n",
    "- if_fielding_alignment\n",
    "- of_fielding_alignment"
   ]
  },
  {
   "cell_type": "code",
   "execution_count": 8,
   "metadata": {},
   "outputs": [],
   "source": [
    "keep_cols = ['pitch_type', 'game_date', 'batter', 'release_speed', 'events', 'description', 'zone', 'des', 'stand',\n",
    "            'home_team', 'away_team', 'type', 'balls', 'strikes', 'on_3b', 'on_2b', 'on_1b', 'outs_when_up',\n",
    "            'inning', 'inning_topbot', 'sv_id', 'release_spin_rate', 'pitch_number', 'pitch_name', 'bat_score', \n",
    "             'fld_score', 'if_fielding_alignment', 'of_fielding_alignment']"
   ]
  },
  {
   "cell_type": "code",
   "execution_count": 9,
   "metadata": {},
   "outputs": [],
   "source": [
    "madmax = madmax[keep_cols]"
   ]
  },
  {
   "cell_type": "code",
   "execution_count": 10,
   "metadata": {},
   "outputs": [
    {
     "data": {
      "text/plain": [
       "Index(['pitch_type', 'game_date', 'batter', 'release_speed', 'events',\n",
       "       'description', 'zone', 'des', 'stand', 'home_team', 'away_team', 'type',\n",
       "       'balls', 'strikes', 'on_3b', 'on_2b', 'on_1b', 'outs_when_up', 'inning',\n",
       "       'inning_topbot', 'sv_id', 'release_spin_rate', 'pitch_number',\n",
       "       'pitch_name', 'bat_score', 'fld_score', 'if_fielding_alignment',\n",
       "       'of_fielding_alignment'],\n",
       "      dtype='object')"
      ]
     },
     "execution_count": 10,
     "metadata": {},
     "output_type": "execute_result"
    }
   ],
   "source": [
    "madmax.columns"
   ]
  },
  {
   "cell_type": "markdown",
   "metadata": {},
   "source": [
    "## Columns look good, lets go through the data one column at a time\n",
    "We will review the data in each column in order to assess its importance, the handling of null values, and any other issues we may come across"
   ]
  },
  {
   "cell_type": "code",
   "execution_count": 11,
   "metadata": {},
   "outputs": [
    {
     "data": {
      "text/plain": [
       "'\\nReviews -> pitchers\\nPitches -> words\\nSentences -> inning\\ndoc -> game\\n\\nlstm...???\\n\\nFind best baseball scout, what would be there accuracy in terms of pitch outcome -> upperline expectation\\n\\nPitch type, location... focus on one only (location)\\n\\n90% sure lstm can be used... need a sequential model ->  What people doing with this type of data and \\n    sequential models as well.\\n    \\nAndrew Ng vids for sequential models\\n\\n'"
      ]
     },
     "execution_count": 11,
     "metadata": {},
     "output_type": "execute_result"
    }
   ],
   "source": [
    "madmax.sort_values(by='sv_id')\n",
    "# sv_id functions as an ID that sorts pitches over time.  Order will be required to pitch count calculations.\n",
    "\n",
    "## For hitters, singles, doubles, triples, hrs cumulative up to that game (juicy part of data)\n",
    "\n",
    "'''\n",
    "Reviews -> pitchers\n",
    "Pitches -> words\n",
    "Sentences -> inning\n",
    "doc -> game\n",
    "\n",
    "lstm...???\n",
    "\n",
    "Find best baseball scout, what would be there accuracy in terms of pitch outcome -> upperline expectation\n",
    "\n",
    "Pitch type, location... focus on one only (location)\n",
    "\n",
    "90% sure lstm can be used... need a sequential model ->  What people doing with this type of data and \n",
    "    sequential models as well.\n",
    "    \n",
    "Andrew Ng vids for sequential models\n",
    "\n",
    "'''"
   ]
  },
  {
   "cell_type": "code",
   "execution_count": 12,
   "metadata": {},
   "outputs": [
    {
     "data": {
      "text/html": [
       "<div>\n",
       "<style scoped>\n",
       "    .dataframe tbody tr th:only-of-type {\n",
       "        vertical-align: middle;\n",
       "    }\n",
       "\n",
       "    .dataframe tbody tr th {\n",
       "        vertical-align: top;\n",
       "    }\n",
       "\n",
       "    .dataframe thead th {\n",
       "        text-align: right;\n",
       "    }\n",
       "</style>\n",
       "<table border=\"1\" class=\"dataframe\">\n",
       "  <thead>\n",
       "    <tr style=\"text-align: right;\">\n",
       "      <th></th>\n",
       "      <th>pitch_type</th>\n",
       "      <th>game_date</th>\n",
       "      <th>batter</th>\n",
       "      <th>release_speed</th>\n",
       "      <th>events</th>\n",
       "      <th>description</th>\n",
       "      <th>zone</th>\n",
       "      <th>des</th>\n",
       "      <th>stand</th>\n",
       "      <th>home_team</th>\n",
       "      <th>...</th>\n",
       "      <th>inning</th>\n",
       "      <th>inning_topbot</th>\n",
       "      <th>sv_id</th>\n",
       "      <th>release_spin_rate</th>\n",
       "      <th>pitch_number</th>\n",
       "      <th>pitch_name</th>\n",
       "      <th>bat_score</th>\n",
       "      <th>fld_score</th>\n",
       "      <th>if_fielding_alignment</th>\n",
       "      <th>of_fielding_alignment</th>\n",
       "    </tr>\n",
       "  </thead>\n",
       "  <tbody>\n",
       "    <tr>\n",
       "      <th>0</th>\n",
       "      <td>FF</td>\n",
       "      <td>2019-09-24</td>\n",
       "      <td>656514</td>\n",
       "      <td>92.7</td>\n",
       "      <td>field_out</td>\n",
       "      <td>hit_into_play</td>\n",
       "      <td>6.0</td>\n",
       "      <td>Adam Haseley flies out to center fielder Victo...</td>\n",
       "      <td>L</td>\n",
       "      <td>WSH</td>\n",
       "      <td>...</td>\n",
       "      <td>6</td>\n",
       "      <td>Top</td>\n",
       "      <td>190925_005920</td>\n",
       "      <td>2299.0</td>\n",
       "      <td>1</td>\n",
       "      <td>4-Seam Fastball</td>\n",
       "      <td>4</td>\n",
       "      <td>2</td>\n",
       "      <td>Infield shift</td>\n",
       "      <td>Standard</td>\n",
       "    </tr>\n",
       "    <tr>\n",
       "      <th>1</th>\n",
       "      <td>CH</td>\n",
       "      <td>2019-09-24</td>\n",
       "      <td>664068</td>\n",
       "      <td>84.4</td>\n",
       "      <td>single</td>\n",
       "      <td>hit_into_play_no_out</td>\n",
       "      <td>9.0</td>\n",
       "      <td>Scott Kingery singles on a soft ground ball to...</td>\n",
       "      <td>R</td>\n",
       "      <td>WSH</td>\n",
       "      <td>...</td>\n",
       "      <td>6</td>\n",
       "      <td>Top</td>\n",
       "      <td>190925_005823</td>\n",
       "      <td>1494.0</td>\n",
       "      <td>5</td>\n",
       "      <td>Changeup</td>\n",
       "      <td>4</td>\n",
       "      <td>2</td>\n",
       "      <td>Standard</td>\n",
       "      <td>Standard</td>\n",
       "    </tr>\n",
       "    <tr>\n",
       "      <th>2</th>\n",
       "      <td>FF</td>\n",
       "      <td>2019-09-24</td>\n",
       "      <td>664068</td>\n",
       "      <td>97.4</td>\n",
       "      <td>NaN</td>\n",
       "      <td>foul</td>\n",
       "      <td>8.0</td>\n",
       "      <td>NaN</td>\n",
       "      <td>R</td>\n",
       "      <td>WSH</td>\n",
       "      <td>...</td>\n",
       "      <td>6</td>\n",
       "      <td>Top</td>\n",
       "      <td>190925_005750</td>\n",
       "      <td>2465.0</td>\n",
       "      <td>4</td>\n",
       "      <td>4-Seam Fastball</td>\n",
       "      <td>4</td>\n",
       "      <td>2</td>\n",
       "      <td>Standard</td>\n",
       "      <td>Standard</td>\n",
       "    </tr>\n",
       "    <tr>\n",
       "      <th>3</th>\n",
       "      <td>SL</td>\n",
       "      <td>2019-09-24</td>\n",
       "      <td>664068</td>\n",
       "      <td>84.8</td>\n",
       "      <td>NaN</td>\n",
       "      <td>ball</td>\n",
       "      <td>14.0</td>\n",
       "      <td>NaN</td>\n",
       "      <td>R</td>\n",
       "      <td>WSH</td>\n",
       "      <td>...</td>\n",
       "      <td>6</td>\n",
       "      <td>Top</td>\n",
       "      <td>190925_005726</td>\n",
       "      <td>2295.0</td>\n",
       "      <td>3</td>\n",
       "      <td>Slider</td>\n",
       "      <td>4</td>\n",
       "      <td>2</td>\n",
       "      <td>Standard</td>\n",
       "      <td>Standard</td>\n",
       "    </tr>\n",
       "    <tr>\n",
       "      <th>4</th>\n",
       "      <td>CU</td>\n",
       "      <td>2019-09-24</td>\n",
       "      <td>664068</td>\n",
       "      <td>79.1</td>\n",
       "      <td>NaN</td>\n",
       "      <td>foul</td>\n",
       "      <td>4.0</td>\n",
       "      <td>NaN</td>\n",
       "      <td>R</td>\n",
       "      <td>WSH</td>\n",
       "      <td>...</td>\n",
       "      <td>6</td>\n",
       "      <td>Top</td>\n",
       "      <td>190925_005705</td>\n",
       "      <td>2818.0</td>\n",
       "      <td>2</td>\n",
       "      <td>Curveball</td>\n",
       "      <td>4</td>\n",
       "      <td>2</td>\n",
       "      <td>Standard</td>\n",
       "      <td>Standard</td>\n",
       "    </tr>\n",
       "  </tbody>\n",
       "</table>\n",
       "<p>5 rows × 28 columns</p>\n",
       "</div>"
      ],
      "text/plain": [
       "  pitch_type   game_date  batter  release_speed     events  \\\n",
       "0         FF  2019-09-24  656514           92.7  field_out   \n",
       "1         CH  2019-09-24  664068           84.4     single   \n",
       "2         FF  2019-09-24  664068           97.4        NaN   \n",
       "3         SL  2019-09-24  664068           84.8        NaN   \n",
       "4         CU  2019-09-24  664068           79.1        NaN   \n",
       "\n",
       "            description  zone  \\\n",
       "0         hit_into_play   6.0   \n",
       "1  hit_into_play_no_out   9.0   \n",
       "2                  foul   8.0   \n",
       "3                  ball  14.0   \n",
       "4                  foul   4.0   \n",
       "\n",
       "                                                 des stand home_team  ...  \\\n",
       "0  Adam Haseley flies out to center fielder Victo...     L       WSH  ...   \n",
       "1  Scott Kingery singles on a soft ground ball to...     R       WSH  ...   \n",
       "2                                                NaN     R       WSH  ...   \n",
       "3                                                NaN     R       WSH  ...   \n",
       "4                                                NaN     R       WSH  ...   \n",
       "\n",
       "  inning inning_topbot          sv_id  release_spin_rate  pitch_number  \\\n",
       "0      6           Top  190925_005920             2299.0             1   \n",
       "1      6           Top  190925_005823             1494.0             5   \n",
       "2      6           Top  190925_005750             2465.0             4   \n",
       "3      6           Top  190925_005726             2295.0             3   \n",
       "4      6           Top  190925_005705             2818.0             2   \n",
       "\n",
       "        pitch_name  bat_score  fld_score  if_fielding_alignment  \\\n",
       "0  4-Seam Fastball          4          2          Infield shift   \n",
       "1         Changeup          4          2               Standard   \n",
       "2  4-Seam Fastball          4          2               Standard   \n",
       "3           Slider          4          2               Standard   \n",
       "4        Curveball          4          2               Standard   \n",
       "\n",
       "  of_fielding_alignment  \n",
       "0              Standard  \n",
       "1              Standard  \n",
       "2              Standard  \n",
       "3              Standard  \n",
       "4              Standard  \n",
       "\n",
       "[5 rows x 28 columns]"
      ]
     },
     "execution_count": 12,
     "metadata": {},
     "output_type": "execute_result"
    }
   ],
   "source": [
    "madmax.head()"
   ]
  },
  {
   "cell_type": "markdown",
   "metadata": {},
   "source": [
    "### pitch_type\n",
    "- Variable type: Dependant, Categorical\n",
    "- Data type: string\n",
    "- Unique values: 5\n",
    "- Adding to target list"
   ]
  },
  {
   "cell_type": "code",
   "execution_count": 13,
   "metadata": {},
   "outputs": [],
   "source": [
    "targets = ['pitch_type']"
   ]
  },
  {
   "cell_type": "code",
   "execution_count": 14,
   "metadata": {},
   "outputs": [
    {
     "data": {
      "text/plain": [
       "FF    1341\n",
       "SL     573\n",
       "CH     401\n",
       "CU     241\n",
       "FC     214\n",
       "Name: pitch_type, dtype: int64"
      ]
     },
     "execution_count": 14,
     "metadata": {},
     "output_type": "execute_result"
    }
   ],
   "source": [
    "madmax.pitch_type.value_counts()"
   ]
  },
  {
   "cell_type": "markdown",
   "metadata": {},
   "source": [
    "Based on the following link, Max throws five different types of pitches <br>\n",
    "https://library.fangraphs.com/pitch-type-abbreviations-classifications/ <br><br>\n",
    "__Max's Pitch Repertoire in 2019__\n",
    "- FF: Four Seam Fastball\n",
    "- SL: Slider\n",
    "- CH: Changeup\n",
    "- CU: Curveball\n",
    "- FC: Fastball (Cutter)"
   ]
  },
  {
   "cell_type": "markdown",
   "metadata": {},
   "source": [
    "This will ultimatly be one of two targets in this study.  Looks like Max's go to pitch is the four seam fastball with the changeup and curveball representing minority classes."
   ]
  },
  {
   "cell_type": "markdown",
   "metadata": {},
   "source": [
    "### game_date"
   ]
  },
  {
   "cell_type": "code",
   "execution_count": 15,
   "metadata": {},
   "outputs": [],
   "source": [
    "# Following provides total pitch count per game\n",
    "# Will later make date either a month category or a seasonal category (spring, summer, fall)\n",
    "madmax.game_date.value_counts();"
   ]
  },
  {
   "cell_type": "markdown",
   "metadata": {},
   "source": [
    "### release_speed\n",
    "- Variable type: TBD, Continuous\n",
    "- Data type: Float\n",
    "- Number of unique Values: n/a"
   ]
  },
  {
   "cell_type": "code",
   "execution_count": 16,
   "metadata": {},
   "outputs": [
    {
     "data": {
      "text/plain": [
       "226"
      ]
     },
     "execution_count": 16,
     "metadata": {},
     "output_type": "execute_result"
    }
   ],
   "source": [
    "len(madmax.release_speed.value_counts())"
   ]
  },
  {
   "cell_type": "code",
   "execution_count": 17,
   "metadata": {},
   "outputs": [
    {
     "data": {
      "text/plain": [
       "(74.5, 98.4)"
      ]
     },
     "execution_count": 17,
     "metadata": {},
     "output_type": "execute_result"
    }
   ],
   "source": [
    "madmax.release_speed.min(), madmax.release_speed.max()"
   ]
  },
  {
   "cell_type": "code",
   "execution_count": 18,
   "metadata": {},
   "outputs": [
    {
     "data": {
      "text/plain": [
       "4.780000000000001"
      ]
     },
     "execution_count": 18,
     "metadata": {},
     "output_type": "execute_result"
    }
   ],
   "source": [
    "r = madmax.release_speed.max() - madmax.release_speed.min()\n",
    "r/5"
   ]
  },
  {
   "cell_type": "markdown",
   "metadata": {},
   "source": [
    "#### These velocities relate directly to pitch types, let's take a look at these values together"
   ]
  },
  {
   "cell_type": "code",
   "execution_count": 19,
   "metadata": {},
   "outputs": [
    {
     "data": {
      "text/plain": [
       "array(['FF', 'CH', 'SL', 'CU', 'FC'], dtype=object)"
      ]
     },
     "execution_count": 19,
     "metadata": {},
     "output_type": "execute_result"
    }
   ],
   "source": [
    "pitches = madmax.pitch_type.unique()\n",
    "pitches"
   ]
  },
  {
   "cell_type": "code",
   "execution_count": 20,
   "metadata": {},
   "outputs": [],
   "source": [
    "results = {}\n",
    "p_count = 1\n",
    "for p in pitches:\n",
    "    avg = madmax.loc[(madmax.pitch_type == p)].release_speed.mean()\n",
    "    low = madmax.loc[(madmax.pitch_type == p)].release_speed.min()\n",
    "    high = madmax.loc[(madmax.pitch_type == p)].release_speed.max()\n",
    "    i = str('p{}'.format(p_count))\n",
    "    results[i] = [p, avg, low, high]\n",
    "    p_count += 1 "
   ]
  },
  {
   "cell_type": "code",
   "execution_count": 21,
   "metadata": {},
   "outputs": [
    {
     "data": {
      "text/html": [
       "<div>\n",
       "<style scoped>\n",
       "    .dataframe tbody tr th:only-of-type {\n",
       "        vertical-align: middle;\n",
       "    }\n",
       "\n",
       "    .dataframe tbody tr th {\n",
       "        vertical-align: top;\n",
       "    }\n",
       "\n",
       "    .dataframe thead th {\n",
       "        text-align: right;\n",
       "    }\n",
       "</style>\n",
       "<table border=\"1\" class=\"dataframe\">\n",
       "  <thead>\n",
       "    <tr style=\"text-align: right;\">\n",
       "      <th></th>\n",
       "      <th>pitch_type</th>\n",
       "      <th>mean</th>\n",
       "      <th>min</th>\n",
       "      <th>max</th>\n",
       "    </tr>\n",
       "  </thead>\n",
       "  <tbody>\n",
       "    <tr>\n",
       "      <th>p1</th>\n",
       "      <td>FF</td>\n",
       "      <td>94.8526</td>\n",
       "      <td>87.3</td>\n",
       "      <td>98.4</td>\n",
       "    </tr>\n",
       "    <tr>\n",
       "      <th>p2</th>\n",
       "      <td>CH</td>\n",
       "      <td>84.2728</td>\n",
       "      <td>80.5</td>\n",
       "      <td>89.3</td>\n",
       "    </tr>\n",
       "    <tr>\n",
       "      <th>p3</th>\n",
       "      <td>SL</td>\n",
       "      <td>85.5663</td>\n",
       "      <td>82.5</td>\n",
       "      <td>88.4</td>\n",
       "    </tr>\n",
       "    <tr>\n",
       "      <th>p4</th>\n",
       "      <td>CU</td>\n",
       "      <td>78.5471</td>\n",
       "      <td>74.5</td>\n",
       "      <td>81.9</td>\n",
       "    </tr>\n",
       "    <tr>\n",
       "      <th>p5</th>\n",
       "      <td>FC</td>\n",
       "      <td>89.8257</td>\n",
       "      <td>87</td>\n",
       "      <td>93.9</td>\n",
       "    </tr>\n",
       "  </tbody>\n",
       "</table>\n",
       "</div>"
      ],
      "text/plain": [
       "   pitch_type     mean   min   max\n",
       "p1         FF  94.8526  87.3  98.4\n",
       "p2         CH  84.2728  80.5  89.3\n",
       "p3         SL  85.5663  82.5  88.4\n",
       "p4         CU  78.5471  74.5  81.9\n",
       "p5         FC  89.8257    87  93.9"
      ]
     },
     "execution_count": 21,
     "metadata": {},
     "output_type": "execute_result"
    }
   ],
   "source": [
    "results = pd.DataFrame(results).T\n",
    "results.columns = ['pitch_type', 'mean', 'min', 'max']\n",
    "results"
   ]
  },
  {
   "cell_type": "code",
   "execution_count": 22,
   "metadata": {},
   "outputs": [
    {
     "data": {
      "image/png": "[encoded data removed]",
      "text/plain": [
       "<Figure size 1116.45x595.44 with 1 Axes>"
      ]
     },
     "metadata": {
      "needs_background": "light"
     },
     "output_type": "display_data"
    }
   ],
   "source": [
    "vio = sns.catplot(x = 'pitch_type', \n",
    "            y = 'release_speed', \n",
    "            kind = 'violin', \n",
    "            data=madmax, \n",
    "            order = ['FF', 'FC', 'SL', 'CH', 'CU'], \n",
    "            palette='Blues',\n",
    "            height=8.27, \n",
    "            aspect=15/8);\n",
    "\n",
    "vio.savefig('../viz/pitch_type_speed_violins_2015_to_2019.png')"
   ]
  },
  {
   "cell_type": "markdown",
   "metadata": {},
   "source": [
    "### Key takeaway: Consider combining the slider and curveball pitches to one category\n",
    "- Good separation between four seem fastball, fastball cutter, and the change up\n",
    "- The slider and curveball exhibit closer mph than other pitches"
   ]
  },
  {
   "cell_type": "markdown",
   "metadata": {},
   "source": [
    "### events\n",
    "- This will be an interesting feature for other experiments, but not for this one\n",
    "- Adding to a kill_col list that will be used to drop all killed columns in one line at the end of this notebook"
   ]
  },
  {
   "cell_type": "code",
   "execution_count": 23,
   "metadata": {},
   "outputs": [],
   "source": [
    "madmax.events.value_counts();"
   ]
  },
  {
   "cell_type": "code",
   "execution_count": 24,
   "metadata": {},
   "outputs": [],
   "source": [
    "kill_cols = ['events']"
   ]
  },
  {
   "cell_type": "markdown",
   "metadata": {},
   "source": [
    "### description\n",
    "- Same as events just above"
   ]
  },
  {
   "cell_type": "code",
   "execution_count": 25,
   "metadata": {},
   "outputs": [],
   "source": [
    "kill_cols.append('description')"
   ]
  },
  {
   "cell_type": "markdown",
   "metadata": {},
   "source": [
    "### des\n",
    "- Don't need this columns after inspection\n",
    "    - Same reasons as events and description"
   ]
  },
  {
   "cell_type": "code",
   "execution_count": 26,
   "metadata": {},
   "outputs": [],
   "source": [
    "kill_cols.append('des')"
   ]
  },
  {
   "cell_type": "markdown",
   "metadata": {},
   "source": [
    "### release_spin_rate\n",
    "- Variable type: Independant, Continuous\n",
    "- Data type: Int\n",
    "- Unique Values: n/a"
   ]
  },
  {
   "cell_type": "code",
   "execution_count": 27,
   "metadata": {},
   "outputs": [],
   "source": [
    "madmax.release_spin_rate.describe();"
   ]
  },
  {
   "cell_type": "code",
   "execution_count": 28,
   "metadata": {},
   "outputs": [
    {
     "data": {
      "image/png": "[encoded data removed]",
      "text/plain": [
       "<Figure size 1116.45x595.44 with 1 Axes>"
      ]
     },
     "metadata": {
      "needs_background": "light"
     },
     "output_type": "display_data"
    }
   ],
   "source": [
    "cat = sns.catplot(x = 'pitch_type', \n",
    "            y = 'release_spin_rate', \n",
    "            kind = 'violin', \n",
    "            data=madmax, \n",
    "            order = ['FF', 'FC', 'SL', 'CH', 'CU'], \n",
    "            palette='Blues',\n",
    "            height=8.27, \n",
    "            aspect=15/8);\n",
    "\n",
    "cat.savefig('../viz/pitch_type_spin_violins_2015_to_2019.png')"
   ]
  },
  {
   "cell_type": "markdown",
   "metadata": {},
   "source": [
    "Wow, Mad Max's spin rate is similar for his four-seam fastball, cutter, and slider.  All though his curveball is close, to these other three values, his changeup appears to spin much less than his other pitches."
   ]
  },
  {
   "cell_type": "markdown",
   "metadata": {},
   "source": [
    "### stand\n",
    "- Is R or L for the handedness of the batter\n",
    "- Will be a categorical, independant variable\n",
    "- Relativley even totals between the two classes"
   ]
  },
  {
   "cell_type": "code",
   "execution_count": 29,
   "metadata": {},
   "outputs": [
    {
     "data": {
      "text/plain": [
       "R    1438\n",
       "L    1332\n",
       "Name: stand, dtype: int64"
      ]
     },
     "execution_count": 29,
     "metadata": {},
     "output_type": "execute_result"
    }
   ],
   "source": [
    "madmax.stand.value_counts()"
   ]
  },
  {
   "cell_type": "markdown",
   "metadata": {},
   "source": [
    "### zone\n",
    "- Variable type: Independant, Continuous\n",
    "- Data type: Int\n",
    "- Number unique Values: 13\n",
    "    - This is an integral dependant variable in the experiment and indicates where the pitch is thrown in or out of the strike zone\n",
    "    - These number 1 - 14 \n",
    "    - For example, with a right-handed hitter zone 3 is high and inside whereas for a left-handed hitter zone 3 is high and outside\n",
    "    \n",
    "<br>\n",
    "<img src='../../images/statcast_zones.png' alt='Drawing' style='width: 450px;'/><br>"
   ]
  },
  {
   "cell_type": "code",
   "execution_count": 30,
   "metadata": {},
   "outputs": [],
   "source": [
    "# zone = sns.catplot(x = 'pitch_type', \n",
    "#             y = 'zone', \n",
    "#             kind = 'swarm', \n",
    "#             data=madmax, \n",
    "#             order = ['FF', 'FC', 'SL', 'CH', 'CU'], \n",
    "#             palette='Blues',\n",
    "#             height=8.27, \n",
    "#             aspect=15/8);\n",
    "\n",
    "# zone.savefig('../viz/pitch_type_zone_swarm_2015_to_2019.png')"
   ]
  },
  {
   "cell_type": "markdown",
   "metadata": {},
   "source": [
    " __Key Takeaway:__ Need to consider combining zone with handedness of the batter to discern \"inside\" or \"outside\" categories vs. numeric values"
   ]
  },
  {
   "cell_type": "markdown",
   "metadata": {},
   "source": [
    "### home_team\n",
    "- Will be an interesting feature to explore in relation to the Nationals only"
   ]
  },
  {
   "cell_type": "code",
   "execution_count": 31,
   "metadata": {},
   "outputs": [
    {
     "data": {
      "text/plain": [
       "WSH    1518\n",
       "NYM     209\n",
       "MIA     202\n",
       "CIN     120\n",
       "DET     115\n",
       "LAD     115\n",
       "MIL     112\n",
       "STL     109\n",
       "SD      101\n",
       "ATL      98\n",
       "PIT      71\n",
       "Name: home_team, dtype: int64"
      ]
     },
     "execution_count": 31,
     "metadata": {},
     "output_type": "execute_result"
    }
   ],
   "source": [
    "madmax.home_team.value_counts()"
   ]
  },
  {
   "cell_type": "markdown",
   "metadata": {},
   "source": [
    "### nats_home1_away0 (new feature)"
   ]
  },
  {
   "cell_type": "code",
   "execution_count": 32,
   "metadata": {},
   "outputs": [],
   "source": [
    "madmax['nats_home1_away0'] = madmax.home_team.apply(lambda h: 1 if h == 'WSH' else 0)"
   ]
  },
  {
   "cell_type": "code",
   "execution_count": 33,
   "metadata": {},
   "outputs": [
    {
     "data": {
      "text/plain": [
       "1    1518\n",
       "0    1252\n",
       "Name: nats_home1_away0, dtype: int64"
      ]
     },
     "execution_count": 33,
     "metadata": {},
     "output_type": "execute_result"
    }
   ],
   "source": [
    "madmax.nats_home1_away0.value_counts()"
   ]
  },
  {
   "cell_type": "markdown",
   "metadata": {},
   "source": [
    "### away_team\n",
    "- Don't need this column as home_team indicates if the Nats are home or away"
   ]
  },
  {
   "cell_type": "code",
   "execution_count": 34,
   "metadata": {},
   "outputs": [],
   "source": [
    "kill_cols.append('away_team')"
   ]
  },
  {
   "cell_type": "markdown",
   "metadata": {},
   "source": [
    "### type column\n",
    "- Indicates if the pitch was a ball (taken), strike (taken), or a hit (indicated with X)\n",
    "- Result of pitch occurs after the pitch and does not relate to location so will be removed"
   ]
  },
  {
   "cell_type": "code",
   "execution_count": 35,
   "metadata": {},
   "outputs": [
    {
     "data": {
      "text/plain": [
       "S    1503\n",
       "B     858\n",
       "X     409\n",
       "Name: type, dtype: int64"
      ]
     },
     "execution_count": 35,
     "metadata": {},
     "output_type": "execute_result"
    }
   ],
   "source": [
    "madmax.type.value_counts()"
   ]
  },
  {
   "cell_type": "code",
   "execution_count": 36,
   "metadata": {},
   "outputs": [],
   "source": [
    "kill_cols.append('type')"
   ]
  },
  {
   "cell_type": "markdown",
   "metadata": {},
   "source": [
    "### balls\n",
    "- When combined with strikes, the count of the pitch is created\n",
    "- Will be key categorical, independant variable\n",
    "- After new column creation, feature no longer need and to be added to kill_cols"
   ]
  },
  {
   "cell_type": "code",
   "execution_count": 37,
   "metadata": {},
   "outputs": [],
   "source": [
    "kill_cols.append('balls')"
   ]
  },
  {
   "cell_type": "markdown",
   "metadata": {},
   "source": [
    "### strikes\n",
    "- When combined with balls, creates the count\n",
    "- Will be key categorical, independant variable\n",
    "- After new column creation, feature no longer need and to be added to kill_cols"
   ]
  },
  {
   "cell_type": "code",
   "execution_count": 38,
   "metadata": {},
   "outputs": [],
   "source": [
    "kill_cols.append('strikes')"
   ]
  },
  {
   "cell_type": "markdown",
   "metadata": {},
   "source": [
    "### balls_strikes (new feature)\n",
    "- Combines balls and strikes as a string/Pandas object"
   ]
  },
  {
   "cell_type": "code",
   "execution_count": 39,
   "metadata": {},
   "outputs": [],
   "source": [
    "madmax['balls_strikes'] = madmax.balls.astype(str) + '_' + madmax.strikes.astype(str)"
   ]
  },
  {
   "cell_type": "code",
   "execution_count": 40,
   "metadata": {},
   "outputs": [
    {
     "data": {
      "text/plain": [
       "0_0    692\n",
       "0_1    432\n",
       "1_2    308\n",
       "1_1    261\n",
       "0_2    254\n",
       "2_2    235\n",
       "1_0    201\n",
       "3_2    157\n",
       "2_1    119\n",
       "2_0     55\n",
       "3_1     40\n",
       "3_0     16\n",
       "Name: balls_strikes, dtype: int64"
      ]
     },
     "execution_count": 40,
     "metadata": {},
     "output_type": "execute_result"
    }
   ],
   "source": [
    "madmax.balls_strikes.value_counts()"
   ]
  },
  {
   "cell_type": "markdown",
   "metadata": {},
   "source": [
    "Wow, Mad Max only had sixteen 3-0 counts in the 2019 regular season?  That is impressive."
   ]
  },
  {
   "cell_type": "code",
   "execution_count": 41,
   "metadata": {},
   "outputs": [],
   "source": [
    "# counts = sns.catplot(x = 'pitch_type', \n",
    "#             y = 'release_speed', \n",
    "#             kind = 'swarm', \n",
    "#             data = madmax, \n",
    "#             order = ['FF', 'FC', 'SL', 'CH', 'CU'], \n",
    "#             palette = 'Blues',\n",
    "#             hue = 'balls_strikes',\n",
    "#             height = 8.27, \n",
    "#             aspect = 15/8);\n",
    "\n",
    "# counts.savefig('../viz/pitch_type_speed_count_swarm_2015_to_2019.png')"
   ]
  },
  {
   "cell_type": "markdown",
   "metadata": {},
   "source": [
    "__Key Takeaway__: On superficial inspection, it looks like random spread of pitch selection and velocity by count values"
   ]
  },
  {
   "cell_type": "markdown",
   "metadata": {},
   "source": [
    "### on_3b\n",
    "- null if no runner on 3rd base and player ID of plyer on 3rd if occupied\n",
    "- Will change to 0 if empty and 1 if occupied for this experiment"
   ]
  },
  {
   "cell_type": "code",
   "execution_count": 42,
   "metadata": {},
   "outputs": [],
   "source": [
    "madmax.on_3b = madmax.on_3b.fillna(value=0)"
   ]
  },
  {
   "cell_type": "code",
   "execution_count": 43,
   "metadata": {},
   "outputs": [
    {
     "data": {
      "text/plain": [
       "0       0.0\n",
       "1       0.0\n",
       "2       0.0\n",
       "3       0.0\n",
       "4       0.0\n",
       "       ... \n",
       "2765    0.0\n",
       "2766    0.0\n",
       "2767    0.0\n",
       "2768    0.0\n",
       "2769    0.0\n",
       "Name: on_3b, Length: 2770, dtype: float64"
      ]
     },
     "execution_count": 43,
     "metadata": {},
     "output_type": "execute_result"
    }
   ],
   "source": [
    "madmax.on_3b"
   ]
  },
  {
   "cell_type": "code",
   "execution_count": 44,
   "metadata": {},
   "outputs": [],
   "source": [
    "madmax.on_3b = madmax.on_3b.apply(lambda r3: 0 if r3 == 0 else 1)"
   ]
  },
  {
   "cell_type": "code",
   "execution_count": 45,
   "metadata": {},
   "outputs": [
    {
     "data": {
      "text/plain": [
       "0    2587\n",
       "1     183\n",
       "Name: on_3b, dtype: int64"
      ]
     },
     "execution_count": 45,
     "metadata": {},
     "output_type": "execute_result"
    }
   ],
   "source": [
    "madmax.on_3b.value_counts()"
   ]
  },
  {
   "cell_type": "markdown",
   "metadata": {},
   "source": [
    "### on_2b\n",
    "- Same treatment as on_3b"
   ]
  },
  {
   "cell_type": "code",
   "execution_count": 46,
   "metadata": {},
   "outputs": [
    {
     "data": {
      "text/plain": [
       "0    2313\n",
       "1     457\n",
       "Name: on_2b, dtype: int64"
      ]
     },
     "execution_count": 46,
     "metadata": {},
     "output_type": "execute_result"
    }
   ],
   "source": [
    "madmax.on_2b = madmax.on_2b.fillna(value=0)\n",
    "madmax.on_2b\n",
    "madmax.on_2b = madmax.on_2b.apply(lambda r2: 0 if r2 == 0 else 1)\n",
    "madmax.on_2b.value_counts()"
   ]
  },
  {
   "cell_type": "markdown",
   "metadata": {},
   "source": [
    "### on_1b\n",
    "- Same treatment as on_3b"
   ]
  },
  {
   "cell_type": "code",
   "execution_count": 47,
   "metadata": {},
   "outputs": [
    {
     "data": {
      "text/plain": [
       "0    2115\n",
       "1     655\n",
       "Name: on_1b, dtype: int64"
      ]
     },
     "execution_count": 47,
     "metadata": {},
     "output_type": "execute_result"
    }
   ],
   "source": [
    "madmax.on_1b = madmax.on_1b.fillna(value=0)\n",
    "madmax.on_1b\n",
    "madmax.on_1b = madmax.on_1b.apply(lambda r1: 0 if r1 == 0 else 1)\n",
    "madmax.on_1b.value_counts()"
   ]
  },
  {
   "cell_type": "markdown",
   "metadata": {},
   "source": [
    "### all_runners (new feature)\n",
    "- Combines on_1b, on_2b, and on_3b as one, categorical variable"
   ]
  },
  {
   "cell_type": "code",
   "execution_count": 48,
   "metadata": {},
   "outputs": [],
   "source": [
    "madmax['all_runners'] = 'fb:' + madmax.on_1b.iloc[:].astype(str) + '_' + \\\n",
    "                            'sb:' + madmax.on_2b.iloc[:].astype(str) + '_' +\\\n",
    "                            'tb:' + madmax.on_3b.iloc[:].astype(str)"
   ]
  },
  {
   "cell_type": "code",
   "execution_count": 49,
   "metadata": {},
   "outputs": [
    {
     "data": {
      "text/plain": [
       "fb:0_sb:0_tb:0    1754\n",
       "fb:1_sb:0_tb:0     446\n",
       "fb:0_sb:1_tb:0     257\n",
       "fb:1_sb:1_tb:0     130\n",
       "fb:1_sb:0_tb:1      59\n",
       "fb:0_sb:0_tb:1      54\n",
       "fb:0_sb:1_tb:1      50\n",
       "fb:1_sb:1_tb:1      20\n",
       "Name: all_runners, dtype: int64"
      ]
     },
     "execution_count": 49,
     "metadata": {},
     "output_type": "execute_result"
    }
   ],
   "source": [
    "madmax.all_runners.value_counts()"
   ]
  },
  {
   "cell_type": "code",
   "execution_count": 50,
   "metadata": {},
   "outputs": [
    {
     "data": {
      "text/plain": [
       "Index(['pitch_type', 'game_date', 'batter', 'release_speed', 'events',\n",
       "       'description', 'zone', 'des', 'stand', 'home_team', 'away_team', 'type',\n",
       "       'balls', 'strikes', 'on_3b', 'on_2b', 'on_1b', 'outs_when_up', 'inning',\n",
       "       'inning_topbot', 'sv_id', 'release_spin_rate', 'pitch_number',\n",
       "       'pitch_name', 'bat_score', 'fld_score', 'if_fielding_alignment',\n",
       "       'of_fielding_alignment', 'nats_home1_away0', 'balls_strikes',\n",
       "       'all_runners'],\n",
       "      dtype='object')"
      ]
     },
     "execution_count": 50,
     "metadata": {},
     "output_type": "execute_result"
    }
   ],
   "source": [
    "madmax.columns"
   ]
  },
  {
   "cell_type": "markdown",
   "metadata": {},
   "source": [
    "Wow, Mad Max only had the bases loaded twenty times all season, impressive."
   ]
  },
  {
   "cell_type": "markdown",
   "metadata": {},
   "source": [
    "### outs_when_up\n",
    "- Outs when batter is at the plate\n",
    "- Quantities of each class are close in aggregate value"
   ]
  },
  {
   "cell_type": "code",
   "execution_count": 51,
   "metadata": {},
   "outputs": [
    {
     "data": {
      "text/plain": [
       "1    941\n",
       "2    925\n",
       "0    904\n",
       "Name: outs_when_up, dtype: int64"
      ]
     },
     "execution_count": 51,
     "metadata": {},
     "output_type": "execute_result"
    }
   ],
   "source": [
    "madmax.outs_when_up.value_counts()"
   ]
  },
  {
   "cell_type": "markdown",
   "metadata": {},
   "source": [
    "### inning\n",
    "- Indicates what inning the pitch was thrown"
   ]
  },
  {
   "cell_type": "code",
   "execution_count": 52,
   "metadata": {},
   "outputs": [
    {
     "data": {
      "text/plain": [
       "1    460\n",
       "4    444\n",
       "2    438\n",
       "3    424\n",
       "5    403\n",
       "6    309\n",
       "7    218\n",
       "8     74\n",
       "Name: inning, dtype: int64"
      ]
     },
     "execution_count": 52,
     "metadata": {},
     "output_type": "execute_result"
    }
   ],
   "source": [
    "madmax.inning.value_counts()"
   ]
  },
  {
   "cell_type": "markdown",
   "metadata": {},
   "source": [
    "### inning_topbot\n",
    "- Don't need this feature as it results from the Nats being home or away\n",
    "- Adding to kill_cols"
   ]
  },
  {
   "cell_type": "code",
   "execution_count": 53,
   "metadata": {},
   "outputs": [],
   "source": [
    "kill_cols.append('inning_topbot')"
   ]
  },
  {
   "cell_type": "markdown",
   "metadata": {},
   "source": [
    "### sv_id\n",
    "- Used to order pitches chronologically when ascending\n",
    "- Will be retained until ordering pitches is no longer neccessary"
   ]
  },
  {
   "cell_type": "markdown",
   "metadata": {},
   "source": [
    "### pitch_number\n",
    "- Equals the running count of pitches thrown to the batter in that appearance;\n",
    "- Resets with each new batter"
   ]
  },
  {
   "cell_type": "code",
   "execution_count": 54,
   "metadata": {},
   "outputs": [
    {
     "data": {
      "text/plain": [
       "0       1\n",
       "1       5\n",
       "2       4\n",
       "3       3\n",
       "4       2\n",
       "       ..\n",
       "2765    2\n",
       "2766    1\n",
       "2767    3\n",
       "2768    2\n",
       "2769    1\n",
       "Name: pitch_number, Length: 2770, dtype: int64"
      ]
     },
     "execution_count": 54,
     "metadata": {},
     "output_type": "execute_result"
    }
   ],
   "source": [
    "madmax.pitch_number"
   ]
  },
  {
   "cell_type": "markdown",
   "metadata": {},
   "source": [
    "### pitch_name\n",
    "- Redundant column for pitch_type column\n",
    "- Will remove"
   ]
  },
  {
   "cell_type": "code",
   "execution_count": 55,
   "metadata": {},
   "outputs": [],
   "source": [
    "kill_cols.append('pitch_name')"
   ]
  },
  {
   "cell_type": "markdown",
   "metadata": {},
   "source": [
    "### bat_score\n",
    "- Score of batting team aka not the Nats\n",
    "- Will change to opp_score (opponent score)"
   ]
  },
  {
   "cell_type": "code",
   "execution_count": 56,
   "metadata": {},
   "outputs": [],
   "source": [
    "madmax = madmax.rename(columns={'bat_score': 'opp_score'})"
   ]
  },
  {
   "cell_type": "markdown",
   "metadata": {},
   "source": [
    "### fld_score\n",
    "- Score of fielding team aka the Nats\n",
    "- Will change to nat_score"
   ]
  },
  {
   "cell_type": "code",
   "execution_count": 57,
   "metadata": {},
   "outputs": [],
   "source": [
    "madmax = madmax.rename(columns={'fld_score': 'nats_score'})"
   ]
  },
  {
   "cell_type": "markdown",
   "metadata": {},
   "source": [
    "### if_fielding_alignment\n",
    "- Indicates standard or shift of the infield"
   ]
  },
  {
   "cell_type": "code",
   "execution_count": 58,
   "metadata": {},
   "outputs": [
    {
     "data": {
      "text/plain": [
       "Standard         2026\n",
       "Infield shift     589\n",
       "Strategic         154\n",
       "Name: if_fielding_alignment, dtype: int64"
      ]
     },
     "execution_count": 58,
     "metadata": {},
     "output_type": "execute_result"
    }
   ],
   "source": [
    "madmax.if_fielding_alignment.value_counts()"
   ]
  },
  {
   "cell_type": "markdown",
   "metadata": {},
   "source": [
    "### of_fielding_alignment\n",
    "- Indicates standard or shift of the outfield"
   ]
  },
  {
   "cell_type": "code",
   "execution_count": 59,
   "metadata": {},
   "outputs": [
    {
     "data": {
      "text/plain": [
       "Standard     2611\n",
       "Strategic     158\n",
       "Name: of_fielding_alignment, dtype: int64"
      ]
     },
     "execution_count": 59,
     "metadata": {},
     "output_type": "execute_result"
    }
   ],
   "source": [
    "madmax.of_fielding_alignment.value_counts()"
   ]
  },
  {
   "cell_type": "markdown",
   "metadata": {},
   "source": [
    "## That's a good start to our data set, at this point, we will export to csv and continue in the next step"
   ]
  },
  {
   "cell_type": "code",
   "execution_count": 60,
   "metadata": {},
   "outputs": [],
   "source": [
    "madmax = madmax.drop(columns=kill_cols)"
   ]
  },
  {
   "cell_type": "code",
   "execution_count": 61,
   "metadata": {},
   "outputs": [],
   "source": [
    "madmax.to_csv('../../data/processed/scherzer/madmax_cleaned_2019.csv')"
   ]
  },
  {
   "cell_type": "code",
   "execution_count": null,
   "metadata": {},
   "outputs": [],
   "source": []
  }
 ],
 "metadata": {
  "kernelspec": {
   "display_name": "Python 3",
   "language": "python",
   "name": "python3"
  },
  "language_info": {
   "codemirror_mode": {
    "name": "ipython",
    "version": 3
   },
   "file_extension": ".py",
   "mimetype": "text/x-python",
   "name": "python",
   "nbconvert_exporter": "python",
   "pygments_lexer": "ipython3",
   "version": "3.7.7"
  }
 },
 "nbformat": 4,
 "nbformat_minor": 4
}
