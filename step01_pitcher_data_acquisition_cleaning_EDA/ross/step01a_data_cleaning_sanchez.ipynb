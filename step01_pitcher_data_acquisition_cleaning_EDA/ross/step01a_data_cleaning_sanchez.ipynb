{
 "cells": [
  {
   "cell_type": "markdown",
   "metadata": {},
   "source": [
    "# Step01a: Data Cleaning\n",
    "In this notebook we'll clean the data."
   ]
  },
  {
   "cell_type": "markdown",
   "metadata": {},
   "source": [
    "## Import packages"
   ]
  },
  {
   "cell_type": "code",
   "execution_count": 1,
   "metadata": {},
   "outputs": [],
   "source": [
    "import pandas as pd\n",
    "import numpy as np\n",
    "import seaborn as sns\n",
    "import matplotlib as plt\n",
    "%matplotlib inline"
   ]
  },
  {
   "cell_type": "code",
   "execution_count": 2,
   "metadata": {},
   "outputs": [],
   "source": [
    "pitches = pd.read_csv('../../data/savant/ross_2019.csv')\n",
    "ross = pitches.copy()"
   ]
  },
  {
   "cell_type": "code",
   "execution_count": 3,
   "metadata": {},
   "outputs": [],
   "source": [
    "ross.head();"
   ]
  },
  {
   "cell_type": "markdown",
   "metadata": {},
   "source": [
    "## Columns to lowercase and replace spaces with '_'"
   ]
  },
  {
   "cell_type": "code",
   "execution_count": 4,
   "metadata": {},
   "outputs": [],
   "source": [
    "new_cols = []\n",
    "\n",
    "for c in ross.columns:\n",
    "    c = c.lower()\n",
    "    c = c.replace(' ', '_')\n",
    "    c = c.replace('(', '')\n",
    "    c = c.replace(')', '')\n",
    "    c = c.replace('_°', '')\n",
    "    new_cols.append(c)\n",
    "    \n",
    "ross.columns = new_cols"
   ]
  },
  {
   "cell_type": "code",
   "execution_count": 5,
   "metadata": {},
   "outputs": [
    {
     "data": {
      "text/plain": [
       "(1138, 89)"
      ]
     },
     "execution_count": 5,
     "metadata": {},
     "output_type": "execute_result"
    }
   ],
   "source": [
    "ross.shape"
   ]
  },
  {
   "cell_type": "code",
   "execution_count": 6,
   "metadata": {},
   "outputs": [
    {
     "data": {
      "text/plain": [
       "Index(['pitch_type', 'game_date', 'release_speed', 'release_pos_x',\n",
       "       'release_pos_z', 'player_name', 'batter', 'pitcher', 'events',\n",
       "       'description', 'spin_dir', 'spin_rate_deprecated',\n",
       "       'break_angle_deprecated', 'break_length_deprecated', 'zone', 'des',\n",
       "       'game_type', 'stand', 'p_throws', 'home_team', 'away_team', 'type',\n",
       "       'hit_location', 'bb_type', 'balls', 'strikes', 'game_year', 'pfx_x',\n",
       "       'pfx_z', 'plate_x', 'plate_z', 'on_3b', 'on_2b', 'on_1b',\n",
       "       'outs_when_up', 'inning', 'inning_topbot', 'hc_x', 'hc_y',\n",
       "       'tfs_deprecated', 'tfs_zulu_deprecated', 'fielder_2', 'umpire', 'sv_id',\n",
       "       'vx0', 'vy0', 'vz0', 'ax', 'ay', 'az', 'sz_top', 'sz_bot',\n",
       "       'hit_distance_sc', 'launch_speed', 'launch_angle', 'effective_speed',\n",
       "       'release_spin_rate', 'release_extension', 'game_pk', 'pitcher.1',\n",
       "       'fielder_2.1', 'fielder_3', 'fielder_4', 'fielder_5', 'fielder_6',\n",
       "       'fielder_7', 'fielder_8', 'fielder_9', 'release_pos_y',\n",
       "       'estimated_ba_using_speedangle', 'estimated_woba_using_speedangle',\n",
       "       'woba_value', 'woba_denom', 'babip_value', 'iso_value',\n",
       "       'launch_speed_angle', 'at_bat_number', 'pitch_number', 'pitch_name',\n",
       "       'home_score', 'away_score', 'bat_score', 'fld_score', 'post_away_score',\n",
       "       'post_home_score', 'post_bat_score', 'post_fld_score',\n",
       "       'if_fielding_alignment', 'of_fielding_alignment'],\n",
       "      dtype='object')"
      ]
     },
     "execution_count": 6,
     "metadata": {},
     "output_type": "execute_result"
    }
   ],
   "source": [
    "ross.columns"
   ]
  },
  {
   "cell_type": "markdown",
   "metadata": {},
   "source": [
    "## Ok, there are 89 columns and not all are important for this experiement.  Let's make a few prelininary column removals."
   ]
  },
  {
   "cell_type": "markdown",
   "metadata": {},
   "source": [
    "### Of the 89 columns, the following pertain to the experiment:\n",
    "- pitch_type\n",
    "- game_date (for purposes of discovering the sequential order of pitches for creatin of new features)\n",
    "- release_speed\n",
    "- events \n",
    "- description\n",
    "- zone\n",
    "- des\n",
    "- stand\n",
    "- home_team\n",
    "- away_team\n",
    "- type\n",
    "- balls\n",
    "- strikes\n",
    "- on_3b\n",
    "- on_2b\n",
    "- on_1b\n",
    "- outs_when_up\n",
    "- inning\n",
    "- inning_topbot\n",
    "- sv_id\n",
    "- release_spin_rate\n",
    "- pitch_number\n",
    "- pitch_name\n",
    "- home_score\n",
    "- away_score\n",
    "- bat_score\n",
    "- fld_score\n",
    "- if_fielding_alignment\n",
    "- of_fielding_alignment"
   ]
  },
  {
   "cell_type": "code",
   "execution_count": 7,
   "metadata": {},
   "outputs": [],
   "source": [
    "keep_cols = ['pitch_type', 'game_date', 'batter', 'release_speed', 'events', 'description', 'zone', 'des', 'stand',\n",
    "            'home_team', 'away_team', 'type', 'balls', 'strikes', 'on_3b', 'on_2b', 'on_1b', 'outs_when_up',\n",
    "            'inning', 'inning_topbot', 'sv_id', 'release_spin_rate', 'pitch_number', 'pitch_name', 'bat_score', \n",
    "             'fld_score', 'if_fielding_alignment', 'of_fielding_alignment']"
   ]
  },
  {
   "cell_type": "code",
   "execution_count": 8,
   "metadata": {},
   "outputs": [],
   "source": [
    "ross = ross[keep_cols]"
   ]
  },
  {
   "cell_type": "code",
   "execution_count": 9,
   "metadata": {},
   "outputs": [
    {
     "data": {
      "text/plain": [
       "Index(['pitch_type', 'game_date', 'batter', 'release_speed', 'events',\n",
       "       'description', 'zone', 'des', 'stand', 'home_team', 'away_team', 'type',\n",
       "       'balls', 'strikes', 'on_3b', 'on_2b', 'on_1b', 'outs_when_up', 'inning',\n",
       "       'inning_topbot', 'sv_id', 'release_spin_rate', 'pitch_number',\n",
       "       'pitch_name', 'bat_score', 'fld_score', 'if_fielding_alignment',\n",
       "       'of_fielding_alignment'],\n",
       "      dtype='object')"
      ]
     },
     "execution_count": 9,
     "metadata": {},
     "output_type": "execute_result"
    }
   ],
   "source": [
    "ross.columns"
   ]
  },
  {
   "cell_type": "markdown",
   "metadata": {},
   "source": [
    "## Columns look good, lets go through the data one column at a time\n",
    "We will review the data in each column in order to assess its importance, the handling of null values, and any other issues we may come across"
   ]
  },
  {
   "cell_type": "code",
   "execution_count": 10,
   "metadata": {},
   "outputs": [
    {
     "data": {
      "text/plain": [
       "'\\nReviews -> pitchers\\nPitches -> words\\nSentences -> inning\\ndoc -> game\\n\\nlstm...???\\n\\nFind best baseball scout, what would be there accuracy in terms of pitch outcome -> upperline expectation\\n\\nPitch type, location... focus on one only (location)\\n\\n90% sure lstm can be used... need a sequential model ->  What people doing with this type of data and \\n    sequential models as well.\\n    \\nAndrew Ng vids for sequential models\\n\\n'"
      ]
     },
     "execution_count": 10,
     "metadata": {},
     "output_type": "execute_result"
    }
   ],
   "source": [
    "ross.sort_values(by='sv_id')\n",
    "# sv_id functions as an ID that sorts pitches over time.  Order will be required to pitch count calculations.\n",
    "\n",
    "## For hitters, singles, doubles, triples, hrs cumulative up to that game (juicy part of data)\n",
    "\n",
    "'''\n",
    "Reviews -> pitchers\n",
    "Pitches -> words\n",
    "Sentences -> inning\n",
    "doc -> game\n",
    "\n",
    "lstm...???\n",
    "\n",
    "Find best baseball scout, what would be there accuracy in terms of pitch outcome -> upperline expectation\n",
    "\n",
    "Pitch type, location... focus on one only (location)\n",
    "\n",
    "90% sure lstm can be used... need a sequential model ->  What people doing with this type of data and \n",
    "    sequential models as well.\n",
    "    \n",
    "Andrew Ng vids for sequential models\n",
    "\n",
    "'''"
   ]
  },
  {
   "cell_type": "code",
   "execution_count": 11,
   "metadata": {},
   "outputs": [
    {
     "data": {
      "text/html": [
       "<div>\n",
       "<style scoped>\n",
       "    .dataframe tbody tr th:only-of-type {\n",
       "        vertical-align: middle;\n",
       "    }\n",
       "\n",
       "    .dataframe tbody tr th {\n",
       "        vertical-align: top;\n",
       "    }\n",
       "\n",
       "    .dataframe thead th {\n",
       "        text-align: right;\n",
       "    }\n",
       "</style>\n",
       "<table border=\"1\" class=\"dataframe\">\n",
       "  <thead>\n",
       "    <tr style=\"text-align: right;\">\n",
       "      <th></th>\n",
       "      <th>pitch_type</th>\n",
       "      <th>game_date</th>\n",
       "      <th>batter</th>\n",
       "      <th>release_speed</th>\n",
       "      <th>events</th>\n",
       "      <th>description</th>\n",
       "      <th>zone</th>\n",
       "      <th>des</th>\n",
       "      <th>stand</th>\n",
       "      <th>home_team</th>\n",
       "      <th>...</th>\n",
       "      <th>inning</th>\n",
       "      <th>inning_topbot</th>\n",
       "      <th>sv_id</th>\n",
       "      <th>release_spin_rate</th>\n",
       "      <th>pitch_number</th>\n",
       "      <th>pitch_name</th>\n",
       "      <th>bat_score</th>\n",
       "      <th>fld_score</th>\n",
       "      <th>if_fielding_alignment</th>\n",
       "      <th>of_fielding_alignment</th>\n",
       "    </tr>\n",
       "  </thead>\n",
       "  <tbody>\n",
       "    <tr>\n",
       "      <th>0</th>\n",
       "      <td>SI</td>\n",
       "      <td>2019-09-29</td>\n",
       "      <td>644374</td>\n",
       "      <td>93.0</td>\n",
       "      <td>force_out</td>\n",
       "      <td>hit_into_play</td>\n",
       "      <td>8</td>\n",
       "      <td>Yu Chang grounds into a force out, fielded by ...</td>\n",
       "      <td>R</td>\n",
       "      <td>WSH</td>\n",
       "      <td>...</td>\n",
       "      <td>6</td>\n",
       "      <td>Top</td>\n",
       "      <td>190929_204229</td>\n",
       "      <td>2037.0</td>\n",
       "      <td>4</td>\n",
       "      <td>Sinker</td>\n",
       "      <td>1</td>\n",
       "      <td>3</td>\n",
       "      <td>Standard</td>\n",
       "      <td>Standard</td>\n",
       "    </tr>\n",
       "    <tr>\n",
       "      <th>1</th>\n",
       "      <td>SI</td>\n",
       "      <td>2019-09-29</td>\n",
       "      <td>644374</td>\n",
       "      <td>92.9</td>\n",
       "      <td>NaN</td>\n",
       "      <td>ball</td>\n",
       "      <td>14</td>\n",
       "      <td>NaN</td>\n",
       "      <td>R</td>\n",
       "      <td>WSH</td>\n",
       "      <td>...</td>\n",
       "      <td>6</td>\n",
       "      <td>Top</td>\n",
       "      <td>190929_204203</td>\n",
       "      <td>1998.0</td>\n",
       "      <td>3</td>\n",
       "      <td>Sinker</td>\n",
       "      <td>1</td>\n",
       "      <td>3</td>\n",
       "      <td>Standard</td>\n",
       "      <td>Standard</td>\n",
       "    </tr>\n",
       "    <tr>\n",
       "      <th>2</th>\n",
       "      <td>SL</td>\n",
       "      <td>2019-09-29</td>\n",
       "      <td>644374</td>\n",
       "      <td>86.3</td>\n",
       "      <td>NaN</td>\n",
       "      <td>ball</td>\n",
       "      <td>1</td>\n",
       "      <td>NaN</td>\n",
       "      <td>R</td>\n",
       "      <td>WSH</td>\n",
       "      <td>...</td>\n",
       "      <td>6</td>\n",
       "      <td>Top</td>\n",
       "      <td>190929_204138</td>\n",
       "      <td>1775.0</td>\n",
       "      <td>2</td>\n",
       "      <td>Slider</td>\n",
       "      <td>1</td>\n",
       "      <td>3</td>\n",
       "      <td>Standard</td>\n",
       "      <td>Standard</td>\n",
       "    </tr>\n",
       "    <tr>\n",
       "      <th>3</th>\n",
       "      <td>SI</td>\n",
       "      <td>2019-09-29</td>\n",
       "      <td>644374</td>\n",
       "      <td>93.4</td>\n",
       "      <td>NaN</td>\n",
       "      <td>ball</td>\n",
       "      <td>12</td>\n",
       "      <td>NaN</td>\n",
       "      <td>R</td>\n",
       "      <td>WSH</td>\n",
       "      <td>...</td>\n",
       "      <td>6</td>\n",
       "      <td>Top</td>\n",
       "      <td>190929_204117</td>\n",
       "      <td>1958.0</td>\n",
       "      <td>1</td>\n",
       "      <td>Sinker</td>\n",
       "      <td>1</td>\n",
       "      <td>3</td>\n",
       "      <td>Standard</td>\n",
       "      <td>Standard</td>\n",
       "    </tr>\n",
       "    <tr>\n",
       "      <th>4</th>\n",
       "      <td>FF</td>\n",
       "      <td>2019-09-29</td>\n",
       "      <td>502273</td>\n",
       "      <td>94.7</td>\n",
       "      <td>single</td>\n",
       "      <td>hit_into_play_no_out</td>\n",
       "      <td>3</td>\n",
       "      <td>Mike Freeman singles on a fly ball to left fie...</td>\n",
       "      <td>L</td>\n",
       "      <td>WSH</td>\n",
       "      <td>...</td>\n",
       "      <td>6</td>\n",
       "      <td>Top</td>\n",
       "      <td>190929_204035</td>\n",
       "      <td>1979.0</td>\n",
       "      <td>4</td>\n",
       "      <td>4-Seam Fastball</td>\n",
       "      <td>1</td>\n",
       "      <td>3</td>\n",
       "      <td>Infield shift</td>\n",
       "      <td>Standard</td>\n",
       "    </tr>\n",
       "  </tbody>\n",
       "</table>\n",
       "<p>5 rows × 28 columns</p>\n",
       "</div>"
      ],
      "text/plain": [
       "  pitch_type   game_date  batter  release_speed     events  \\\n",
       "0         SI  2019-09-29  644374           93.0  force_out   \n",
       "1         SI  2019-09-29  644374           92.9        NaN   \n",
       "2         SL  2019-09-29  644374           86.3        NaN   \n",
       "3         SI  2019-09-29  644374           93.4        NaN   \n",
       "4         FF  2019-09-29  502273           94.7     single   \n",
       "\n",
       "            description  zone  \\\n",
       "0         hit_into_play     8   \n",
       "1                  ball    14   \n",
       "2                  ball     1   \n",
       "3                  ball    12   \n",
       "4  hit_into_play_no_out     3   \n",
       "\n",
       "                                                 des stand home_team  ...  \\\n",
       "0  Yu Chang grounds into a force out, fielded by ...     R       WSH  ...   \n",
       "1                                                NaN     R       WSH  ...   \n",
       "2                                                NaN     R       WSH  ...   \n",
       "3                                                NaN     R       WSH  ...   \n",
       "4  Mike Freeman singles on a fly ball to left fie...     L       WSH  ...   \n",
       "\n",
       "  inning inning_topbot          sv_id  release_spin_rate  pitch_number  \\\n",
       "0      6           Top  190929_204229             2037.0             4   \n",
       "1      6           Top  190929_204203             1998.0             3   \n",
       "2      6           Top  190929_204138             1775.0             2   \n",
       "3      6           Top  190929_204117             1958.0             1   \n",
       "4      6           Top  190929_204035             1979.0             4   \n",
       "\n",
       "        pitch_name  bat_score  fld_score  if_fielding_alignment  \\\n",
       "0           Sinker          1          3               Standard   \n",
       "1           Sinker          1          3               Standard   \n",
       "2           Slider          1          3               Standard   \n",
       "3           Sinker          1          3               Standard   \n",
       "4  4-Seam Fastball          1          3          Infield shift   \n",
       "\n",
       "  of_fielding_alignment  \n",
       "0              Standard  \n",
       "1              Standard  \n",
       "2              Standard  \n",
       "3              Standard  \n",
       "4              Standard  \n",
       "\n",
       "[5 rows x 28 columns]"
      ]
     },
     "execution_count": 11,
     "metadata": {},
     "output_type": "execute_result"
    }
   ],
   "source": [
    "ross.head()"
   ]
  },
  {
   "cell_type": "markdown",
   "metadata": {},
   "source": [
    "### pitch_type\n",
    "- Variable type: Dependant, Categorical\n",
    "- Data type: string\n",
    "- Unique values: 5\n",
    "- Adding to target list"
   ]
  },
  {
   "cell_type": "code",
   "execution_count": 12,
   "metadata": {},
   "outputs": [],
   "source": [
    "targets = ['pitch_type']"
   ]
  },
  {
   "cell_type": "code",
   "execution_count": 13,
   "metadata": {},
   "outputs": [
    {
     "data": {
      "text/plain": [
       "SI    432\n",
       "FF    283\n",
       "SL    235\n",
       "CU    102\n",
       "CH     86\n",
       "Name: pitch_type, dtype: int64"
      ]
     },
     "execution_count": 13,
     "metadata": {},
     "output_type": "execute_result"
    }
   ],
   "source": [
    "ross.pitch_type.value_counts()"
   ]
  },
  {
   "cell_type": "markdown",
   "metadata": {},
   "source": [
    "Based on the following link, Max throws five different types of pitches <br>\n",
    "https://library.fangraphs.com/pitch-type-abbreviations-classifications/ <br><br>\n",
    "__ross's Pitch Repertoire in 2019__\n",
    "- FF\n",
    "- FS\n",
    "- FC\n",
    "- SI\n",
    "- CU\n",
    "- CH\n",
    "- SL"
   ]
  },
  {
   "cell_type": "markdown",
   "metadata": {},
   "source": [
    "This will ultimatly be one of two targets in this study.  Looks like Max's go to pitch is the four seam fastball with the changeup and curveball representing minority classes."
   ]
  },
  {
   "cell_type": "markdown",
   "metadata": {},
   "source": [
    "### game_date"
   ]
  },
  {
   "cell_type": "code",
   "execution_count": 14,
   "metadata": {},
   "outputs": [],
   "source": [
    "# Following provides total pitch count per game\n",
    "# Will later make date either a month category or a seasonal category (spring, summer, fall)\n",
    "ross.game_date.value_counts();"
   ]
  },
  {
   "cell_type": "markdown",
   "metadata": {},
   "source": [
    "### release_speed\n",
    "- Variable type: TBD, Continuous\n",
    "- Data type: Float\n",
    "- Number of unique Values: n/a"
   ]
  },
  {
   "cell_type": "code",
   "execution_count": 15,
   "metadata": {},
   "outputs": [
    {
     "data": {
      "text/plain": [
       "147"
      ]
     },
     "execution_count": 15,
     "metadata": {},
     "output_type": "execute_result"
    }
   ],
   "source": [
    "len(ross.release_speed.value_counts())"
   ]
  },
  {
   "cell_type": "code",
   "execution_count": 16,
   "metadata": {},
   "outputs": [
    {
     "data": {
      "text/plain": [
       "(78.9, 96.7)"
      ]
     },
     "execution_count": 16,
     "metadata": {},
     "output_type": "execute_result"
    }
   ],
   "source": [
    "ross.release_speed.min(), ross.release_speed.max()"
   ]
  },
  {
   "cell_type": "code",
   "execution_count": 17,
   "metadata": {},
   "outputs": [
    {
     "data": {
      "text/plain": [
       "3.5599999999999996"
      ]
     },
     "execution_count": 17,
     "metadata": {},
     "output_type": "execute_result"
    }
   ],
   "source": [
    "r = ross.release_speed.max() - ross.release_speed.min()\n",
    "r/5"
   ]
  },
  {
   "cell_type": "markdown",
   "metadata": {},
   "source": [
    "#### These velocities relate directly to pitch types, let's take a look at these values together"
   ]
  },
  {
   "cell_type": "code",
   "execution_count": 18,
   "metadata": {},
   "outputs": [
    {
     "data": {
      "text/plain": [
       "array(['SI', 'SL', 'FF', 'CH', 'CU'], dtype=object)"
      ]
     },
     "execution_count": 18,
     "metadata": {},
     "output_type": "execute_result"
    }
   ],
   "source": [
    "pitches = ross.pitch_type.unique()\n",
    "pitches"
   ]
  },
  {
   "cell_type": "code",
   "execution_count": 19,
   "metadata": {},
   "outputs": [],
   "source": [
    "results = {}\n",
    "p_count = 1\n",
    "for p in pitches:\n",
    "    avg = ross.loc[(ross.pitch_type == p)].release_speed.mean()\n",
    "    low = ross.loc[(ross.pitch_type == p)].release_speed.min()\n",
    "    high = ross.loc[(ross.pitch_type == p)].release_speed.max()\n",
    "    i = str('p{}'.format(p_count))\n",
    "    results[i] = [p, avg, low, high]\n",
    "    p_count += 1 "
   ]
  },
  {
   "cell_type": "code",
   "execution_count": 20,
   "metadata": {},
   "outputs": [
    {
     "data": {
      "text/html": [
       "<div>\n",
       "<style scoped>\n",
       "    .dataframe tbody tr th:only-of-type {\n",
       "        vertical-align: middle;\n",
       "    }\n",
       "\n",
       "    .dataframe tbody tr th {\n",
       "        vertical-align: top;\n",
       "    }\n",
       "\n",
       "    .dataframe thead th {\n",
       "        text-align: right;\n",
       "    }\n",
       "</style>\n",
       "<table border=\"1\" class=\"dataframe\">\n",
       "  <thead>\n",
       "    <tr style=\"text-align: right;\">\n",
       "      <th></th>\n",
       "      <th>pitch_type</th>\n",
       "      <th>mean</th>\n",
       "      <th>min</th>\n",
       "      <th>max</th>\n",
       "    </tr>\n",
       "  </thead>\n",
       "  <tbody>\n",
       "    <tr>\n",
       "      <th>p1</th>\n",
       "      <td>SI</td>\n",
       "      <td>93.99</td>\n",
       "      <td>91</td>\n",
       "      <td>96.7</td>\n",
       "    </tr>\n",
       "    <tr>\n",
       "      <th>p2</th>\n",
       "      <td>SL</td>\n",
       "      <td>88.0004</td>\n",
       "      <td>84.8</td>\n",
       "      <td>90.7</td>\n",
       "    </tr>\n",
       "    <tr>\n",
       "      <th>p3</th>\n",
       "      <td>FF</td>\n",
       "      <td>94.1307</td>\n",
       "      <td>91</td>\n",
       "      <td>96.1</td>\n",
       "    </tr>\n",
       "    <tr>\n",
       "      <th>p4</th>\n",
       "      <td>CH</td>\n",
       "      <td>87.9256</td>\n",
       "      <td>84.9</td>\n",
       "      <td>90.5</td>\n",
       "    </tr>\n",
       "    <tr>\n",
       "      <th>p5</th>\n",
       "      <td>CU</td>\n",
       "      <td>81.3265</td>\n",
       "      <td>78.9</td>\n",
       "      <td>84</td>\n",
       "    </tr>\n",
       "  </tbody>\n",
       "</table>\n",
       "</div>"
      ],
      "text/plain": [
       "   pitch_type     mean   min   max\n",
       "p1         SI    93.99    91  96.7\n",
       "p2         SL  88.0004  84.8  90.7\n",
       "p3         FF  94.1307    91  96.1\n",
       "p4         CH  87.9256  84.9  90.5\n",
       "p5         CU  81.3265  78.9    84"
      ]
     },
     "execution_count": 20,
     "metadata": {},
     "output_type": "execute_result"
    }
   ],
   "source": [
    "results = pd.DataFrame(results).T\n",
    "results.columns = ['pitch_type', 'mean', 'min', 'max']\n",
    "results"
   ]
  },
  {
   "cell_type": "code",
   "execution_count": 21,
   "metadata": {},
   "outputs": [
    {
     "data": {
      "text/plain": [
       "array(['SI', 'SL', 'FF', 'CH', 'CU'], dtype=object)"
      ]
     },
     "execution_count": 21,
     "metadata": {},
     "output_type": "execute_result"
    }
   ],
   "source": [
    "ross.pitch_type.unique()"
   ]
  },
  {
   "cell_type": "code",
   "execution_count": 24,
   "metadata": {},
   "outputs": [
    {
     "data": {
      "image/png": "[encoded data removed]",
      "text/plain": [
       "<Figure size 1116.45x595.44 with 1 Axes>"
      ]
     },
     "metadata": {
      "needs_background": "light"
     },
     "output_type": "display_data"
    }
   ],
   "source": [
    "vio = sns.catplot(x = 'pitch_type', \n",
    "            y = 'release_speed', \n",
    "            kind = 'violin', \n",
    "            data=ross, \n",
    "            order = ['FF', 'SI', 'SL', 'CH', 'CU'], \n",
    "            palette='Blues',\n",
    "            height=8.27, \n",
    "            aspect=15/8);\n",
    "\n",
    "vio.savefig('../viz/pitch_type_speed_violins_ross.png')"
   ]
  },
  {
   "cell_type": "markdown",
   "metadata": {},
   "source": [
    "### Key takeaway: Consider combining the slider and curveball pitches to one category\n",
    "- Good separation between four seem fastball, fastball cutter, and the change up\n",
    "- The slider and curveball exhibit closer mph than other pitches"
   ]
  },
  {
   "cell_type": "markdown",
   "metadata": {},
   "source": [
    "### events\n",
    "- This will be an interesting feature for other experiments, but not for this one\n",
    "- Adding to a kill_col list that will be used to drop all killed columns in one line at the end of this notebook"
   ]
  },
  {
   "cell_type": "code",
   "execution_count": 25,
   "metadata": {},
   "outputs": [],
   "source": [
    "ross.events.value_counts();"
   ]
  },
  {
   "cell_type": "code",
   "execution_count": 26,
   "metadata": {},
   "outputs": [],
   "source": [
    "kill_cols = ['events']"
   ]
  },
  {
   "cell_type": "markdown",
   "metadata": {},
   "source": [
    "### description\n",
    "- Same as events just above"
   ]
  },
  {
   "cell_type": "code",
   "execution_count": 27,
   "metadata": {},
   "outputs": [],
   "source": [
    "kill_cols.append('description')"
   ]
  },
  {
   "cell_type": "markdown",
   "metadata": {},
   "source": [
    "### des\n",
    "- Don't need this columns after inspection\n",
    "    - Same reasons as events and description"
   ]
  },
  {
   "cell_type": "code",
   "execution_count": 28,
   "metadata": {},
   "outputs": [],
   "source": [
    "kill_cols.append('des')"
   ]
  },
  {
   "cell_type": "markdown",
   "metadata": {},
   "source": [
    "### release_spin_rate\n",
    "- Variable type: Independant, Continuous\n",
    "- Data type: Int\n",
    "- Unique Values: n/a"
   ]
  },
  {
   "cell_type": "code",
   "execution_count": 29,
   "metadata": {},
   "outputs": [],
   "source": [
    "ross.release_spin_rate.describe();"
   ]
  },
  {
   "cell_type": "code",
   "execution_count": 31,
   "metadata": {},
   "outputs": [
    {
     "data": {
      "image/png": "[encoded data removed]",
      "text/plain": [
       "<Figure size 1116.45x595.44 with 1 Axes>"
      ]
     },
     "metadata": {
      "needs_background": "light"
     },
     "output_type": "display_data"
    }
   ],
   "source": [
    "cat = sns.catplot(x = 'pitch_type', \n",
    "            y = 'release_spin_rate', \n",
    "            kind = 'violin', \n",
    "            data=ross, \n",
    "            order = ['FF', 'SI', 'SL', 'CH', 'CU'], \n",
    "            palette='Blues',\n",
    "            height=8.27, \n",
    "            aspect=15/8);\n",
    "\n",
    "cat.savefig('../viz/pitch_type_spin_violins_ross.png')"
   ]
  },
  {
   "cell_type": "markdown",
   "metadata": {},
   "source": [
    "### stand\n",
    "- Is R or L for the handedness of the batter\n",
    "- Will be a categorical, independant variable\n",
    "- Relativley even totals between the two classes"
   ]
  },
  {
   "cell_type": "code",
   "execution_count": 32,
   "metadata": {},
   "outputs": [
    {
     "data": {
      "text/plain": [
       "L    588\n",
       "R    550\n",
       "Name: stand, dtype: int64"
      ]
     },
     "execution_count": 32,
     "metadata": {},
     "output_type": "execute_result"
    }
   ],
   "source": [
    "ross.stand.value_counts()"
   ]
  },
  {
   "cell_type": "markdown",
   "metadata": {},
   "source": [
    "### zone\n",
    "- Variable type: Independant, Continuous\n",
    "- Data type: Int\n",
    "- Number unique Values: 13\n",
    "    - This is an integral dependant variable in the experiment and indicates where the pitch is thrown in or out of the strike zone\n",
    "    - These number 1 - 14 \n",
    "    - For example, with a right-handed hitter zone 3 is high and inside whereas for a left-handed hitter zone 3 is high and outside\n",
    "    \n",
    "<br>\n",
    "<img src='../../images/statcast_zones.png' alt='Drawing' style='width: 450px;'/><br>"
   ]
  },
  {
   "cell_type": "code",
   "execution_count": 34,
   "metadata": {},
   "outputs": [
    {
     "data": {
      "image/png": "[encoded data removed]",
      "text/plain": [
       "<Figure size 1116.45x595.44 with 1 Axes>"
      ]
     },
     "metadata": {
      "needs_background": "light"
     },
     "output_type": "display_data"
    }
   ],
   "source": [
    "zone = sns.catplot(x = 'pitch_type', \n",
    "            y = 'zone', \n",
    "            kind = 'swarm', \n",
    "            data=ross, \n",
    "            order = ['FF', 'SI', 'SL', 'CH', 'CU'], \n",
    "            palette='Blues',\n",
    "            height=8.27, \n",
    "            aspect=15/8);\n",
    "\n",
    "zone.savefig('../viz/pitch_type_zone_swarm_ross.png')"
   ]
  },
  {
   "cell_type": "markdown",
   "metadata": {},
   "source": [
    " __Key Takeaway:__ Need to consider combining zone with handedness of the batter to discern \"inside\" or \"outside\" categories vs. numeric values"
   ]
  },
  {
   "cell_type": "markdown",
   "metadata": {},
   "source": [
    "### home_team\n",
    "- Will be an interesting feature to explore in relation to the Nationals only"
   ]
  },
  {
   "cell_type": "code",
   "execution_count": 35,
   "metadata": {},
   "outputs": [
    {
     "data": {
      "text/plain": [
       "WSH    536\n",
       "SF      99\n",
       "ATL     98\n",
       "CHC     88\n",
       "ARI     87\n",
       "NYM     61\n",
       "PIT     58\n",
       "PHI     56\n",
       "MIA     22\n",
       "MIL     16\n",
       "LAD     14\n",
       "COL      3\n",
       "Name: home_team, dtype: int64"
      ]
     },
     "execution_count": 35,
     "metadata": {},
     "output_type": "execute_result"
    }
   ],
   "source": [
    "ross.home_team.value_counts()"
   ]
  },
  {
   "cell_type": "markdown",
   "metadata": {},
   "source": [
    "### nats_home1_away0 (new feature)"
   ]
  },
  {
   "cell_type": "code",
   "execution_count": 36,
   "metadata": {},
   "outputs": [],
   "source": [
    "ross['nats_home1_away0'] = ross.home_team.apply(lambda h: 1 if h == 'WSH' else 0)"
   ]
  },
  {
   "cell_type": "code",
   "execution_count": 37,
   "metadata": {},
   "outputs": [
    {
     "data": {
      "text/plain": [
       "0    602\n",
       "1    536\n",
       "Name: nats_home1_away0, dtype: int64"
      ]
     },
     "execution_count": 37,
     "metadata": {},
     "output_type": "execute_result"
    }
   ],
   "source": [
    "ross.nats_home1_away0.value_counts()"
   ]
  },
  {
   "cell_type": "markdown",
   "metadata": {},
   "source": [
    "### away_team\n",
    "- Don't need this column as home_team indicates if the Nats are home or away"
   ]
  },
  {
   "cell_type": "code",
   "execution_count": 38,
   "metadata": {},
   "outputs": [],
   "source": [
    "kill_cols.append('away_team')"
   ]
  },
  {
   "cell_type": "markdown",
   "metadata": {},
   "source": [
    "### type column\n",
    "- Indicates if the pitch was a ball (taken), strike (taken), or a hit (indicated with X)\n",
    "- Result of pitch occurs after the pitch and does not relate to location so will be removed"
   ]
  },
  {
   "cell_type": "code",
   "execution_count": 39,
   "metadata": {},
   "outputs": [
    {
     "data": {
      "text/plain": [
       "S    494\n",
       "B    443\n",
       "X    201\n",
       "Name: type, dtype: int64"
      ]
     },
     "execution_count": 39,
     "metadata": {},
     "output_type": "execute_result"
    }
   ],
   "source": [
    "ross.type.value_counts()"
   ]
  },
  {
   "cell_type": "code",
   "execution_count": 40,
   "metadata": {},
   "outputs": [],
   "source": [
    "kill_cols.append('type')"
   ]
  },
  {
   "cell_type": "markdown",
   "metadata": {},
   "source": [
    "### balls\n",
    "- When combined with strikes, the count of the pitch is created\n",
    "- Will be key categorical, independant variable\n",
    "- After new column creation, feature no longer need and to be added to kill_cols"
   ]
  },
  {
   "cell_type": "code",
   "execution_count": 41,
   "metadata": {},
   "outputs": [],
   "source": [
    "kill_cols.append('balls')"
   ]
  },
  {
   "cell_type": "markdown",
   "metadata": {},
   "source": [
    "### strikes\n",
    "- When combined with balls, creates the count\n",
    "- Will be key categorical, independant variable\n",
    "- After new column creation, feature no longer need and to be added to kill_cols"
   ]
  },
  {
   "cell_type": "code",
   "execution_count": 42,
   "metadata": {},
   "outputs": [],
   "source": [
    "kill_cols.append('strikes')"
   ]
  },
  {
   "cell_type": "markdown",
   "metadata": {},
   "source": [
    "### balls_strikes (new feature)\n",
    "- Combines balls and strikes as a string/Pandas object"
   ]
  },
  {
   "cell_type": "code",
   "execution_count": 43,
   "metadata": {},
   "outputs": [],
   "source": [
    "ross['balls_strikes'] = ross.balls.astype(str) + '_' + ross.strikes.astype(str)"
   ]
  },
  {
   "cell_type": "code",
   "execution_count": 44,
   "metadata": {},
   "outputs": [
    {
     "data": {
      "text/plain": [
       "0_0    294\n",
       "0_1    145\n",
       "1_0    119\n",
       "1_1    108\n",
       "1_2     91\n",
       "2_2     85\n",
       "0_2     76\n",
       "3_2     70\n",
       "2_1     59\n",
       "2_0     46\n",
       "3_1     28\n",
       "3_0     17\n",
       "Name: balls_strikes, dtype: int64"
      ]
     },
     "execution_count": 44,
     "metadata": {},
     "output_type": "execute_result"
    }
   ],
   "source": [
    "ross.balls_strikes.value_counts()"
   ]
  },
  {
   "cell_type": "markdown",
   "metadata": {},
   "source": [
    "Wow, Mad Max only had sixteen 3-0 counts in the 2019 regular season?  That is impressive."
   ]
  },
  {
   "cell_type": "code",
   "execution_count": 46,
   "metadata": {},
   "outputs": [
    {
     "data": {
      "image/png": "[encoded data removed]",
      "text/plain": [
       "<Figure size 1186.07x595.44 with 1 Axes>"
      ]
     },
     "metadata": {
      "needs_background": "light"
     },
     "output_type": "display_data"
    }
   ],
   "source": [
    "counts = sns.catplot(x = 'pitch_type', \n",
    "            y = 'release_speed', \n",
    "            kind = 'swarm', \n",
    "            data = ross, \n",
    "            order = ['FF', 'SI', 'SL', 'CH', 'CU'], \n",
    "            palette = 'Blues',\n",
    "            hue = 'balls_strikes',\n",
    "            height = 8.27, \n",
    "            aspect = 15/8);\n",
    "\n",
    "counts.savefig('../viz/pitch_type_speed_count_swarm_ross.png')"
   ]
  },
  {
   "cell_type": "markdown",
   "metadata": {},
   "source": [
    "__Key Takeaway__: On superficial inspection, it looks like random spread of pitch selection and velocity by count values"
   ]
  },
  {
   "cell_type": "markdown",
   "metadata": {},
   "source": [
    "### on_3b\n",
    "- null if no runner on 3rd base and player ID of plyer on 3rd if occupied\n",
    "- Will change to 0 if empty and 1 if occupied for this experiment"
   ]
  },
  {
   "cell_type": "code",
   "execution_count": 47,
   "metadata": {},
   "outputs": [],
   "source": [
    "ross.on_3b = ross.on_3b.fillna(value=0)"
   ]
  },
  {
   "cell_type": "code",
   "execution_count": 48,
   "metadata": {},
   "outputs": [
    {
     "data": {
      "text/plain": [
       "0       0.0\n",
       "1       0.0\n",
       "2       0.0\n",
       "3       0.0\n",
       "4       0.0\n",
       "       ... \n",
       "1133    0.0\n",
       "1134    0.0\n",
       "1135    0.0\n",
       "1136    0.0\n",
       "1137    0.0\n",
       "Name: on_3b, Length: 1138, dtype: float64"
      ]
     },
     "execution_count": 48,
     "metadata": {},
     "output_type": "execute_result"
    }
   ],
   "source": [
    "ross.on_3b"
   ]
  },
  {
   "cell_type": "code",
   "execution_count": 49,
   "metadata": {},
   "outputs": [],
   "source": [
    "ross.on_3b = ross.on_3b.apply(lambda r3: 0 if r3 == 0 else 1)"
   ]
  },
  {
   "cell_type": "code",
   "execution_count": 50,
   "metadata": {},
   "outputs": [
    {
     "data": {
      "text/plain": [
       "0    1022\n",
       "1     116\n",
       "Name: on_3b, dtype: int64"
      ]
     },
     "execution_count": 50,
     "metadata": {},
     "output_type": "execute_result"
    }
   ],
   "source": [
    "ross.on_3b.value_counts()"
   ]
  },
  {
   "cell_type": "markdown",
   "metadata": {},
   "source": [
    "### on_2b\n",
    "- Same treatment as on_3b"
   ]
  },
  {
   "cell_type": "code",
   "execution_count": 51,
   "metadata": {},
   "outputs": [
    {
     "data": {
      "text/plain": [
       "0    882\n",
       "1    256\n",
       "Name: on_2b, dtype: int64"
      ]
     },
     "execution_count": 51,
     "metadata": {},
     "output_type": "execute_result"
    }
   ],
   "source": [
    "ross.on_2b = ross.on_2b.fillna(value=0)\n",
    "ross.on_2b\n",
    "ross.on_2b = ross.on_2b.apply(lambda r2: 0 if r2 == 0 else 1)\n",
    "ross.on_2b.value_counts()"
   ]
  },
  {
   "cell_type": "markdown",
   "metadata": {},
   "source": [
    "### on_1b\n",
    "- Same treatment as on_3b"
   ]
  },
  {
   "cell_type": "code",
   "execution_count": 52,
   "metadata": {},
   "outputs": [
    {
     "data": {
      "text/plain": [
       "0    776\n",
       "1    362\n",
       "Name: on_1b, dtype: int64"
      ]
     },
     "execution_count": 52,
     "metadata": {},
     "output_type": "execute_result"
    }
   ],
   "source": [
    "ross.on_1b = ross.on_1b.fillna(value=0)\n",
    "ross.on_1b\n",
    "ross.on_1b = ross.on_1b.apply(lambda r1: 0 if r1 == 0 else 1)\n",
    "ross.on_1b.value_counts()"
   ]
  },
  {
   "cell_type": "markdown",
   "metadata": {},
   "source": [
    "### all_runners (new feature)\n",
    "- Combines on_1b, on_2b, and on_3b as one, categorical variable"
   ]
  },
  {
   "cell_type": "code",
   "execution_count": 53,
   "metadata": {},
   "outputs": [],
   "source": [
    "ross['all_runners'] = 'fb:' + ross.on_1b.iloc[:].astype(str) + '_' + \\\n",
    "                            'sb:' + ross.on_2b.iloc[:].astype(str) + '_' +\\\n",
    "                            'tb:' + ross.on_3b.iloc[:].astype(str)"
   ]
  },
  {
   "cell_type": "code",
   "execution_count": 54,
   "metadata": {},
   "outputs": [
    {
     "data": {
      "text/plain": [
       "fb:0_sb:0_tb:0    648\n",
       "fb:1_sb:0_tb:0    191\n",
       "fb:1_sb:1_tb:0    107\n",
       "fb:0_sb:1_tb:0     76\n",
       "fb:0_sb:1_tb:1     37\n",
       "fb:1_sb:1_tb:1     36\n",
       "fb:1_sb:0_tb:1     28\n",
       "fb:0_sb:0_tb:1     15\n",
       "Name: all_runners, dtype: int64"
      ]
     },
     "execution_count": 54,
     "metadata": {},
     "output_type": "execute_result"
    }
   ],
   "source": [
    "ross.all_runners.value_counts()"
   ]
  },
  {
   "cell_type": "code",
   "execution_count": 55,
   "metadata": {},
   "outputs": [
    {
     "data": {
      "text/plain": [
       "Index(['pitch_type', 'game_date', 'batter', 'release_speed', 'events',\n",
       "       'description', 'zone', 'des', 'stand', 'home_team', 'away_team', 'type',\n",
       "       'balls', 'strikes', 'on_3b', 'on_2b', 'on_1b', 'outs_when_up', 'inning',\n",
       "       'inning_topbot', 'sv_id', 'release_spin_rate', 'pitch_number',\n",
       "       'pitch_name', 'bat_score', 'fld_score', 'if_fielding_alignment',\n",
       "       'of_fielding_alignment', 'nats_home1_away0', 'balls_strikes',\n",
       "       'all_runners'],\n",
       "      dtype='object')"
      ]
     },
     "execution_count": 55,
     "metadata": {},
     "output_type": "execute_result"
    }
   ],
   "source": [
    "ross.columns"
   ]
  },
  {
   "cell_type": "markdown",
   "metadata": {},
   "source": [
    "Wow, Mad Max only had the bases loaded twenty times all season, impressive."
   ]
  },
  {
   "cell_type": "markdown",
   "metadata": {},
   "source": [
    "### outs_when_up\n",
    "- Outs when batter is at the plate\n",
    "- Quantities of each class are close in aggregate value"
   ]
  },
  {
   "cell_type": "code",
   "execution_count": 56,
   "metadata": {},
   "outputs": [
    {
     "data": {
      "text/plain": [
       "0    425\n",
       "1    396\n",
       "2    317\n",
       "Name: outs_when_up, dtype: int64"
      ]
     },
     "execution_count": 56,
     "metadata": {},
     "output_type": "execute_result"
    }
   ],
   "source": [
    "ross.outs_when_up.value_counts()"
   ]
  },
  {
   "cell_type": "markdown",
   "metadata": {},
   "source": [
    "### inning\n",
    "- Indicates what inning the pitch was thrown"
   ]
  },
  {
   "cell_type": "code",
   "execution_count": 57,
   "metadata": {},
   "outputs": [
    {
     "data": {
      "text/plain": [
       "3    172\n",
       "4    169\n",
       "1    154\n",
       "2    144\n",
       "5    130\n",
       "6    109\n",
       "7     98\n",
       "8     97\n",
       "9     65\n",
       "Name: inning, dtype: int64"
      ]
     },
     "execution_count": 57,
     "metadata": {},
     "output_type": "execute_result"
    }
   ],
   "source": [
    "ross.inning.value_counts()"
   ]
  },
  {
   "cell_type": "markdown",
   "metadata": {},
   "source": [
    "### inning_topbot\n",
    "- Don't need this feature as it results from the Nats being home or away\n",
    "- Adding to kill_cols"
   ]
  },
  {
   "cell_type": "code",
   "execution_count": 58,
   "metadata": {},
   "outputs": [],
   "source": [
    "kill_cols.append('inning_topbot')"
   ]
  },
  {
   "cell_type": "markdown",
   "metadata": {},
   "source": [
    "### sv_id\n",
    "- Used to order pitches chronologically when ascending\n",
    "- Will be retained until ordering pitches is no longer neccessary"
   ]
  },
  {
   "cell_type": "markdown",
   "metadata": {},
   "source": [
    "### pitch_number\n",
    "- Equals the running count of pitches thrown to the batter in that appearance;\n",
    "- Resets with each new batter"
   ]
  },
  {
   "cell_type": "code",
   "execution_count": 59,
   "metadata": {},
   "outputs": [
    {
     "data": {
      "text/plain": [
       "0       4\n",
       "1       3\n",
       "2       2\n",
       "3       1\n",
       "4       4\n",
       "       ..\n",
       "1133    5\n",
       "1134    4\n",
       "1135    3\n",
       "1136    2\n",
       "1137    1\n",
       "Name: pitch_number, Length: 1138, dtype: int64"
      ]
     },
     "execution_count": 59,
     "metadata": {},
     "output_type": "execute_result"
    }
   ],
   "source": [
    "ross.pitch_number"
   ]
  },
  {
   "cell_type": "markdown",
   "metadata": {},
   "source": [
    "### pitch_name\n",
    "- Redundant column for pitch_type column\n",
    "- Will remove"
   ]
  },
  {
   "cell_type": "code",
   "execution_count": 60,
   "metadata": {},
   "outputs": [],
   "source": [
    "kill_cols.append('pitch_name')"
   ]
  },
  {
   "cell_type": "markdown",
   "metadata": {},
   "source": [
    "### bat_score\n",
    "- Score of batting team aka not the Nats\n",
    "- Will change to opp_score (opponent score)"
   ]
  },
  {
   "cell_type": "code",
   "execution_count": 61,
   "metadata": {},
   "outputs": [],
   "source": [
    "ross = ross.rename(columns={'bat_score': 'opp_score'})"
   ]
  },
  {
   "cell_type": "markdown",
   "metadata": {},
   "source": [
    "### fld_score\n",
    "- Score of fielding team aka the Nats\n",
    "- Will change to nat_score"
   ]
  },
  {
   "cell_type": "code",
   "execution_count": 62,
   "metadata": {},
   "outputs": [],
   "source": [
    "ross = ross.rename(columns={'fld_score': 'nats_score'})"
   ]
  },
  {
   "cell_type": "markdown",
   "metadata": {},
   "source": [
    "### if_fielding_alignment\n",
    "- Indicates standard or shift of the infield"
   ]
  },
  {
   "cell_type": "code",
   "execution_count": 63,
   "metadata": {},
   "outputs": [
    {
     "data": {
      "text/plain": [
       "Standard         805\n",
       "Infield shift    229\n",
       "Strategic        104\n",
       "Name: if_fielding_alignment, dtype: int64"
      ]
     },
     "execution_count": 63,
     "metadata": {},
     "output_type": "execute_result"
    }
   ],
   "source": [
    "ross.if_fielding_alignment.value_counts()"
   ]
  },
  {
   "cell_type": "markdown",
   "metadata": {},
   "source": [
    "### of_fielding_alignment\n",
    "- Indicates standard or shift of the outfield"
   ]
  },
  {
   "cell_type": "code",
   "execution_count": 64,
   "metadata": {},
   "outputs": [
    {
     "data": {
      "text/plain": [
       "Standard     1085\n",
       "Strategic      53\n",
       "Name: of_fielding_alignment, dtype: int64"
      ]
     },
     "execution_count": 64,
     "metadata": {},
     "output_type": "execute_result"
    }
   ],
   "source": [
    "ross.of_fielding_alignment.value_counts()"
   ]
  },
  {
   "cell_type": "markdown",
   "metadata": {},
   "source": [
    "## That's a good start to our data set, at this point, we will export to csv and continue in the next step"
   ]
  },
  {
   "cell_type": "code",
   "execution_count": 65,
   "metadata": {},
   "outputs": [],
   "source": [
    "ross = ross.drop(columns=kill_cols)"
   ]
  },
  {
   "cell_type": "code",
   "execution_count": 66,
   "metadata": {},
   "outputs": [],
   "source": [
    "ross.to_csv('../../data/processed/ross/ross_cleaned.csv')"
   ]
  },
  {
   "cell_type": "code",
   "execution_count": null,
   "metadata": {},
   "outputs": [],
   "source": []
  },
  {
   "cell_type": "code",
   "execution_count": null,
   "metadata": {},
   "outputs": [],
   "source": []
  }
 ],
 "metadata": {
  "kernelspec": {
   "display_name": "Python 3",
   "language": "python",
   "name": "python3"
  },
  "language_info": {
   "codemirror_mode": {
    "name": "ipython",
    "version": 3
   },
   "file_extension": ".py",
   "mimetype": "text/x-python",
   "name": "python",
   "nbconvert_exporter": "python",
   "pygments_lexer": "ipython3",
   "version": "3.7.7"
  }
 },
 "nbformat": 4,
 "nbformat_minor": 4
}
