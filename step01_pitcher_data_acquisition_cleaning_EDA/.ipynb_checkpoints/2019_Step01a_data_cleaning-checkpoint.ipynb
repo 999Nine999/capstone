{
 "cells": [
  {
   "cell_type": "markdown",
   "metadata": {},
   "source": [
    "# Step01a: Data Cleaning\n",
    "In this notebook we'll clean the data."
   ]
  },
  {
   "cell_type": "markdown",
   "metadata": {},
   "source": [
    "## Import packages"
   ]
  },
  {
   "cell_type": "code",
   "execution_count": 68,
   "metadata": {},
   "outputs": [],
   "source": [
    "import pandas as pd\n",
    "import numpy as np\n",
    "import seaborn as sns\n",
    "import matplotlib as plt\n",
    "import pickle\n",
    "%matplotlib inline"
   ]
  },
  {
   "cell_type": "code",
   "execution_count": 69,
   "metadata": {},
   "outputs": [],
   "source": [
    "filepath = '../data/savant/'\n",
    "\n",
    "infile = open(filepath + 'all_pitcher_data_2019.pickle','rb')\n",
    "pitchers = pickle.load(infile)\n",
    "infile.close()"
   ]
  },
  {
   "cell_type": "code",
   "execution_count": 70,
   "metadata": {},
   "outputs": [],
   "source": [
    "pitchers.head();"
   ]
  },
  {
   "cell_type": "code",
   "execution_count": 71,
   "metadata": {},
   "outputs": [
    {
     "data": {
      "text/plain": [
       "Index(['pitch_type', 'game_date', 'release_speed', 'release_pos_x',\n",
       "       'release_pos_z', 'player_name', 'batter', 'pitcher', 'events',\n",
       "       'description', 'spin_dir', 'spin_rate_deprecated',\n",
       "       'break_angle_deprecated', 'break_length_deprecated', 'zone', 'des',\n",
       "       'game_type', 'stand', 'p_throws', 'home_team', 'away_team', 'type',\n",
       "       'hit_location', 'bb_type', 'balls', 'strikes', 'game_year', 'pfx_x',\n",
       "       'pfx_z', 'plate_x', 'plate_z', 'on_3b', 'on_2b', 'on_1b',\n",
       "       'outs_when_up', 'inning', 'inning_topbot', 'hc_x', 'hc_y',\n",
       "       'tfs_deprecated', 'tfs_zulu_deprecated', 'fielder_2', 'umpire', 'sv_id',\n",
       "       'vx0', 'vy0', 'vz0', 'ax', 'ay', 'az', 'sz_top', 'sz_bot',\n",
       "       'hit_distance_sc', 'launch_speed', 'launch_angle', 'effective_speed',\n",
       "       'release_spin_rate', 'release_extension', 'game_pk', 'pitcher.1',\n",
       "       'fielder_2.1', 'fielder_3', 'fielder_4', 'fielder_5', 'fielder_6',\n",
       "       'fielder_7', 'fielder_8', 'fielder_9', 'release_pos_y',\n",
       "       'estimated_ba_using_speedangle', 'estimated_woba_using_speedangle',\n",
       "       'woba_value', 'woba_denom', 'babip_value', 'iso_value',\n",
       "       'launch_speed_angle', 'at_bat_number', 'pitch_number', 'pitch_name',\n",
       "       'home_score', 'away_score', 'bat_score', 'fld_score', 'post_away_score',\n",
       "       'post_home_score', 'post_bat_score', 'post_fld_score',\n",
       "       'if_fielding_alignment', 'of_fielding_alignment'],\n",
       "      dtype='object')"
      ]
     },
     "execution_count": 71,
     "metadata": {},
     "output_type": "execute_result"
    }
   ],
   "source": [
    "pitchers.columns"
   ]
  },
  {
   "cell_type": "markdown",
   "metadata": {},
   "source": [
    "## Columns to lowercase and replace spaces with '_'"
   ]
  },
  {
   "cell_type": "code",
   "execution_count": 72,
   "metadata": {},
   "outputs": [],
   "source": [
    "new_cols = []\n",
    "\n",
    "for c in pitchers.columns:\n",
    "    c = c.lower()\n",
    "    c = c.replace(' ', '_')\n",
    "    c = c.replace('(', '')\n",
    "    c = c.replace(')', '')\n",
    "    c = c.replace('_°', '')\n",
    "    new_cols.append(c)\n",
    "    \n",
    "pitchers.columns = new_cols"
   ]
  },
  {
   "cell_type": "code",
   "execution_count": 73,
   "metadata": {},
   "outputs": [
    {
     "data": {
      "text/plain": [
       "(598053, 89)"
      ]
     },
     "execution_count": 73,
     "metadata": {},
     "output_type": "execute_result"
    }
   ],
   "source": [
    "pitchers.shape"
   ]
  },
  {
   "cell_type": "code",
   "execution_count": 74,
   "metadata": {},
   "outputs": [
    {
     "data": {
      "text/plain": [
       "Index(['pitch_type', 'game_date', 'release_speed', 'release_pos_x',\n",
       "       'release_pos_z', 'player_name', 'batter', 'pitcher', 'events',\n",
       "       'description', 'spin_dir', 'spin_rate_deprecated',\n",
       "       'break_angle_deprecated', 'break_length_deprecated', 'zone', 'des',\n",
       "       'game_type', 'stand', 'p_throws', 'home_team', 'away_team', 'type',\n",
       "       'hit_location', 'bb_type', 'balls', 'strikes', 'game_year', 'pfx_x',\n",
       "       'pfx_z', 'plate_x', 'plate_z', 'on_3b', 'on_2b', 'on_1b',\n",
       "       'outs_when_up', 'inning', 'inning_topbot', 'hc_x', 'hc_y',\n",
       "       'tfs_deprecated', 'tfs_zulu_deprecated', 'fielder_2', 'umpire', 'sv_id',\n",
       "       'vx0', 'vy0', 'vz0', 'ax', 'ay', 'az', 'sz_top', 'sz_bot',\n",
       "       'hit_distance_sc', 'launch_speed', 'launch_angle', 'effective_speed',\n",
       "       'release_spin_rate', 'release_extension', 'game_pk', 'pitcher.1',\n",
       "       'fielder_2.1', 'fielder_3', 'fielder_4', 'fielder_5', 'fielder_6',\n",
       "       'fielder_7', 'fielder_8', 'fielder_9', 'release_pos_y',\n",
       "       'estimated_ba_using_speedangle', 'estimated_woba_using_speedangle',\n",
       "       'woba_value', 'woba_denom', 'babip_value', 'iso_value',\n",
       "       'launch_speed_angle', 'at_bat_number', 'pitch_number', 'pitch_name',\n",
       "       'home_score', 'away_score', 'bat_score', 'fld_score', 'post_away_score',\n",
       "       'post_home_score', 'post_bat_score', 'post_fld_score',\n",
       "       'if_fielding_alignment', 'of_fielding_alignment'],\n",
       "      dtype='object')"
      ]
     },
     "execution_count": 74,
     "metadata": {},
     "output_type": "execute_result"
    }
   ],
   "source": [
    "pitchers.columns"
   ]
  },
  {
   "cell_type": "markdown",
   "metadata": {},
   "source": [
    "## Ok, there are 89 columns and not all are important for this experiement.  Let's make a few prelininary column removals."
   ]
  },
  {
   "cell_type": "markdown",
   "metadata": {},
   "source": [
    "### Of the 89 columns, the following pertain to the experiment:\n",
    "- pitch_type\n",
    "- game_date (for purposes of discovering the sequential order of pitches for creatin of new features)\n",
    "- release_speed\n",
    "- events \n",
    "- description\n",
    "- zone\n",
    "- des\n",
    "- stand\n",
    "- home_team\n",
    "- away_team\n",
    "- type\n",
    "- balls\n",
    "- strikes\n",
    "- on_3b\n",
    "- on_2b\n",
    "- on_1b\n",
    "- outs_when_up\n",
    "- inning\n",
    "- inning_topbot\n",
    "- sv_id\n",
    "- release_spin_rate\n",
    "- pitch_number\n",
    "- pitch_name\n",
    "- home_score\n",
    "- away_score\n",
    "- bat_score\n",
    "- fld_score\n",
    "- if_fielding_alignment\n",
    "- of_fielding_alignment"
   ]
  },
  {
   "cell_type": "code",
   "execution_count": 75,
   "metadata": {},
   "outputs": [],
   "source": [
    "keep_cols = ['pitch_type', 'game_date', 'p_throws', 'batter', 'release_speed', 'events', 'description', 'zone', 'des', 'stand',\n",
    "            'home_team', 'away_team', 'type', 'balls', 'strikes', 'on_3b', 'on_2b', 'on_1b', 'outs_when_up',\n",
    "            'inning', 'inning_topbot', 'sv_id', 'release_spin_rate', 'pitch_number', 'pitch_name', 'bat_score', \n",
    "             'fld_score', 'if_fielding_alignment', 'of_fielding_alignment']"
   ]
  },
  {
   "cell_type": "code",
   "execution_count": 76,
   "metadata": {},
   "outputs": [],
   "source": [
    "pitchers = pitchers[keep_cols]"
   ]
  },
  {
   "cell_type": "code",
   "execution_count": 77,
   "metadata": {
    "scrolled": true
   },
   "outputs": [
    {
     "data": {
      "text/plain": [
       "Index(['pitch_type', 'game_date', 'p_throws', 'batter', 'release_speed',\n",
       "       'events', 'description', 'zone', 'des', 'stand', 'home_team',\n",
       "       'away_team', 'type', 'balls', 'strikes', 'on_3b', 'on_2b', 'on_1b',\n",
       "       'outs_when_up', 'inning', 'inning_topbot', 'sv_id', 'release_spin_rate',\n",
       "       'pitch_number', 'pitch_name', 'bat_score', 'fld_score',\n",
       "       'if_fielding_alignment', 'of_fielding_alignment'],\n",
       "      dtype='object')"
      ]
     },
     "execution_count": 77,
     "metadata": {},
     "output_type": "execute_result"
    }
   ],
   "source": [
    "pitchers.columns"
   ]
  },
  {
   "cell_type": "markdown",
   "metadata": {},
   "source": [
    "## Columns look good, lets go through the data one column at a time\n",
    "We will review the data in each column in order to assess its importance, the handling of null values, and any other issues we may come across"
   ]
  },
  {
   "cell_type": "code",
   "execution_count": 78,
   "metadata": {},
   "outputs": [
    {
     "data": {
      "text/plain": [
       "'\\nReviews -> pitchers\\nPitches -> words\\nSentences -> inning\\ndoc -> game\\n\\nlstm...???\\n\\nFind best baseball scout, what would be there accuracy in terms of pitch outcome -> upperline expectation\\n\\nPitch type, location... focus on one only (location)\\n\\n90% sure lstm can be used... need a sequential model ->  What people doing with this type of data and \\n    sequential models as well.\\n    \\nAndrew Ng vids for sequential models\\n\\n'"
      ]
     },
     "execution_count": 78,
     "metadata": {},
     "output_type": "execute_result"
    }
   ],
   "source": [
    "pitchers.sort_values(by='sv_id')\n",
    "# sv_id functions as an ID that sorts pitches over time.  Order will be required to pitch count calculations.\n",
    "\n",
    "## For hitters, singles, doubles, triples, hrs cumulative up to that game (juicy part of data)\n",
    "\n",
    "'''\n",
    "Reviews -> pitchers\n",
    "Pitches -> words\n",
    "Sentences -> inning\n",
    "doc -> game\n",
    "\n",
    "lstm...???\n",
    "\n",
    "Find best baseball scout, what would be there accuracy in terms of pitch outcome -> upperline expectation\n",
    "\n",
    "Pitch type, location... focus on one only (location)\n",
    "\n",
    "90% sure lstm can be used... need a sequential model ->  What people doing with this type of data and \n",
    "    sequential models as well.\n",
    "    \n",
    "Andrew Ng vids for sequential models\n",
    "\n",
    "'''"
   ]
  },
  {
   "cell_type": "code",
   "execution_count": 79,
   "metadata": {},
   "outputs": [
    {
     "data": {
      "text/html": [
       "<div>\n",
       "<style scoped>\n",
       "    .dataframe tbody tr th:only-of-type {\n",
       "        vertical-align: middle;\n",
       "    }\n",
       "\n",
       "    .dataframe tbody tr th {\n",
       "        vertical-align: top;\n",
       "    }\n",
       "\n",
       "    .dataframe thead th {\n",
       "        text-align: right;\n",
       "    }\n",
       "</style>\n",
       "<table border=\"1\" class=\"dataframe\">\n",
       "  <thead>\n",
       "    <tr style=\"text-align: right;\">\n",
       "      <th></th>\n",
       "      <th>pitch_type</th>\n",
       "      <th>game_date</th>\n",
       "      <th>p_throws</th>\n",
       "      <th>batter</th>\n",
       "      <th>release_speed</th>\n",
       "      <th>events</th>\n",
       "      <th>description</th>\n",
       "      <th>zone</th>\n",
       "      <th>des</th>\n",
       "      <th>stand</th>\n",
       "      <th>...</th>\n",
       "      <th>inning</th>\n",
       "      <th>inning_topbot</th>\n",
       "      <th>sv_id</th>\n",
       "      <th>release_spin_rate</th>\n",
       "      <th>pitch_number</th>\n",
       "      <th>pitch_name</th>\n",
       "      <th>bat_score</th>\n",
       "      <th>fld_score</th>\n",
       "      <th>if_fielding_alignment</th>\n",
       "      <th>of_fielding_alignment</th>\n",
       "    </tr>\n",
       "  </thead>\n",
       "  <tbody>\n",
       "    <tr>\n",
       "      <th>0</th>\n",
       "      <td>FF</td>\n",
       "      <td>2019-09-22</td>\n",
       "      <td>R</td>\n",
       "      <td>643446</td>\n",
       "      <td>93.2</td>\n",
       "      <td>field_out</td>\n",
       "      <td>hit_into_play</td>\n",
       "      <td>12.0</td>\n",
       "      <td>Jeff McNeil bunt pops out to first baseman Joe...</td>\n",
       "      <td>L</td>\n",
       "      <td>...</td>\n",
       "      <td>7</td>\n",
       "      <td>Top</td>\n",
       "      <td>190922_192239</td>\n",
       "      <td>2604.0</td>\n",
       "      <td>3</td>\n",
       "      <td>4-Seam Fastball</td>\n",
       "      <td>5</td>\n",
       "      <td>2</td>\n",
       "      <td>Infield shift</td>\n",
       "      <td>Standard</td>\n",
       "    </tr>\n",
       "    <tr>\n",
       "      <th>1</th>\n",
       "      <td>FC</td>\n",
       "      <td>2019-09-22</td>\n",
       "      <td>R</td>\n",
       "      <td>643446</td>\n",
       "      <td>85.6</td>\n",
       "      <td>NaN</td>\n",
       "      <td>swinging_strike</td>\n",
       "      <td>3.0</td>\n",
       "      <td>NaN</td>\n",
       "      <td>L</td>\n",
       "      <td>...</td>\n",
       "      <td>7</td>\n",
       "      <td>Top</td>\n",
       "      <td>190922_192204</td>\n",
       "      <td>2827.0</td>\n",
       "      <td>2</td>\n",
       "      <td>Cutter</td>\n",
       "      <td>5</td>\n",
       "      <td>2</td>\n",
       "      <td>Infield shift</td>\n",
       "      <td>Standard</td>\n",
       "    </tr>\n",
       "    <tr>\n",
       "      <th>2</th>\n",
       "      <td>FC</td>\n",
       "      <td>2019-09-22</td>\n",
       "      <td>R</td>\n",
       "      <td>643446</td>\n",
       "      <td>85.9</td>\n",
       "      <td>NaN</td>\n",
       "      <td>ball</td>\n",
       "      <td>11.0</td>\n",
       "      <td>NaN</td>\n",
       "      <td>L</td>\n",
       "      <td>...</td>\n",
       "      <td>7</td>\n",
       "      <td>Top</td>\n",
       "      <td>190922_192140</td>\n",
       "      <td>2960.0</td>\n",
       "      <td>1</td>\n",
       "      <td>Cutter</td>\n",
       "      <td>5</td>\n",
       "      <td>2</td>\n",
       "      <td>Infield shift</td>\n",
       "      <td>Standard</td>\n",
       "    </tr>\n",
       "    <tr>\n",
       "      <th>3</th>\n",
       "      <td>KC</td>\n",
       "      <td>2019-09-22</td>\n",
       "      <td>R</td>\n",
       "      <td>607043</td>\n",
       "      <td>78.4</td>\n",
       "      <td>field_out</td>\n",
       "      <td>hit_into_play</td>\n",
       "      <td>4.0</td>\n",
       "      <td>Brandon Nimmo grounds out, catcher Tucker Barn...</td>\n",
       "      <td>L</td>\n",
       "      <td>...</td>\n",
       "      <td>7</td>\n",
       "      <td>Top</td>\n",
       "      <td>190922_192046</td>\n",
       "      <td>2766.0</td>\n",
       "      <td>3</td>\n",
       "      <td>Knuckle Curve</td>\n",
       "      <td>5</td>\n",
       "      <td>2</td>\n",
       "      <td>Infield shift</td>\n",
       "      <td>Standard</td>\n",
       "    </tr>\n",
       "    <tr>\n",
       "      <th>4</th>\n",
       "      <td>FF</td>\n",
       "      <td>2019-09-22</td>\n",
       "      <td>R</td>\n",
       "      <td>607043</td>\n",
       "      <td>94.0</td>\n",
       "      <td>NaN</td>\n",
       "      <td>foul</td>\n",
       "      <td>12.0</td>\n",
       "      <td>NaN</td>\n",
       "      <td>L</td>\n",
       "      <td>...</td>\n",
       "      <td>7</td>\n",
       "      <td>Top</td>\n",
       "      <td>190922_192008</td>\n",
       "      <td>2730.0</td>\n",
       "      <td>2</td>\n",
       "      <td>4-Seam Fastball</td>\n",
       "      <td>5</td>\n",
       "      <td>2</td>\n",
       "      <td>Infield shift</td>\n",
       "      <td>Standard</td>\n",
       "    </tr>\n",
       "  </tbody>\n",
       "</table>\n",
       "<p>5 rows × 29 columns</p>\n",
       "</div>"
      ],
      "text/plain": [
       "  pitch_type   game_date p_throws  batter  release_speed     events  \\\n",
       "0         FF  2019-09-22        R  643446           93.2  field_out   \n",
       "1         FC  2019-09-22        R  643446           85.6        NaN   \n",
       "2         FC  2019-09-22        R  643446           85.9        NaN   \n",
       "3         KC  2019-09-22        R  607043           78.4  field_out   \n",
       "4         FF  2019-09-22        R  607043           94.0        NaN   \n",
       "\n",
       "       description  zone                                                des  \\\n",
       "0    hit_into_play  12.0  Jeff McNeil bunt pops out to first baseman Joe...   \n",
       "1  swinging_strike   3.0                                                NaN   \n",
       "2             ball  11.0                                                NaN   \n",
       "3    hit_into_play   4.0  Brandon Nimmo grounds out, catcher Tucker Barn...   \n",
       "4             foul  12.0                                                NaN   \n",
       "\n",
       "  stand  ... inning inning_topbot          sv_id  release_spin_rate  \\\n",
       "0     L  ...      7           Top  190922_192239             2604.0   \n",
       "1     L  ...      7           Top  190922_192204             2827.0   \n",
       "2     L  ...      7           Top  190922_192140             2960.0   \n",
       "3     L  ...      7           Top  190922_192046             2766.0   \n",
       "4     L  ...      7           Top  190922_192008             2730.0   \n",
       "\n",
       "   pitch_number       pitch_name  bat_score  fld_score  if_fielding_alignment  \\\n",
       "0             3  4-Seam Fastball          5          2          Infield shift   \n",
       "1             2           Cutter          5          2          Infield shift   \n",
       "2             1           Cutter          5          2          Infield shift   \n",
       "3             3    Knuckle Curve          5          2          Infield shift   \n",
       "4             2  4-Seam Fastball          5          2          Infield shift   \n",
       "\n",
       "   of_fielding_alignment  \n",
       "0               Standard  \n",
       "1               Standard  \n",
       "2               Standard  \n",
       "3               Standard  \n",
       "4               Standard  \n",
       "\n",
       "[5 rows x 29 columns]"
      ]
     },
     "execution_count": 79,
     "metadata": {},
     "output_type": "execute_result"
    }
   ],
   "source": [
    "pitchers.head()"
   ]
  },
  {
   "cell_type": "markdown",
   "metadata": {},
   "source": [
    "### pitch_type\n",
    "- Variable type: Dependant, Categorical\n",
    "- Data type: string\n",
    "- Unique values: 5\n",
    "- Adding to target list"
   ]
  },
  {
   "cell_type": "code",
   "execution_count": 13,
   "metadata": {},
   "outputs": [],
   "source": [
    "targets = ['pitch_type']"
   ]
  },
  {
   "cell_type": "code",
   "execution_count": 14,
   "metadata": {},
   "outputs": [
    {
     "data": {
      "text/plain": [
       "FF    213067\n",
       "SL    101184\n",
       "CH     67136\n",
       "CU     53941\n",
       "FT     53144\n",
       "SI     41954\n",
       "FC     41410\n",
       "KC     14057\n",
       "FS      9540\n",
       "EP        47\n",
       "Name: pitch_type, dtype: int64"
      ]
     },
     "execution_count": 14,
     "metadata": {},
     "output_type": "execute_result"
    }
   ],
   "source": [
    "pitchers.pitch_type.value_counts()"
   ]
  },
  {
   "cell_type": "markdown",
   "metadata": {},
   "source": [
    "Based on the following link, Max throws five different types of pitches <br>\n",
    "https://library.fangraphs.com/pitch-type-abbreviations-classifications/ <br><br>\n",
    "__Max's Pitch Repertoire in 2019__\n",
    "- FF: Four Seam Fastball\n",
    "- SL: Slider\n",
    "- CH: Changeup\n",
    "- CU: Curveball\n",
    "- FC: Fastball (Cutter)"
   ]
  },
  {
   "cell_type": "markdown",
   "metadata": {},
   "source": [
    "This will ultimatly be one of two targets in this study.  Looks like Max's go to pitch is the four seam fastball with the changeup and curveball representing minority classes."
   ]
  },
  {
   "cell_type": "markdown",
   "metadata": {},
   "source": [
    "### p_throws\n",
    "Weither pitcher is right or left handed"
   ]
  },
  {
   "cell_type": "code",
   "execution_count": 83,
   "metadata": {},
   "outputs": [],
   "source": [
    "pitchers['throw_r0_left1'] = pitchers.p_throws.apply(lambda h: 0 if h == 'R' else 1)"
   ]
  },
  {
   "cell_type": "code",
   "execution_count": 84,
   "metadata": {},
   "outputs": [],
   "source": [
    "pitchers = pitchers.drop(columns = ['p_throws'])"
   ]
  },
  {
   "cell_type": "markdown",
   "metadata": {},
   "source": [
    "### game_date"
   ]
  },
  {
   "cell_type": "code",
   "execution_count": 85,
   "metadata": {},
   "outputs": [],
   "source": [
    "# Following provides total pitch count per game\n",
    "# Will later make date either a month category or a seasonal category (spring, summer, fall)\n",
    "pitchers.game_date.value_counts();"
   ]
  },
  {
   "cell_type": "markdown",
   "metadata": {},
   "source": [
    "### release_speed\n",
    "- Variable type: TBD, Continuous\n",
    "- Data type: Float\n",
    "- Number of unique Values: n/a"
   ]
  },
  {
   "cell_type": "code",
   "execution_count": 86,
   "metadata": {},
   "outputs": [
    {
     "data": {
      "text/plain": [
       "412"
      ]
     },
     "execution_count": 86,
     "metadata": {},
     "output_type": "execute_result"
    }
   ],
   "source": [
    "len(pitchers.release_speed.value_counts())"
   ]
  },
  {
   "cell_type": "code",
   "execution_count": 87,
   "metadata": {},
   "outputs": [
    {
     "data": {
      "text/plain": [
       "(55.6, 102.9)"
      ]
     },
     "execution_count": 87,
     "metadata": {},
     "output_type": "execute_result"
    }
   ],
   "source": [
    "pitchers.release_speed.min(), pitchers.release_speed.max()"
   ]
  },
  {
   "cell_type": "markdown",
   "metadata": {},
   "source": [
    "#### These velocities relate directly to pitch types, let's take a look at these values together"
   ]
  },
  {
   "cell_type": "code",
   "execution_count": 88,
   "metadata": {},
   "outputs": [],
   "source": [
    "pitchers = pitchers.loc[pitchers.pitch_type.isna() == False]\n",
    "pitchers = pitchers.loc[pitchers.pitch_type != 'NaN']"
   ]
  },
  {
   "cell_type": "code",
   "execution_count": 89,
   "metadata": {},
   "outputs": [
    {
     "data": {
      "text/plain": [
       "FF    213067\n",
       "SL    101184\n",
       "CH     67136\n",
       "CU     53941\n",
       "FT     53144\n",
       "SI     41954\n",
       "FC     41410\n",
       "KC     14057\n",
       "FS      9540\n",
       "EP        47\n",
       "Name: pitch_type, dtype: int64"
      ]
     },
     "execution_count": 89,
     "metadata": {},
     "output_type": "execute_result"
    }
   ],
   "source": [
    "pitchers.pitch_type.value_counts()"
   ]
  },
  {
   "cell_type": "code",
   "execution_count": 90,
   "metadata": {},
   "outputs": [
    {
     "data": {
      "text/html": [
       "<div>\n",
       "<style scoped>\n",
       "    .dataframe tbody tr th:only-of-type {\n",
       "        vertical-align: middle;\n",
       "    }\n",
       "\n",
       "    .dataframe tbody tr th {\n",
       "        vertical-align: top;\n",
       "    }\n",
       "\n",
       "    .dataframe thead th {\n",
       "        text-align: right;\n",
       "    }\n",
       "</style>\n",
       "<table border=\"1\" class=\"dataframe\">\n",
       "  <thead>\n",
       "    <tr style=\"text-align: right;\">\n",
       "      <th></th>\n",
       "      <th>pitch_type</th>\n",
       "      <th>game_date</th>\n",
       "      <th>batter</th>\n",
       "      <th>release_speed</th>\n",
       "      <th>events</th>\n",
       "      <th>description</th>\n",
       "      <th>zone</th>\n",
       "      <th>des</th>\n",
       "      <th>stand</th>\n",
       "      <th>home_team</th>\n",
       "      <th>...</th>\n",
       "      <th>inning_topbot</th>\n",
       "      <th>sv_id</th>\n",
       "      <th>release_spin_rate</th>\n",
       "      <th>pitch_number</th>\n",
       "      <th>pitch_name</th>\n",
       "      <th>bat_score</th>\n",
       "      <th>fld_score</th>\n",
       "      <th>if_fielding_alignment</th>\n",
       "      <th>of_fielding_alignment</th>\n",
       "      <th>throw_r0_left1</th>\n",
       "    </tr>\n",
       "  </thead>\n",
       "  <tbody>\n",
       "  </tbody>\n",
       "</table>\n",
       "<p>0 rows × 29 columns</p>\n",
       "</div>"
      ],
      "text/plain": [
       "Empty DataFrame\n",
       "Columns: [pitch_type, game_date, batter, release_speed, events, description, zone, des, stand, home_team, away_team, type, balls, strikes, on_3b, on_2b, on_1b, outs_when_up, inning, inning_topbot, sv_id, release_spin_rate, pitch_number, pitch_name, bat_score, fld_score, if_fielding_alignment, of_fielding_alignment, throw_r0_left1]\n",
       "Index: []\n",
       "\n",
       "[0 rows x 29 columns]"
      ]
     },
     "execution_count": 90,
     "metadata": {},
     "output_type": "execute_result"
    }
   ],
   "source": [
    "pitchers.loc[pitchers.pitch_type.isna() == True]"
   ]
  },
  {
   "cell_type": "code",
   "execution_count": 91,
   "metadata": {},
   "outputs": [
    {
     "data": {
      "text/plain": [
       "array(['FF', 'FC', 'KC', 'FT', 'CH', 'SL', 'CU', 'SI', 'FS', 'EP'],\n",
       "      dtype=object)"
      ]
     },
     "execution_count": 91,
     "metadata": {},
     "output_type": "execute_result"
    }
   ],
   "source": [
    "pitches = pitchers.pitch_type.unique()\n",
    "pitches"
   ]
  },
  {
   "cell_type": "code",
   "execution_count": 92,
   "metadata": {},
   "outputs": [],
   "source": [
    "results = {}\n",
    "p_count = 1\n",
    "for p in pitches:\n",
    "    avg = pitchers.loc[(pitchers.pitch_type == p)].release_speed.mean()\n",
    "    low = pitchers.loc[(pitchers.pitch_type == p)].release_speed.min()\n",
    "    high = pitchers.loc[(pitchers.pitch_type == p)].release_speed.max()\n",
    "    i = str('p{}'.format(p_count))\n",
    "    results[i] = [p, avg, low, high]\n",
    "    p_count += 1 "
   ]
  },
  {
   "cell_type": "code",
   "execution_count": 93,
   "metadata": {},
   "outputs": [
    {
     "data": {
      "text/html": [
       "<div>\n",
       "<style scoped>\n",
       "    .dataframe tbody tr th:only-of-type {\n",
       "        vertical-align: middle;\n",
       "    }\n",
       "\n",
       "    .dataframe tbody tr th {\n",
       "        vertical-align: top;\n",
       "    }\n",
       "\n",
       "    .dataframe thead th {\n",
       "        text-align: right;\n",
       "    }\n",
       "</style>\n",
       "<table border=\"1\" class=\"dataframe\">\n",
       "  <thead>\n",
       "    <tr style=\"text-align: right;\">\n",
       "      <th></th>\n",
       "      <th>pitch_type</th>\n",
       "      <th>mean</th>\n",
       "      <th>min</th>\n",
       "      <th>max</th>\n",
       "    </tr>\n",
       "  </thead>\n",
       "  <tbody>\n",
       "    <tr>\n",
       "      <th>p1</th>\n",
       "      <td>FF</td>\n",
       "      <td>93.4374</td>\n",
       "      <td>57.3</td>\n",
       "      <td>102.9</td>\n",
       "    </tr>\n",
       "    <tr>\n",
       "      <th>p2</th>\n",
       "      <td>FC</td>\n",
       "      <td>88.355</td>\n",
       "      <td>77.5</td>\n",
       "      <td>97.5</td>\n",
       "    </tr>\n",
       "    <tr>\n",
       "      <th>p3</th>\n",
       "      <td>KC</td>\n",
       "      <td>80.6913</td>\n",
       "      <td>64.1</td>\n",
       "      <td>91.3</td>\n",
       "    </tr>\n",
       "    <tr>\n",
       "      <th>p4</th>\n",
       "      <td>FT</td>\n",
       "      <td>92.7011</td>\n",
       "      <td>79.9</td>\n",
       "      <td>102.5</td>\n",
       "    </tr>\n",
       "    <tr>\n",
       "      <th>p5</th>\n",
       "      <td>CH</td>\n",
       "      <td>84.5814</td>\n",
       "      <td>58</td>\n",
       "      <td>96.7</td>\n",
       "    </tr>\n",
       "    <tr>\n",
       "      <th>p6</th>\n",
       "      <td>SL</td>\n",
       "      <td>84.7074</td>\n",
       "      <td>55.6</td>\n",
       "      <td>95.8</td>\n",
       "    </tr>\n",
       "    <tr>\n",
       "      <th>p7</th>\n",
       "      <td>CU</td>\n",
       "      <td>78.4858</td>\n",
       "      <td>61.3</td>\n",
       "      <td>93.6</td>\n",
       "    </tr>\n",
       "    <tr>\n",
       "      <th>p8</th>\n",
       "      <td>SI</td>\n",
       "      <td>92.0648</td>\n",
       "      <td>80.6</td>\n",
       "      <td>102.7</td>\n",
       "    </tr>\n",
       "    <tr>\n",
       "      <th>p9</th>\n",
       "      <td>FS</td>\n",
       "      <td>85.2384</td>\n",
       "      <td>76.2</td>\n",
       "      <td>93.8</td>\n",
       "    </tr>\n",
       "    <tr>\n",
       "      <th>p10</th>\n",
       "      <td>EP</td>\n",
       "      <td>64.7511</td>\n",
       "      <td>57.9</td>\n",
       "      <td>71.1</td>\n",
       "    </tr>\n",
       "  </tbody>\n",
       "</table>\n",
       "</div>"
      ],
      "text/plain": [
       "    pitch_type     mean   min    max\n",
       "p1          FF  93.4374  57.3  102.9\n",
       "p2          FC   88.355  77.5   97.5\n",
       "p3          KC  80.6913  64.1   91.3\n",
       "p4          FT  92.7011  79.9  102.5\n",
       "p5          CH  84.5814    58   96.7\n",
       "p6          SL  84.7074  55.6   95.8\n",
       "p7          CU  78.4858  61.3   93.6\n",
       "p8          SI  92.0648  80.6  102.7\n",
       "p9          FS  85.2384  76.2   93.8\n",
       "p10         EP  64.7511  57.9   71.1"
      ]
     },
     "execution_count": 93,
     "metadata": {},
     "output_type": "execute_result"
    }
   ],
   "source": [
    "results = pd.DataFrame(results).T\n",
    "results.columns = ['pitch_type', 'mean', 'min', 'max']\n",
    "results"
   ]
  },
  {
   "cell_type": "code",
   "execution_count": 94,
   "metadata": {},
   "outputs": [],
   "source": [
    "# vio = sns.catplot(x = 'pitch_type', \n",
    "#             y = 'release_speed', \n",
    "#             kind = 'violin', \n",
    "#             data=pitchers, \n",
    "#             order = ['FF', 'SL', 'CH', 'CU', 'FT', 'SI', 'FC', 'KC', 'FS', 'EP'],\n",
    "#             palette='Blues',\n",
    "#             height=8.27, \n",
    "#             aspect=15/8);\n",
    "\n",
    "# vio.savefig('../viz/pitch_type_speed_violins_2015_to_2019.png')"
   ]
  },
  {
   "cell_type": "markdown",
   "metadata": {},
   "source": [
    "### Key takeaway: Consider combining the slider and curveball pitches to one category\n",
    "- Good separation between four seem fastball, fastball cutter, and the change up\n",
    "- The slider and curveball exhibit closer mph than other pitches"
   ]
  },
  {
   "cell_type": "markdown",
   "metadata": {},
   "source": [
    "### events\n",
    "- This will be an interesting feature for other experiments, but not for this one\n",
    "- Adding to a kill_col list that will be used to drop all killed columns in one line at the end of this notebook"
   ]
  },
  {
   "cell_type": "code",
   "execution_count": 95,
   "metadata": {},
   "outputs": [],
   "source": [
    "pitchers.events.value_counts();"
   ]
  },
  {
   "cell_type": "code",
   "execution_count": 96,
   "metadata": {},
   "outputs": [],
   "source": [
    "kill_cols = ['events']"
   ]
  },
  {
   "cell_type": "markdown",
   "metadata": {},
   "source": [
    "### description\n",
    "- Same as events just above"
   ]
  },
  {
   "cell_type": "code",
   "execution_count": 97,
   "metadata": {},
   "outputs": [],
   "source": [
    "kill_cols.append('description')"
   ]
  },
  {
   "cell_type": "markdown",
   "metadata": {},
   "source": [
    "### des\n",
    "- Don't need this columns after inspection\n",
    "    - Same reasons as events and description"
   ]
  },
  {
   "cell_type": "code",
   "execution_count": 98,
   "metadata": {},
   "outputs": [],
   "source": [
    "kill_cols.append('des')"
   ]
  },
  {
   "cell_type": "markdown",
   "metadata": {},
   "source": [
    "### release_spin_rate\n",
    "- Variable type: Independant, Continuous\n",
    "- Data type: Int\n",
    "- Unique Values: n/a"
   ]
  },
  {
   "cell_type": "code",
   "execution_count": 99,
   "metadata": {},
   "outputs": [],
   "source": [
    "pitchers.release_spin_rate.describe();"
   ]
  },
  {
   "cell_type": "code",
   "execution_count": 100,
   "metadata": {},
   "outputs": [],
   "source": [
    "# cat = sns.catplot(x = 'pitch_type', \n",
    "#             y = 'release_spin_rate', \n",
    "#             kind = 'violin', \n",
    "#             data=pitchers, \n",
    "#             order = ['FF', 'SL', 'CH', 'CU', 'FT', 'SI', 'FC', 'KC', 'FS', 'EP'], \n",
    "#             palette='Blues',\n",
    "#             height=8.27, \n",
    "#             aspect=15/8);\n",
    "\n",
    "# cat.savefig('../viz/pitch_type_spin_violins_2015_to_2019.png')"
   ]
  },
  {
   "cell_type": "markdown",
   "metadata": {},
   "source": [
    "Wow, Mad Max's spin rate is similar for his four-seam fastball, cutter, and slider.  All though his curveball is close, to these other three values, his changeup appears to spin much less than his other pitches."
   ]
  },
  {
   "cell_type": "markdown",
   "metadata": {},
   "source": [
    "### stand\n",
    "- Is R or L for the handedness of the batter\n",
    "- Will be a categorical, independant variable\n",
    "- Relativley even totals between the two classes"
   ]
  },
  {
   "cell_type": "code",
   "execution_count": 101,
   "metadata": {},
   "outputs": [
    {
     "data": {
      "text/plain": [
       "R    349132\n",
       "L    246348\n",
       "Name: stand, dtype: int64"
      ]
     },
     "execution_count": 101,
     "metadata": {},
     "output_type": "execute_result"
    }
   ],
   "source": [
    "pitchers.stand.value_counts()"
   ]
  },
  {
   "cell_type": "markdown",
   "metadata": {},
   "source": [
    "### zone\n",
    "- Variable type: Independant, Continuous\n",
    "- Data type: Int\n",
    "- Number unique Values: 13\n",
    "    - This is an integral dependant variable in the experiment and indicates where the pitch is thrown in or out of the strike zone\n",
    "    - These number 1 - 14 \n",
    "    - For example, with a right-handed hitter zone 3 is high and inside whereas for a left-handed hitter zone 3 is high and outside\n",
    "    \n",
    "<br>\n",
    "<img src='../../images/statcast_zones.png' alt='Drawing' style='width: 450px;'/><br>"
   ]
  },
  {
   "cell_type": "code",
   "execution_count": 102,
   "metadata": {},
   "outputs": [],
   "source": [
    "# zone = sns.catplot(x = 'pitch_type', \n",
    "#             y = 'zone', \n",
    "#             kind = 'swarm', \n",
    "#             data=pitchers, \n",
    "#             order = ['FF', 'SL', 'CH', 'CU', 'FT', 'SI', 'FC', 'KC', 'FS', 'EP'], \n",
    "#             palette='Blues',\n",
    "#             height=8.27, \n",
    "#             aspect=15/8);\n",
    "\n",
    "# zone.savefig('../viz/pitch_type_zone_swarm_2015_to_2019.png')"
   ]
  },
  {
   "cell_type": "markdown",
   "metadata": {},
   "source": [
    " __Key Takeaway:__ Need to consider combining zone with handedness of the batter to discern \"inside\" or \"outside\" categories vs. numeric values"
   ]
  },
  {
   "cell_type": "markdown",
   "metadata": {},
   "source": [
    "### home_team\n",
    "- Will be an interesting feature to explore in relation to the Nationals only"
   ]
  },
  {
   "cell_type": "code",
   "execution_count": 103,
   "metadata": {},
   "outputs": [
    {
     "data": {
      "text/plain": [
       "MIL    21048\n",
       "LAA    20962\n",
       "BOS    20856\n",
       "TB     20767\n",
       "MIA    20555\n",
       "STL    20400\n",
       "HOU    20363\n",
       "ARI    20146\n",
       "PIT    20092\n",
       "MIN    20092\n",
       "NYM    20077\n",
       "WSH    20035\n",
       "OAK    20022\n",
       "CIN    20022\n",
       "SF     19799\n",
       "CHC    19747\n",
       "COL    19742\n",
       "NYY    19732\n",
       "TEX    19706\n",
       "CWS    19704\n",
       "LAD    19577\n",
       "PHI    19533\n",
       "TOR    19496\n",
       "SD     19398\n",
       "ATL    19343\n",
       "BAL    19284\n",
       "KC     19089\n",
       "DET    18810\n",
       "CLE    18561\n",
       "SEA    18522\n",
       "Name: home_team, dtype: int64"
      ]
     },
     "execution_count": 103,
     "metadata": {},
     "output_type": "execute_result"
    }
   ],
   "source": [
    "pitchers.home_team.value_counts()"
   ]
  },
  {
   "cell_type": "markdown",
   "metadata": {},
   "source": [
    "### nats_home1_away0 (new feature)"
   ]
  },
  {
   "cell_type": "code",
   "execution_count": 104,
   "metadata": {},
   "outputs": [],
   "source": [
    "pitchers['home0away1'] = pitchers.inning_topbot.apply(lambda h: 0 if h == 'Top' else 1)"
   ]
  },
  {
   "cell_type": "code",
   "execution_count": 105,
   "metadata": {},
   "outputs": [
    {
     "data": {
      "text/plain": [
       "0    301303\n",
       "1    294177\n",
       "Name: home0away1, dtype: int64"
      ]
     },
     "execution_count": 105,
     "metadata": {},
     "output_type": "execute_result"
    }
   ],
   "source": [
    "pitchers.home0away1.value_counts()"
   ]
  },
  {
   "cell_type": "markdown",
   "metadata": {},
   "source": [
    "### away_team\n",
    "- Don't need this column as home_team indicates if the Nats are home or away"
   ]
  },
  {
   "cell_type": "code",
   "execution_count": 106,
   "metadata": {},
   "outputs": [],
   "source": [
    "kill_cols.append('away_team')"
   ]
  },
  {
   "cell_type": "markdown",
   "metadata": {},
   "source": [
    "### type column\n",
    "- Indicates if the pitch was a ball (taken), strike (taken), or a hit (indicated with X)\n",
    "- Result of pitch occurs after the pitch and does not relate to location so will be removed"
   ]
  },
  {
   "cell_type": "code",
   "execution_count": 107,
   "metadata": {},
   "outputs": [
    {
     "data": {
      "text/plain": [
       "S    279306\n",
       "B    213822\n",
       "X    102352\n",
       "Name: type, dtype: int64"
      ]
     },
     "execution_count": 107,
     "metadata": {},
     "output_type": "execute_result"
    }
   ],
   "source": [
    "pitchers.type.value_counts()"
   ]
  },
  {
   "cell_type": "code",
   "execution_count": 108,
   "metadata": {},
   "outputs": [],
   "source": [
    "kill_cols.append('type')"
   ]
  },
  {
   "cell_type": "markdown",
   "metadata": {},
   "source": [
    "### balls\n",
    "- When combined with strikes, the count of the pitch is created\n",
    "- Will be key categorical, independant variable\n",
    "- After new column creation, feature no longer need and to be added to kill_cols"
   ]
  },
  {
   "cell_type": "code",
   "execution_count": 109,
   "metadata": {},
   "outputs": [],
   "source": [
    "kill_cols.append('balls')"
   ]
  },
  {
   "cell_type": "markdown",
   "metadata": {},
   "source": [
    "### strikes\n",
    "- When combined with balls, creates the count\n",
    "- Will be key categorical, independant variable\n",
    "- After new column creation, feature no longer need and to be added to kill_cols"
   ]
  },
  {
   "cell_type": "code",
   "execution_count": 110,
   "metadata": {},
   "outputs": [],
   "source": [
    "kill_cols.append('strikes')"
   ]
  },
  {
   "cell_type": "markdown",
   "metadata": {},
   "source": [
    "### balls_strikes (new feature)\n",
    "- Combines balls and strikes as a string/Pandas object"
   ]
  },
  {
   "cell_type": "code",
   "execution_count": 111,
   "metadata": {},
   "outputs": [],
   "source": [
    "pitchers['balls_strikes'] = pitchers.balls.astype(str) + '_' + pitchers.strikes.astype(str)"
   ]
  },
  {
   "cell_type": "code",
   "execution_count": 112,
   "metadata": {},
   "outputs": [
    {
     "data": {
      "text/plain": [
       "0_0    151637\n",
       "0_1     77161\n",
       "1_1     61040\n",
       "1_2     57995\n",
       "1_0     57911\n",
       "2_2     50244\n",
       "0_2     39854\n",
       "2_1     31418\n",
       "3_2     30296\n",
       "2_0     19515\n",
       "3_1     12552\n",
       "3_0      5856\n",
       "4_1         1\n",
       "Name: balls_strikes, dtype: int64"
      ]
     },
     "execution_count": 112,
     "metadata": {},
     "output_type": "execute_result"
    }
   ],
   "source": [
    "pitchers.balls_strikes.value_counts()"
   ]
  },
  {
   "cell_type": "markdown",
   "metadata": {},
   "source": [
    "Wow, Mad Max only had sixteen 3-0 counts in the 2019 regular season?  That is impressive."
   ]
  },
  {
   "cell_type": "code",
   "execution_count": 113,
   "metadata": {},
   "outputs": [],
   "source": [
    "# counts = sns.catplot(x = 'pitch_type', \n",
    "#             y = 'release_speed', \n",
    "#             kind = 'swarm', \n",
    "#             data = pitchers, \n",
    "#             order = ['FF', 'SL', 'CH', 'CU', 'FT', 'SI', 'FC', 'KC', 'FS', 'EP'],\n",
    "#             palette = 'Blues',\n",
    "#             hue = 'balls_strikes',\n",
    "#             height = 8.27, \n",
    "#             aspect = 15/8);\n",
    "\n",
    "# counts.savefig('../viz/pitch_type_speed_count_swarm_2015_to_2019.png')"
   ]
  },
  {
   "cell_type": "markdown",
   "metadata": {},
   "source": [
    "__Key Takeaway__: On superficial inspection, it looks like random spread of pitch selection and velocity by count values"
   ]
  },
  {
   "cell_type": "markdown",
   "metadata": {},
   "source": [
    "### on_3b\n",
    "- null if no runner on 3rd base and player ID of plyer on 3rd if occupied\n",
    "- Will change to 0 if empty and 1 if occupied for this experiment"
   ]
  },
  {
   "cell_type": "code",
   "execution_count": 114,
   "metadata": {},
   "outputs": [],
   "source": [
    "pitchers.on_3b = pitchers.on_3b.fillna(value=0)"
   ]
  },
  {
   "cell_type": "code",
   "execution_count": 115,
   "metadata": {},
   "outputs": [
    {
     "data": {
      "text/plain": [
       "0      642708.0\n",
       "1      642708.0\n",
       "2      642708.0\n",
       "3           0.0\n",
       "4           0.0\n",
       "         ...   \n",
       "746         0.0\n",
       "747         0.0\n",
       "748         0.0\n",
       "749         0.0\n",
       "750         0.0\n",
       "Name: on_3b, Length: 595480, dtype: float64"
      ]
     },
     "execution_count": 115,
     "metadata": {},
     "output_type": "execute_result"
    }
   ],
   "source": [
    "pitchers.on_3b"
   ]
  },
  {
   "cell_type": "code",
   "execution_count": 116,
   "metadata": {},
   "outputs": [],
   "source": [
    "pitchers.on_3b = pitchers.on_3b.apply(lambda r3: 0 if r3 == 0 else 1)"
   ]
  },
  {
   "cell_type": "code",
   "execution_count": 117,
   "metadata": {},
   "outputs": [
    {
     "data": {
      "text/plain": [
       "0    543814\n",
       "1     51666\n",
       "Name: on_3b, dtype: int64"
      ]
     },
     "execution_count": 117,
     "metadata": {},
     "output_type": "execute_result"
    }
   ],
   "source": [
    "pitchers.on_3b.value_counts()"
   ]
  },
  {
   "cell_type": "markdown",
   "metadata": {},
   "source": [
    "### on_2b\n",
    "- Same treatment as on_3b"
   ]
  },
  {
   "cell_type": "code",
   "execution_count": 118,
   "metadata": {},
   "outputs": [
    {
     "data": {
      "text/plain": [
       "0    491005\n",
       "1    104475\n",
       "Name: on_2b, dtype: int64"
      ]
     },
     "execution_count": 118,
     "metadata": {},
     "output_type": "execute_result"
    }
   ],
   "source": [
    "pitchers.on_2b = pitchers.on_2b.fillna(value=0)\n",
    "pitchers.on_2b\n",
    "pitchers.on_2b = pitchers.on_2b.apply(lambda r2: 0 if r2 == 0 else 1)\n",
    "pitchers.on_2b.value_counts()"
   ]
  },
  {
   "cell_type": "markdown",
   "metadata": {},
   "source": [
    "### on_1b\n",
    "- Same treatment as on_3b"
   ]
  },
  {
   "cell_type": "code",
   "execution_count": 119,
   "metadata": {},
   "outputs": [
    {
     "data": {
      "text/plain": [
       "0    420184\n",
       "1    175296\n",
       "Name: on_1b, dtype: int64"
      ]
     },
     "execution_count": 119,
     "metadata": {},
     "output_type": "execute_result"
    }
   ],
   "source": [
    "pitchers.on_1b = pitchers.on_1b.fillna(value=0)\n",
    "pitchers.on_1b\n",
    "pitchers.on_1b = pitchers.on_1b.apply(lambda r1: 0 if r1 == 0 else 1)\n",
    "pitchers.on_1b.value_counts()"
   ]
  },
  {
   "cell_type": "markdown",
   "metadata": {},
   "source": [
    "### all_runners (new feature)\n",
    "- Combines on_1b, on_2b, and on_3b as one, categorical variable"
   ]
  },
  {
   "cell_type": "code",
   "execution_count": 120,
   "metadata": {},
   "outputs": [],
   "source": [
    "pitchers['all_runners'] = 'fb:' + pitchers.on_1b.iloc[:].astype(str) + '_' + \\\n",
    "                            'sb:' + pitchers.on_2b.iloc[:].astype(str) + '_' +\\\n",
    "                            'tb:' + pitchers.on_3b.iloc[:].astype(str)"
   ]
  },
  {
   "cell_type": "code",
   "execution_count": 121,
   "metadata": {},
   "outputs": [
    {
     "data": {
      "text/plain": [
       "fb:0_sb:0_tb:0    352399\n",
       "fb:1_sb:0_tb:0    109844\n",
       "fb:0_sb:1_tb:0     43670\n",
       "fb:1_sb:1_tb:0     37901\n",
       "fb:1_sb:0_tb:1     15291\n",
       "fb:0_sb:0_tb:1     13471\n",
       "fb:1_sb:1_tb:1     12260\n",
       "fb:0_sb:1_tb:1     10644\n",
       "Name: all_runners, dtype: int64"
      ]
     },
     "execution_count": 121,
     "metadata": {},
     "output_type": "execute_result"
    }
   ],
   "source": [
    "pitchers.all_runners.value_counts()"
   ]
  },
  {
   "cell_type": "code",
   "execution_count": 122,
   "metadata": {},
   "outputs": [
    {
     "data": {
      "text/plain": [
       "Index(['pitch_type', 'game_date', 'batter', 'release_speed', 'events',\n",
       "       'description', 'zone', 'des', 'stand', 'home_team', 'away_team', 'type',\n",
       "       'balls', 'strikes', 'on_3b', 'on_2b', 'on_1b', 'outs_when_up', 'inning',\n",
       "       'inning_topbot', 'sv_id', 'release_spin_rate', 'pitch_number',\n",
       "       'pitch_name', 'bat_score', 'fld_score', 'if_fielding_alignment',\n",
       "       'of_fielding_alignment', 'throw_r0_left1', 'home0away1',\n",
       "       'balls_strikes', 'all_runners'],\n",
       "      dtype='object')"
      ]
     },
     "execution_count": 122,
     "metadata": {},
     "output_type": "execute_result"
    }
   ],
   "source": [
    "pitchers.columns"
   ]
  },
  {
   "cell_type": "markdown",
   "metadata": {},
   "source": [
    "Wow, Mad Max only had the bases loaded twenty times all season, impressive."
   ]
  },
  {
   "cell_type": "markdown",
   "metadata": {},
   "source": [
    "### outs_when_up\n",
    "- Outs when batter is at the plate\n",
    "- Quantities of each class are close in aggregate value"
   ]
  },
  {
   "cell_type": "code",
   "execution_count": 123,
   "metadata": {},
   "outputs": [
    {
     "data": {
      "text/plain": [
       "0    205593\n",
       "1    196797\n",
       "2    193090\n",
       "Name: outs_when_up, dtype: int64"
      ]
     },
     "execution_count": 123,
     "metadata": {},
     "output_type": "execute_result"
    }
   ],
   "source": [
    "pitchers.outs_when_up.value_counts()"
   ]
  },
  {
   "cell_type": "markdown",
   "metadata": {},
   "source": [
    "### inning\n",
    "- Indicates what inning the pitch was thrown"
   ]
  },
  {
   "cell_type": "code",
   "execution_count": 124,
   "metadata": {},
   "outputs": [
    {
     "data": {
      "text/plain": [
       "1     77367\n",
       "3     73514\n",
       "2     73164\n",
       "4     71119\n",
       "5     68904\n",
       "6     64537\n",
       "7     57674\n",
       "8     54914\n",
       "9     44087\n",
       "10     4853\n",
       "11     2477\n",
       "12     1248\n",
       "13      598\n",
       "14      526\n",
       "15      283\n",
       "16       99\n",
       "18       61\n",
       "17       34\n",
       "19       21\n",
       "Name: inning, dtype: int64"
      ]
     },
     "execution_count": 124,
     "metadata": {},
     "output_type": "execute_result"
    }
   ],
   "source": [
    "pitchers.inning.value_counts()"
   ]
  },
  {
   "cell_type": "markdown",
   "metadata": {},
   "source": [
    "### inning_topbot\n",
    "- Don't need this feature as it results from the Nats being home or away\n",
    "- Adding to kill_cols"
   ]
  },
  {
   "cell_type": "code",
   "execution_count": 125,
   "metadata": {},
   "outputs": [],
   "source": [
    "kill_cols.append('inning_topbot')"
   ]
  },
  {
   "cell_type": "markdown",
   "metadata": {},
   "source": [
    "### sv_id\n",
    "- Used to order pitches chronologically when ascending\n",
    "- Will be retained until ordering pitches is no longer neccessary"
   ]
  },
  {
   "cell_type": "markdown",
   "metadata": {},
   "source": [
    "### pitch_number\n",
    "- Equals the running count of pitches thrown to the batter in that appearance;\n",
    "- Resets with each new batter"
   ]
  },
  {
   "cell_type": "code",
   "execution_count": 126,
   "metadata": {},
   "outputs": [
    {
     "data": {
      "text/plain": [
       "0      3\n",
       "1      2\n",
       "2      1\n",
       "3      3\n",
       "4      2\n",
       "      ..\n",
       "746    3\n",
       "747    2\n",
       "748    1\n",
       "749    2\n",
       "750    1\n",
       "Name: pitch_number, Length: 595480, dtype: int64"
      ]
     },
     "execution_count": 126,
     "metadata": {},
     "output_type": "execute_result"
    }
   ],
   "source": [
    "pitchers.pitch_number"
   ]
  },
  {
   "cell_type": "markdown",
   "metadata": {},
   "source": [
    "### pitch_name\n",
    "- Redundant column for pitch_type column\n",
    "- Will remove"
   ]
  },
  {
   "cell_type": "code",
   "execution_count": 127,
   "metadata": {},
   "outputs": [],
   "source": [
    "kill_cols.append('pitch_name')"
   ]
  },
  {
   "cell_type": "markdown",
   "metadata": {},
   "source": [
    "### bat_score\n",
    "- Score of batting team aka not the Nats\n",
    "- Will change to opp_score (opponent score)"
   ]
  },
  {
   "cell_type": "code",
   "execution_count": 128,
   "metadata": {},
   "outputs": [],
   "source": [
    "pitchers = pitchers.rename(columns={'bat_score': 'opp_score'})"
   ]
  },
  {
   "cell_type": "markdown",
   "metadata": {},
   "source": [
    "### fld_score\n",
    "- Score of fielding team aka the Nats\n",
    "- Will change to nat_score"
   ]
  },
  {
   "cell_type": "code",
   "execution_count": 129,
   "metadata": {},
   "outputs": [],
   "source": [
    "pitchers = pitchers.rename(columns={'fld_score': 'nats_score'})"
   ]
  },
  {
   "cell_type": "markdown",
   "metadata": {},
   "source": [
    "### if_fielding_alignment\n",
    "- Indicates standard or shift of the infield"
   ]
  },
  {
   "cell_type": "code",
   "execution_count": 130,
   "metadata": {},
   "outputs": [
    {
     "data": {
      "text/plain": [
       "Standard         384103\n",
       "Infield shift    157339\n",
       "Strategic         52580\n",
       "Name: if_fielding_alignment, dtype: int64"
      ]
     },
     "execution_count": 130,
     "metadata": {},
     "output_type": "execute_result"
    }
   ],
   "source": [
    "pitchers.if_fielding_alignment.value_counts()"
   ]
  },
  {
   "cell_type": "markdown",
   "metadata": {},
   "source": [
    "### of_fielding_alignment\n",
    "- Indicates standard or shift of the outfield"
   ]
  },
  {
   "cell_type": "code",
   "execution_count": 131,
   "metadata": {},
   "outputs": [
    {
     "data": {
      "text/plain": [
       "Standard          537806\n",
       "Strategic          55535\n",
       "4th outfielder       681\n",
       "Name: of_fielding_alignment, dtype: int64"
      ]
     },
     "execution_count": 131,
     "metadata": {},
     "output_type": "execute_result"
    }
   ],
   "source": [
    "pitchers.of_fielding_alignment.value_counts()"
   ]
  },
  {
   "cell_type": "markdown",
   "metadata": {},
   "source": [
    "## That's a good start to our data set, at this point, we will export to csv and continue in the next step"
   ]
  },
  {
   "cell_type": "code",
   "execution_count": 132,
   "metadata": {},
   "outputs": [],
   "source": [
    "pitchers = pitchers.drop(columns=kill_cols)"
   ]
  },
  {
   "cell_type": "code",
   "execution_count": 133,
   "metadata": {},
   "outputs": [],
   "source": [
    "filepath = '../data/processed/pitchers/'\n",
    "\n",
    "pickle_out = open(filepath + 'pitchers_cleaned_2019.pickle', 'wb')\n",
    "pickle.dump(pitchers, pickle_out)\n",
    "pickle_out.close()"
   ]
  },
  {
   "cell_type": "code",
   "execution_count": null,
   "metadata": {},
   "outputs": [],
   "source": []
  },
  {
   "cell_type": "code",
   "execution_count": null,
   "metadata": {},
   "outputs": [],
   "source": []
  },
  {
   "cell_type": "code",
   "execution_count": null,
   "metadata": {},
   "outputs": [],
   "source": []
  }
 ],
 "metadata": {
  "kernelspec": {
   "display_name": "Python 3",
   "language": "python",
   "name": "python3"
  },
  "language_info": {
   "codemirror_mode": {
    "name": "ipython",
    "version": 3
   },
   "file_extension": ".py",
   "mimetype": "text/x-python",
   "name": "python",
   "nbconvert_exporter": "python",
   "pygments_lexer": "ipython3",
   "version": "3.7.7"
  }
 },
 "nbformat": 4,
 "nbformat_minor": 4
}
