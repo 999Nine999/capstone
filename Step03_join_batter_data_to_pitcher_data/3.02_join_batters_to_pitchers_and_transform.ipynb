{
 "cells": [
  {
   "cell_type": "code",
   "execution_count": 1,
   "metadata": {},
   "outputs": [],
   "source": [
    "import pandas as pd\n",
    "import numpy as np\n",
    "import pickle\n",
    "from sklearn.preprocessing import OneHotEncoder, MinMaxScaler, OrdinalEncoder\n",
    "from sklearn.impute import SimpleImputer\n",
    "from sklearn.model_selection import train_test_split\n",
    "import itertools"
   ]
  },
  {
   "cell_type": "code",
   "execution_count": 2,
   "metadata": {},
   "outputs": [],
   "source": [
    "infile1 = open('../data/processed/batters/2019_batters_date_shifted.pickle','rb')\n",
    "batters = pickle.load(infile1)\n",
    "infile1.close()\n",
    "\n",
    "infile2 = open('../data/processed/batters/hitter_clusters.pickle','rb')\n",
    "clusters = pickle.load(infile2)\n",
    "infile2.close()\n",
    "\n",
    "infile2 = open('../data/processed/pitchers/cleaned.pickle','rb')\n",
    "pitchers = pickle.load(infile2)\n",
    "infile2.close()"
   ]
  },
  {
   "cell_type": "markdown",
   "metadata": {},
   "source": [
    "## Clean up batters a bit"
   ]
  },
  {
   "cell_type": "code",
   "execution_count": 3,
   "metadata": {},
   "outputs": [],
   "source": [
    "batters = batters.fillna(0)"
   ]
  },
  {
   "cell_type": "markdown",
   "metadata": {},
   "source": [
    "## Add batter cluster values"
   ]
  },
  {
   "cell_type": "code",
   "execution_count": 4,
   "metadata": {},
   "outputs": [],
   "source": [
    "batters.player_id = batters.player_id.apply(lambda b: str(b))"
   ]
  },
  {
   "cell_type": "code",
   "execution_count": 5,
   "metadata": {},
   "outputs": [],
   "source": [
    "batters = batters.merge(clusters, how = 'inner', left_on='player_id', right_on='player_id')"
   ]
  },
  {
   "cell_type": "markdown",
   "metadata": {},
   "source": [
    "## Merge batter data with pitcher data"
   ]
  },
  {
   "cell_type": "code",
   "execution_count": 6,
   "metadata": {},
   "outputs": [],
   "source": [
    "pitchers.batter = pitchers.batter.apply(lambda b: str(b))\n",
    "pitchers.pitcher = pitchers.pitcher.apply(lambda b: str(b))"
   ]
  },
  {
   "cell_type": "code",
   "execution_count": 7,
   "metadata": {},
   "outputs": [],
   "source": [
    "pb = pitchers.merge(batters, \n",
    "                   how = 'inner', \n",
    "                   left_on = ['game_date', 'batter'], \n",
    "                   right_on = ['shift_date', 'player_id'])"
   ]
  },
  {
   "cell_type": "code",
   "execution_count": 8,
   "metadata": {},
   "outputs": [],
   "source": [
    "pb['pitcher_batter'] = pb.pitcher + pb.batter"
   ]
  },
  {
   "cell_type": "code",
   "execution_count": 9,
   "metadata": {},
   "outputs": [],
   "source": [
    "pitcher_ids = pb.pitcher"
   ]
  },
  {
   "cell_type": "markdown",
   "metadata": {},
   "source": [
    "## Fix up column names and drop those not needed"
   ]
  },
  {
   "cell_type": "code",
   "execution_count": 10,
   "metadata": {},
   "outputs": [],
   "source": [
    "pb = pb.drop(columns = ['game_date_x', 'game_year', 'shift_date', 'player_id', 'game_date_y', 'player_name_x', \n",
    "                        'pitcher', 'player_name_y', 'batter', 'pitch_season', 'total_pitches'])"
   ]
  },
  {
   "cell_type": "code",
   "execution_count": 11,
   "metadata": {},
   "outputs": [],
   "source": [
    "pb.describe().T;"
   ]
  },
  {
   "cell_type": "markdown",
   "metadata": {},
   "source": [
    "## Assign columns to transformation types"
   ]
  },
  {
   "cell_type": "code",
   "execution_count": 12,
   "metadata": {},
   "outputs": [],
   "source": [
    "X = pb.drop(columns = ['pitch_type'])\n",
    "y = pb.pitch_type"
   ]
  },
  {
   "cell_type": "code",
   "execution_count": 13,
   "metadata": {},
   "outputs": [],
   "source": [
    "# OneHotEncoder columns\n",
    "cats = ['balls', 'strikes', 'outs_when_up', 'inning', 'home_score', 'away_score', 'cluster']\n",
    "\n",
    "# MinMaxScalar columns\n",
    "minmax = ['pitch_game', 'pitch_bat_gm', 'pitch_ab', 'hits', 'abs', 'whiffs', 'swings', 'takes', \n",
    "          'k', 'walk', 'single', 'double', 'triple', 'hr', 'line_drive', 'ground_ball', 'fly_ball', \n",
    "          'popup', 'rbi', 'sac', 'slg', 'iso']\n",
    "\n",
    "# Already standardized\n",
    "standardized = ['on_3b', 'on_2b', 'on_1b', 'stand_0right', 'pitcher_home0', 'p_throws_0right', 'ba', 'babip']"
   ]
  },
  {
   "cell_type": "markdown",
   "metadata": {},
   "source": [
    "## Fit OHE"
   ]
  },
  {
   "cell_type": "code",
   "execution_count": 14,
   "metadata": {},
   "outputs": [],
   "source": [
    "ohe = OneHotEncoder(drop='first', handle_unknown='error', sparse=False)\n",
    "X_ohe_ar = ohe.fit_transform(X[cats])"
   ]
  },
  {
   "cell_type": "code",
   "execution_count": 15,
   "metadata": {},
   "outputs": [],
   "source": [
    "ohe_dict = {}\n",
    "counter = 0\n",
    "\n",
    "for c in cats:\n",
    "    ohe_dict.update({'x{}'.format(counter): c})\n",
    "    counter += 1\n",
    "\n",
    "ohe_cols = []   \n",
    "    \n",
    "for oc in ohe.get_feature_names():\n",
    "    ohe_cols.append(oc.replace(oc[0:2], ohe_dict[oc[0:2]]))"
   ]
  },
  {
   "cell_type": "code",
   "execution_count": 16,
   "metadata": {},
   "outputs": [],
   "source": [
    "ohe_df = pd.DataFrame(data = X_ohe_ar, columns = ohe_cols)"
   ]
  },
  {
   "cell_type": "markdown",
   "metadata": {},
   "source": [
    "## Fit MinMax"
   ]
  },
  {
   "cell_type": "code",
   "execution_count": 17,
   "metadata": {},
   "outputs": [],
   "source": [
    "mm = MinMaxScaler()\n",
    "X_mm = mm.fit_transform(X[minmax])\n",
    "mm_df = pd.DataFrame(columns = minmax, data = X_mm)"
   ]
  },
  {
   "cell_type": "markdown",
   "metadata": {},
   "source": [
    "## DF for already standardized data"
   ]
  },
  {
   "cell_type": "code",
   "execution_count": 18,
   "metadata": {},
   "outputs": [],
   "source": [
    "formatted_df = X[standardized]"
   ]
  },
  {
   "cell_type": "markdown",
   "metadata": {},
   "source": [
    "## Recombine X data"
   ]
  },
  {
   "cell_type": "code",
   "execution_count": 19,
   "metadata": {},
   "outputs": [
    {
     "data": {
      "text/plain": [
       "((595412, 71), (595412, 22), (595412, 8))"
      ]
     },
     "execution_count": 19,
     "metadata": {},
     "output_type": "execute_result"
    }
   ],
   "source": [
    "ohe_df.shape, mm_df.shape, formatted_df.shape"
   ]
  },
  {
   "cell_type": "code",
   "execution_count": 20,
   "metadata": {},
   "outputs": [
    {
     "data": {
      "text/html": [
       "<div>\n",
       "<style scoped>\n",
       "    .dataframe tbody tr th:only-of-type {\n",
       "        vertical-align: middle;\n",
       "    }\n",
       "\n",
       "    .dataframe tbody tr th {\n",
       "        vertical-align: top;\n",
       "    }\n",
       "\n",
       "    .dataframe thead th {\n",
       "        text-align: right;\n",
       "    }\n",
       "</style>\n",
       "<table border=\"1\" class=\"dataframe\">\n",
       "  <thead>\n",
       "    <tr style=\"text-align: right;\">\n",
       "      <th></th>\n",
       "      <th>pitch_game</th>\n",
       "      <th>pitch_bat_gm</th>\n",
       "      <th>pitch_ab</th>\n",
       "      <th>hits</th>\n",
       "      <th>abs</th>\n",
       "      <th>whiffs</th>\n",
       "      <th>swings</th>\n",
       "      <th>takes</th>\n",
       "      <th>k</th>\n",
       "      <th>walk</th>\n",
       "      <th>...</th>\n",
       "      <th>cluster_2</th>\n",
       "      <th>cluster_3</th>\n",
       "      <th>on_3b</th>\n",
       "      <th>on_2b</th>\n",
       "      <th>on_1b</th>\n",
       "      <th>stand_0right</th>\n",
       "      <th>pitcher_home0</th>\n",
       "      <th>p_throws_0right</th>\n",
       "      <th>ba</th>\n",
       "      <th>babip</th>\n",
       "    </tr>\n",
       "  </thead>\n",
       "  <tbody>\n",
       "    <tr>\n",
       "      <th>0</th>\n",
       "      <td>0.000000</td>\n",
       "      <td>0.000000</td>\n",
       "      <td>0.000000</td>\n",
       "      <td>0.000000</td>\n",
       "      <td>0.000000</td>\n",
       "      <td>0.000000</td>\n",
       "      <td>0.000000</td>\n",
       "      <td>0.000000</td>\n",
       "      <td>0.000000</td>\n",
       "      <td>0.000000</td>\n",
       "      <td>...</td>\n",
       "      <td>0.0</td>\n",
       "      <td>0.0</td>\n",
       "      <td>0</td>\n",
       "      <td>0</td>\n",
       "      <td>0</td>\n",
       "      <td>1</td>\n",
       "      <td>0</td>\n",
       "      <td>0</td>\n",
       "      <td>0.000000</td>\n",
       "      <td>0.00</td>\n",
       "    </tr>\n",
       "    <tr>\n",
       "      <th>1</th>\n",
       "      <td>0.007692</td>\n",
       "      <td>0.037037</td>\n",
       "      <td>0.066667</td>\n",
       "      <td>0.000000</td>\n",
       "      <td>0.000000</td>\n",
       "      <td>0.000000</td>\n",
       "      <td>0.000000</td>\n",
       "      <td>0.000000</td>\n",
       "      <td>0.000000</td>\n",
       "      <td>0.000000</td>\n",
       "      <td>...</td>\n",
       "      <td>0.0</td>\n",
       "      <td>0.0</td>\n",
       "      <td>0</td>\n",
       "      <td>0</td>\n",
       "      <td>0</td>\n",
       "      <td>1</td>\n",
       "      <td>0</td>\n",
       "      <td>0</td>\n",
       "      <td>0.000000</td>\n",
       "      <td>0.00</td>\n",
       "    </tr>\n",
       "    <tr>\n",
       "      <th>2</th>\n",
       "      <td>0.015385</td>\n",
       "      <td>0.074074</td>\n",
       "      <td>0.133333</td>\n",
       "      <td>0.000000</td>\n",
       "      <td>0.000000</td>\n",
       "      <td>0.000000</td>\n",
       "      <td>0.000000</td>\n",
       "      <td>0.000000</td>\n",
       "      <td>0.000000</td>\n",
       "      <td>0.000000</td>\n",
       "      <td>...</td>\n",
       "      <td>0.0</td>\n",
       "      <td>0.0</td>\n",
       "      <td>0</td>\n",
       "      <td>0</td>\n",
       "      <td>0</td>\n",
       "      <td>1</td>\n",
       "      <td>0</td>\n",
       "      <td>0</td>\n",
       "      <td>0.000000</td>\n",
       "      <td>0.00</td>\n",
       "    </tr>\n",
       "    <tr>\n",
       "      <th>3</th>\n",
       "      <td>0.253846</td>\n",
       "      <td>0.111111</td>\n",
       "      <td>0.000000</td>\n",
       "      <td>0.000000</td>\n",
       "      <td>0.000000</td>\n",
       "      <td>0.000000</td>\n",
       "      <td>0.000000</td>\n",
       "      <td>0.000000</td>\n",
       "      <td>0.000000</td>\n",
       "      <td>0.000000</td>\n",
       "      <td>...</td>\n",
       "      <td>0.0</td>\n",
       "      <td>0.0</td>\n",
       "      <td>0</td>\n",
       "      <td>0</td>\n",
       "      <td>0</td>\n",
       "      <td>1</td>\n",
       "      <td>0</td>\n",
       "      <td>0</td>\n",
       "      <td>0.000000</td>\n",
       "      <td>0.00</td>\n",
       "    </tr>\n",
       "    <tr>\n",
       "      <th>4</th>\n",
       "      <td>0.261538</td>\n",
       "      <td>0.148148</td>\n",
       "      <td>0.066667</td>\n",
       "      <td>0.000000</td>\n",
       "      <td>0.000000</td>\n",
       "      <td>0.000000</td>\n",
       "      <td>0.000000</td>\n",
       "      <td>0.000000</td>\n",
       "      <td>0.000000</td>\n",
       "      <td>0.000000</td>\n",
       "      <td>...</td>\n",
       "      <td>0.0</td>\n",
       "      <td>0.0</td>\n",
       "      <td>0</td>\n",
       "      <td>0</td>\n",
       "      <td>0</td>\n",
       "      <td>1</td>\n",
       "      <td>0</td>\n",
       "      <td>0</td>\n",
       "      <td>0.000000</td>\n",
       "      <td>0.00</td>\n",
       "    </tr>\n",
       "    <tr>\n",
       "      <th>...</th>\n",
       "      <td>...</td>\n",
       "      <td>...</td>\n",
       "      <td>...</td>\n",
       "      <td>...</td>\n",
       "      <td>...</td>\n",
       "      <td>...</td>\n",
       "      <td>...</td>\n",
       "      <td>...</td>\n",
       "      <td>...</td>\n",
       "      <td>...</td>\n",
       "      <td>...</td>\n",
       "      <td>...</td>\n",
       "      <td>...</td>\n",
       "      <td>...</td>\n",
       "      <td>...</td>\n",
       "      <td>...</td>\n",
       "      <td>...</td>\n",
       "      <td>...</td>\n",
       "      <td>...</td>\n",
       "      <td>...</td>\n",
       "      <td>...</td>\n",
       "    </tr>\n",
       "    <tr>\n",
       "      <th>595407</th>\n",
       "      <td>0.061538</td>\n",
       "      <td>0.222222</td>\n",
       "      <td>0.400000</td>\n",
       "      <td>0.019417</td>\n",
       "      <td>0.023564</td>\n",
       "      <td>0.013187</td>\n",
       "      <td>0.023158</td>\n",
       "      <td>0.024315</td>\n",
       "      <td>0.015873</td>\n",
       "      <td>0.026087</td>\n",
       "      <td>...</td>\n",
       "      <td>0.0</td>\n",
       "      <td>1.0</td>\n",
       "      <td>0</td>\n",
       "      <td>1</td>\n",
       "      <td>1</td>\n",
       "      <td>0</td>\n",
       "      <td>1</td>\n",
       "      <td>0</td>\n",
       "      <td>0.250000</td>\n",
       "      <td>0.25</td>\n",
       "    </tr>\n",
       "    <tr>\n",
       "      <th>595408</th>\n",
       "      <td>0.053846</td>\n",
       "      <td>0.000000</td>\n",
       "      <td>0.000000</td>\n",
       "      <td>0.009709</td>\n",
       "      <td>0.008837</td>\n",
       "      <td>0.004396</td>\n",
       "      <td>0.006316</td>\n",
       "      <td>0.008277</td>\n",
       "      <td>0.005291</td>\n",
       "      <td>0.008696</td>\n",
       "      <td>...</td>\n",
       "      <td>0.0</td>\n",
       "      <td>1.0</td>\n",
       "      <td>0</td>\n",
       "      <td>0</td>\n",
       "      <td>0</td>\n",
       "      <td>0</td>\n",
       "      <td>0</td>\n",
       "      <td>0</td>\n",
       "      <td>0.333333</td>\n",
       "      <td>0.40</td>\n",
       "    </tr>\n",
       "    <tr>\n",
       "      <th>595409</th>\n",
       "      <td>0.061538</td>\n",
       "      <td>0.037037</td>\n",
       "      <td>0.066667</td>\n",
       "      <td>0.009709</td>\n",
       "      <td>0.008837</td>\n",
       "      <td>0.004396</td>\n",
       "      <td>0.006316</td>\n",
       "      <td>0.008277</td>\n",
       "      <td>0.005291</td>\n",
       "      <td>0.008696</td>\n",
       "      <td>...</td>\n",
       "      <td>0.0</td>\n",
       "      <td>1.0</td>\n",
       "      <td>0</td>\n",
       "      <td>0</td>\n",
       "      <td>0</td>\n",
       "      <td>0</td>\n",
       "      <td>0</td>\n",
       "      <td>0</td>\n",
       "      <td>0.333333</td>\n",
       "      <td>0.40</td>\n",
       "    </tr>\n",
       "    <tr>\n",
       "      <th>595410</th>\n",
       "      <td>0.069231</td>\n",
       "      <td>0.074074</td>\n",
       "      <td>0.133333</td>\n",
       "      <td>0.009709</td>\n",
       "      <td>0.008837</td>\n",
       "      <td>0.004396</td>\n",
       "      <td>0.006316</td>\n",
       "      <td>0.008277</td>\n",
       "      <td>0.005291</td>\n",
       "      <td>0.008696</td>\n",
       "      <td>...</td>\n",
       "      <td>0.0</td>\n",
       "      <td>1.0</td>\n",
       "      <td>0</td>\n",
       "      <td>0</td>\n",
       "      <td>0</td>\n",
       "      <td>0</td>\n",
       "      <td>0</td>\n",
       "      <td>0</td>\n",
       "      <td>0.333333</td>\n",
       "      <td>0.40</td>\n",
       "    </tr>\n",
       "    <tr>\n",
       "      <th>595411</th>\n",
       "      <td>0.076923</td>\n",
       "      <td>0.111111</td>\n",
       "      <td>0.200000</td>\n",
       "      <td>0.009709</td>\n",
       "      <td>0.008837</td>\n",
       "      <td>0.004396</td>\n",
       "      <td>0.006316</td>\n",
       "      <td>0.008277</td>\n",
       "      <td>0.005291</td>\n",
       "      <td>0.008696</td>\n",
       "      <td>...</td>\n",
       "      <td>0.0</td>\n",
       "      <td>1.0</td>\n",
       "      <td>0</td>\n",
       "      <td>0</td>\n",
       "      <td>0</td>\n",
       "      <td>0</td>\n",
       "      <td>0</td>\n",
       "      <td>0</td>\n",
       "      <td>0.333333</td>\n",
       "      <td>0.40</td>\n",
       "    </tr>\n",
       "  </tbody>\n",
       "</table>\n",
       "<p>595412 rows × 101 columns</p>\n",
       "</div>"
      ],
      "text/plain": [
       "        pitch_game  pitch_bat_gm  pitch_ab      hits       abs    whiffs  \\\n",
       "0         0.000000      0.000000  0.000000  0.000000  0.000000  0.000000   \n",
       "1         0.007692      0.037037  0.066667  0.000000  0.000000  0.000000   \n",
       "2         0.015385      0.074074  0.133333  0.000000  0.000000  0.000000   \n",
       "3         0.253846      0.111111  0.000000  0.000000  0.000000  0.000000   \n",
       "4         0.261538      0.148148  0.066667  0.000000  0.000000  0.000000   \n",
       "...            ...           ...       ...       ...       ...       ...   \n",
       "595407    0.061538      0.222222  0.400000  0.019417  0.023564  0.013187   \n",
       "595408    0.053846      0.000000  0.000000  0.009709  0.008837  0.004396   \n",
       "595409    0.061538      0.037037  0.066667  0.009709  0.008837  0.004396   \n",
       "595410    0.069231      0.074074  0.133333  0.009709  0.008837  0.004396   \n",
       "595411    0.076923      0.111111  0.200000  0.009709  0.008837  0.004396   \n",
       "\n",
       "          swings     takes         k      walk  ...  cluster_2  cluster_3  \\\n",
       "0       0.000000  0.000000  0.000000  0.000000  ...        0.0        0.0   \n",
       "1       0.000000  0.000000  0.000000  0.000000  ...        0.0        0.0   \n",
       "2       0.000000  0.000000  0.000000  0.000000  ...        0.0        0.0   \n",
       "3       0.000000  0.000000  0.000000  0.000000  ...        0.0        0.0   \n",
       "4       0.000000  0.000000  0.000000  0.000000  ...        0.0        0.0   \n",
       "...          ...       ...       ...       ...  ...        ...        ...   \n",
       "595407  0.023158  0.024315  0.015873  0.026087  ...        0.0        1.0   \n",
       "595408  0.006316  0.008277  0.005291  0.008696  ...        0.0        1.0   \n",
       "595409  0.006316  0.008277  0.005291  0.008696  ...        0.0        1.0   \n",
       "595410  0.006316  0.008277  0.005291  0.008696  ...        0.0        1.0   \n",
       "595411  0.006316  0.008277  0.005291  0.008696  ...        0.0        1.0   \n",
       "\n",
       "        on_3b  on_2b  on_1b  stand_0right  pitcher_home0  p_throws_0right  \\\n",
       "0           0      0      0             1              0                0   \n",
       "1           0      0      0             1              0                0   \n",
       "2           0      0      0             1              0                0   \n",
       "3           0      0      0             1              0                0   \n",
       "4           0      0      0             1              0                0   \n",
       "...       ...    ...    ...           ...            ...              ...   \n",
       "595407      0      1      1             0              1                0   \n",
       "595408      0      0      0             0              0                0   \n",
       "595409      0      0      0             0              0                0   \n",
       "595410      0      0      0             0              0                0   \n",
       "595411      0      0      0             0              0                0   \n",
       "\n",
       "              ba  babip  \n",
       "0       0.000000   0.00  \n",
       "1       0.000000   0.00  \n",
       "2       0.000000   0.00  \n",
       "3       0.000000   0.00  \n",
       "4       0.000000   0.00  \n",
       "...          ...    ...  \n",
       "595407  0.250000   0.25  \n",
       "595408  0.333333   0.40  \n",
       "595409  0.333333   0.40  \n",
       "595410  0.333333   0.40  \n",
       "595411  0.333333   0.40  \n",
       "\n",
       "[595412 rows x 101 columns]"
      ]
     },
     "execution_count": 20,
     "metadata": {},
     "output_type": "execute_result"
    }
   ],
   "source": [
    "X_trans = pd.concat([mm_df, ohe_df, formatted_df], axis = 1)\n",
    "X_trans"
   ]
  },
  {
   "cell_type": "markdown",
   "metadata": {},
   "source": [
    "## Ordinal encode y data"
   ]
  },
  {
   "cell_type": "code",
   "execution_count": 21,
   "metadata": {},
   "outputs": [
    {
     "data": {
      "text/plain": [
       "FF    213059\n",
       "SL    101181\n",
       "CH     67135\n",
       "CU     53940\n",
       "FT     53141\n",
       "SI     41952\n",
       "FC     41409\n",
       "KC     14055\n",
       "FS      9540\n",
       "Name: pitch_type, dtype: int64"
      ]
     },
     "execution_count": 21,
     "metadata": {},
     "output_type": "execute_result"
    }
   ],
   "source": [
    "pd.DataFrame(y).pitch_type.value_counts()"
   ]
  },
  {
   "cell_type": "code",
   "execution_count": 22,
   "metadata": {},
   "outputs": [],
   "source": [
    "y = np.array(y).reshape(-1, 1)\n",
    "y_ord_ac = y\n",
    "\n",
    "pitch_type_dict = {'FF': 0, 'CH': 1, 'SL': 2, 'CU': 2, 'FT': 2, 'SI': 2, 'FC': 2, 'KC': 2, 'FS': 2}\n",
    "\n",
    "for pitch in pitch_type_dict:\n",
    "    y_ord_ac = np.where(y_ord_ac == pitch, pitch_type_dict[pitch], y_ord_ac)"
   ]
  },
  {
   "cell_type": "markdown",
   "metadata": {},
   "source": [
    "## Train, test, split"
   ]
  },
  {
   "cell_type": "code",
   "execution_count": 23,
   "metadata": {},
   "outputs": [],
   "source": [
    "X_train_ac, X_test_ac, y_train_ac, y_test_ac = train_test_split(X_trans,\n",
    "                                                                y_ord_ac,\n",
    "                                                                test_size = .3,\n",
    "                                                                random_state = 31,\n",
    "                                                                shuffle = True,\n",
    "                                                                stratify = y_ord_ac)"
   ]
  },
  {
   "cell_type": "code",
   "execution_count": 24,
   "metadata": {},
   "outputs": [],
   "source": [
    "# Export train/test data\n",
    "filepath = '../data/train_test_split/'\n",
    "\n",
    "pickle_out = open(filepath + 'X_train_ac.pickle', 'wb')\n",
    "pickle.dump(X_train_ac, pickle_out)\n",
    "pickle_out.close()\n",
    "\n",
    "pickle_out = open(filepath + 'X_test_ac.pickle', 'wb')\n",
    "pickle.dump(X_test_ac, pickle_out)\n",
    "pickle_out.close()\n",
    "\n",
    "pickle_out = open(filepath + 'y_train_ac.pickle', 'wb')\n",
    "pickle.dump(y_train_ac, pickle_out)\n",
    "pickle_out.close()\n",
    "\n",
    "pickle_out = open(filepath + 'y_test_ac.pickle', 'wb')\n",
    "pickle.dump(y_test_ac, pickle_out)\n",
    "pickle_out.close()"
   ]
  },
  {
   "cell_type": "code",
   "execution_count": 26,
   "metadata": {},
   "outputs": [],
   "source": [
    "# Export data for model assessment\n",
    "filepath = '../data/model/'\n",
    "\n",
    "pickle_out = open(filepath + 'X_trans.pickle', 'wb')\n",
    "pickle.dump(X_trans, pickle_out)\n",
    "pickle_out.close()\n",
    "\n",
    "pickle_out = open(filepath + 'y_trans.pickle', 'wb')\n",
    "pickle.dump(y_ord_ac, pickle_out)\n",
    "pickle_out.close()\n",
    "\n",
    "pickle_out = open(filepath + 'pitcher_ids.pickle', 'wb')\n",
    "pickle.dump(pitcher_ids, pickle_out)\n",
    "pickle_out.close()"
   ]
  },
  {
   "cell_type": "code",
   "execution_count": null,
   "metadata": {},
   "outputs": [],
   "source": []
  }
 ],
 "metadata": {
  "kernelspec": {
   "display_name": "Python 3",
   "language": "python",
   "name": "python3"
  },
  "language_info": {
   "codemirror_mode": {
    "name": "ipython",
    "version": 3
   },
   "file_extension": ".py",
   "mimetype": "text/x-python",
   "name": "python",
   "nbconvert_exporter": "python",
   "pygments_lexer": "ipython3",
   "version": "3.7.7"
  }
 },
 "nbformat": 4,
 "nbformat_minor": 4
}
