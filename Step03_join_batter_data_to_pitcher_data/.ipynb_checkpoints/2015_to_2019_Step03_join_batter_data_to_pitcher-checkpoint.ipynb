{
 "cells": [
  {
   "cell_type": "code",
   "execution_count": 1,
   "metadata": {},
   "outputs": [],
   "source": [
    "import pandas as pd\n",
    "import numpy as np\n",
    "import pickle"
   ]
  },
  {
   "cell_type": "code",
   "execution_count": 2,
   "metadata": {},
   "outputs": [],
   "source": [
    "infile1 = open('../data/processed/batters/2015_to_2019_batters_date_shifted.pickle','rb')\n",
    "batters = pickle.load(infile1)\n",
    "infile1.close()"
   ]
  },
  {
   "cell_type": "code",
   "execution_count": 3,
   "metadata": {},
   "outputs": [],
   "source": [
    "infile2 = open('../data/processed/scherzer/scherzer_clean_new_features_2015_to_2019.pickle','rb')\n",
    "pitcher = pickle.load(infile2)\n",
    "infile2.close()"
   ]
  },
  {
   "cell_type": "code",
   "execution_count": 4,
   "metadata": {},
   "outputs": [],
   "source": [
    "batters = batters.rename(columns = {'player_id': 'batter_id'})"
   ]
  },
  {
   "cell_type": "code",
   "execution_count": 5,
   "metadata": {},
   "outputs": [],
   "source": [
    "pitcher = pitcher.rename(columns = {'batter': 'batter_id'})"
   ]
  },
  {
   "cell_type": "code",
   "execution_count": 6,
   "metadata": {},
   "outputs": [],
   "source": [
    "pitcher.game_date = pd.to_datetime(pitcher.game_date)\n",
    "batters.shift_date = pd.to_datetime(batters.shift_date)"
   ]
  },
  {
   "cell_type": "code",
   "execution_count": 7,
   "metadata": {},
   "outputs": [],
   "source": [
    "pb = pitcher.merge(batters, \n",
    "                   how = 'left', \n",
    "                   left_on = ['game_date', 'batter_id'], \n",
    "                   right_on = ['shift_date', 'batter_id'])"
   ]
  },
  {
   "cell_type": "code",
   "execution_count": 8,
   "metadata": {},
   "outputs": [
    {
     "data": {
      "text/plain": [
       "Index(['pitch_type', 'game_date_x', 'sv_id', 'batter_id', 'pitch_number',\n",
       "       'release_speed', 'zone', 'stand', 'home_team', 'on_3b', 'on_2b',\n",
       "       'on_1b', 'outs_when_up', 'inning', 'release_spin_rate', 'opp_score',\n",
       "       'nats_score', 'if_fielding_alignment', 'of_fielding_alignment',\n",
       "       'nats_home1_away0', 'balls_strikes', 'all_runners', 'pitch_season',\n",
       "       'pitch_game', 'pitch_bat_gm', 'game_date_y', 'shift_date',\n",
       "       'player_name', 'total_pitches', 'hits', 'abs', 'whiffs', 'swings',\n",
       "       'takes', 'k', 'walk', 'single', 'double', 'triple', 'hr', 'line_drive',\n",
       "       'ground_ball', 'fly_ball', 'popup', 'rbi', 'sac', 'ba', 'slg', 'iso',\n",
       "       'babip'],\n",
       "      dtype='object')"
      ]
     },
     "execution_count": 8,
     "metadata": {},
     "output_type": "execute_result"
    }
   ],
   "source": [
    "pb.columns"
   ]
  },
  {
   "cell_type": "code",
   "execution_count": 9,
   "metadata": {},
   "outputs": [],
   "source": [
    "outfile = open('../data/processed/scherzer/scherzer_with_batters_2015_to_2019.pickle','wb')\n",
    "pickle.dump(pb ,outfile)\n",
    "outfile.close()"
   ]
  },
  {
   "cell_type": "code",
   "execution_count": 10,
   "metadata": {},
   "outputs": [
    {
     "data": {
      "text/plain": [
       "array(['FF', 'CH', 'SL', 'FC', 'CU', 'FT'], dtype=object)"
      ]
     },
     "execution_count": 10,
     "metadata": {},
     "output_type": "execute_result"
    }
   ],
   "source": [
    "pb.pitch_type.unique()"
   ]
  },
  {
   "cell_type": "code",
   "execution_count": null,
   "metadata": {},
   "outputs": [],
   "source": []
  }
 ],
 "metadata": {
  "kernelspec": {
   "display_name": "Python 3",
   "language": "python",
   "name": "python3"
  },
  "language_info": {
   "codemirror_mode": {
    "name": "ipython",
    "version": 3
   },
   "file_extension": ".py",
   "mimetype": "text/x-python",
   "name": "python",
   "nbconvert_exporter": "python",
   "pygments_lexer": "ipython3",
   "version": "3.7.7"
  }
 },
 "nbformat": 4,
 "nbformat_minor": 4
}
